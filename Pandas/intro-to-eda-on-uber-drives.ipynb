{
 "cells": [
  {
   "cell_type": "markdown",
   "id": "7e001783",
   "metadata": {
    "papermill": {
     "duration": 0.046871,
     "end_time": "2021-12-03T15:18:38.603564",
     "exception": false,
     "start_time": "2021-12-03T15:18:38.556693",
     "status": "completed"
    },
    "tags": []
   },
   "source": [
    "## Objective of EDA\n",
    "\n",
    "* What is the average length of the trip?\n",
    "* Average number of rides per week or per month?\n",
    "* Total tax savings based on traveled business miles?\n",
    "* Percentage of business miles vs personal vs. Meals\n",
    "* How much money can be saved by a typical customer using Uber, Careem, or Lyft versus regular cab service?\n",
    "\n",
    "* Check how long do people travel with Uber?\n",
    "* What Hour Do Most People Take Uber To Their Destination?\n",
    "* Check The Purpose Of Trips\n",
    "* Which Day Has The Highest Number Of Trips\n",
    "* What Are The Number Of Trips Per Each Day?\n",
    "* What Are The Trips In The Month\n",
    "* The starting points of trips. Where Do People Start Boarding Their Trip From Most?\n"
   ]
  },
  {
   "cell_type": "code",
   "execution_count": 1,
   "id": "5317f955",
   "metadata": {
    "_cell_guid": "b1076dfc-b9ad-4769-8c92-a6c4dae69d19",
    "_uuid": "8f2839f25d086af736a60e9eeb907d3b93b6e0e5",
    "execution": {
     "iopub.execute_input": "2021-12-03T15:18:38.692221Z",
     "iopub.status.busy": "2021-12-03T15:18:38.691043Z",
     "iopub.status.idle": "2021-12-03T15:18:39.658143Z",
     "shell.execute_reply": "2021-12-03T15:18:39.657404Z",
     "shell.execute_reply.started": "2021-12-03T15:16:33.140299Z"
    },
    "papermill": {
     "duration": 1.011916,
     "end_time": "2021-12-03T15:18:39.658340",
     "exception": false,
     "start_time": "2021-12-03T15:18:38.646424",
     "status": "completed"
    },
    "tags": []
   },
   "outputs": [],
   "source": [
    "import numpy as np # linear algebra\n",
    "import pandas as pd # data processing, CSV file I/O (e.g. pd.read_csv)\n",
    "\n",
    "## Visualization library \n",
    "import matplotlib.pyplot as plt\n",
    "import seaborn as sns\n",
    "\n",
    "## Warning ignore\n",
    "import warnings\n",
    "warnings.filterwarnings(\"ignore\") "
   ]
  },
  {
   "cell_type": "code",
   "execution_count": 2,
   "id": "467731ff",
   "metadata": {
    "execution": {
     "iopub.execute_input": "2021-12-03T15:18:39.750119Z",
     "iopub.status.busy": "2021-12-03T15:18:39.748997Z",
     "iopub.status.idle": "2021-12-03T15:18:39.775484Z",
     "shell.execute_reply": "2021-12-03T15:18:39.776151Z",
     "shell.execute_reply.started": "2021-12-03T15:16:34.143756Z"
    },
    "papermill": {
     "duration": 0.076862,
     "end_time": "2021-12-03T15:18:39.776363",
     "exception": false,
     "start_time": "2021-12-03T15:18:39.699501",
     "status": "completed"
    },
    "tags": []
   },
   "outputs": [
    {
     "data": {
      "text/html": [
       "<svg  width=\"495\" height=\"55\"><rect x=\"0\" y=\"0\" width=\"55\" height=\"55\" style=\"fill:#0892d0;stroke-width:2;stroke:rgb(255,255,255)\"/><rect x=\"55\" y=\"0\" width=\"55\" height=\"55\" style=\"fill:#0f7fbc;stroke-width:2;stroke:rgb(255,255,255)\"/><rect x=\"110\" y=\"0\" width=\"55\" height=\"55\" style=\"fill:#166ca7;stroke-width:2;stroke:rgb(255,255,255)\"/><rect x=\"165\" y=\"0\" width=\"55\" height=\"55\" style=\"fill:#1d5a93;stroke-width:2;stroke:rgb(255,255,255)\"/><rect x=\"220\" y=\"0\" width=\"55\" height=\"55\" style=\"fill:#24477f;stroke-width:2;stroke:rgb(255,255,255)\"/><rect x=\"275\" y=\"0\" width=\"55\" height=\"55\" style=\"fill:#1b355f;stroke-width:2;stroke:rgb(255,255,255)\"/><rect x=\"330\" y=\"0\" width=\"55\" height=\"55\" style=\"fill:#12233f;stroke-width:2;stroke:rgb(255,255,255)\"/><rect x=\"385\" y=\"0\" width=\"55\" height=\"55\" style=\"fill:#09111f;stroke-width:2;stroke:rgb(255,255,255)\"/><rect x=\"440\" y=\"0\" width=\"55\" height=\"55\" style=\"fill:#000000;stroke-width:2;stroke:rgb(255,255,255)\"/></svg>"
      ],
      "text/plain": [
       "[(0.03137254901960784, 0.5725490196078431, 0.8156862745098039),\n",
       " (0.05893118031526336, 0.4987312572087658, 0.7359630911188004),\n",
       " (0.08648981161091887, 0.42491349480968854, 0.656239907727797),\n",
       " (0.11404844290657438, 0.3510957324106113, 0.5765167243367936),\n",
       " (0.14062283737024223, 0.27733948481353327, 0.49608612072279895),\n",
       " (0.10519031141868512, 0.2074586697424068, 0.3710880430603614),\n",
       " (0.06975778546712803, 0.13757785467128028, 0.24608996539792388),\n",
       " (0.034325259515570944, 0.0676970396001538, 0.12109188773548635),\n",
       " (0.0, 0.0, 0.0)]"
      ]
     },
     "execution_count": 2,
     "metadata": {},
     "output_type": "execute_result"
    }
   ],
   "source": [
    "#24477f : Mck deep blue\n",
    "#0892d0 : Mck electric blue\n",
    "#66b3ff : light blue\n",
    "\n",
    "mck_color2 = sns.color_palette(['#0892d0', '#24477f'])\n",
    "mck_color = sns.blend_palette(['#0892d0', '#24477f','black'],9)\n",
    "mck_color12 = sns.blend_palette(['#0892d0', '#24477f','black'],12)\n",
    "mck_color25 = sns.blend_palette(['#41aad9','#0892d0', '#24477f','black'],25)\n",
    "sns.color_palette('Blues')\n",
    "sns.color_palette(mck_color)"
   ]
  },
  {
   "cell_type": "code",
   "execution_count": 3,
   "id": "088daa30",
   "metadata": {
    "execution": {
     "iopub.execute_input": "2021-12-03T15:18:39.870414Z",
     "iopub.status.busy": "2021-12-03T15:18:39.868151Z",
     "iopub.status.idle": "2021-12-03T15:18:39.915721Z",
     "shell.execute_reply": "2021-12-03T15:18:39.916258Z",
     "shell.execute_reply.started": "2021-12-03T15:16:34.164490Z"
    },
    "papermill": {
     "duration": 0.089795,
     "end_time": "2021-12-03T15:18:39.916428",
     "exception": false,
     "start_time": "2021-12-03T15:18:39.826633",
     "status": "completed"
    },
    "tags": []
   },
   "outputs": [
    {
     "data": {
      "text/html": [
       "<div>\n",
       "<style scoped>\n",
       "    .dataframe tbody tr th:only-of-type {\n",
       "        vertical-align: middle;\n",
       "    }\n",
       "\n",
       "    .dataframe tbody tr th {\n",
       "        vertical-align: top;\n",
       "    }\n",
       "\n",
       "    .dataframe thead th {\n",
       "        text-align: right;\n",
       "    }\n",
       "</style>\n",
       "<table border=\"1\" class=\"dataframe\">\n",
       "  <thead>\n",
       "    <tr style=\"text-align: right;\">\n",
       "      <th></th>\n",
       "      <th>START_DATE*</th>\n",
       "      <th>END_DATE*</th>\n",
       "      <th>CATEGORY*</th>\n",
       "      <th>START*</th>\n",
       "      <th>STOP*</th>\n",
       "      <th>MILES*</th>\n",
       "      <th>PURPOSE*</th>\n",
       "    </tr>\n",
       "  </thead>\n",
       "  <tbody>\n",
       "    <tr>\n",
       "      <th>0</th>\n",
       "      <td>1/1/2016 21:11</td>\n",
       "      <td>1/1/2016 21:17</td>\n",
       "      <td>Business</td>\n",
       "      <td>Fort Pierce</td>\n",
       "      <td>Fort Pierce</td>\n",
       "      <td>5.1</td>\n",
       "      <td>Meal/Entertain</td>\n",
       "    </tr>\n",
       "    <tr>\n",
       "      <th>1</th>\n",
       "      <td>1/2/2016 1:25</td>\n",
       "      <td>1/2/2016 1:37</td>\n",
       "      <td>Business</td>\n",
       "      <td>Fort Pierce</td>\n",
       "      <td>Fort Pierce</td>\n",
       "      <td>5.0</td>\n",
       "      <td>NaN</td>\n",
       "    </tr>\n",
       "    <tr>\n",
       "      <th>2</th>\n",
       "      <td>1/2/2016 20:25</td>\n",
       "      <td>1/2/2016 20:38</td>\n",
       "      <td>Business</td>\n",
       "      <td>Fort Pierce</td>\n",
       "      <td>Fort Pierce</td>\n",
       "      <td>4.8</td>\n",
       "      <td>Errand/Supplies</td>\n",
       "    </tr>\n",
       "    <tr>\n",
       "      <th>3</th>\n",
       "      <td>1/5/2016 17:31</td>\n",
       "      <td>1/5/2016 17:45</td>\n",
       "      <td>Business</td>\n",
       "      <td>Fort Pierce</td>\n",
       "      <td>Fort Pierce</td>\n",
       "      <td>4.7</td>\n",
       "      <td>Meeting</td>\n",
       "    </tr>\n",
       "    <tr>\n",
       "      <th>4</th>\n",
       "      <td>1/6/2016 14:42</td>\n",
       "      <td>1/6/2016 15:49</td>\n",
       "      <td>Business</td>\n",
       "      <td>Fort Pierce</td>\n",
       "      <td>West Palm Beach</td>\n",
       "      <td>63.7</td>\n",
       "      <td>Customer Visit</td>\n",
       "    </tr>\n",
       "    <tr>\n",
       "      <th>...</th>\n",
       "      <td>...</td>\n",
       "      <td>...</td>\n",
       "      <td>...</td>\n",
       "      <td>...</td>\n",
       "      <td>...</td>\n",
       "      <td>...</td>\n",
       "      <td>...</td>\n",
       "    </tr>\n",
       "    <tr>\n",
       "      <th>1151</th>\n",
       "      <td>12/31/2016 13:24</td>\n",
       "      <td>12/31/2016 13:42</td>\n",
       "      <td>Business</td>\n",
       "      <td>Kar?chi</td>\n",
       "      <td>Unknown Location</td>\n",
       "      <td>3.9</td>\n",
       "      <td>Temporary Site</td>\n",
       "    </tr>\n",
       "    <tr>\n",
       "      <th>1152</th>\n",
       "      <td>12/31/2016 15:03</td>\n",
       "      <td>12/31/2016 15:38</td>\n",
       "      <td>Business</td>\n",
       "      <td>Unknown Location</td>\n",
       "      <td>Unknown Location</td>\n",
       "      <td>16.2</td>\n",
       "      <td>Meeting</td>\n",
       "    </tr>\n",
       "    <tr>\n",
       "      <th>1153</th>\n",
       "      <td>12/31/2016 21:32</td>\n",
       "      <td>12/31/2016 21:50</td>\n",
       "      <td>Business</td>\n",
       "      <td>Katunayake</td>\n",
       "      <td>Gampaha</td>\n",
       "      <td>6.4</td>\n",
       "      <td>Temporary Site</td>\n",
       "    </tr>\n",
       "    <tr>\n",
       "      <th>1154</th>\n",
       "      <td>12/31/2016 22:08</td>\n",
       "      <td>12/31/2016 23:51</td>\n",
       "      <td>Business</td>\n",
       "      <td>Gampaha</td>\n",
       "      <td>Ilukwatta</td>\n",
       "      <td>48.2</td>\n",
       "      <td>Temporary Site</td>\n",
       "    </tr>\n",
       "    <tr>\n",
       "      <th>1155</th>\n",
       "      <td>Totals</td>\n",
       "      <td>NaN</td>\n",
       "      <td>NaN</td>\n",
       "      <td>NaN</td>\n",
       "      <td>NaN</td>\n",
       "      <td>12204.7</td>\n",
       "      <td>NaN</td>\n",
       "    </tr>\n",
       "  </tbody>\n",
       "</table>\n",
       "<p>1156 rows × 7 columns</p>\n",
       "</div>"
      ],
      "text/plain": [
       "           START_DATE*         END_DATE* CATEGORY*            START*  \\\n",
       "0       1/1/2016 21:11    1/1/2016 21:17  Business       Fort Pierce   \n",
       "1        1/2/2016 1:25     1/2/2016 1:37  Business       Fort Pierce   \n",
       "2       1/2/2016 20:25    1/2/2016 20:38  Business       Fort Pierce   \n",
       "3       1/5/2016 17:31    1/5/2016 17:45  Business       Fort Pierce   \n",
       "4       1/6/2016 14:42    1/6/2016 15:49  Business       Fort Pierce   \n",
       "...                ...               ...       ...               ...   \n",
       "1151  12/31/2016 13:24  12/31/2016 13:42  Business           Kar?chi   \n",
       "1152  12/31/2016 15:03  12/31/2016 15:38  Business  Unknown Location   \n",
       "1153  12/31/2016 21:32  12/31/2016 21:50  Business        Katunayake   \n",
       "1154  12/31/2016 22:08  12/31/2016 23:51  Business           Gampaha   \n",
       "1155            Totals               NaN       NaN               NaN   \n",
       "\n",
       "                 STOP*   MILES*         PURPOSE*  \n",
       "0          Fort Pierce      5.1   Meal/Entertain  \n",
       "1          Fort Pierce      5.0              NaN  \n",
       "2          Fort Pierce      4.8  Errand/Supplies  \n",
       "3          Fort Pierce      4.7          Meeting  \n",
       "4      West Palm Beach     63.7   Customer Visit  \n",
       "...                ...      ...              ...  \n",
       "1151  Unknown Location      3.9   Temporary Site  \n",
       "1152  Unknown Location     16.2          Meeting  \n",
       "1153           Gampaha      6.4   Temporary Site  \n",
       "1154         Ilukwatta     48.2   Temporary Site  \n",
       "1155               NaN  12204.7              NaN  \n",
       "\n",
       "[1156 rows x 7 columns]"
      ]
     },
     "execution_count": 3,
     "metadata": {},
     "output_type": "execute_result"
    }
   ],
   "source": [
    "df= pd.read_csv('../input/uberdrives/My Uber Drives - 2016.csv')\n",
    "df"
   ]
  },
  {
   "cell_type": "code",
   "execution_count": 4,
   "id": "42d9c420",
   "metadata": {
    "execution": {
     "iopub.execute_input": "2021-12-03T15:18:40.008674Z",
     "iopub.status.busy": "2021-12-03T15:18:40.007822Z",
     "iopub.status.idle": "2021-12-03T15:18:40.011521Z",
     "shell.execute_reply": "2021-12-03T15:18:40.010906Z",
     "shell.execute_reply.started": "2021-12-03T15:16:34.213369Z"
    },
    "papermill": {
     "duration": 0.053725,
     "end_time": "2021-12-03T15:18:40.011680",
     "exception": false,
     "start_time": "2021-12-03T15:18:39.957955",
     "status": "completed"
    },
    "tags": []
   },
   "outputs": [
    {
     "data": {
      "text/plain": [
       "START_DATE*    False\n",
       "END_DATE*       True\n",
       "CATEGORY*       True\n",
       "START*          True\n",
       "STOP*           True\n",
       "MILES*         False\n",
       "PURPOSE*        True\n",
       "dtype: bool"
      ]
     },
     "execution_count": 4,
     "metadata": {},
     "output_type": "execute_result"
    }
   ],
   "source": [
    "## axis=1 indicates row\n",
    "## by default axis = 0 which indicates feature/columns\n",
    "df.isnull().any()"
   ]
  },
  {
   "cell_type": "code",
   "execution_count": 5,
   "id": "e71a0ba5",
   "metadata": {
    "execution": {
     "iopub.execute_input": "2021-12-03T15:18:40.100443Z",
     "iopub.status.busy": "2021-12-03T15:18:40.099468Z",
     "iopub.status.idle": "2021-12-03T15:18:40.102900Z",
     "shell.execute_reply": "2021-12-03T15:18:40.103405Z",
     "shell.execute_reply.started": "2021-12-03T15:16:34.224706Z"
    },
    "papermill": {
     "duration": 0.05217,
     "end_time": "2021-12-03T15:18:40.103592",
     "exception": false,
     "start_time": "2021-12-03T15:18:40.051422",
     "status": "completed"
    },
    "tags": []
   },
   "outputs": [
    {
     "data": {
      "text/plain": [
       "START_DATE*      0\n",
       "END_DATE*        1\n",
       "CATEGORY*        1\n",
       "START*           1\n",
       "STOP*            1\n",
       "MILES*           0\n",
       "PURPOSE*       503\n",
       "dtype: int64"
      ]
     },
     "execution_count": 5,
     "metadata": {},
     "output_type": "execute_result"
    }
   ],
   "source": [
    "df.isnull().sum()"
   ]
  },
  {
   "cell_type": "code",
   "execution_count": 6,
   "id": "792d9c98",
   "metadata": {
    "execution": {
     "iopub.execute_input": "2021-12-03T15:18:40.190378Z",
     "iopub.status.busy": "2021-12-03T15:18:40.189660Z",
     "iopub.status.idle": "2021-12-03T15:18:40.193128Z",
     "shell.execute_reply": "2021-12-03T15:18:40.192443Z",
     "shell.execute_reply.started": "2021-12-03T15:16:34.240523Z"
    },
    "papermill": {
     "duration": 0.049868,
     "end_time": "2021-12-03T15:18:40.193285",
     "exception": false,
     "start_time": "2021-12-03T15:18:40.143417",
     "status": "completed"
    },
    "tags": []
   },
   "outputs": [],
   "source": [
    "df= df.head(-1)"
   ]
  },
  {
   "cell_type": "code",
   "execution_count": 7,
   "id": "4138130e",
   "metadata": {
    "execution": {
     "iopub.execute_input": "2021-12-03T15:18:40.284098Z",
     "iopub.status.busy": "2021-12-03T15:18:40.278975Z",
     "iopub.status.idle": "2021-12-03T15:18:40.286969Z",
     "shell.execute_reply": "2021-12-03T15:18:40.287500Z",
     "shell.execute_reply.started": "2021-12-03T15:16:34.252147Z"
    },
    "papermill": {
     "duration": 0.053385,
     "end_time": "2021-12-03T15:18:40.287692",
     "exception": false,
     "start_time": "2021-12-03T15:18:40.234307",
     "status": "completed"
    },
    "tags": []
   },
   "outputs": [
    {
     "data": {
      "text/plain": [
       "START_DATE*      0\n",
       "END_DATE*        0\n",
       "CATEGORY*        0\n",
       "START*           0\n",
       "STOP*            0\n",
       "MILES*           0\n",
       "PURPOSE*       502\n",
       "dtype: int64"
      ]
     },
     "execution_count": 7,
     "metadata": {},
     "output_type": "execute_result"
    }
   ],
   "source": [
    "df.isnull().sum()"
   ]
  },
  {
   "cell_type": "code",
   "execution_count": 8,
   "id": "86d8fb8e",
   "metadata": {
    "execution": {
     "iopub.execute_input": "2021-12-03T15:18:40.386262Z",
     "iopub.status.busy": "2021-12-03T15:18:40.370649Z",
     "iopub.status.idle": "2021-12-03T15:18:40.390390Z",
     "shell.execute_reply": "2021-12-03T15:18:40.389802Z",
     "shell.execute_reply.started": "2021-12-03T15:16:34.268880Z"
    },
    "papermill": {
     "duration": 0.062475,
     "end_time": "2021-12-03T15:18:40.390528",
     "exception": false,
     "start_time": "2021-12-03T15:18:40.328053",
     "status": "completed"
    },
    "tags": []
   },
   "outputs": [
    {
     "data": {
      "text/html": [
       "<div>\n",
       "<style scoped>\n",
       "    .dataframe tbody tr th:only-of-type {\n",
       "        vertical-align: middle;\n",
       "    }\n",
       "\n",
       "    .dataframe tbody tr th {\n",
       "        vertical-align: top;\n",
       "    }\n",
       "\n",
       "    .dataframe thead th {\n",
       "        text-align: right;\n",
       "    }\n",
       "</style>\n",
       "<table border=\"1\" class=\"dataframe\">\n",
       "  <thead>\n",
       "    <tr style=\"text-align: right;\">\n",
       "      <th></th>\n",
       "      <th>START_DATE*</th>\n",
       "      <th>END_DATE*</th>\n",
       "      <th>CATEGORY*</th>\n",
       "      <th>START*</th>\n",
       "      <th>STOP*</th>\n",
       "      <th>MILES*</th>\n",
       "      <th>PURPOSE*</th>\n",
       "    </tr>\n",
       "  </thead>\n",
       "  <tbody>\n",
       "    <tr>\n",
       "      <th>0</th>\n",
       "      <td>1/1/2016 21:11</td>\n",
       "      <td>1/1/2016 21:17</td>\n",
       "      <td>Business</td>\n",
       "      <td>Fort Pierce</td>\n",
       "      <td>Fort Pierce</td>\n",
       "      <td>5.1</td>\n",
       "      <td>Meal/Entertain</td>\n",
       "    </tr>\n",
       "    <tr>\n",
       "      <th>1</th>\n",
       "      <td>1/2/2016 1:25</td>\n",
       "      <td>1/2/2016 1:37</td>\n",
       "      <td>Business</td>\n",
       "      <td>Fort Pierce</td>\n",
       "      <td>Fort Pierce</td>\n",
       "      <td>5.0</td>\n",
       "      <td>NaN</td>\n",
       "    </tr>\n",
       "    <tr>\n",
       "      <th>2</th>\n",
       "      <td>1/2/2016 20:25</td>\n",
       "      <td>1/2/2016 20:38</td>\n",
       "      <td>Business</td>\n",
       "      <td>Fort Pierce</td>\n",
       "      <td>Fort Pierce</td>\n",
       "      <td>4.8</td>\n",
       "      <td>Errand/Supplies</td>\n",
       "    </tr>\n",
       "    <tr>\n",
       "      <th>3</th>\n",
       "      <td>1/5/2016 17:31</td>\n",
       "      <td>1/5/2016 17:45</td>\n",
       "      <td>Business</td>\n",
       "      <td>Fort Pierce</td>\n",
       "      <td>Fort Pierce</td>\n",
       "      <td>4.7</td>\n",
       "      <td>Meeting</td>\n",
       "    </tr>\n",
       "    <tr>\n",
       "      <th>4</th>\n",
       "      <td>1/6/2016 14:42</td>\n",
       "      <td>1/6/2016 15:49</td>\n",
       "      <td>Business</td>\n",
       "      <td>Fort Pierce</td>\n",
       "      <td>West Palm Beach</td>\n",
       "      <td>63.7</td>\n",
       "      <td>Customer Visit</td>\n",
       "    </tr>\n",
       "    <tr>\n",
       "      <th>...</th>\n",
       "      <td>...</td>\n",
       "      <td>...</td>\n",
       "      <td>...</td>\n",
       "      <td>...</td>\n",
       "      <td>...</td>\n",
       "      <td>...</td>\n",
       "      <td>...</td>\n",
       "    </tr>\n",
       "    <tr>\n",
       "      <th>1150</th>\n",
       "      <td>12/31/2016 1:07</td>\n",
       "      <td>12/31/2016 1:14</td>\n",
       "      <td>Business</td>\n",
       "      <td>Kar?chi</td>\n",
       "      <td>Kar?chi</td>\n",
       "      <td>0.7</td>\n",
       "      <td>Meeting</td>\n",
       "    </tr>\n",
       "    <tr>\n",
       "      <th>1151</th>\n",
       "      <td>12/31/2016 13:24</td>\n",
       "      <td>12/31/2016 13:42</td>\n",
       "      <td>Business</td>\n",
       "      <td>Kar?chi</td>\n",
       "      <td>Unknown Location</td>\n",
       "      <td>3.9</td>\n",
       "      <td>Temporary Site</td>\n",
       "    </tr>\n",
       "    <tr>\n",
       "      <th>1152</th>\n",
       "      <td>12/31/2016 15:03</td>\n",
       "      <td>12/31/2016 15:38</td>\n",
       "      <td>Business</td>\n",
       "      <td>Unknown Location</td>\n",
       "      <td>Unknown Location</td>\n",
       "      <td>16.2</td>\n",
       "      <td>Meeting</td>\n",
       "    </tr>\n",
       "    <tr>\n",
       "      <th>1153</th>\n",
       "      <td>12/31/2016 21:32</td>\n",
       "      <td>12/31/2016 21:50</td>\n",
       "      <td>Business</td>\n",
       "      <td>Katunayake</td>\n",
       "      <td>Gampaha</td>\n",
       "      <td>6.4</td>\n",
       "      <td>Temporary Site</td>\n",
       "    </tr>\n",
       "    <tr>\n",
       "      <th>1154</th>\n",
       "      <td>12/31/2016 22:08</td>\n",
       "      <td>12/31/2016 23:51</td>\n",
       "      <td>Business</td>\n",
       "      <td>Gampaha</td>\n",
       "      <td>Ilukwatta</td>\n",
       "      <td>48.2</td>\n",
       "      <td>Temporary Site</td>\n",
       "    </tr>\n",
       "  </tbody>\n",
       "</table>\n",
       "<p>1155 rows × 7 columns</p>\n",
       "</div>"
      ],
      "text/plain": [
       "           START_DATE*         END_DATE* CATEGORY*            START*  \\\n",
       "0       1/1/2016 21:11    1/1/2016 21:17  Business       Fort Pierce   \n",
       "1        1/2/2016 1:25     1/2/2016 1:37  Business       Fort Pierce   \n",
       "2       1/2/2016 20:25    1/2/2016 20:38  Business       Fort Pierce   \n",
       "3       1/5/2016 17:31    1/5/2016 17:45  Business       Fort Pierce   \n",
       "4       1/6/2016 14:42    1/6/2016 15:49  Business       Fort Pierce   \n",
       "...                ...               ...       ...               ...   \n",
       "1150   12/31/2016 1:07   12/31/2016 1:14  Business           Kar?chi   \n",
       "1151  12/31/2016 13:24  12/31/2016 13:42  Business           Kar?chi   \n",
       "1152  12/31/2016 15:03  12/31/2016 15:38  Business  Unknown Location   \n",
       "1153  12/31/2016 21:32  12/31/2016 21:50  Business        Katunayake   \n",
       "1154  12/31/2016 22:08  12/31/2016 23:51  Business           Gampaha   \n",
       "\n",
       "                 STOP*  MILES*         PURPOSE*  \n",
       "0          Fort Pierce     5.1   Meal/Entertain  \n",
       "1          Fort Pierce     5.0              NaN  \n",
       "2          Fort Pierce     4.8  Errand/Supplies  \n",
       "3          Fort Pierce     4.7          Meeting  \n",
       "4      West Palm Beach    63.7   Customer Visit  \n",
       "...                ...     ...              ...  \n",
       "1150           Kar?chi     0.7          Meeting  \n",
       "1151  Unknown Location     3.9   Temporary Site  \n",
       "1152  Unknown Location    16.2          Meeting  \n",
       "1153           Gampaha     6.4   Temporary Site  \n",
       "1154         Ilukwatta    48.2   Temporary Site  \n",
       "\n",
       "[1155 rows x 7 columns]"
      ]
     },
     "execution_count": 8,
     "metadata": {},
     "output_type": "execute_result"
    }
   ],
   "source": [
    "df"
   ]
  },
  {
   "cell_type": "code",
   "execution_count": 9,
   "id": "c9fb0e14",
   "metadata": {
    "execution": {
     "iopub.execute_input": "2021-12-03T15:18:40.536352Z",
     "iopub.status.busy": "2021-12-03T15:18:40.535608Z",
     "iopub.status.idle": "2021-12-03T15:18:40.540463Z",
     "shell.execute_reply": "2021-12-03T15:18:40.541029Z",
     "shell.execute_reply.started": "2021-12-03T15:16:34.290979Z"
    },
    "papermill": {
     "duration": 0.049763,
     "end_time": "2021-12-03T15:18:40.541204",
     "exception": false,
     "start_time": "2021-12-03T15:18:40.491441",
     "status": "completed"
    },
    "tags": []
   },
   "outputs": [
    {
     "data": {
      "text/plain": [
       "Index(['START_DATE*', 'END_DATE*', 'CATEGORY*', 'START*', 'STOP*', 'MILES*',\n",
       "       'PURPOSE*'],\n",
       "      dtype='object')"
      ]
     },
     "execution_count": 9,
     "metadata": {},
     "output_type": "execute_result"
    }
   ],
   "source": [
    "df.columns"
   ]
  },
  {
   "cell_type": "code",
   "execution_count": 10,
   "id": "5de7f8e4",
   "metadata": {
    "execution": {
     "iopub.execute_input": "2021-12-03T15:18:40.628238Z",
     "iopub.status.busy": "2021-12-03T15:18:40.627478Z",
     "iopub.status.idle": "2021-12-03T15:18:40.639224Z",
     "shell.execute_reply": "2021-12-03T15:18:40.639827Z",
     "shell.execute_reply.started": "2021-12-03T15:16:34.304987Z"
    },
    "papermill": {
     "duration": 0.057243,
     "end_time": "2021-12-03T15:18:40.640008",
     "exception": false,
     "start_time": "2021-12-03T15:18:40.582765",
     "status": "completed"
    },
    "tags": []
   },
   "outputs": [
    {
     "data": {
      "text/plain": [
       "177"
      ]
     },
     "execution_count": 10,
     "metadata": {},
     "output_type": "execute_result"
    }
   ],
   "source": [
    "df['START*'].nunique()"
   ]
  },
  {
   "cell_type": "code",
   "execution_count": 11,
   "id": "86f70d91",
   "metadata": {
    "execution": {
     "iopub.execute_input": "2021-12-03T15:18:40.729183Z",
     "iopub.status.busy": "2021-12-03T15:18:40.728440Z",
     "iopub.status.idle": "2021-12-03T15:18:40.737759Z",
     "shell.execute_reply": "2021-12-03T15:18:40.738317Z",
     "shell.execute_reply.started": "2021-12-03T15:16:34.324206Z"
    },
    "papermill": {
     "duration": 0.054631,
     "end_time": "2021-12-03T15:18:40.738503",
     "exception": false,
     "start_time": "2021-12-03T15:18:40.683872",
     "status": "completed"
    },
    "tags": []
   },
   "outputs": [
    {
     "data": {
      "text/plain": [
       "Cary                201\n",
       "Unknown Location    148\n",
       "Morrisville          85\n",
       "Whitebridge          68\n",
       "Islamabad            57\n",
       "                   ... \n",
       "Florence              1\n",
       "Ridgeland             1\n",
       "Daytona Beach         1\n",
       "Sky Lake              1\n",
       "Gampaha               1\n",
       "Name: START*, Length: 177, dtype: int64"
      ]
     },
     "execution_count": 11,
     "metadata": {},
     "output_type": "execute_result"
    }
   ],
   "source": [
    "df['START*'].value_counts()"
   ]
  },
  {
   "cell_type": "code",
   "execution_count": 12,
   "id": "4ac48a3a",
   "metadata": {
    "execution": {
     "iopub.execute_input": "2021-12-03T15:18:40.835187Z",
     "iopub.status.busy": "2021-12-03T15:18:40.834416Z",
     "iopub.status.idle": "2021-12-03T15:18:40.837003Z",
     "shell.execute_reply": "2021-12-03T15:18:40.837597Z",
     "shell.execute_reply.started": "2021-12-03T15:16:34.343472Z"
    },
    "papermill": {
     "duration": 0.055038,
     "end_time": "2021-12-03T15:18:40.837786",
     "exception": false,
     "start_time": "2021-12-03T15:18:40.782748",
     "status": "completed"
    },
    "tags": []
   },
   "outputs": [
    {
     "data": {
      "text/plain": [
       "Cary                 203\n",
       "Unknown Location     149\n",
       "Morrisville           84\n",
       "Whitebridge           65\n",
       "Islamabad             58\n",
       "                    ... \n",
       "Daytona Beach          1\n",
       "Sand Lake Commons      1\n",
       "Sky Lake               1\n",
       "Vista East             1\n",
       "Ilukwatta              1\n",
       "Name: STOP*, Length: 188, dtype: int64"
      ]
     },
     "execution_count": 12,
     "metadata": {},
     "output_type": "execute_result"
    }
   ],
   "source": [
    "df['STOP*'].value_counts()"
   ]
  },
  {
   "cell_type": "code",
   "execution_count": 13,
   "id": "97868ebd",
   "metadata": {
    "execution": {
     "iopub.execute_input": "2021-12-03T15:18:40.927120Z",
     "iopub.status.busy": "2021-12-03T15:18:40.926437Z",
     "iopub.status.idle": "2021-12-03T15:18:40.931643Z",
     "shell.execute_reply": "2021-12-03T15:18:40.932242Z",
     "shell.execute_reply.started": "2021-12-03T15:16:34.355881Z"
    },
    "papermill": {
     "duration": 0.050969,
     "end_time": "2021-12-03T15:18:40.932446",
     "exception": false,
     "start_time": "2021-12-03T15:18:40.881477",
     "status": "completed"
    },
    "tags": []
   },
   "outputs": [
    {
     "data": {
      "text/plain": [
       "188"
      ]
     },
     "execution_count": 13,
     "metadata": {},
     "output_type": "execute_result"
    }
   ],
   "source": [
    "df['STOP*'].nunique()"
   ]
  },
  {
   "cell_type": "code",
   "execution_count": 14,
   "id": "3c18cd18",
   "metadata": {
    "execution": {
     "iopub.execute_input": "2021-12-03T15:18:41.024503Z",
     "iopub.status.busy": "2021-12-03T15:18:41.023868Z",
     "iopub.status.idle": "2021-12-03T15:18:41.044524Z",
     "shell.execute_reply": "2021-12-03T15:18:41.043985Z",
     "shell.execute_reply.started": "2021-12-03T15:16:34.368691Z"
    },
    "papermill": {
     "duration": 0.06722,
     "end_time": "2021-12-03T15:18:41.044690",
     "exception": false,
     "start_time": "2021-12-03T15:18:40.977470",
     "status": "completed"
    },
    "tags": []
   },
   "outputs": [
    {
     "data": {
      "text/html": [
       "<div>\n",
       "<style scoped>\n",
       "    .dataframe tbody tr th:only-of-type {\n",
       "        vertical-align: middle;\n",
       "    }\n",
       "\n",
       "    .dataframe tbody tr th {\n",
       "        vertical-align: top;\n",
       "    }\n",
       "\n",
       "    .dataframe thead th {\n",
       "        text-align: right;\n",
       "    }\n",
       "</style>\n",
       "<table border=\"1\" class=\"dataframe\">\n",
       "  <thead>\n",
       "    <tr style=\"text-align: right;\">\n",
       "      <th></th>\n",
       "      <th>START_DATE*</th>\n",
       "      <th>END_DATE*</th>\n",
       "      <th>CATEGORY*</th>\n",
       "      <th>START*</th>\n",
       "      <th>STOP*</th>\n",
       "      <th>MILES*</th>\n",
       "      <th>PURPOSE*</th>\n",
       "    </tr>\n",
       "  </thead>\n",
       "  <tbody>\n",
       "    <tr>\n",
       "      <th>4</th>\n",
       "      <td>1/6/2016 14:42</td>\n",
       "      <td>1/6/2016 15:49</td>\n",
       "      <td>Business</td>\n",
       "      <td>Fort Pierce</td>\n",
       "      <td>West Palm Beach</td>\n",
       "      <td>63.7</td>\n",
       "      <td>Customer Visit</td>\n",
       "    </tr>\n",
       "    <tr>\n",
       "      <th>6</th>\n",
       "      <td>1/6/2016 17:30</td>\n",
       "      <td>1/6/2016 17:35</td>\n",
       "      <td>Business</td>\n",
       "      <td>West Palm Beach</td>\n",
       "      <td>Palm Beach</td>\n",
       "      <td>7.1</td>\n",
       "      <td>Meeting</td>\n",
       "    </tr>\n",
       "    <tr>\n",
       "      <th>8</th>\n",
       "      <td>1/10/2016 8:05</td>\n",
       "      <td>1/10/2016 8:25</td>\n",
       "      <td>Business</td>\n",
       "      <td>Cary</td>\n",
       "      <td>Morrisville</td>\n",
       "      <td>8.3</td>\n",
       "      <td>Meeting</td>\n",
       "    </tr>\n",
       "    <tr>\n",
       "      <th>9</th>\n",
       "      <td>1/10/2016 12:17</td>\n",
       "      <td>1/10/2016 12:44</td>\n",
       "      <td>Business</td>\n",
       "      <td>Jamaica</td>\n",
       "      <td>New York</td>\n",
       "      <td>16.5</td>\n",
       "      <td>Customer Visit</td>\n",
       "    </tr>\n",
       "    <tr>\n",
       "      <th>10</th>\n",
       "      <td>1/10/2016 15:08</td>\n",
       "      <td>1/10/2016 15:51</td>\n",
       "      <td>Business</td>\n",
       "      <td>New York</td>\n",
       "      <td>Queens</td>\n",
       "      <td>10.8</td>\n",
       "      <td>Meeting</td>\n",
       "    </tr>\n",
       "    <tr>\n",
       "      <th>...</th>\n",
       "      <td>...</td>\n",
       "      <td>...</td>\n",
       "      <td>...</td>\n",
       "      <td>...</td>\n",
       "      <td>...</td>\n",
       "      <td>...</td>\n",
       "      <td>...</td>\n",
       "    </tr>\n",
       "    <tr>\n",
       "      <th>1143</th>\n",
       "      <td>12/29/2016 20:53</td>\n",
       "      <td>12/29/2016 21:42</td>\n",
       "      <td>Business</td>\n",
       "      <td>Kar?chi</td>\n",
       "      <td>Unknown Location</td>\n",
       "      <td>6.4</td>\n",
       "      <td>NaN</td>\n",
       "    </tr>\n",
       "    <tr>\n",
       "      <th>1144</th>\n",
       "      <td>12/29/2016 23:14</td>\n",
       "      <td>12/29/2016 23:47</td>\n",
       "      <td>Business</td>\n",
       "      <td>Unknown Location</td>\n",
       "      <td>Kar?chi</td>\n",
       "      <td>12.9</td>\n",
       "      <td>Meeting</td>\n",
       "    </tr>\n",
       "    <tr>\n",
       "      <th>1151</th>\n",
       "      <td>12/31/2016 13:24</td>\n",
       "      <td>12/31/2016 13:42</td>\n",
       "      <td>Business</td>\n",
       "      <td>Kar?chi</td>\n",
       "      <td>Unknown Location</td>\n",
       "      <td>3.9</td>\n",
       "      <td>Temporary Site</td>\n",
       "    </tr>\n",
       "    <tr>\n",
       "      <th>1153</th>\n",
       "      <td>12/31/2016 21:32</td>\n",
       "      <td>12/31/2016 21:50</td>\n",
       "      <td>Business</td>\n",
       "      <td>Katunayake</td>\n",
       "      <td>Gampaha</td>\n",
       "      <td>6.4</td>\n",
       "      <td>Temporary Site</td>\n",
       "    </tr>\n",
       "    <tr>\n",
       "      <th>1154</th>\n",
       "      <td>12/31/2016 22:08</td>\n",
       "      <td>12/31/2016 23:51</td>\n",
       "      <td>Business</td>\n",
       "      <td>Gampaha</td>\n",
       "      <td>Ilukwatta</td>\n",
       "      <td>48.2</td>\n",
       "      <td>Temporary Site</td>\n",
       "    </tr>\n",
       "  </tbody>\n",
       "</table>\n",
       "<p>867 rows × 7 columns</p>\n",
       "</div>"
      ],
      "text/plain": [
       "           START_DATE*         END_DATE* CATEGORY*            START*  \\\n",
       "4       1/6/2016 14:42    1/6/2016 15:49  Business       Fort Pierce   \n",
       "6       1/6/2016 17:30    1/6/2016 17:35  Business   West Palm Beach   \n",
       "8       1/10/2016 8:05    1/10/2016 8:25  Business              Cary   \n",
       "9      1/10/2016 12:17   1/10/2016 12:44  Business           Jamaica   \n",
       "10     1/10/2016 15:08   1/10/2016 15:51  Business          New York   \n",
       "...                ...               ...       ...               ...   \n",
       "1143  12/29/2016 20:53  12/29/2016 21:42  Business           Kar?chi   \n",
       "1144  12/29/2016 23:14  12/29/2016 23:47  Business  Unknown Location   \n",
       "1151  12/31/2016 13:24  12/31/2016 13:42  Business           Kar?chi   \n",
       "1153  12/31/2016 21:32  12/31/2016 21:50  Business        Katunayake   \n",
       "1154  12/31/2016 22:08  12/31/2016 23:51  Business           Gampaha   \n",
       "\n",
       "                 STOP*  MILES*        PURPOSE*  \n",
       "4      West Palm Beach    63.7  Customer Visit  \n",
       "6           Palm Beach     7.1         Meeting  \n",
       "8          Morrisville     8.3         Meeting  \n",
       "9             New York    16.5  Customer Visit  \n",
       "10              Queens    10.8         Meeting  \n",
       "...                ...     ...             ...  \n",
       "1143  Unknown Location     6.4             NaN  \n",
       "1144           Kar?chi    12.9         Meeting  \n",
       "1151  Unknown Location     3.9  Temporary Site  \n",
       "1153           Gampaha     6.4  Temporary Site  \n",
       "1154         Ilukwatta    48.2  Temporary Site  \n",
       "\n",
       "[867 rows x 7 columns]"
      ]
     },
     "execution_count": 14,
     "metadata": {},
     "output_type": "execute_result"
    }
   ],
   "source": [
    "df[df['START*']!=df['STOP*']]"
   ]
  },
  {
   "cell_type": "code",
   "execution_count": 15,
   "id": "f5ae2823",
   "metadata": {
    "execution": {
     "iopub.execute_input": "2021-12-03T15:18:41.136788Z",
     "iopub.status.busy": "2021-12-03T15:18:41.136102Z",
     "iopub.status.idle": "2021-12-03T15:18:41.149822Z",
     "shell.execute_reply": "2021-12-03T15:18:41.150364Z",
     "shell.execute_reply.started": "2021-12-03T15:16:34.392792Z"
    },
    "papermill": {
     "duration": 0.061075,
     "end_time": "2021-12-03T15:18:41.150561",
     "exception": false,
     "start_time": "2021-12-03T15:18:41.089486",
     "status": "completed"
    },
    "tags": []
   },
   "outputs": [
    {
     "name": "stdout",
     "output_type": "stream",
     "text": [
      "<class 'pandas.core.frame.DataFrame'>\n",
      "RangeIndex: 1155 entries, 0 to 1154\n",
      "Data columns (total 7 columns):\n",
      " #   Column       Non-Null Count  Dtype  \n",
      "---  ------       --------------  -----  \n",
      " 0   START_DATE*  1155 non-null   object \n",
      " 1   END_DATE*    1155 non-null   object \n",
      " 2   CATEGORY*    1155 non-null   object \n",
      " 3   START*       1155 non-null   object \n",
      " 4   STOP*        1155 non-null   object \n",
      " 5   MILES*       1155 non-null   float64\n",
      " 6   PURPOSE*     653 non-null    object \n",
      "dtypes: float64(1), object(6)\n",
      "memory usage: 63.3+ KB\n"
     ]
    }
   ],
   "source": [
    "df.info()"
   ]
  },
  {
   "cell_type": "code",
   "execution_count": 16,
   "id": "a5dbb43a",
   "metadata": {
    "execution": {
     "iopub.execute_input": "2021-12-03T15:18:41.246707Z",
     "iopub.status.busy": "2021-12-03T15:18:41.245662Z",
     "iopub.status.idle": "2021-12-03T15:18:41.268219Z",
     "shell.execute_reply": "2021-12-03T15:18:41.268874Z",
     "shell.execute_reply.started": "2021-12-03T15:16:34.411079Z"
    },
    "papermill": {
     "duration": 0.073319,
     "end_time": "2021-12-03T15:18:41.269068",
     "exception": false,
     "start_time": "2021-12-03T15:18:41.195749",
     "status": "completed"
    },
    "tags": []
   },
   "outputs": [],
   "source": [
    "df['START_DATE*'] = pd.to_datetime(df['START_DATE*'], format=\"%m/%d/%Y %H:%M\")\n",
    "df['END_DATE*'] = pd.to_datetime(df['END_DATE*'], format=\"%m/%d/%Y %H:%M\")"
   ]
  },
  {
   "cell_type": "code",
   "execution_count": 17,
   "id": "a699f42a",
   "metadata": {
    "execution": {
     "iopub.execute_input": "2021-12-03T15:18:41.374493Z",
     "iopub.status.busy": "2021-12-03T15:18:41.373422Z",
     "iopub.status.idle": "2021-12-03T15:18:41.376558Z",
     "shell.execute_reply": "2021-12-03T15:18:41.377143Z",
     "shell.execute_reply.started": "2021-12-03T15:16:34.432285Z"
    },
    "papermill": {
     "duration": 0.063659,
     "end_time": "2021-12-03T15:18:41.377328",
     "exception": false,
     "start_time": "2021-12-03T15:18:41.313669",
     "status": "completed"
    },
    "tags": []
   },
   "outputs": [
    {
     "name": "stdout",
     "output_type": "stream",
     "text": [
      "<class 'pandas.core.frame.DataFrame'>\n",
      "RangeIndex: 1155 entries, 0 to 1154\n",
      "Data columns (total 7 columns):\n",
      " #   Column       Non-Null Count  Dtype         \n",
      "---  ------       --------------  -----         \n",
      " 0   START_DATE*  1155 non-null   datetime64[ns]\n",
      " 1   END_DATE*    1155 non-null   datetime64[ns]\n",
      " 2   CATEGORY*    1155 non-null   object        \n",
      " 3   START*       1155 non-null   object        \n",
      " 4   STOP*        1155 non-null   object        \n",
      " 5   MILES*       1155 non-null   float64       \n",
      " 6   PURPOSE*     653 non-null    object        \n",
      "dtypes: datetime64[ns](2), float64(1), object(4)\n",
      "memory usage: 63.3+ KB\n"
     ]
    }
   ],
   "source": [
    "df.info()"
   ]
  },
  {
   "cell_type": "code",
   "execution_count": 18,
   "id": "f0fce0d4",
   "metadata": {
    "execution": {
     "iopub.execute_input": "2021-12-03T15:18:41.471785Z",
     "iopub.status.busy": "2021-12-03T15:18:41.470728Z",
     "iopub.status.idle": "2021-12-03T15:18:41.478768Z",
     "shell.execute_reply": "2021-12-03T15:18:41.479360Z",
     "shell.execute_reply.started": "2021-12-03T15:16:34.450479Z"
    },
    "papermill": {
     "duration": 0.056302,
     "end_time": "2021-12-03T15:18:41.479552",
     "exception": false,
     "start_time": "2021-12-03T15:18:41.423250",
     "status": "completed"
    },
    "tags": []
   },
   "outputs": [
    {
     "data": {
      "text/plain": [
       "0      2016-01-01 21:11:00\n",
       "1      2016-01-02 01:25:00\n",
       "2      2016-01-02 20:25:00\n",
       "3      2016-01-05 17:31:00\n",
       "4      2016-01-06 14:42:00\n",
       "               ...        \n",
       "1150   2016-12-31 01:07:00\n",
       "1151   2016-12-31 13:24:00\n",
       "1152   2016-12-31 15:03:00\n",
       "1153   2016-12-31 21:32:00\n",
       "1154   2016-12-31 22:08:00\n",
       "Name: START_DATE*, Length: 1155, dtype: datetime64[ns]"
      ]
     },
     "execution_count": 18,
     "metadata": {},
     "output_type": "execute_result"
    }
   ],
   "source": [
    "df['START_DATE*']"
   ]
  },
  {
   "cell_type": "markdown",
   "id": "fdf39546",
   "metadata": {
    "papermill": {
     "duration": 0.043922,
     "end_time": "2021-12-03T15:18:41.570492",
     "exception": false,
     "start_time": "2021-12-03T15:18:41.526570",
     "status": "completed"
    },
    "tags": []
   },
   "source": [
    "### About calendar Module\n",
    "Python defines an *inbuilt module calendar* that** handles operations related to the calendar**. \n",
    "The `calendar module allows output calendars like the program and provides additional useful functions related to the calendar`. Functions and classes defined in the Calendar module use an idealized calendar, the current Gregorian calendar extended indefinitely in both directions. `By default`, these calendars have `Monday as the first day of the week, and Sunday as the last`\n",
    "\n",
    "**What is module?**  \n",
    "Modules are ***simply files with the “.py” extension containing Python code that can be imported inside another Python Program.*** \n",
    "In simple terms, we can consider a module to be the same as a code library or a file that contains a set of functions that you want to include in your application.\n",
    "\n"
   ]
  },
  {
   "cell_type": "code",
   "execution_count": 19,
   "id": "ff99b739",
   "metadata": {
    "execution": {
     "iopub.execute_input": "2021-12-03T15:18:41.664476Z",
     "iopub.status.busy": "2021-12-03T15:18:41.663442Z",
     "iopub.status.idle": "2021-12-03T15:18:41.667093Z",
     "shell.execute_reply": "2021-12-03T15:18:41.667678Z",
     "shell.execute_reply.started": "2021-12-03T15:16:34.461481Z"
    },
    "papermill": {
     "duration": 0.05289,
     "end_time": "2021-12-03T15:18:41.667860",
     "exception": false,
     "start_time": "2021-12-03T15:18:41.614970",
     "status": "completed"
    },
    "tags": []
   },
   "outputs": [],
   "source": [
    "### Since we want to find our day of week thus We are importing calendar\n",
    "import calendar"
   ]
  },
  {
   "cell_type": "code",
   "execution_count": 20,
   "id": "f3b9be6a",
   "metadata": {
    "execution": {
     "iopub.execute_input": "2021-12-03T15:18:41.762204Z",
     "iopub.status.busy": "2021-12-03T15:18:41.761209Z",
     "iopub.status.idle": "2021-12-03T15:18:41.780726Z",
     "shell.execute_reply": "2021-12-03T15:18:41.781259Z",
     "shell.execute_reply.started": "2021-12-03T15:16:34.470204Z"
    },
    "papermill": {
     "duration": 0.068101,
     "end_time": "2021-12-03T15:18:41.781430",
     "exception": false,
     "start_time": "2021-12-03T15:18:41.713329",
     "status": "completed"
    },
    "tags": []
   },
   "outputs": [],
   "source": [
    "hour=[]\n",
    "day=[]\n",
    "dayofweek=[]\n",
    "month=[]\n",
    "weekday=[]\n",
    "for x in df['START_DATE*']:\n",
    "    hour.append(x.hour)\n",
    "    day.append(x.day)\n",
    "    dayofweek.append(x.dayofweek)\n",
    "    month.append(x.month)\n",
    "    weekday.append(calendar.day_name[dayofweek[-1]])\n",
    "df['HOUR']=hour\n",
    "df['DAY']=day\n",
    "df['DAY_OF_WEEK']=dayofweek\n",
    "df['MONTH']=month\n",
    "df['WEEKDAY']=weekday"
   ]
  },
  {
   "cell_type": "code",
   "execution_count": 21,
   "id": "a587b48a",
   "metadata": {
    "execution": {
     "iopub.execute_input": "2021-12-03T15:18:41.874042Z",
     "iopub.status.busy": "2021-12-03T15:18:41.873068Z",
     "iopub.status.idle": "2021-12-03T15:18:41.895668Z",
     "shell.execute_reply": "2021-12-03T15:18:41.896201Z",
     "shell.execute_reply.started": "2021-12-03T15:16:34.490428Z"
    },
    "papermill": {
     "duration": 0.071013,
     "end_time": "2021-12-03T15:18:41.896381",
     "exception": false,
     "start_time": "2021-12-03T15:18:41.825368",
     "status": "completed"
    },
    "tags": []
   },
   "outputs": [
    {
     "data": {
      "text/html": [
       "<div>\n",
       "<style scoped>\n",
       "    .dataframe tbody tr th:only-of-type {\n",
       "        vertical-align: middle;\n",
       "    }\n",
       "\n",
       "    .dataframe tbody tr th {\n",
       "        vertical-align: top;\n",
       "    }\n",
       "\n",
       "    .dataframe thead th {\n",
       "        text-align: right;\n",
       "    }\n",
       "</style>\n",
       "<table border=\"1\" class=\"dataframe\">\n",
       "  <thead>\n",
       "    <tr style=\"text-align: right;\">\n",
       "      <th></th>\n",
       "      <th>START_DATE*</th>\n",
       "      <th>END_DATE*</th>\n",
       "      <th>CATEGORY*</th>\n",
       "      <th>START*</th>\n",
       "      <th>STOP*</th>\n",
       "      <th>MILES*</th>\n",
       "      <th>PURPOSE*</th>\n",
       "      <th>HOUR</th>\n",
       "      <th>DAY</th>\n",
       "      <th>DAY_OF_WEEK</th>\n",
       "      <th>MONTH</th>\n",
       "      <th>WEEKDAY</th>\n",
       "    </tr>\n",
       "  </thead>\n",
       "  <tbody>\n",
       "    <tr>\n",
       "      <th>0</th>\n",
       "      <td>2016-01-01 21:11:00</td>\n",
       "      <td>2016-01-01 21:17:00</td>\n",
       "      <td>Business</td>\n",
       "      <td>Fort Pierce</td>\n",
       "      <td>Fort Pierce</td>\n",
       "      <td>5.1</td>\n",
       "      <td>Meal/Entertain</td>\n",
       "      <td>21</td>\n",
       "      <td>1</td>\n",
       "      <td>4</td>\n",
       "      <td>1</td>\n",
       "      <td>Friday</td>\n",
       "    </tr>\n",
       "    <tr>\n",
       "      <th>1</th>\n",
       "      <td>2016-01-02 01:25:00</td>\n",
       "      <td>2016-01-02 01:37:00</td>\n",
       "      <td>Business</td>\n",
       "      <td>Fort Pierce</td>\n",
       "      <td>Fort Pierce</td>\n",
       "      <td>5.0</td>\n",
       "      <td>NaN</td>\n",
       "      <td>1</td>\n",
       "      <td>2</td>\n",
       "      <td>5</td>\n",
       "      <td>1</td>\n",
       "      <td>Saturday</td>\n",
       "    </tr>\n",
       "    <tr>\n",
       "      <th>2</th>\n",
       "      <td>2016-01-02 20:25:00</td>\n",
       "      <td>2016-01-02 20:38:00</td>\n",
       "      <td>Business</td>\n",
       "      <td>Fort Pierce</td>\n",
       "      <td>Fort Pierce</td>\n",
       "      <td>4.8</td>\n",
       "      <td>Errand/Supplies</td>\n",
       "      <td>20</td>\n",
       "      <td>2</td>\n",
       "      <td>5</td>\n",
       "      <td>1</td>\n",
       "      <td>Saturday</td>\n",
       "    </tr>\n",
       "    <tr>\n",
       "      <th>3</th>\n",
       "      <td>2016-01-05 17:31:00</td>\n",
       "      <td>2016-01-05 17:45:00</td>\n",
       "      <td>Business</td>\n",
       "      <td>Fort Pierce</td>\n",
       "      <td>Fort Pierce</td>\n",
       "      <td>4.7</td>\n",
       "      <td>Meeting</td>\n",
       "      <td>17</td>\n",
       "      <td>5</td>\n",
       "      <td>1</td>\n",
       "      <td>1</td>\n",
       "      <td>Tuesday</td>\n",
       "    </tr>\n",
       "    <tr>\n",
       "      <th>4</th>\n",
       "      <td>2016-01-06 14:42:00</td>\n",
       "      <td>2016-01-06 15:49:00</td>\n",
       "      <td>Business</td>\n",
       "      <td>Fort Pierce</td>\n",
       "      <td>West Palm Beach</td>\n",
       "      <td>63.7</td>\n",
       "      <td>Customer Visit</td>\n",
       "      <td>14</td>\n",
       "      <td>6</td>\n",
       "      <td>2</td>\n",
       "      <td>1</td>\n",
       "      <td>Wednesday</td>\n",
       "    </tr>\n",
       "    <tr>\n",
       "      <th>...</th>\n",
       "      <td>...</td>\n",
       "      <td>...</td>\n",
       "      <td>...</td>\n",
       "      <td>...</td>\n",
       "      <td>...</td>\n",
       "      <td>...</td>\n",
       "      <td>...</td>\n",
       "      <td>...</td>\n",
       "      <td>...</td>\n",
       "      <td>...</td>\n",
       "      <td>...</td>\n",
       "      <td>...</td>\n",
       "    </tr>\n",
       "    <tr>\n",
       "      <th>1150</th>\n",
       "      <td>2016-12-31 01:07:00</td>\n",
       "      <td>2016-12-31 01:14:00</td>\n",
       "      <td>Business</td>\n",
       "      <td>Kar?chi</td>\n",
       "      <td>Kar?chi</td>\n",
       "      <td>0.7</td>\n",
       "      <td>Meeting</td>\n",
       "      <td>1</td>\n",
       "      <td>31</td>\n",
       "      <td>5</td>\n",
       "      <td>12</td>\n",
       "      <td>Saturday</td>\n",
       "    </tr>\n",
       "    <tr>\n",
       "      <th>1151</th>\n",
       "      <td>2016-12-31 13:24:00</td>\n",
       "      <td>2016-12-31 13:42:00</td>\n",
       "      <td>Business</td>\n",
       "      <td>Kar?chi</td>\n",
       "      <td>Unknown Location</td>\n",
       "      <td>3.9</td>\n",
       "      <td>Temporary Site</td>\n",
       "      <td>13</td>\n",
       "      <td>31</td>\n",
       "      <td>5</td>\n",
       "      <td>12</td>\n",
       "      <td>Saturday</td>\n",
       "    </tr>\n",
       "    <tr>\n",
       "      <th>1152</th>\n",
       "      <td>2016-12-31 15:03:00</td>\n",
       "      <td>2016-12-31 15:38:00</td>\n",
       "      <td>Business</td>\n",
       "      <td>Unknown Location</td>\n",
       "      <td>Unknown Location</td>\n",
       "      <td>16.2</td>\n",
       "      <td>Meeting</td>\n",
       "      <td>15</td>\n",
       "      <td>31</td>\n",
       "      <td>5</td>\n",
       "      <td>12</td>\n",
       "      <td>Saturday</td>\n",
       "    </tr>\n",
       "    <tr>\n",
       "      <th>1153</th>\n",
       "      <td>2016-12-31 21:32:00</td>\n",
       "      <td>2016-12-31 21:50:00</td>\n",
       "      <td>Business</td>\n",
       "      <td>Katunayake</td>\n",
       "      <td>Gampaha</td>\n",
       "      <td>6.4</td>\n",
       "      <td>Temporary Site</td>\n",
       "      <td>21</td>\n",
       "      <td>31</td>\n",
       "      <td>5</td>\n",
       "      <td>12</td>\n",
       "      <td>Saturday</td>\n",
       "    </tr>\n",
       "    <tr>\n",
       "      <th>1154</th>\n",
       "      <td>2016-12-31 22:08:00</td>\n",
       "      <td>2016-12-31 23:51:00</td>\n",
       "      <td>Business</td>\n",
       "      <td>Gampaha</td>\n",
       "      <td>Ilukwatta</td>\n",
       "      <td>48.2</td>\n",
       "      <td>Temporary Site</td>\n",
       "      <td>22</td>\n",
       "      <td>31</td>\n",
       "      <td>5</td>\n",
       "      <td>12</td>\n",
       "      <td>Saturday</td>\n",
       "    </tr>\n",
       "  </tbody>\n",
       "</table>\n",
       "<p>1155 rows × 12 columns</p>\n",
       "</div>"
      ],
      "text/plain": [
       "             START_DATE*           END_DATE* CATEGORY*            START*  \\\n",
       "0    2016-01-01 21:11:00 2016-01-01 21:17:00  Business       Fort Pierce   \n",
       "1    2016-01-02 01:25:00 2016-01-02 01:37:00  Business       Fort Pierce   \n",
       "2    2016-01-02 20:25:00 2016-01-02 20:38:00  Business       Fort Pierce   \n",
       "3    2016-01-05 17:31:00 2016-01-05 17:45:00  Business       Fort Pierce   \n",
       "4    2016-01-06 14:42:00 2016-01-06 15:49:00  Business       Fort Pierce   \n",
       "...                  ...                 ...       ...               ...   \n",
       "1150 2016-12-31 01:07:00 2016-12-31 01:14:00  Business           Kar?chi   \n",
       "1151 2016-12-31 13:24:00 2016-12-31 13:42:00  Business           Kar?chi   \n",
       "1152 2016-12-31 15:03:00 2016-12-31 15:38:00  Business  Unknown Location   \n",
       "1153 2016-12-31 21:32:00 2016-12-31 21:50:00  Business        Katunayake   \n",
       "1154 2016-12-31 22:08:00 2016-12-31 23:51:00  Business           Gampaha   \n",
       "\n",
       "                 STOP*  MILES*         PURPOSE*  HOUR  DAY  DAY_OF_WEEK  \\\n",
       "0          Fort Pierce     5.1   Meal/Entertain    21    1            4   \n",
       "1          Fort Pierce     5.0              NaN     1    2            5   \n",
       "2          Fort Pierce     4.8  Errand/Supplies    20    2            5   \n",
       "3          Fort Pierce     4.7          Meeting    17    5            1   \n",
       "4      West Palm Beach    63.7   Customer Visit    14    6            2   \n",
       "...                ...     ...              ...   ...  ...          ...   \n",
       "1150           Kar?chi     0.7          Meeting     1   31            5   \n",
       "1151  Unknown Location     3.9   Temporary Site    13   31            5   \n",
       "1152  Unknown Location    16.2          Meeting    15   31            5   \n",
       "1153           Gampaha     6.4   Temporary Site    21   31            5   \n",
       "1154         Ilukwatta    48.2   Temporary Site    22   31            5   \n",
       "\n",
       "      MONTH    WEEKDAY  \n",
       "0         1     Friday  \n",
       "1         1   Saturday  \n",
       "2         1   Saturday  \n",
       "3         1    Tuesday  \n",
       "4         1  Wednesday  \n",
       "...     ...        ...  \n",
       "1150     12   Saturday  \n",
       "1151     12   Saturday  \n",
       "1152     12   Saturday  \n",
       "1153     12   Saturday  \n",
       "1154     12   Saturday  \n",
       "\n",
       "[1155 rows x 12 columns]"
      ]
     },
     "execution_count": 21,
     "metadata": {},
     "output_type": "execute_result"
    }
   ],
   "source": [
    "df"
   ]
  },
  {
   "cell_type": "code",
   "execution_count": 22,
   "id": "8c6d1f1f",
   "metadata": {
    "execution": {
     "iopub.execute_input": "2021-12-03T15:18:41.995202Z",
     "iopub.status.busy": "2021-12-03T15:18:41.994504Z",
     "iopub.status.idle": "2021-12-03T15:18:41.998059Z",
     "shell.execute_reply": "2021-12-03T15:18:41.998604Z",
     "shell.execute_reply.started": "2021-12-03T15:16:34.521005Z"
    },
    "papermill": {
     "duration": 0.057485,
     "end_time": "2021-12-03T15:18:41.998781",
     "exception": false,
     "start_time": "2021-12-03T15:18:41.941296",
     "status": "completed"
    },
    "tags": []
   },
   "outputs": [
    {
     "data": {
      "text/plain": [
       "Meeting            187\n",
       "Meal/Entertain     160\n",
       "Errand/Supplies    128\n",
       "Customer Visit     101\n",
       "Temporary Site      50\n",
       "Between Offices     18\n",
       "Moving               4\n",
       "Airport/Travel       3\n",
       "Charity ($)          1\n",
       "Commute              1\n",
       "Name: PURPOSE*, dtype: int64"
      ]
     },
     "execution_count": 22,
     "metadata": {},
     "output_type": "execute_result"
    }
   ],
   "source": [
    "df['PURPOSE*'].value_counts()"
   ]
  },
  {
   "cell_type": "markdown",
   "id": "665c617a",
   "metadata": {
    "papermill": {
     "duration": 0.044881,
     "end_time": "2021-12-03T15:18:42.090618",
     "exception": false,
     "start_time": "2021-12-03T15:18:42.045737",
     "status": "completed"
    },
    "tags": []
   },
   "source": [
    "## Q. What is Purpose of Trip"
   ]
  },
  {
   "cell_type": "code",
   "execution_count": 23,
   "id": "0dd65181",
   "metadata": {
    "execution": {
     "iopub.execute_input": "2021-12-03T15:18:42.192375Z",
     "iopub.status.busy": "2021-12-03T15:18:42.183405Z",
     "iopub.status.idle": "2021-12-03T15:18:42.597516Z",
     "shell.execute_reply": "2021-12-03T15:18:42.597003Z",
     "shell.execute_reply.started": "2021-12-03T15:16:34.531351Z"
    },
    "papermill": {
     "duration": 0.462044,
     "end_time": "2021-12-03T15:18:42.597692",
     "exception": false,
     "start_time": "2021-12-03T15:18:42.135648",
     "status": "completed"
    },
    "tags": []
   },
   "outputs": [
    {
     "data": {
      "text/plain": [
       "<AxesSubplot:xlabel='count', ylabel='PURPOSE*'>"
      ]
     },
     "execution_count": 23,
     "metadata": {},
     "output_type": "execute_result"
    },
    {
     "data": {
      "image/png": "[encoded data removed]",
      "text/plain": [
       "<Figure size 576x360 with 1 Axes>"
      ]
     },
     "metadata": {
      "needs_background": "light"
     },
     "output_type": "display_data"
    }
   ],
   "source": [
    "plt.figure(figsize=(8,5))\n",
    "sns.countplot(y=df['PURPOSE*'], palette= mck_color12)"
   ]
  },
  {
   "cell_type": "code",
   "execution_count": 24,
   "id": "0e28bf0b",
   "metadata": {
    "execution": {
     "iopub.execute_input": "2021-12-03T15:18:42.694647Z",
     "iopub.status.busy": "2021-12-03T15:18:42.693943Z",
     "iopub.status.idle": "2021-12-03T15:18:42.985197Z",
     "shell.execute_reply": "2021-12-03T15:18:42.985771Z",
     "shell.execute_reply.started": "2021-12-03T15:16:34.828691Z"
    },
    "papermill": {
     "duration": 0.341451,
     "end_time": "2021-12-03T15:18:42.985953",
     "exception": false,
     "start_time": "2021-12-03T15:18:42.644502",
     "status": "completed"
    },
    "tags": []
   },
   "outputs": [
    {
     "data": {
      "text/plain": [
       "<AxesSubplot:>"
      ]
     },
     "execution_count": 24,
     "metadata": {},
     "output_type": "execute_result"
    },
    {
     "data": {
      "image/png": "[encoded data removed]",
      "text/plain": [
       "<Figure size 720x360 with 1 Axes>"
      ]
     },
     "metadata": {
      "needs_background": "light"
     },
     "output_type": "display_data"
    }
   ],
   "source": [
    "df['PURPOSE*'].value_counts().plot(kind='bar',figsize=(10,5),color=mck_color12)"
   ]
  },
  {
   "cell_type": "markdown",
   "id": "0798256a",
   "metadata": {
    "papermill": {
     "duration": 0.049283,
     "end_time": "2021-12-03T15:18:43.086036",
     "exception": false,
     "start_time": "2021-12-03T15:18:43.036753",
     "status": "completed"
    },
    "tags": []
   },
   "source": [
    "## Q. The starting points of trips. Where Do People Start Boarding Their Trip From Most?"
   ]
  },
  {
   "cell_type": "code",
   "execution_count": 25,
   "id": "79a77956",
   "metadata": {
    "execution": {
     "iopub.execute_input": "2021-12-03T15:18:43.186876Z",
     "iopub.status.busy": "2021-12-03T15:18:43.185855Z",
     "iopub.status.idle": "2021-12-03T15:18:43.504954Z",
     "shell.execute_reply": "2021-12-03T15:18:43.504259Z",
     "shell.execute_reply.started": "2021-12-03T15:16:35.201733Z"
    },
    "papermill": {
     "duration": 0.370046,
     "end_time": "2021-12-03T15:18:43.505095",
     "exception": false,
     "start_time": "2021-12-03T15:18:43.135049",
     "status": "completed"
    },
    "tags": []
   },
   "outputs": [
    {
     "data": {
      "image/png": "[encoded data removed]",
      "text/plain": [
       "<Figure size 720x360 with 1 Axes>"
      ]
     },
     "metadata": {
      "needs_background": "light"
     },
     "output_type": "display_data"
    }
   ],
   "source": [
    "start_trip=df['START*'].value_counts().head(15)\n",
    "start_trip.plot(kind='bar',figsize=(10,5),color=mck_color12);"
   ]
  },
  {
   "cell_type": "markdown",
   "id": "6290d895",
   "metadata": {
    "papermill": {
     "duration": 0.049897,
     "end_time": "2021-12-03T15:18:43.605390",
     "exception": false,
     "start_time": "2021-12-03T15:18:43.555493",
     "status": "completed"
    },
    "tags": []
   },
   "source": [
    "## Q. What Hour Do Most People Take Uber To Their Destination?"
   ]
  },
  {
   "cell_type": "code",
   "execution_count": 26,
   "id": "db619193",
   "metadata": {
    "execution": {
     "iopub.execute_input": "2021-12-03T15:18:43.712813Z",
     "iopub.status.busy": "2021-12-03T15:18:43.712081Z",
     "iopub.status.idle": "2021-12-03T15:18:44.005256Z",
     "shell.execute_reply": "2021-12-03T15:18:44.004695Z",
     "shell.execute_reply.started": "2021-12-03T15:16:35.489857Z"
    },
    "papermill": {
     "duration": 0.349258,
     "end_time": "2021-12-03T15:18:44.005403",
     "exception": false,
     "start_time": "2021-12-03T15:18:43.656145",
     "status": "completed"
    },
    "tags": []
   },
   "outputs": [
    {
     "name": "stdout",
     "output_type": "stream",
     "text": [
      "14.696103896103896\n"
     ]
    },
    {
     "data": {
      "image/png": "[encoded data removed]",
      "text/plain": [
       "<Figure size 432x288 with 1 Axes>"
      ]
     },
     "metadata": {
      "needs_background": "light"
     },
     "output_type": "display_data"
    }
   ],
   "source": [
    "sns.distplot(df.HOUR, color='Blue', bins=20)\n",
    "plt.grid(True)\n",
    "print(df.HOUR.mean())"
   ]
  },
  {
   "cell_type": "code",
   "execution_count": 27,
   "id": "e609c7e9",
   "metadata": {
    "execution": {
     "iopub.execute_input": "2021-12-03T15:18:44.117087Z",
     "iopub.status.busy": "2021-12-03T15:18:44.116359Z",
     "iopub.status.idle": "2021-12-03T15:18:44.454589Z",
     "shell.execute_reply": "2021-12-03T15:18:44.455128Z",
     "shell.execute_reply.started": "2021-12-03T15:16:35.783616Z"
    },
    "papermill": {
     "duration": 0.397707,
     "end_time": "2021-12-03T15:18:44.455306",
     "exception": false,
     "start_time": "2021-12-03T15:18:44.057599",
     "status": "completed"
    },
    "tags": []
   },
   "outputs": [
    {
     "data": {
      "text/plain": [
       "Text(0.5, 1.0, 'Number of trips Vs hours')"
      ]
     },
     "execution_count": 27,
     "metadata": {},
     "output_type": "execute_result"
    },
    {
     "data": {
      "image/png": "[encoded data removed]",
      "text/plain": [
       "<Figure size 720x360 with 1 Axes>"
      ]
     },
     "metadata": {
      "needs_background": "light"
     },
     "output_type": "display_data"
    }
   ],
   "source": [
    "hours = df['START_DATE*'].dt.hour.value_counts()\n",
    "hours.plot(kind='bar',color=mck_color12,figsize=(10,5))\n",
    "plt.xlabel('Hours')\n",
    "plt.ylabel('Frequency')\n",
    "plt.title('Number of trips Vs hours')"
   ]
  },
  {
   "cell_type": "markdown",
   "id": "85cb74bd",
   "metadata": {
    "papermill": {
     "duration": 0.053788,
     "end_time": "2021-12-03T15:18:44.560736",
     "exception": false,
     "start_time": "2021-12-03T15:18:44.506948",
     "status": "completed"
    },
    "tags": []
   },
   "source": [
    "## Q. Which Day Has The Highest Number Of Trips"
   ]
  },
  {
   "cell_type": "code",
   "execution_count": 28,
   "id": "f859046c",
   "metadata": {
    "execution": {
     "iopub.execute_input": "2021-12-03T15:18:44.667117Z",
     "iopub.status.busy": "2021-12-03T15:18:44.666083Z",
     "iopub.status.idle": "2021-12-03T15:18:44.903797Z",
     "shell.execute_reply": "2021-12-03T15:18:44.904378Z",
     "shell.execute_reply.started": "2021-12-03T15:16:36.121577Z"
    },
    "papermill": {
     "duration": 0.292283,
     "end_time": "2021-12-03T15:18:44.904567",
     "exception": false,
     "start_time": "2021-12-03T15:18:44.612284",
     "status": "completed"
    },
    "tags": []
   },
   "outputs": [
    {
     "data": {
      "image/png": "[encoded data removed]",
      "text/plain": [
       "<Figure size 432x288 with 1 Axes>"
      ]
     },
     "metadata": {
      "needs_background": "light"
     },
     "output_type": "display_data"
    }
   ],
   "source": [
    "sns.countplot(y=df.WEEKDAY, palette=mck_color12);"
   ]
  },
  {
   "cell_type": "code",
   "execution_count": 29,
   "id": "4de8e26e",
   "metadata": {
    "execution": {
     "iopub.execute_input": "2021-12-03T15:18:45.013115Z",
     "iopub.status.busy": "2021-12-03T15:18:45.012069Z",
     "iopub.status.idle": "2021-12-03T15:18:45.246123Z",
     "shell.execute_reply": "2021-12-03T15:18:45.246655Z",
     "shell.execute_reply.started": "2021-12-03T15:16:36.356066Z"
    },
    "papermill": {
     "duration": 0.290667,
     "end_time": "2021-12-03T15:18:45.246830",
     "exception": false,
     "start_time": "2021-12-03T15:18:44.956163",
     "status": "completed"
    },
    "tags": []
   },
   "outputs": [
    {
     "data": {
      "image/png": "[encoded data removed]",
      "text/plain": [
       "<Figure size 432x288 with 1 Axes>"
      ]
     },
     "metadata": {
      "needs_background": "light"
     },
     "output_type": "display_data"
    }
   ],
   "source": [
    "df.WEEKDAY.value_counts().plot(kind='bar', color= mck_color12);"
   ]
  },
  {
   "cell_type": "markdown",
   "id": "c835022c",
   "metadata": {
    "papermill": {
     "duration": 0.052264,
     "end_time": "2021-12-03T15:18:45.351105",
     "exception": false,
     "start_time": "2021-12-03T15:18:45.298841",
     "status": "completed"
    },
    "tags": []
   },
   "source": [
    "## Q. What Are The Number Of Trips Per Each Day?"
   ]
  },
  {
   "cell_type": "code",
   "execution_count": 30,
   "id": "0db4d983",
   "metadata": {
    "execution": {
     "iopub.execute_input": "2021-12-03T15:18:45.502425Z",
     "iopub.status.busy": "2021-12-03T15:18:45.492811Z",
     "iopub.status.idle": "2021-12-03T15:18:45.862447Z",
     "shell.execute_reply": "2021-12-03T15:18:45.861875Z",
     "shell.execute_reply.started": "2021-12-03T15:16:36.578895Z"
    },
    "papermill": {
     "duration": 0.458672,
     "end_time": "2021-12-03T15:18:45.862607",
     "exception": false,
     "start_time": "2021-12-03T15:18:45.403935",
     "status": "completed"
    },
    "tags": []
   },
   "outputs": [
    {
     "data": {
      "image/png": "[encoded data removed]",
      "text/plain": [
       "<Figure size 720x360 with 1 Axes>"
      ]
     },
     "metadata": {
      "needs_background": "light"
     },
     "output_type": "display_data"
    }
   ],
   "source": [
    "df.DAY.value_counts().plot(kind='bar', color= mck_color12,figsize=(10,5));"
   ]
  },
  {
   "cell_type": "markdown",
   "id": "1ea113b8",
   "metadata": {
    "papermill": {
     "duration": 0.054065,
     "end_time": "2021-12-03T15:18:45.970331",
     "exception": false,
     "start_time": "2021-12-03T15:18:45.916266",
     "status": "completed"
    },
    "tags": []
   },
   "source": [
    "## Q. What Are The Trips In The Month?"
   ]
  },
  {
   "cell_type": "code",
   "execution_count": 31,
   "id": "8cf9cea6",
   "metadata": {
    "execution": {
     "iopub.execute_input": "2021-12-03T15:18:46.104334Z",
     "iopub.status.busy": "2021-12-03T15:18:46.103265Z",
     "iopub.status.idle": "2021-12-03T15:18:46.341626Z",
     "shell.execute_reply": "2021-12-03T15:18:46.340469Z",
     "shell.execute_reply.started": "2021-12-03T15:16:36.956709Z"
    },
    "papermill": {
     "duration": 0.317679,
     "end_time": "2021-12-03T15:18:46.341816",
     "exception": false,
     "start_time": "2021-12-03T15:18:46.024137",
     "status": "completed"
    },
    "tags": []
   },
   "outputs": [
    {
     "data": {
      "image/png": "[encoded data removed]",
      "text/plain": [
       "<Figure size 720x360 with 1 Axes>"
      ]
     },
     "metadata": {
      "needs_background": "light"
     },
     "output_type": "display_data"
    }
   ],
   "source": [
    "df.MONTH.value_counts().plot(kind='bar', color= mck_color12,figsize=(10,5));"
   ]
  },
  {
   "cell_type": "markdown",
   "id": "a0bd9a85",
   "metadata": {
    "papermill": {
     "duration": 0.053735,
     "end_time": "2021-12-03T15:18:46.449998",
     "exception": false,
     "start_time": "2021-12-03T15:18:46.396263",
     "status": "completed"
    },
    "tags": []
   },
   "source": [
    "## Q. What is the average length of the trip?"
   ]
  },
  {
   "cell_type": "code",
   "execution_count": 32,
   "id": "4431fdef",
   "metadata": {
    "execution": {
     "iopub.execute_input": "2021-12-03T15:18:46.563751Z",
     "iopub.status.busy": "2021-12-03T15:18:46.562929Z",
     "iopub.status.idle": "2021-12-03T15:18:46.566144Z",
     "shell.execute_reply": "2021-12-03T15:18:46.566648Z",
     "shell.execute_reply.started": "2021-12-03T15:16:37.201083Z"
    },
    "papermill": {
     "duration": 0.06296,
     "end_time": "2021-12-03T15:18:46.566827",
     "exception": false,
     "start_time": "2021-12-03T15:18:46.503867",
     "status": "completed"
    },
    "tags": []
   },
   "outputs": [
    {
     "data": {
      "text/plain": [
       "10.566839826839812"
      ]
     },
     "execution_count": 32,
     "metadata": {},
     "output_type": "execute_result"
    }
   ],
   "source": [
    "df['MILES*'].mean()"
   ]
  },
  {
   "cell_type": "code",
   "execution_count": 33,
   "id": "fbf3a48a",
   "metadata": {
    "execution": {
     "iopub.execute_input": "2021-12-03T15:18:46.679489Z",
     "iopub.status.busy": "2021-12-03T15:18:46.678643Z",
     "iopub.status.idle": "2021-12-03T15:18:47.992076Z",
     "shell.execute_reply": "2021-12-03T15:18:47.991488Z",
     "shell.execute_reply.started": "2021-12-03T15:16:37.208027Z"
    },
    "papermill": {
     "duration": 1.371268,
     "end_time": "2021-12-03T15:18:47.992225",
     "exception": false,
     "start_time": "2021-12-03T15:18:46.620957",
     "status": "completed"
    },
    "tags": []
   },
   "outputs": [],
   "source": [
    "import plotly.express as px"
   ]
  },
  {
   "cell_type": "code",
   "execution_count": 34,
   "id": "ca5ba7cc",
   "metadata": {
    "execution": {
     "iopub.execute_input": "2021-12-03T15:18:48.107354Z",
     "iopub.status.busy": "2021-12-03T15:18:48.106478Z",
     "iopub.status.idle": "2021-12-03T15:18:49.449955Z",
     "shell.execute_reply": "2021-12-03T15:18:49.450469Z",
     "shell.execute_reply.started": "2021-12-03T15:16:38.447479Z"
    },
    "papermill": {
     "duration": 1.404185,
     "end_time": "2021-12-03T15:18:49.450665",
     "exception": false,
     "start_time": "2021-12-03T15:18:48.046480",
     "status": "completed"
    },
    "tags": []
   },
   "outputs": [
    {
     "data": {
      "text/html": [
       "        <script type=\"text/javascript\">\n",
       "        window.PlotlyConfig = {MathJaxConfig: 'local'};\n",
       "        if (window.MathJax) {MathJax.Hub.Config({SVG: {font: \"STIX-Web\"}});}\n",
       "        if (typeof require !== 'undefined') {\n",
       "        require.undef(\"plotly\");\n",
       "        requirejs.config({\n",
       "            paths: {\n",
       "                'plotly': ['https://cdn.plot.ly/plotly-2.4.2.min']\n",
       "            }\n",
       "        });\n",
       "        require(['plotly'], function(Plotly) {\n",
       "            window._Plotly = Plotly;\n",
       "        });\n",
       "        }\n",
       "        </script>\n",
       "        "
      ]
     },
     "metadata": {},
     "output_type": "display_data"
    },
    {
     "data": {
      "text/html": [
       "<div>                            <div id=\"b8fcbc3e-ca8e-422e-86b7-1dc4c9f0f011\" class=\"plotly-graph-div\" style=\"height:525px; width:100%;\"></div>            <script type=\"text/javascript\">                require([\"plotly\"], function(Plotly) {                    window.PLOTLYENV=window.PLOTLYENV || {};                                    if (document.getElementById(\"b8fcbc3e-ca8e-422e-86b7-1dc4c9f0f011\")) {                    Plotly.newPlot(                        \"b8fcbc3e-ca8e-422e-86b7-1dc4c9f0f011\",                        [{\"alignmentgroup\":\"True\",\"bingroup\":\"x\",\"hovertemplate\":\"MILES*=%{x}<br>count=%{y}<extra></extra>\",\"legendgroup\":\"\",\"marker\":{\"color\":\"#636efa\",\"pattern\":{\"shape\":\"\"}},\"name\":\"\",\"offsetgroup\":\"\",\"orientation\":\"v\",\"showlegend\":false,\"type\":\"histogram\",\"x\":[5.1,5.0,4.8,4.7,63.7,4.3,7.1,0.8,8.3,16.5,10.8,7.5,6.2,6.4,1.6,1.7,1.9,1.9,4.0,1.8,2.4,2.0,15.1,11.2,11.8,21.9,3.9,8.0,10.4,10.4,4.8,4.7,7.2,7.6,17.1,15.1,40.2,1.6,2.4,1.0,2.0,2.3,1.9,1.4,0.5,1.8,18.7,3.4,2.7,12.9,19.0,14.7,15.7,4.6,5.2,10.4,10.1,5.8,5.5,5.7,5.7,19.4,23.3,3.9,8.3,6.0,1.6,5.2,9.7,1.6,1.1,1.6,9.0,7.7,10.4,10.4,11.4,9.0,3.2,5.6,5.7,6.1,6.1,4.3,2.7,5.3,3.0,5.1,1.5,6.1,6.1,17.3,5.7,13.5,6.1,8.5,2.6,17.0,18.0,8.4,11.5,8.9,2.7,1.8,8.1,2.0,13.0,13.9,43.7,14.1,2.6,4.5,1.7,1.8,6.0,1.1,3.6,14.7,1.7,21.4,0.5,23.5,12.7,6.0,5.2,10.0,18.3,11.2,7.6,1.5,1.0,7.3,3.5,4.2,13.6,2.5,14.4,3.0,1.5,18.4,23.1,16.5,3.2,7.7,14.5,2.4,4.6,8.8,8.3,22.7,13.0,8.1,2.2,9.7,20.0,8.1,1.5,1.7,3.1,3.2,6.0,5.8,6.3,1.7,10.6,9.9,1.9,4.2,2.0,7.7,6.8,2.1,3.8,5.6,2.6,6.6,8.0,8.0,2.2,2.3,5.2,7.6,17.3,9.9,9.9,10.4,10.9,15.7,4.9,0.8,13.5,1.9,2.0,6.5,4.2,3.5,7.8,7.8,3.9,2.8,12.4,5.9,9.4,11.9,7.2,7.6,1.6,8.4,12.8,2.3,1.6,2.0,0.8,1.2,1.0,2.1,2.2,1.9,5.7,8.4,6.2,10.5,7.2,12.5,2.0,2.7,2.0,2.8,1.7,2.0,2.1,1.7,136.0,30.2,15.5,4.9,12.6,10.4,1.1,1.1,13.2,1.0,9.2,9.4,12.0,35.1,36.5,3.1,2.1,1.2,7.5,57.0,5.9,6.2,10.4,1.2,9.6,1.0,0.9,8.8,25.6,23.0,8.1,1.4,1.7,1.6,2.0,2.2,144.0,310.3,201.0,6.7,8.8,1.2,2.1,6.6,6.1,6.9,7.3,3.6,27.2,25.7,13.6,6.2,6.0,13.8,28.8,16.1,16.4,11.0,15.5,20.3,0.7,5.5,5.1,77.3,80.5,174.2,144.0,159.3,7.9,8.0,6.1,6.1,10.5,8.7,1.8,19.1,18.6,2.8,8.9,7.5,15.9,6.5,15.3,13.7,11.9,1.4,15.2,6.0,6.1,8.2,8.0,13.6,22.5,10.4,10.0,6.0,6.5,3.1,1.9,4.2,4.9,4.8,12.4,32.8,5.5,9.9,10.0,14.2,18.2,7.7,6.8,2.1,2.3,6.2,7.5,3.1,2.2,3.9,2.5,8.7,14.5,4.5,5.0,14.2,2.9,12.9,14.4,17.0,7.9,8.4,20.5,9.8,17.6,9.3,7.9,25.6,8.1,3.1,3.1,2.8,2.7,1.9,8.4,7.6,2.9,11.2,8.2,3.0,2.5,3.6,3.6,4.5,1.2,1.7,4.7,6.1,11.3,14.9,14.0,1.8,6.7,9.6,10.4,9.9,6.0,3.3,3.1,1.7,4.0,7.8,7.8,3.8,2.5,9.9,9.9,3.0,2.4,5.7,7.2,10.4,9.9,10.4,9.9,8.7,22.3,3.3,0.7,2.5,0.5,0.9,4.8,16.3,10.4,9.9,3.7,4.6,1.7,10.4,9.9,2.5,4.3,2.8,8.4,13.2,3.9,5.1,5.2,9.8,11.6,5.1,9.3,12.4,1.9,6.4,5.5,1.5,14.5,2.7,15.0,12.9,13.6,12.2,8.7,6.0,5.9,19.3,16.6,7.1,2.1,8.6,9.0,3.1,8.4,12.8,4.5,11.8,1.1,17.0,1.7,15.5,1.6,1.5,12.6,4.8,2.2,13.0,46.9,2.5,8.6,5.2,7.6,1.8,4.7,2.8,30.0,4.4,1.0,8.2,10.4,9.9,9.9,7.3,7.4,1.6,1.8,10.4,9.9,9.9,9.9,13.3,11.3,10.5,9.9,10.1,9.9,3.1,3.1,9.9,9.9,8.8,8.7,11.8,1.2,9.9,0.6,9.9,8.6,6.3,9.9,9.9,3.3,3.1,7.9,8.9,12.8,7.7,7.0,12.5,13.2,13.0,4.9,8.5,1.3,1.8,13.6,13.4,12.3,1.4,8.7,23.5,2.2,4.4,3.3,11.8,195.3,8.3,3.2,22.4,12.2,4.5,28.1,3.8,41.9,23.8,13.0,4.4,15.1,180.2,4.1,6.1,3.3,4.7,7.2,5.5,3.3,0.9,3.8,6.4,3.0,8.7,3.9,4.8,2.8,1.4,1.4,2.7,2.3,3.7,2.9,3.8,5.1,9.1,8.0,9.9,6.1,12.2,8.0,4.0,9.5,3.0,6.3,10.4,9.9,1.5,4.9,7.9,1.7,2.2,2.1,2.5,2.5,2.8,14.7,14.6,2.3,2.2,2.2,14.0,13.3,1.8,6.2,1.3,1.9,6.9,4.6,2.8,9.1,8.1,8.4,4.9,1.0,1.0,2.0,1.1,1.5,1.3,1.8,1.5,6.6,8.0,2.7,2.7,2.5,2.5,5.2,4.0,2.7,4.8,3.2,6.9,14.9,17.4,12.9,15.3,1.0,6.0,2.2,4.4,2.8,31.7,31.9,1.9,1.8,8.4,15.6,14.1,15.7,25.9,7.9,2.7,5.5,5.7,1.2,5.7,16.2,2.6,12.1,1.4,6.4,7.3,5.3,5.5,7.7,7.6,7.6,3.3,6.5,2.0,5.7,3.2,12.5,7.6,7.7,12.2,1.4,20.2,9.8,6.3,4.9,1.5,10.9,19.0,19.0,7.9,4.1,18.7,8.7,7.5,7.7,4.4,5.0,1.9,7.9,17.7,25.2,96.2,35.0,5.5,50.4,9.2,7.3,5.0,3.8,3.9,7.4,1.5,7.9,2.9,3.4,3.8,5.9,9.6,7.0,0.9,86.6,156.9,10.1,6.2,5.3,12.1,10.8,4.3,2.5,5.7,2.8,4.0,5.5,2.6,2.1,8.8,4.4,5.3,13.0,13.0,10.6,2.2,9.2,12.9,17.2,69.1,2.8,8.6,9.8,3.6,1.7,11.5,0.7,0.7,0.9,1.6,9.4,18.2,10.5,5.7,18.0,18.3,16.5,9.6,2.9,8.2,2.4,5.8,9.8,7.3,195.6,20.5,12.6,37.7,16.7,10.5,2.8,1.6,12.7,28.6,15.1,17.9,112.6,18.4,13.8,33.2,2.6,5.8,8.3,2.4,3.1,6.1,3.6,8.0,7.7,1.7,9.5,17.1,18.4,9.8,1.0,0.7,2.3,10.9,12.7,12.4,3.8,17.0,6.2,3.1,10.5,8.1,3.1,2.1,4.3,2.5,20.6,17.6,5.6,3.3,5.3,3.3,3.3,7.9,13.0,3.0,3.0,3.8,9.5,1.7,10.8,4.1,2.2,4.6,3.1,47.7,44.6,13.2,8.7,17.2,14.0,28.1,28.2,3.1,3.1,16.4,15.4,2.2,11.2,2.2,3.6,3.6,4.9,8.7,2.1,2.1,8.4,5.9,12.1,3.9,6.2,10.4,9.9,107.0,133.6,91.8,40.7,75.7,29.8,16.3,6.5,6.3,6.6,15.2,68.4,195.9,45.2,3.2,10.3,13.1,9.6,16.5,12.8,1.2,1.0,4.1,4.2,1.4,1.8,8.5,5.0,3.8,2.5,2.4,1.4,1.8,3.1,3.1,7.9,3.8,4.3,3.9,2.2,2.8,2.2,2.4,2.8,43.9,1.8,3.3,11.8,13.2,12.2,11.3,3.6,3.0,11.4,0.9,6.2,0.7,5.5,12.7,2.6,1.1,12.6,1.2,1.1,9.9,6.0,0.8,45.9,4.0,2.5,36.6,2.9,2.6,2.3,6.4,1.4,0.6,5.9,0.8,1.3,3.7,2.3,2.6,1.9,2.1,4.0,0.9,0.9,2.4,1.9,1.9,44.6,43.6,2.5,3.7,5.1,9.7,11.8,2.3,3.1,16.3,3.1,5.2,6.1,10.3,10.5,1.5,1.8,5.4,5.4,39.2,6.4,2.7,18.5,2.5,2.1,6.7,3.5,3.4,5.5,4.1,12.7,3.0,3.5,5.9,1.9,3.3,1.3,10.3,11.1,1.4,5.1,9.0,13.3,2.5,3.3,2.9,8.5,6.7,3.1,5.5,5.5,2.9,2.9,5.1,5.3,3.3,3.0,6.6,1.8,3.0,2.9,3.4,4.1,3.8,6.6,4.0,7.0,6.9,3.4,3.4,2.0,2.0,5.1,8.8,5.6,18.9,15.6,15.6,3.0,3.1,3.0,4.8,2.1,3.1,4.4,4.7,3.0,3.0,4.2,4.1,3.4,3.3,3.0,3.1,10.6,4.8,5.3,4.9,10.2,9.2,7.7,5.9,0.7,1.3,2.5,5.3,5.4,10.2,7.2,2.2,11.0,12.0,3.3,19.4,1.7,5.7,1.8,1.4,10.3,11.5,4.9,3.5,16.2,2.0,2.1,2.1,7.2,12.0,103.0,32.3,5.3,11.6,23.2,3.2,12.3,14.0,2.1,2.1,3.0,6.2,9.6,1.3,7.1,6.3,10.7,5.3,1.6,3.6,1.7,2.9,0.6,0.6,2.3,2.3,3.2,6.2,7.7,3.8,7.9,4.9,5.0,0.6,3.1,7.9,5.5,10.3,10.4,2.0,8.5,4.4,3.8,5.1,3.8,11.6,11.9,1.4,1.1,4.1,6.1,1.3,3.0,4.1,7.2,6.4,12.9,2.8,2.9,4.6,4.6,0.8,0.7,3.9,16.2,6.4,48.2],\"xaxis\":\"x\",\"yaxis\":\"y\"},{\"alignmentgroup\":\"True\",\"boxpoints\":\"all\",\"customdata\":[[\"2016-01-01T21:11:00\",\"2016-01-01T21:17:00\",\"Business\",\"Fort Pierce\",\"Fort Pierce\",\"Meal/Entertain\",21,1,4,1,\"Friday\"],[\"2016-01-02T01:25:00\",\"2016-01-02T01:37:00\",\"Business\",\"Fort Pierce\",\"Fort Pierce\",null,1,2,5,1,\"Saturday\"],[\"2016-01-02T20:25:00\",\"2016-01-02T20:38:00\",\"Business\",\"Fort Pierce\",\"Fort Pierce\",\"Errand/Supplies\",20,2,5,1,\"Saturday\"],[\"2016-01-05T17:31:00\",\"2016-01-05T17:45:00\",\"Business\",\"Fort Pierce\",\"Fort Pierce\",\"Meeting\",17,5,1,1,\"Tuesday\"],[\"2016-01-06T14:42:00\",\"2016-01-06T15:49:00\",\"Business\",\"Fort Pierce\",\"West Palm Beach\",\"Customer Visit\",14,6,2,1,\"Wednesday\"],[\"2016-01-06T17:15:00\",\"2016-01-06T17:19:00\",\"Business\",\"West Palm Beach\",\"West Palm Beach\",\"Meal/Entertain\",17,6,2,1,\"Wednesday\"],[\"2016-01-06T17:30:00\",\"2016-01-06T17:35:00\",\"Business\",\"West Palm Beach\",\"Palm Beach\",\"Meeting\",17,6,2,1,\"Wednesday\"],[\"2016-01-07T13:27:00\",\"2016-01-07T13:33:00\",\"Business\",\"Cary\",\"Cary\",\"Meeting\",13,7,3,1,\"Thursday\"],[\"2016-01-10T08:05:00\",\"2016-01-10T08:25:00\",\"Business\",\"Cary\",\"Morrisville\",\"Meeting\",8,10,6,1,\"Sunday\"],[\"2016-01-10T12:17:00\",\"2016-01-10T12:44:00\",\"Business\",\"Jamaica\",\"New York\",\"Customer Visit\",12,10,6,1,\"Sunday\"],[\"2016-01-10T15:08:00\",\"2016-01-10T15:51:00\",\"Business\",\"New York\",\"Queens\",\"Meeting\",15,10,6,1,\"Sunday\"],[\"2016-01-10T18:18:00\",\"2016-01-10T18:53:00\",\"Business\",\"Elmhurst\",\"New York\",\"Meeting\",18,10,6,1,\"Sunday\"],[\"2016-01-10T19:12:00\",\"2016-01-10T19:32:00\",\"Business\",\"Midtown\",\"East Harlem\",\"Meeting\",19,10,6,1,\"Sunday\"],[\"2016-01-11T08:55:00\",\"2016-01-11T09:21:00\",\"Business\",\"East Harlem\",\"NoMad\",\"Temporary Site\",8,11,0,1,\"Monday\"],[\"2016-01-11T11:56:00\",\"2016-01-11T12:03:00\",\"Business\",\"Flatiron District\",\"Midtown\",\"Errand/Supplies\",11,11,0,1,\"Monday\"],[\"2016-01-11T13:32:00\",\"2016-01-11T13:46:00\",\"Business\",\"Midtown\",\"Midtown East\",\"Meal/Entertain\",13,11,0,1,\"Monday\"],[\"2016-01-11T14:30:00\",\"2016-01-11T14:43:00\",\"Business\",\"Midtown East\",\"Midtown\",\"Meal/Entertain\",14,11,0,1,\"Monday\"],[\"2016-01-12T12:33:00\",\"2016-01-12T12:49:00\",\"Business\",\"Midtown\",\"Hudson Square\",\"Meal/Entertain\",12,12,1,1,\"Tuesday\"],[\"2016-01-12T12:53:00\",\"2016-01-12T13:09:00\",\"Business\",\"Hudson Square\",\"Lower Manhattan\",\"Meal/Entertain\",12,12,1,1,\"Tuesday\"],[\"2016-01-12T14:42:00\",\"2016-01-12T14:56:00\",\"Business\",\"Lower Manhattan\",\"Hudson Square\",\"Errand/Supplies\",14,12,1,1,\"Tuesday\"],[\"2016-01-12T15:13:00\",\"2016-01-12T15:28:00\",\"Business\",\"Hudson Square\",\"Hell's Kitchen\",\"Customer Visit\",15,12,1,1,\"Tuesday\"],[\"2016-01-12T15:42:00\",\"2016-01-12T15:54:00\",\"Business\",\"Hell's Kitchen\",\"Midtown\",\"Errand/Supplies\",15,12,1,1,\"Tuesday\"],[\"2016-01-12T16:02:00\",\"2016-01-12T17:00:00\",\"Business\",\"New York\",\"Queens County\",\"Meeting\",16,12,1,1,\"Tuesday\"],[\"2016-01-13T13:54:00\",\"2016-01-13T14:07:00\",\"Business\",\"Downtown\",\"Gulfton\",\"Meeting\",13,13,2,1,\"Wednesday\"],[\"2016-01-13T15:00:00\",\"2016-01-13T15:28:00\",\"Business\",\"Gulfton\",\"Downtown\",\"Meeting\",15,13,2,1,\"Wednesday\"],[\"2016-01-14T16:29:00\",\"2016-01-14T17:05:00\",\"Business\",\"Houston\",\"Houston\",\"Customer Visit\",16,14,3,1,\"Thursday\"],[\"2016-01-14T21:39:00\",\"2016-01-14T21:45:00\",\"Business\",\"Eagan Park\",\"Jamestown Court\",\"Errand/Supplies\",21,14,3,1,\"Thursday\"],[\"2016-01-15T00:41:00\",\"2016-01-15T01:01:00\",\"Business\",\"Morrisville\",\"Cary\",\"Errand/Supplies\",0,15,4,1,\"Friday\"],[\"2016-01-15T11:43:00\",\"2016-01-15T12:03:00\",\"Business\",\"Cary\",\"Durham\",\"Meal/Entertain\",11,15,4,1,\"Friday\"],[\"2016-01-15T13:26:00\",\"2016-01-15T13:44:00\",\"Business\",\"Durham\",\"Cary\",\"Meal/Entertain\",13,15,4,1,\"Friday\"],[\"2016-01-18T14:55:00\",\"2016-01-18T15:06:00\",\"Business\",\"Cary\",\"Cary\",\"Meal/Entertain\",14,18,0,1,\"Monday\"],[\"2016-01-18T16:13:00\",\"2016-01-18T16:24:00\",\"Business\",\"Farmington Woods\",\"Whitebridge\",\"Meal/Entertain\",16,18,0,1,\"Monday\"],[\"2016-01-19T09:09:00\",\"2016-01-19T09:23:00\",\"Business\",\"Whitebridge\",\"Lake Wellingborough\",null,9,19,1,1,\"Tuesday\"],[\"2016-01-19T10:55:00\",\"2016-01-19T11:09:00\",\"Business\",\"Lake Wellingborough\",\"Whitebridge\",\"Temporary Site\",10,19,1,1,\"Tuesday\"],[\"2016-01-20T10:36:00\",\"2016-01-20T11:11:00\",\"Business\",\"Cary\",\"Raleigh\",\"Meeting\",10,20,2,1,\"Wednesday\"],[\"2016-01-20T11:48:00\",\"2016-01-20T12:19:00\",\"Business\",\"Fayetteville Street\",\"Umstead\",\"Meeting\",11,20,2,1,\"Wednesday\"],[\"2016-01-20T13:25:00\",\"2016-01-20T14:19:00\",\"Business\",\"Raleigh\",\"Cary\",\"Customer Visit\",13,20,2,1,\"Wednesday\"],[\"2016-01-21T14:25:00\",\"2016-01-21T14:29:00\",\"Business\",\"Cary\",\"Cary\",\"Errand/Supplies\",14,21,3,1,\"Thursday\"],[\"2016-01-21T14:43:00\",\"2016-01-21T14:51:00\",\"Business\",\"Cary\",\"Cary\",\"Meal/Entertain\",14,21,3,1,\"Thursday\"],[\"2016-01-21T16:01:00\",\"2016-01-21T16:06:00\",\"Business\",\"Cary\",\"Cary\",\"Meal/Entertain\",16,21,3,1,\"Thursday\"],[\"2016-01-26T10:41:00\",\"2016-01-26T10:50:00\",\"Business\",\"Whitebridge\",\"Hazelwood\",\"Meal/Entertain\",10,26,1,1,\"Tuesday\"],[\"2016-01-26T12:33:00\",\"2016-01-26T12:41:00\",\"Business\",\"Hazelwood\",\"Whitebridge\",\"Errand/Supplies\",12,26,1,1,\"Tuesday\"],[\"2016-01-26T16:24:00\",\"2016-01-26T16:32:00\",\"Business\",\"Whitebridge\",\"Westpark Place\",\"Errand/Supplies\",16,26,1,1,\"Tuesday\"],[\"2016-01-26T17:17:00\",\"2016-01-26T17:22:00\",\"Business\",\"Cary\",\"Cary\",\"Errand/Supplies\",17,26,1,1,\"Tuesday\"],[\"2016-01-26T17:27:00\",\"2016-01-26T17:29:00\",\"Business\",\"Cary\",\"Cary\",\"Errand/Supplies\",17,26,1,1,\"Tuesday\"],[\"2016-01-27T09:24:00\",\"2016-01-27T09:31:00\",\"Business\",\"Cary\",\"Cary\",\"Meeting\",9,27,2,1,\"Wednesday\"],[\"2016-01-27T10:19:00\",\"2016-01-27T10:48:00\",\"Business\",\"Cary\",\"Raleigh\",\"Customer Visit\",10,27,2,1,\"Wednesday\"],[\"2016-01-27T12:34:00\",\"2016-01-27T12:44:00\",\"Business\",\"Fairmont\",\"Meredith Townes\",\"Customer Visit\",12,27,2,1,\"Wednesday\"],[\"2016-01-27T14:05:00\",\"2016-01-27T14:13:00\",\"Business\",\"Raleigh\",\"Raleigh\",\"Customer Visit\",14,27,2,1,\"Wednesday\"],[\"2016-01-27T14:46:00\",\"2016-01-27T15:08:00\",\"Business\",\"Raleigh\",\"Cary\",\"Customer Visit\",14,27,2,1,\"Wednesday\"],[\"2016-01-28T12:28:00\",\"2016-01-28T13:00:00\",\"Business\",\"Cary\",\"Raleigh\",\"Temporary Site\",12,28,3,1,\"Thursday\"],[\"2016-01-28T15:11:00\",\"2016-01-28T15:31:00\",\"Business\",\"Meredith Townes\",\"Leesville Hollow\",\"Meeting\",15,28,3,1,\"Thursday\"],[\"2016-01-28T16:21:00\",\"2016-01-28T16:51:00\",\"Business\",\"Raleigh\",\"Cary\",\"Meeting\",16,28,3,1,\"Thursday\"],[\"2016-01-29T09:31:00\",\"2016-01-29T09:45:00\",\"Business\",\"Cary\",\"Cary\",\"Customer Visit\",9,29,4,1,\"Friday\"],[\"2016-01-29T10:56:00\",\"2016-01-29T11:07:00\",\"Business\",\"Cary\",\"Cary\",\"Meeting\",10,29,4,1,\"Friday\"],[\"2016-01-29T11:43:00\",\"2016-01-29T12:03:00\",\"Business\",\"Cary\",\"Durham\",\"Meeting\",11,29,4,1,\"Friday\"],[\"2016-01-29T13:24:00\",\"2016-01-29T13:47:00\",\"Business\",\"Durham\",\"Cary\",\"Meeting\",13,29,4,1,\"Friday\"],[\"2016-01-29T18:31:00\",\"2016-01-29T18:52:00\",\"Business\",\"Cary\",\"Apex\",\"Errand/Supplies\",18,29,4,1,\"Friday\"],[\"2016-01-29T21:21:00\",\"2016-01-29T21:40:00\",\"Business\",\"Apex\",\"Cary\",\"Meal/Entertain\",21,29,4,1,\"Friday\"],[\"2016-01-30T16:21:00\",\"2016-01-30T16:33:00\",\"Business\",\"Cary\",\"Apex\",\"Errand/Supplies\",16,30,5,1,\"Saturday\"],[\"2016-01-30T18:09:00\",\"2016-01-30T18:24:00\",\"Business\",\"Apex\",\"Cary\",\"Customer Visit\",18,30,5,1,\"Saturday\"],[\"2016-02-01T10:35:00\",\"2016-02-01T11:15:00\",\"Business\",\"Cary\",\"Chapel Hill\",\"Customer Visit\",10,1,0,2,\"Monday\"],[\"2016-02-01T12:10:00\",\"2016-02-01T12:43:00\",\"Business\",\"Chapel Hill\",\"Cary\",\"Customer Visit\",12,1,0,2,\"Monday\"],[\"2016-02-01T12:56:00\",\"2016-02-01T13:07:00\",\"Business\",\"Northwoods\",\"Whitebridge\",\"Meal/Entertain\",12,1,0,2,\"Monday\"],[\"2016-02-02T13:04:00\",\"2016-02-02T13:23:00\",\"Business\",\"Whitebridge\",\"Williamsburg Manor\",\"Meeting\",13,2,1,2,\"Tuesday\"],[\"2016-02-02T13:51:00\",\"2016-02-02T14:06:00\",\"Business\",\"Cary\",\"Cary\",\"Errand/Supplies\",13,2,1,2,\"Tuesday\"],[\"2016-02-02T14:38:00\",\"2016-02-02T14:42:00\",\"Business\",\"Cary\",\"Cary\",\"Errand/Supplies\",14,2,1,2,\"Tuesday\"],[\"2016-02-04T08:40:00\",\"2016-02-04T09:01:00\",\"Business\",\"Cary\",\"Morrisville\",\"Errand/Supplies\",8,4,3,2,\"Thursday\"],[\"2016-02-04T09:37:00\",\"2016-02-04T10:09:00\",\"Business\",\"Morrisville\",\"Cary\",\"Meal/Entertain\",9,4,3,2,\"Thursday\"],[\"2016-02-04T10:26:00\",\"2016-02-04T10:32:00\",\"Business\",\"Cary\",\"Cary\",\"Meal/Entertain\",10,4,3,2,\"Thursday\"],[\"2016-02-04T15:59:00\",\"2016-02-04T16:03:00\",\"Business\",\"Cary\",\"Cary\",\"Meal/Entertain\",15,4,3,2,\"Thursday\"],[\"2016-02-04T16:35:00\",\"2016-02-04T16:39:00\",\"Business\",\"Cary\",\"Cary\",\"Meal/Entertain\",16,4,3,2,\"Thursday\"],[\"2016-02-04T18:04:00\",\"2016-02-04T18:31:00\",\"Business\",\"Whitebridge\",\"Macgregor Downs\",\"Meeting\",18,4,3,2,\"Thursday\"],[\"2016-02-04T20:36:00\",\"2016-02-04T20:55:00\",\"Business\",\"Cary\",\"Cary\",\"Meeting\",20,4,3,2,\"Thursday\"],[\"2016-02-05T11:47:00\",\"2016-02-05T12:07:00\",\"Business\",\"Cary\",\"Durham\",\"Meeting\",11,5,4,2,\"Friday\"],[\"2016-02-05T13:22:00\",\"2016-02-05T13:41:00\",\"Business\",\"Durham\",\"Cary\",\"Meeting\",13,5,4,2,\"Friday\"],[\"2016-02-06T16:20:00\",\"2016-02-06T16:53:00\",\"Business\",\"Cary\",\"Raleigh\",\"Between Offices\",16,6,5,2,\"Saturday\"],[\"2016-02-06T18:57:00\",\"2016-02-06T19:21:00\",\"Business\",\"Raleigh\",\"Cary\",\"Errand/Supplies\",18,6,5,2,\"Saturday\"],[\"2016-02-06T19:28:00\",\"2016-02-06T19:37:00\",\"Business\",\"Edgehill Farms\",\"Whitebridge\",\"Meal/Entertain\",19,6,5,2,\"Saturday\"],[\"2016-02-07T16:49:00\",\"2016-02-07T17:01:00\",\"Business\",\"Cary\",\"Apex\",\"Errand/Supplies\",16,7,6,2,\"Sunday\"],[\"2016-02-07T18:03:00\",\"2016-02-07T18:17:00\",\"Business\",\"Apex\",\"Cary\",\"Customer Visit\",18,7,6,2,\"Sunday\"],[\"2016-02-07T18:39:00\",\"2016-02-07T18:53:00\",\"Business\",\"Cary\",\"Morrisville\",\"Temporary Site\",18,7,6,2,\"Sunday\"],[\"2016-02-07T20:22:00\",\"2016-02-07T20:40:00\",\"Business\",\"Morrisville\",\"Cary\",\"Meeting\",20,7,6,2,\"Sunday\"],[\"2016-02-08T12:57:00\",\"2016-02-08T13:08:00\",\"Business\",\"Whitebridge\",\"Edgehill Farms\",\"Meal/Entertain\",12,8,0,2,\"Monday\"],[\"2016-02-08T14:00:00\",\"2016-02-08T14:10:00\",\"Business\",\"Edgehill Farms\",\"Whitebridge\",\"Meal/Entertain\",14,8,0,2,\"Monday\"],[\"2016-02-09T10:54:00\",\"2016-02-09T11:07:00\",\"Personal\",\"Whitebridge\",\"Northwoods\",null,10,9,1,2,\"Tuesday\"],[\"2016-02-09T11:43:00\",\"2016-02-09T11:50:00\",\"Personal\",\"Northwoods\",\"Tanglewood\",null,11,9,1,2,\"Tuesday\"],[\"2016-02-09T13:36:00\",\"2016-02-09T13:52:00\",\"Personal\",\"Tanglewood\",\"Preston\",null,13,9,1,2,\"Tuesday\"],[\"2016-02-09T13:58:00\",\"2016-02-09T14:02:00\",\"Personal\",\"Preston\",\"Whitebridge\",null,13,9,1,2,\"Tuesday\"],[\"2016-02-09T18:55:00\",\"2016-02-09T19:11:00\",\"Business\",\"Cary\",\"Morrisville\",null,18,9,1,2,\"Tuesday\"],[\"2016-02-09T20:24:00\",\"2016-02-09T20:40:00\",\"Business\",\"Morrisville\",\"Cary\",\"Meal/Entertain\",20,9,1,2,\"Tuesday\"],[\"2016-02-11T16:28:00\",\"2016-02-11T17:10:00\",\"Business\",\"Cary\",\"Raleigh\",\"Meal/Entertain\",16,11,3,2,\"Thursday\"],[\"2016-02-11T17:49:00\",\"2016-02-11T18:10:00\",\"Business\",\"Eastgate\",\"Walnut Terrace\",\"Meal/Entertain\",17,11,3,2,\"Thursday\"],[\"2016-02-11T18:24:00\",\"2016-02-11T18:46:00\",\"Business\",\"Raleigh\",\"Morrisville\",\"Temporary Site\",18,11,3,2,\"Thursday\"],[\"2016-02-11T20:36:00\",\"2016-02-11T20:51:00\",\"Business\",\"Morrisville\",\"Cary\",\"Temporary Site\",20,11,3,2,\"Thursday\"],[\"2016-02-12T08:21:00\",\"2016-02-12T08:42:00\",\"Business\",\"Cary\",\"Durham\",\"Temporary Site\",8,12,4,2,\"Friday\"],[\"2016-02-12T10:45:00\",\"2016-02-12T10:52:00\",\"Business\",\"Durham\",\"Morrisville\",\"Temporary Site\",10,12,4,2,\"Friday\"],[\"2016-02-12T11:14:00\",\"2016-02-12T11:35:00\",\"Business\",\"Morrisville\",\"Raleigh\",\"Customer Visit\",11,12,4,2,\"Friday\"],[\"2016-02-12T13:02:00\",\"2016-02-12T13:36:00\",\"Business\",\"Raleigh\",\"Cary\",\"Meeting\",13,12,4,2,\"Friday\"],[\"2016-02-12T14:49:00\",\"2016-02-12T15:06:00\",\"Business\",\"Cary\",\"Morrisville\",\"Meeting\",14,12,4,2,\"Friday\"],[\"2016-02-12T15:33:00\",\"2016-02-12T16:06:00\",\"Business\",\"Morrisville\",\"Cary\",\"Customer Visit\",15,12,4,2,\"Friday\"],[\"2016-02-13T14:21:00\",\"2016-02-13T14:41:00\",\"Business\",\"Cary\",\"Morrisville\",\"Meeting\",14,13,5,2,\"Saturday\"],[\"2016-02-13T23:45:00\",\"2016-02-14T00:01:00\",\"Personal\",\"East Elmhurst\",\"Jackson Heights\",null,23,13,5,2,\"Saturday\"],[\"2016-02-14T00:50:00\",\"2016-02-14T01:00:00\",\"Personal\",\"Jackson Heights\",\"East Elmhurst\",null,0,14,6,2,\"Sunday\"],[\"2016-02-14T14:07:00\",\"2016-02-14T14:40:00\",\"Business\",\"East Elmhurst\",\"New York\",\"Meeting\",14,14,6,2,\"Sunday\"],[\"2016-02-14T14:46:00\",\"2016-02-14T15:03:00\",\"Business\",\"Midtown\",\"Midtown West\",\"Meeting\",14,14,6,2,\"Sunday\"],[\"2016-02-14T16:35:00\",\"2016-02-14T17:02:00\",\"Business\",\"New York\",\"Long Island City\",\"Meeting\",16,14,6,2,\"Sunday\"],[\"2016-02-14T17:06:00\",\"2016-02-14T17:29:00\",\"Business\",\"Long Island City\",\"Jamaica\",\"Meeting\",17,14,6,2,\"Sunday\"],[\"2016-02-16T03:21:00\",\"2016-02-16T04:13:00\",\"Business\",\"Katunayaka\",\"Unknown Location\",\"Customer Visit\",3,16,1,2,\"Tuesday\"],[\"2016-02-16T08:29:00\",\"2016-02-16T09:34:00\",\"Business\",\"Unknown Location\",\"Colombo\",null,8,16,1,2,\"Tuesday\"],[\"2016-02-16T10:31:00\",\"2016-02-16T10:41:00\",\"Business\",\"Colombo\",\"Colombo\",null,10,16,1,2,\"Tuesday\"],[\"2016-02-16T11:32:00\",\"2016-02-16T12:02:00\",\"Business\",\"Colombo\",\"Colombo\",null,11,16,1,2,\"Tuesday\"],[\"2016-02-16T12:39:00\",\"2016-02-16T12:42:00\",\"Business\",\"Colombo\",\"Colombo\",null,12,16,1,2,\"Tuesday\"],[\"2016-02-16T13:43:00\",\"2016-02-16T13:55:00\",\"Business\",\"Colombo\",\"Colombo\",\"Temporary Site\",13,16,1,2,\"Tuesday\"],[\"2016-02-16T16:34:00\",\"2016-02-16T17:10:00\",\"Business\",\"Colombo\",\"Colombo\",null,16,16,1,2,\"Tuesday\"],[\"2016-02-16T17:17:00\",\"2016-02-16T17:26:00\",\"Business\",\"Colombo\",\"Nugegoda\",\"Meal/Entertain\",17,16,1,2,\"Tuesday\"],[\"2016-02-16T17:40:00\",\"2016-02-16T17:44:00\",\"Business\",\"Nugegoda\",\"Unknown Location\",\"Errand/Supplies\",17,16,1,2,\"Tuesday\"],[\"2016-02-17T13:18:00\",\"2016-02-17T14:04:00\",\"Business\",\"Unknown Location\",\"Colombo\",\"Temporary Site\",13,17,2,2,\"Wednesday\"],[\"2016-02-17T15:17:00\",\"2016-02-17T15:22:00\",\"Business\",\"Colombo\",\"Colombo\",\"Meal/Entertain\",15,17,2,2,\"Wednesday\"],[\"2016-02-17T15:33:00\",\"2016-02-17T16:17:00\",\"Business\",\"Colombo\",\"Katunayaka\",\"Temporary Site\",15,17,2,2,\"Wednesday\"],[\"2016-02-17T16:38:00\",\"2016-02-17T16:43:00\",\"Business\",\"Katunayaka\",\"Katunayaka\",\"Errand/Supplies\",16,17,2,2,\"Wednesday\"],[\"2016-02-18T08:19:00\",\"2016-02-18T08:27:00\",\"Business\",\"Unknown Location\",\"Unknown Location\",\"Temporary Site\",8,18,3,2,\"Thursday\"],[\"2016-02-18T14:03:00\",\"2016-02-18T14:45:00\",\"Business\",\"Unknown Location\",\"Islamabad\",\"Temporary Site\",14,18,3,2,\"Thursday\"],[\"2016-02-18T15:16:00\",\"2016-02-18T15:31:00\",\"Business\",\"Islamabad\",\"Unknown Location\",\"Temporary Site\",15,18,3,2,\"Thursday\"],[\"2016-02-18T18:44:00\",\"2016-02-18T18:58:00\",\"Business\",\"Unknown Location\",\"Islamabad\",\"Customer Visit\",18,18,3,2,\"Thursday\"],[\"2016-02-18T19:27:00\",\"2016-02-18T20:08:00\",\"Business\",\"Islamabad\",\"Unknown Location\",\"Meeting\",19,18,3,2,\"Thursday\"],[\"2016-02-19T09:02:00\",\"2016-02-19T09:14:00\",\"Business\",\"Unknown Location\",\"Unknown Location\",\"Meeting\",9,19,4,2,\"Friday\"],[\"2016-02-19T09:21:00\",\"2016-02-19T09:51:00\",\"Business\",\"Unknown Location\",\"Unknown Location\",\"Meeting\",9,19,4,2,\"Friday\"],[\"2016-02-19T10:21:00\",\"2016-02-19T10:48:00\",\"Business\",\"Unknown Location\",\"Islamabad\",\"Meeting\",10,19,4,2,\"Friday\"],[\"2016-02-19T11:20:00\",\"2016-02-19T11:26:00\",\"Personal\",\"Islamabad\",\"Islamabad\",null,11,19,4,2,\"Friday\"],[\"2016-02-19T11:45:00\",\"2016-02-19T11:50:00\",\"Personal\",\"Islamabad\",\"Islamabad\",null,11,19,4,2,\"Friday\"],[\"2016-02-19T12:09:00\",\"2016-02-19T12:27:00\",\"Business\",\"Islamabad\",\"Unknown Location\",\"Temporary Site\",12,19,4,2,\"Friday\"],[\"2016-02-19T16:26:00\",\"2016-02-19T16:45:00\",\"Business\",\"Unknown Location\",\"Islamabad\",null,16,19,4,2,\"Friday\"],[\"2016-02-19T17:09:00\",\"2016-02-19T17:20:00\",\"Business\",\"Islamabad\",\"Islamabad\",null,17,19,4,2,\"Friday\"],[\"2016-02-19T20:08:00\",\"2016-02-19T20:30:00\",\"Personal\",\"Islamabad\",\"Unknown Location\",null,20,19,4,2,\"Friday\"],[\"2016-02-19T20:34:00\",\"2016-02-19T20:51:00\",\"Personal\",\"Unknown Location\",\"Unknown Location\",null,20,19,4,2,\"Friday\"],[\"2016-02-20T07:59:00\",\"2016-02-20T08:32:00\",\"Personal\",\"Unknown Location\",\"Islamabad\",null,7,20,5,2,\"Saturday\"],[\"2016-02-20T10:48:00\",\"2016-02-20T10:56:00\",\"Personal\",\"Islamabad\",\"Islamabad\",null,10,20,5,2,\"Saturday\"],[\"2016-02-20T11:45:00\",\"2016-02-20T11:53:00\",\"Personal\",\"Islamabad\",\"Islamabad\",null,11,20,5,2,\"Saturday\"],[\"2016-02-20T12:41:00\",\"2016-02-20T13:17:00\",\"Business\",\"Islamabad\",\"R?walpindi\",null,12,20,5,2,\"Saturday\"],[\"2016-02-20T14:50:00\",\"2016-02-20T15:54:00\",\"Business\",\"R?walpindi\",\"R?walpindi\",\"Meeting\",14,20,5,2,\"Saturday\"],[\"2016-02-20T16:59:00\",\"2016-02-20T17:54:00\",\"Personal\",\"R?walpindi\",\"Unknown Location\",null,16,20,5,2,\"Saturday\"],[\"2016-02-20T18:00:00\",\"2016-02-20T18:03:00\",\"Business\",\"Unknown Location\",\"Unknown Location\",\"Errand/Supplies\",18,20,5,2,\"Saturday\"],[\"2016-02-20T19:28:00\",\"2016-02-20T19:49:00\",\"Business\",\"Unknown Location\",\"Unknown Location\",\"Errand/Supplies\",19,20,5,2,\"Saturday\"],[\"2016-02-21T09:07:00\",\"2016-02-21T09:46:00\",\"Business\",\"Unknown Location\",\"Islamabad\",null,9,21,6,2,\"Sunday\"],[\"2016-02-21T11:39:00\",\"2016-02-21T11:43:00\",\"Business\",\"Unknown Location\",\"Islamabad\",\"Errand/Supplies\",11,21,6,2,\"Sunday\"],[\"2016-02-21T11:47:00\",\"2016-02-21T12:01:00\",\"Business\",\"Islamabad\",\"Islamabad\",\"Errand/Supplies\",11,21,6,2,\"Sunday\"],[\"2016-02-21T12:13:00\",\"2016-02-21T12:35:00\",\"Business\",\"Islamabad\",\"Unknown Location\",\"Meal/Entertain\",12,21,6,2,\"Sunday\"],[\"2016-02-21T12:51:00\",\"2016-02-21T13:12:00\",\"Business\",\"Unknown Location\",\"Unknown Location\",\"Temporary Site\",12,21,6,2,\"Sunday\"],[\"2016-02-21T13:33:00\",\"2016-02-21T14:30:00\",\"Business\",\"Unknown Location\",\"Unknown Location\",\"Temporary Site\",13,21,6,2,\"Sunday\"],[\"2016-02-21T14:36:00\",\"2016-02-21T15:03:00\",\"Business\",\"Unknown Location\",\"Islamabad\",\"Temporary Site\",14,21,6,2,\"Sunday\"],[\"2016-02-21T15:14:00\",\"2016-02-21T15:31:00\",\"Business\",\"Islamabad\",\"Noorpur Shahan\",\"Temporary Site\",15,21,6,2,\"Sunday\"],[\"2016-02-21T15:36:00\",\"2016-02-21T15:41:00\",\"Business\",\"Noorpur Shahan\",\"Unknown Location\",\"Meal/Entertain\",15,21,6,2,\"Sunday\"],[\"2016-02-21T16:04:00\",\"2016-02-21T16:32:00\",\"Business\",\"Unknown Location\",\"Unknown Location\",null,16,21,6,2,\"Sunday\"],[\"2016-02-21T23:15:00\",\"2016-02-21T23:52:00\",\"Business\",\"Unknown Location\",\"R?walpindi\",\"Meeting\",23,21,6,2,\"Sunday\"],[\"2016-02-22T21:54:00\",\"2016-02-22T22:09:00\",\"Business\",\"Morrisville\",\"Cary\",\"Customer Visit\",21,22,0,2,\"Monday\"],[\"2016-02-24T14:30:00\",\"2016-02-24T14:35:00\",\"Business\",\"Whitebridge\",\"Preston\",null,14,24,2,2,\"Wednesday\"],[\"2016-02-24T15:19:00\",\"2016-02-24T15:25:00\",\"Business\",\"Preston\",\"Whitebridge\",\"Errand/Supplies\",15,24,2,2,\"Wednesday\"],[\"2016-02-25T16:27:00\",\"2016-02-25T16:35:00\",\"Business\",\"Whitebridge\",\"Heritage Pines\",\"Errand/Supplies\",16,25,3,2,\"Thursday\"],[\"2016-02-25T16:47:00\",\"2016-02-25T17:02:00\",\"Business\",\"Heritage Pines\",\"Whitebridge\",\"Errand/Supplies\",16,25,3,2,\"Thursday\"],[\"2016-02-25T17:16:00\",\"2016-02-25T17:36:00\",\"Business\",\"Whitebridge\",\"Tanglewood\",\"Meal/Entertain\",17,25,3,2,\"Thursday\"],[\"2016-02-25T18:22:00\",\"2016-02-25T18:39:00\",\"Business\",\"Tanglewood\",\"Whitebridge\",\"Meal/Entertain\",18,25,3,2,\"Thursday\"],[\"2016-02-26T09:06:00\",\"2016-02-26T09:29:00\",\"Business\",\"Whitebridge\",\"Westpark Place\",null,9,26,4,2,\"Friday\"],[\"2016-02-26T11:05:00\",\"2016-02-26T11:11:00\",\"Personal\",\"Westpark Place\",\"Whitebridge\",null,11,26,4,2,\"Friday\"],[\"2016-02-26T11:35:00\",\"2016-02-26T11:59:00\",\"Business\",\"Cary\",\"Durham\",\"Meeting\",11,26,4,2,\"Friday\"],[\"2016-02-26T13:01:00\",\"2016-02-26T13:24:00\",\"Business\",\"Durham\",\"Cary\",\"Meeting\",13,26,4,2,\"Friday\"],[\"2016-02-26T14:38:00\",\"2016-02-26T14:46:00\",\"Personal\",\"Whitebridge\",\"Westpark Place\",null,14,26,4,2,\"Friday\"],[\"2016-02-26T15:00:00\",\"2016-02-26T15:18:00\",\"Personal\",\"Westpark Place\",\"Hazelwood\",null,15,26,4,2,\"Friday\"],[\"2016-02-26T17:01:00\",\"2016-02-26T17:12:00\",\"Personal\",\"Hazelwood\",\"Whitebridge\",null,17,26,4,2,\"Friday\"],[\"2016-02-28T05:22:00\",\"2016-02-28T05:38:00\",\"Business\",\"Whitebridge\",\"Waverly Place\",\"Meeting\",5,28,6,2,\"Sunday\"],[\"2016-02-28T09:26:00\",\"2016-02-28T09:42:00\",\"Business\",\"Waverly Place\",\"Whitebridge\",\"Meeting\",9,28,6,2,\"Sunday\"],[\"2016-02-29T11:07:00\",\"2016-02-29T11:14:00\",\"Personal\",\"Whitebridge\",\"Westpark Place\",null,11,29,0,2,\"Monday\"],[\"2016-02-29T11:30:00\",\"2016-02-29T11:40:00\",\"Business\",\"Cary\",\"Apex\",\"Meeting\",11,29,0,2,\"Monday\"],[\"2016-02-29T12:36:00\",\"2016-02-29T12:48:00\",\"Business\",\"Apex\",\"Cary\",\"Meeting\",12,29,0,2,\"Monday\"],[\"2016-02-29T14:55:00\",\"2016-02-29T15:03:00\",\"Business\",\"Whitebridge\",\"Hazelwood\",null,14,29,0,2,\"Monday\"],[\"2016-02-29T16:40:00\",\"2016-02-29T17:00:00\",\"Business\",\"Hazelwood\",\"Whitebridge\",\"Customer Visit\",16,29,0,2,\"Monday\"],[\"2016-03-01T18:47:00\",\"2016-03-01T19:10:00\",\"Business\",\"Whitebridge\",\"Wayne Ridge\",\"Meal/Entertain\",18,1,1,3,\"Tuesday\"],[\"2016-03-01T21:27:00\",\"2016-03-01T21:45:00\",\"Business\",\"Wayne Ridge\",\"Whitebridge\",\"Meeting\",21,1,1,3,\"Tuesday\"],[\"2016-03-03T09:45:00\",\"2016-03-03T09:52:00\",\"Personal\",\"Whitebridge\",\"Westpark Place\",null,9,3,3,3,\"Thursday\"],[\"2016-03-03T11:04:00\",\"2016-03-03T11:10:00\",\"Business\",\"Westpark Place\",\"Whitebridge\",\"Errand/Supplies\",11,3,3,3,\"Thursday\"],[\"2016-03-03T14:44:00\",\"2016-03-03T14:58:00\",\"Business\",\"Whitebridge\",\"Northwoods\",\"Meal/Entertain\",14,3,3,3,\"Thursday\"],[\"2016-03-03T15:27:00\",\"2016-03-03T15:48:00\",\"Business\",\"Cary\",\"Raleigh\",\"Customer Visit\",15,3,3,3,\"Thursday\"],[\"2016-03-03T16:02:00\",\"2016-03-03T16:42:00\",\"Business\",\"Raleigh\",\"Cary\",\"Meeting\",16,3,3,3,\"Thursday\"],[\"2016-03-04T07:47:00\",\"2016-03-04T08:06:00\",\"Business\",\"Cary\",\"Durham\",\"Meeting\",7,4,4,3,\"Friday\"],[\"2016-03-04T09:46:00\",\"2016-03-04T10:03:00\",\"Business\",\"Durham\",\"Cary\",\"Customer Visit\",9,4,4,3,\"Friday\"],[\"2016-03-04T11:46:00\",\"2016-03-04T12:06:00\",\"Business\",\"Cary\",\"Durham\",\"Meeting\",11,4,4,3,\"Friday\"],[\"2016-03-04T13:03:00\",\"2016-03-04T13:25:00\",\"Business\",\"Durham\",\"Cary\",\"Meeting\",13,4,4,3,\"Friday\"],[\"2016-03-04T13:40:00\",\"2016-03-04T14:09:00\",\"Business\",\"Cary\",\"Raleigh\",\"Customer Visit\",13,4,4,3,\"Friday\"],[\"2016-03-04T15:56:00\",\"2016-03-04T16:08:00\",\"Business\",\"Raleigh\",\"Raleigh\",\"Meal/Entertain\",15,4,4,3,\"Friday\"],[\"2016-03-04T16:16:00\",\"2016-03-04T16:22:00\",\"Business\",\"Fayetteville Street\",\"Depot Historic District\",\"Errand/Supplies\",16,4,4,3,\"Friday\"],[\"2016-03-04T16:43:00\",\"2016-03-04T17:12:00\",\"Business\",\"Raleigh\",\"Cary\",\"Meeting\",16,4,4,3,\"Friday\"],[\"2016-03-04T19:02:00\",\"2016-03-04T19:08:00\",\"Business\",\"Cary\",\"Morrisville\",\"Temporary Site\",19,4,4,3,\"Friday\"],[\"2016-03-04T19:16:00\",\"2016-03-04T19:25:00\",\"Business\",\"Morrisville\",\"Cary\",\"Meal/Entertain\",19,4,4,3,\"Friday\"],[\"2016-03-05T11:44:00\",\"2016-03-05T11:59:00\",\"Business\",\"Cary\",\"Morrisville\",\"Meal/Entertain\",11,5,5,3,\"Saturday\"],[\"2016-03-05T12:57:00\",\"2016-03-05T13:12:00\",\"Personal\",\"Weston\",\"Weston\",null,12,5,5,3,\"Saturday\"],[\"2016-03-05T14:08:00\",\"2016-03-05T14:18:00\",\"Personal\",\"Morrisville\",\"Cary\",null,14,5,5,3,\"Saturday\"],[\"2016-03-05T14:39:00\",\"2016-03-05T15:01:00\",\"Business\",\"Whitebridge\",\"Wayne Ridge\",\"Meal/Entertain\",14,5,5,3,\"Saturday\"],[\"2016-03-05T16:52:00\",\"2016-03-05T17:13:00\",\"Business\",\"Cary\",\"Morrisville\",\"Meal/Entertain\",16,5,5,3,\"Saturday\"],[\"2016-03-05T17:23:00\",\"2016-03-05T17:34:00\",\"Business\",\"Morrisville\",\"Cary\",\"Meal/Entertain\",17,5,5,3,\"Saturday\"],[\"2016-03-07T09:10:00\",\"2016-03-07T09:20:00\",\"Business\",\"Whitebridge\",\"Edgehill Farms\",\"Errand/Supplies\",9,7,0,3,\"Monday\"],[\"2016-03-07T09:23:00\",\"2016-03-07T09:47:00\",\"Business\",\"Cary\",\"Raleigh\",\"Customer Visit\",9,7,0,3,\"Monday\"],[\"2016-03-07T12:10:00\",\"2016-03-07T12:26:00\",\"Business\",\"Fayetteville Street\",\"Meredith Townes\",\"Customer Visit\",12,7,0,3,\"Monday\"],[\"2016-03-07T13:57:00\",\"2016-03-07T14:18:00\",\"Business\",\"Meredith Townes\",\"Leesville Hollow\",\"Meeting\",13,7,0,3,\"Monday\"],[\"2016-03-07T15:19:00\",\"2016-03-07T15:45:00\",\"Business\",\"Raleigh\",\"Cary\",\"Between Offices\",15,7,0,3,\"Monday\"],[\"2016-03-08T14:38:00\",\"2016-03-08T14:55:00\",\"Business\",\"Whitebridge\",\"Waverly Place\",\"Between Offices\",14,8,1,3,\"Tuesday\"],[\"2016-03-08T15:35:00\",\"2016-03-08T16:00:00\",\"Business\",\"Waverly Place\",\"Whitebridge\",\"Meal/Entertain\",15,8,1,3,\"Tuesday\"],[\"2016-03-08T16:13:00\",\"2016-03-08T16:25:00\",\"Personal\",\"Whitebridge\",\"Whitebridge\",null,16,8,1,3,\"Tuesday\"],[\"2016-03-10T03:36:00\",\"2016-03-10T03:53:00\",\"Business\",\"Cary\",\"Morrisville\",\"Meeting\",3,10,3,3,\"Thursday\"],[\"2016-03-10T10:08:00\",\"2016-03-10T10:37:00\",\"Business\",\"East Austin\",\"West University\",\"Meeting\",10,10,3,3,\"Thursday\"],[\"2016-03-10T14:39:00\",\"2016-03-10T14:55:00\",\"Business\",\"West University\",\"South Congress\",null,14,10,3,3,\"Thursday\"],[\"2016-03-10T16:18:00\",\"2016-03-10T16:28:00\",\"Business\",\"South Congress\",\"Arts District\",null,16,10,3,3,\"Thursday\"],[\"2016-03-11T09:47:00\",\"2016-03-11T09:59:00\",\"Business\",\"The Drag\",\"Congress Ave District\",\"Meal/Entertain\",9,11,4,3,\"Friday\"],[\"2016-03-11T10:29:00\",\"2016-03-11T10:36:00\",\"Business\",\"Congress Ave District\",\"Downtown\",null,10,11,4,3,\"Friday\"],[\"2016-03-11T11:57:00\",\"2016-03-11T12:04:00\",\"Business\",\"Downtown\",\"Red River District\",null,11,11,4,3,\"Friday\"],[\"2016-03-11T13:43:00\",\"2016-03-11T13:51:00\",\"Business\",\"Red River District\",\"Downtown\",null,13,11,4,3,\"Friday\"],[\"2016-03-11T19:21:00\",\"2016-03-11T19:35:00\",\"Business\",\"South Congress\",\"The Drag\",null,19,11,4,3,\"Friday\"],[\"2016-03-12T09:13:00\",\"2016-03-12T09:22:00\",\"Business\",\"The Drag\",\"South Congress\",null,9,12,5,3,\"Saturday\"],[\"2016-03-12T18:27:00\",\"2016-03-12T18:37:00\",\"Personal\",\"South Congress\",\"The Drag\",null,18,12,5,3,\"Saturday\"],[\"2016-03-13T09:07:00\",\"2016-03-13T09:37:00\",\"Business\",\"The Drag\",\"Convention Center District\",\"Meal/Entertain\",9,13,6,3,\"Sunday\"],[\"2016-03-13T18:23:00\",\"2016-03-13T18:43:00\",\"Business\",\"South Congress\",\"North Austin\",\"Meal/Entertain\",18,13,6,3,\"Sunday\"],[\"2016-03-13T20:07:00\",\"2016-03-13T20:28:00\",\"Business\",\"Georgian Acres\",\"The Drag\",\"Meal/Entertain\",20,13,6,3,\"Sunday\"],[\"2016-03-13T20:39:00\",\"2016-03-13T20:58:00\",\"Business\",\"The Drag\",\"North Austin\",\"Meal/Entertain\",20,13,6,3,\"Sunday\"],[\"2016-03-13T21:11:00\",\"2016-03-13T21:23:00\",\"Business\",\"North Austin\",\"Coxville\",\"Meal/Entertain\",21,13,6,3,\"Sunday\"],[\"2016-03-13T22:19:00\",\"2016-03-13T22:39:00\",\"Business\",\"Coxville\",\"The Drag\",null,22,13,6,3,\"Sunday\"],[\"2016-03-14T08:34:00\",\"2016-03-14T08:49:00\",\"Business\",\"The Drag\",\"South Congress\",\"Errand/Supplies\",8,14,0,3,\"Monday\"],[\"2016-03-14T18:39:00\",\"2016-03-14T18:55:00\",\"Business\",\"South Congress\",\"The Drag\",null,18,14,0,3,\"Monday\"],[\"2016-03-15T08:45:00\",\"2016-03-15T08:57:00\",\"Business\",\"The Drag\",\"Convention Center District\",\"Meal/Entertain\",8,15,1,3,\"Tuesday\"],[\"2016-03-15T20:48:00\",\"2016-03-15T21:01:00\",\"Business\",\"Downtown\",\"The Drag\",\"Meal/Entertain\",20,15,1,3,\"Tuesday\"],[\"2016-03-16T11:34:00\",\"2016-03-16T11:45:00\",\"Business\",\"The Drag\",\"Congress Ave District\",\"Meal/Entertain\",11,16,2,3,\"Wednesday\"],[\"2016-03-16T14:44:00\",\"2016-03-16T14:55:00\",\"Business\",\"Convention Center District\",\"West University\",null,14,16,2,3,\"Wednesday\"],[\"2016-03-16T18:43:00\",\"2016-03-16T18:56:00\",\"Business\",\"West University\",\"Congress Ave District\",\"Meal/Entertain\",18,16,2,3,\"Wednesday\"],[\"2016-03-17T00:33:00\",\"2016-03-17T00:44:00\",\"Personal\",\"Downtown\",\"The Drag\",null,0,17,3,3,\"Thursday\"],[\"2016-03-17T12:52:00\",\"2016-03-17T15:11:00\",\"Business\",\"Austin\",\"Katy\",\"Customer Visit\",12,17,3,3,\"Thursday\"],[\"2016-03-17T15:16:00\",\"2016-03-17T15:58:00\",\"Business\",\"Katy\",\"Houston\",\"Meeting\",15,17,3,3,\"Thursday\"],[\"2016-03-17T17:20:00\",\"2016-03-17T18:02:00\",\"Business\",\"Midtown\",\"Alief\",\"Meal/Entertain\",17,17,3,3,\"Thursday\"],[\"2016-03-17T18:47:00\",\"2016-03-17T19:09:00\",\"Personal\",\"Houston\",\"Houston\",null,18,17,3,3,\"Thursday\"],[\"2016-03-17T20:57:00\",\"2016-03-17T21:28:00\",\"Personal\",\"Houston\",\"Houston\",null,20,17,3,3,\"Thursday\"],[\"2016-03-17T21:48:00\",\"2016-03-17T22:04:00\",\"Personal\",\"Sharpstown\",\"Midtown\",null,21,17,3,3,\"Thursday\"],[\"2016-03-18T07:15:00\",\"2016-03-18T07:21:00\",\"Business\",\"Midtown\",\"Midtown\",\"Meal/Entertain\",7,18,4,3,\"Friday\"],[\"2016-03-18T08:35:00\",\"2016-03-18T08:43:00\",\"Business\",\"Midtown\",\"Midtown\",\"Meal/Entertain\",8,18,4,3,\"Friday\"],[\"2016-03-18T18:24:00\",\"2016-03-18T19:08:00\",\"Business\",\"Midtown\",\"Sharpstown\",\"Meeting\",18,18,4,3,\"Friday\"],[\"2016-03-18T19:23:00\",\"2016-03-18T19:29:00\",\"Business\",\"Sharpstown\",\"Sharpstown\",\"Errand/Supplies\",19,18,4,3,\"Friday\"],[\"2016-03-18T21:01:00\",\"2016-03-18T21:15:00\",\"Business\",\"Sharpstown\",\"Midtown\",\"Customer Visit\",21,18,4,3,\"Friday\"],[\"2016-03-19T09:10:00\",\"2016-03-19T09:25:00\",\"Business\",\"Midtown\",\"Sharpstown\",\"Meal/Entertain\",9,19,5,3,\"Saturday\"],[\"2016-03-19T12:50:00\",\"2016-03-19T13:13:00\",\"Business\",\"Houston\",\"Sugar Land\",\"Customer Visit\",12,19,5,3,\"Saturday\"],[\"2016-03-19T14:01:00\",\"2016-03-19T14:57:00\",\"Business\",\"Sugar Land\",\"Houston\",\"Customer Visit\",14,19,5,3,\"Saturday\"],[\"2016-03-19T15:34:00\",\"2016-03-19T16:38:00\",\"Business\",\"Houston\",\"Galveston\",\"Meal/Entertain\",15,19,5,3,\"Saturday\"],[\"2016-03-19T17:17:00\",\"2016-03-19T17:32:00\",\"Business\",\"Galveston\",\"Port Bolivar\",\"Meal/Entertain\",17,19,5,3,\"Saturday\"],[\"2016-03-19T17:37:00\",\"2016-03-19T17:47:00\",\"Business\",\"Port Bolivar\",\"Port Bolivar\",\"Errand/Supplies\",17,19,5,3,\"Saturday\"],[\"2016-03-19T17:52:00\",\"2016-03-19T18:00:00\",\"Business\",\"Port Bolivar\",\"Port Bolivar\",null,17,19,5,3,\"Saturday\"],[\"2016-03-19T18:53:00\",\"2016-03-19T19:29:00\",\"Business\",\"Port Bolivar\",\"Galveston\",\"Meeting\",18,19,5,3,\"Saturday\"],[\"2016-03-19T19:33:00\",\"2016-03-19T20:39:00\",\"Business\",\"Galveston\",\"Houston\",\"Customer Visit\",19,19,5,3,\"Saturday\"],[\"2016-03-20T07:37:00\",\"2016-03-20T07:48:00\",\"Business\",\"Midtown\",\"Washington Avenue\",\"Meeting\",7,20,6,3,\"Sunday\"],[\"2016-03-20T11:42:00\",\"2016-03-20T11:56:00\",\"Business\",\"Washington Avenue\",\"Midtown\",\"Meeting\",11,20,6,3,\"Sunday\"],[\"2016-03-20T17:08:00\",\"2016-03-20T17:34:00\",\"Business\",\"Midtown\",\"Sharpstown\",null,17,20,6,3,\"Sunday\"],[\"2016-03-20T18:34:00\",\"2016-03-20T18:40:00\",\"Personal\",\"Sharpstown\",\"Briar Meadow\",null,18,20,6,3,\"Sunday\"],[\"2016-03-20T18:45:00\",\"2016-03-20T19:06:00\",\"Business\",\"Briar Meadow\",\"Midtown\",\"Customer Visit\",18,20,6,3,\"Sunday\"],[\"2016-03-21T10:21:00\",\"2016-03-21T10:26:00\",\"Personal\",\"Midtown\",\"Downtown\",null,10,21,0,3,\"Monday\"],[\"2016-03-21T16:05:00\",\"2016-03-21T16:13:00\",\"Business\",\"Downtown\",\"Midtown\",\"Meal/Entertain\",16,21,0,3,\"Monday\"],[\"2016-03-21T18:59:00\",\"2016-03-21T19:15:00\",\"Business\",\"Midtown\",\"Sharpstown\",null,18,21,0,3,\"Monday\"],[\"2016-03-21T20:18:00\",\"2016-03-21T20:55:00\",\"Business\",\"Sharpstown\",\"Midtown\",\"Meal/Entertain\",20,21,0,3,\"Monday\"],[\"2016-03-22T06:17:00\",\"2016-03-22T06:43:00\",\"Business\",\"Midtown\",\"Greater Greenspoint\",\"Meal/Entertain\",6,22,1,3,\"Tuesday\"],[\"2016-03-22T12:06:00\",\"2016-03-22T12:24:00\",\"Personal\",\"Morrisville\",\"Cary\",null,12,22,1,3,\"Tuesday\"],[\"2016-03-22T19:12:00\",\"2016-03-22T19:25:00\",\"Personal\",\"Whitebridge\",\"Whitebridge\",null,19,22,1,3,\"Tuesday\"],[\"2016-03-23T14:37:00\",\"2016-03-23T14:42:00\",\"Personal\",\"Whitebridge\",\"Preston\",null,14,23,2,3,\"Wednesday\"],[\"2016-03-23T14:53:00\",\"2016-03-23T14:59:00\",\"Personal\",\"Preston\",\"Whitebridge\",null,14,23,2,3,\"Wednesday\"],[\"2016-03-24T19:47:00\",\"2016-03-24T19:54:00\",\"Personal\",\"Whitebridge\",\"Westpark Place\",null,19,24,3,3,\"Thursday\"],[\"2016-03-24T20:34:00\",\"2016-03-24T20:40:00\",\"Business\",\"Westpark Place\",\"Whitebridge\",null,20,24,3,3,\"Thursday\"],[\"2016-03-25T13:24:00\",\"2016-03-25T16:22:00\",\"Business\",\"Cary\",\"Latta\",\"Customer Visit\",13,25,4,3,\"Friday\"],[\"2016-03-25T16:52:00\",\"2016-03-25T22:22:00\",\"Business\",\"Latta\",\"Jacksonville\",\"Customer Visit\",16,25,4,3,\"Friday\"],[\"2016-03-25T22:54:00\",\"2016-03-26T01:39:00\",\"Business\",\"Jacksonville\",\"Kissimmee\",\"Meeting\",22,25,4,3,\"Friday\"],[\"2016-03-26T14:05:00\",\"2016-03-26T14:29:00\",\"Personal\",\"Couples Glen\",\"Isles of Buena Vista\",null,14,26,5,3,\"Saturday\"],[\"2016-03-26T15:19:00\",\"2016-03-26T15:49:00\",\"Personal\",\"Kissimmee\",\"Orlando\",null,15,26,5,3,\"Saturday\"],[\"2016-03-26T16:26:00\",\"2016-03-26T16:30:00\",\"Personal\",\"Lake Reams\",\"Lake Reams\",null,16,26,5,3,\"Saturday\"],[\"2016-03-27T00:31:00\",\"2016-03-27T00:40:00\",\"Business\",\"Lake Reams\",\"Lake Reams\",\"Errand/Supplies\",0,27,6,3,\"Sunday\"],[\"2016-03-27T01:11:00\",\"2016-03-27T01:23:00\",\"Business\",\"Orlando\",\"Kissimmee\",\"Meal/Entertain\",1,27,6,3,\"Sunday\"],[\"2016-03-27T15:31:00\",\"2016-03-27T15:56:00\",\"Business\",\"Kissimmee\",\"Orlando\",\"Customer Visit\",15,27,6,3,\"Sunday\"],[\"2016-03-27T21:26:00\",\"2016-03-27T21:41:00\",\"Personal\",\"Orlando\",\"Orlando\",null,21,27,6,3,\"Sunday\"],[\"2016-03-27T23:04:00\",\"2016-03-27T23:18:00\",\"Personal\",\"Orlando\",\"Kissimmee\",null,23,27,6,3,\"Sunday\"],[\"2016-03-28T12:29:00\",\"2016-03-28T12:42:00\",\"Personal\",\"Kissimmee\",\"Orlando\",null,12,28,0,3,\"Monday\"],[\"2016-03-28T19:30:00\",\"2016-03-28T20:23:00\",\"Personal\",\"Couples Glen\",\"Vista East\",null,19,28,0,3,\"Monday\"],[\"2016-03-28T22:55:00\",\"2016-03-28T23:26:00\",\"Personal\",\"Orlando\",\"Kissimmee\",null,22,28,0,3,\"Monday\"],[\"2016-03-29T15:27:00\",\"2016-03-29T16:11:00\",\"Personal\",\"Kissimmee\",\"Orlando\",null,15,29,1,3,\"Tuesday\"],[\"2016-03-29T18:20:00\",\"2016-03-29T18:39:00\",\"Personal\",\"Sand Lake Commons\",\"Sky Lake\",null,18,29,1,3,\"Tuesday\"],[\"2016-03-29T20:29:00\",\"2016-03-29T20:44:00\",\"Personal\",\"Sky Lake\",\"Sand Lake Commons\",null,20,29,1,3,\"Tuesday\"],[\"2016-03-29T23:04:00\",\"2016-03-29T23:21:00\",\"Personal\",\"Orlando\",\"Kissimmee\",null,23,29,1,3,\"Tuesday\"],[\"2016-03-30T22:05:00\",\"2016-03-30T22:55:00\",\"Business\",\"Orlando\",\"Kissimmee\",\"Meal/Entertain\",22,30,2,3,\"Wednesday\"],[\"2016-03-31T12:47:00\",\"2016-03-31T13:22:00\",\"Business\",\"Kissimmee\",\"Orlando\",\"Temporary Site\",12,31,3,3,\"Thursday\"],[\"2016-03-31T14:37:00\",\"2016-03-31T15:09:00\",\"Business\",\"Orlando\",\"Kissimmee\",\"Meal/Entertain\",14,31,3,3,\"Thursday\"],[\"2016-04-01T13:43:00\",\"2016-04-01T14:01:00\",\"Business\",\"Kissimmee\",\"Kissimmee\",\"Meeting\",13,1,4,4,\"Friday\"],[\"2016-04-01T14:36:00\",\"2016-04-01T15:24:00\",\"Business\",\"Kissimmee\",\"Orlando\",\"Customer Visit\",14,1,4,4,\"Friday\"],[\"2016-04-01T16:01:00\",\"2016-04-01T16:49:00\",\"Business\",\"Orlando\",\"Kissimmee\",\"Meeting\",16,1,4,4,\"Friday\"],[\"2016-04-01T16:52:00\",\"2016-04-01T16:57:00\",\"Personal\",\"Kissimmee\",\"Kissimmee\",null,16,1,4,4,\"Friday\"],[\"2016-04-02T08:48:00\",\"2016-04-02T09:04:00\",\"Personal\",\"Kissimmee\",\"Kissimmee\",null,8,2,5,4,\"Saturday\"],[\"2016-04-02T11:01:00\",\"2016-04-02T11:16:00\",\"Personal\",\"Kissimmee\",\"Kissimmee\",null,11,2,5,4,\"Saturday\"],[\"2016-04-02T12:21:00\",\"2016-04-02T14:47:00\",\"Business\",\"Kissimmee\",\"Daytona Beach\",\"Customer Visit\",12,2,5,4,\"Saturday\"],[\"2016-04-02T16:57:00\",\"2016-04-02T18:09:00\",\"Business\",\"Daytona Beach\",\"Jacksonville\",\"Customer Visit\",16,2,5,4,\"Saturday\"],[\"2016-04-02T19:38:00\",\"2016-04-02T22:36:00\",\"Business\",\"Jacksonville\",\"Ridgeland\",\"Customer Visit\",19,2,5,4,\"Saturday\"],[\"2016-04-02T23:11:00\",\"2016-04-03T01:34:00\",\"Business\",\"Ridgeland\",\"Florence\",\"Meeting\",23,2,5,4,\"Saturday\"],[\"2016-04-03T02:00:00\",\"2016-04-03T04:16:00\",\"Business\",\"Florence\",\"Cary\",\"Meeting\",2,3,6,4,\"Sunday\"],[\"2016-04-05T21:39:00\",\"2016-04-05T21:55:00\",\"Business\",\"Whitebridge\",\"Wayne Ridge\",\"Meal/Entertain\",21,5,1,4,\"Tuesday\"],[\"2016-04-06T00:19:00\",\"2016-04-06T00:39:00\",\"Business\",\"Wayne Ridge\",\"Whitebridge\",\"Meal/Entertain\",0,6,2,4,\"Wednesday\"],[\"2016-04-07T18:20:00\",\"2016-04-07T18:39:00\",\"Business\",\"Cary\",\"Morrisville\",\"Meal/Entertain\",18,7,3,4,\"Thursday\"],[\"2016-04-07T19:45:00\",\"2016-04-07T20:00:00\",\"Business\",\"Morrisville\",\"Cary\",\"Errand/Supplies\",19,7,3,4,\"Thursday\"],[\"2016-04-08T12:30:00\",\"2016-04-08T12:48:00\",\"Business\",\"Cary\",\"Durham\",\"Meeting\",12,8,4,4,\"Friday\"],[\"2016-04-08T13:34:00\",\"2016-04-08T13:51:00\",\"Business\",\"Durham\",\"Cary\",\"Meal/Entertain\",13,8,4,4,\"Friday\"],[\"2016-04-08T13:55:00\",\"2016-04-08T14:03:00\",\"Business\",\"Westpark Place\",\"Whitebridge\",\"Errand/Supplies\",13,8,4,4,\"Friday\"],[\"2016-04-08T14:43:00\",\"2016-04-08T15:20:00\",\"Business\",\"Cary\",\"Raleigh\",\"Meeting\",14,8,4,4,\"Friday\"],[\"2016-04-08T16:05:00\",\"2016-04-08T16:47:00\",\"Business\",\"Raleigh\",\"Cary\",\"Meeting\",16,8,4,4,\"Friday\"],[\"2016-04-12T09:15:00\",\"2016-04-12T09:26:00\",\"Business\",\"Whitebridge\",\"Edgehill Farms\",\"Errand/Supplies\",9,12,1,4,\"Tuesday\"],[\"2016-04-12T09:34:00\",\"2016-04-12T09:53:00\",\"Business\",\"Cary\",\"Raleigh\",\"Meeting\",9,12,1,4,\"Tuesday\"],[\"2016-04-12T10:58:00\",\"2016-04-12T11:18:00\",\"Business\",\"Meredith\",\"Cedar Hill\",\"Customer Visit\",10,12,1,4,\"Tuesday\"],[\"2016-04-12T12:22:00\",\"2016-04-12T12:44:00\",\"Business\",\"Raleigh\",\"Morrisville\",\"Meeting\",12,12,1,4,\"Tuesday\"],[\"2016-04-12T13:42:00\",\"2016-04-12T14:01:00\",\"Business\",\"Morrisville\",\"Cary\",\"Meal/Entertain\",13,12,1,4,\"Tuesday\"],[\"2016-04-14T07:29:00\",\"2016-04-14T08:09:00\",\"Business\",\"Cary\",\"Holly Springs\",\"Temporary Site\",7,14,3,4,\"Thursday\"],[\"2016-04-14T16:00:00\",\"2016-04-14T16:43:00\",\"Business\",\"Holly Springs\",\"Cary\",\"Temporary Site\",16,14,3,4,\"Thursday\"],[\"2016-04-15T11:36:00\",\"2016-04-15T12:07:00\",\"Business\",\"Cary\",\"Raleigh\",\"Temporary Site\",11,15,4,4,\"Friday\"],[\"2016-04-15T12:29:00\",\"2016-04-15T12:32:00\",\"Business\",\"Meredith Townes\",\"Harden Place\",\"Errand/Supplies\",12,15,4,4,\"Friday\"],[\"2016-04-15T14:31:00\",\"2016-04-15T15:01:00\",\"Business\",\"Raleigh\",\"Cary\",\"Meeting\",14,15,4,4,\"Friday\"],[\"2016-04-16T12:59:00\",\"2016-04-16T13:17:00\",\"Business\",\"Cary\",\"Morrisville\",\"Errand/Supplies\",12,16,5,4,\"Saturday\"],[\"2016-04-16T15:10:00\",\"2016-04-16T15:26:00\",\"Business\",\"Morrisville\",\"Cary\",\"Meal/Entertain\",15,16,5,4,\"Saturday\"],[\"2016-04-19T17:44:00\",\"2016-04-19T18:08:00\",\"Business\",\"Whitebridge\",\"Wayne Ridge\",\"Meal/Entertain\",17,19,1,4,\"Tuesday\"],[\"2016-04-19T19:57:00\",\"2016-04-19T20:19:00\",\"Business\",\"Wayne Ridge\",\"Whitebridge\",\"Meal/Entertain\",19,19,1,4,\"Tuesday\"],[\"2016-04-22T08:25:00\",\"2016-04-22T09:04:00\",\"Business\",\"Cary\",\"Raleigh\",\"Meeting\",8,22,4,4,\"Friday\"],[\"2016-04-22T10:10:00\",\"2016-04-22T10:40:00\",\"Business\",\"Raleigh\",\"Cary\",\"Meeting\",10,22,4,4,\"Friday\"],[\"2016-04-22T12:08:00\",\"2016-04-22T12:28:00\",\"Business\",\"Cary\",\"Durham\",\"Meeting\",12,22,4,4,\"Friday\"],[\"2016-04-22T13:02:00\",\"2016-04-22T13:26:00\",\"Business\",\"Durham\",\"Cary\",\"Meeting\",13,22,4,4,\"Friday\"],[\"2016-04-23T17:03:00\",\"2016-04-23T17:16:00\",\"Business\",\"Whitebridge\",\"Tanglewood\",\"Meal/Entertain\",17,23,5,4,\"Saturday\"],[\"2016-04-23T18:49:00\",\"2016-04-23T19:05:00\",\"Business\",\"Tanglewood\",\"Whitebridge\",\"Meal/Entertain\",18,23,5,4,\"Saturday\"],[\"2016-04-24T19:07:00\",\"2016-04-24T19:16:00\",\"Business\",\"Cary\",\"Morrisville\",\"Errand/Supplies\",19,24,6,4,\"Sunday\"],[\"2016-04-24T19:46:00\",\"2016-04-24T19:52:00\",\"Business\",\"Chessington\",\"Chessington\",\"Errand/Supplies\",19,24,6,4,\"Sunday\"],[\"2016-04-24T21:41:00\",\"2016-04-24T21:50:00\",\"Business\",\"Morrisville\",\"Cary\",\"Between Offices\",21,24,6,4,\"Sunday\"],[\"2016-04-27T13:30:00\",\"2016-04-27T13:40:00\",\"Business\",\"Whitebridge\",\"Burtrose\",\"Between Offices\",13,27,2,4,\"Wednesday\"],[\"2016-04-27T14:13:00\",\"2016-04-27T14:25:00\",\"Business\",\"Burtrose\",\"Whitebridge\",\"Between Offices\",14,27,2,4,\"Wednesday\"],[\"2016-04-28T12:09:00\",\"2016-04-28T12:34:00\",\"Business\",\"Cary\",\"Raleigh\",\"Customer Visit\",12,28,3,4,\"Thursday\"],[\"2016-04-28T13:30:00\",\"2016-04-28T13:49:00\",\"Business\",\"Raleigh\",\"Cary\",\"Customer Visit\",13,28,3,4,\"Thursday\"],[\"2016-04-28T22:10:00\",\"2016-04-28T22:28:00\",\"Business\",\"Morrisville\",\"Cary\",\"Customer Visit\",22,28,3,4,\"Thursday\"],[\"2016-04-29T11:44:00\",\"2016-04-29T12:01:00\",\"Business\",\"Cary\",\"Durham\",\"Meeting\",11,29,4,4,\"Friday\"],[\"2016-04-29T13:13:00\",\"2016-04-29T13:34:00\",\"Business\",\"Durham\",\"Cary\",\"Meeting\",13,29,4,4,\"Friday\"],[\"2016-04-29T18:46:00\",\"2016-04-29T19:18:00\",\"Business\",\"Cary\",\"Durham\",\"Customer Visit\",18,29,4,4,\"Friday\"],[\"2016-04-29T22:44:00\",\"2016-04-29T23:19:00\",\"Business\",\"Durham\",\"Cary\",\"Meeting\",22,29,4,4,\"Friday\"],[\"2016-04-30T18:42:00\",\"2016-04-30T18:57:00\",\"Business\",\"Whitebridge\",\"Waverly Place\",\"Meal/Entertain\",18,30,5,4,\"Saturday\"],[\"2016-04-30T22:16:00\",\"2016-04-30T22:34:00\",\"Business\",\"Waverly Place\",\"Whitebridge\",null,22,30,5,4,\"Saturday\"],[\"2016-05-01T13:45:00\",\"2016-05-01T13:53:00\",\"Business\",\"Whitebridge\",\"Westpark Place\",\"Meal/Entertain\",13,1,6,5,\"Sunday\"],[\"2016-05-01T14:26:00\",\"2016-05-01T14:31:00\",\"Business\",\"Westpark Place\",\"Whitebridge\",null,14,1,6,5,\"Sunday\"],[\"2016-05-01T17:33:00\",\"2016-05-01T17:45:00\",\"Business\",\"Whitebridge\",\"Tanglewood\",\"Between Offices\",17,1,6,5,\"Sunday\"],[\"2016-05-01T17:54:00\",\"2016-05-01T18:10:00\",\"Business\",\"Tanglewood\",\"Parkway\",\"Meeting\",17,1,6,5,\"Sunday\"],[\"2016-05-01T22:38:00\",\"2016-05-01T22:49:00\",\"Business\",\"Parkway\",\"Whitebridge\",\"Errand/Supplies\",22,1,6,5,\"Sunday\"],[\"2016-05-02T14:14:00\",\"2016-05-02T14:21:00\",\"Business\",\"Whitebridge\",\"Westpark Place\",\"Errand/Supplies\",14,2,0,5,\"Monday\"],[\"2016-05-02T15:37:00\",\"2016-05-02T15:48:00\",\"Business\",\"Westpark Place\",\"Whitebridge\",\"Meal/Entertain\",15,2,0,5,\"Monday\"],[\"2016-05-03T22:20:00\",\"2016-05-03T22:28:00\",\"Business\",\"Morrisville\",\"Cary\",\"Meal/Entertain\",22,3,1,5,\"Tuesday\"],[\"2016-05-04T15:16:00\",\"2016-05-04T15:37:00\",\"Business\",\"Cary\",\"Morrisville\",\"Meal/Entertain\",15,4,2,5,\"Wednesday\"],[\"2016-05-04T20:55:00\",\"2016-05-04T21:14:00\",\"Business\",\"Mcvan\",\"Capitol One\",\"Errand/Supplies\",20,4,2,5,\"Wednesday\"],[\"2016-05-04T21:30:00\",\"2016-05-04T21:36:00\",\"Business\",\"Capitol One\",\"University District\",\"Meal/Entertain\",21,4,2,5,\"Wednesday\"],[\"2016-05-04T22:19:00\",\"2016-05-04T22:27:00\",\"Business\",\"University District\",\"Capitol One\",\"Meal/Entertain\",22,4,2,5,\"Wednesday\"],[\"2016-05-05T21:24:00\",\"2016-05-05T21:36:00\",\"Business\",\"Seattle\",\"Redmond\",\"Meal/Entertain\",21,5,3,5,\"Thursday\"],[\"2016-05-05T22:34:00\",\"2016-05-05T22:40:00\",\"Business\",\"Redmond\",\"Bellevue\",\"Errand/Supplies\",22,5,3,5,\"Thursday\"],[\"2016-05-05T23:55:00\",\"2016-05-06T00:08:00\",\"Business\",\"Bellevue\",\"Seattle\",\"Meeting\",23,5,3,5,\"Thursday\"],[\"2016-05-06T05:47:00\",\"2016-05-06T06:02:00\",\"Business\",\"Capitol One\",\"Mcvan\",\"Meeting\",5,6,4,5,\"Friday\"],[\"2016-05-06T16:45:00\",\"2016-05-06T16:59:00\",\"Business\",\"Chapel Hill\",\"Morrisville\",\"Meeting\",16,6,4,5,\"Friday\"],[\"2016-05-06T17:18:00\",\"2016-05-06T17:44:00\",\"Business\",\"Morrisville\",\"Cary\",\"Customer Visit\",17,6,4,5,\"Friday\"],[\"2016-05-09T06:08:00\",\"2016-05-09T06:25:00\",\"Business\",\"Cary\",\"Morrisville\",\"Customer Visit\",6,9,0,5,\"Monday\"],[\"2016-05-09T14:39:00\",\"2016-05-09T15:06:00\",\"Business\",\"San Francisco\",\"Palo Alto\",\"Between Offices\",14,9,0,5,\"Monday\"],[\"2016-05-09T17:58:00\",\"2016-05-09T18:26:00\",\"Business\",\"Palo Alto\",\"Sunnyvale\",\"Customer Visit\",17,9,0,5,\"Monday\"],[\"2016-05-09T19:35:00\",\"2016-05-09T19:59:00\",\"Business\",\"Sunnyvale\",\"Newark\",\"Customer Visit\",19,9,0,5,\"Monday\"],[\"2016-05-10T09:03:00\",\"2016-05-10T09:20:00\",\"Business\",\"Newark\",\"Menlo Park\",\"Customer Visit\",9,10,1,5,\"Tuesday\"],[\"2016-05-10T17:19:00\",\"2016-05-10T17:31:00\",\"Business\",\"Menlo Park\",\"Newark\",\"Customer Visit\",17,10,1,5,\"Tuesday\"],[\"2016-05-11T08:35:00\",\"2016-05-11T09:12:00\",\"Business\",\"Newark\",\"San Francisco\",\"Meeting\",8,11,2,5,\"Wednesday\"],[\"2016-05-11T21:47:00\",\"2016-05-11T22:04:00\",\"Business\",\"Morrisville\",\"Cary\",\"Meeting\",21,11,2,5,\"Wednesday\"],[\"2016-05-14T18:35:00\",\"2016-05-14T18:39:00\",\"Business\",\"Cary\",\"Morrisville\",\"Meal/Entertain\",18,14,5,5,\"Saturday\"],[\"2016-05-14T23:01:00\",\"2016-05-14T23:05:00\",\"Business\",\"Morrisville\",\"Cary\",\"Meal/Entertain\",23,14,5,5,\"Saturday\"],[\"2016-05-17T13:15:00\",\"2016-05-17T13:23:00\",\"Business\",\"Whitebridge\",\"Preston\",\"Errand/Supplies\",13,17,1,5,\"Tuesday\"],[\"2016-05-17T13:56:00\",\"2016-05-17T14:08:00\",\"Business\",\"Preston\",\"Westpark Place\",\"Errand/Supplies\",13,17,1,5,\"Tuesday\"],[\"2016-05-17T14:34:00\",\"2016-05-17T14:40:00\",\"Business\",\"Westpark Place\",\"Whitebridge\",\"Errand/Supplies\",14,17,1,5,\"Tuesday\"],[\"2016-05-18T09:11:00\",\"2016-05-18T09:41:00\",\"Business\",\"Cary\",\"Morrisville\",\"Customer Visit\",9,18,2,5,\"Wednesday\"],[\"2016-05-18T13:00:00\",\"2016-05-18T13:02:00\",\"Business\",\"Morrisville\",\"Raleigh\",\"Customer Visit\",13,18,2,5,\"Wednesday\"],[\"2016-05-19T14:37:00\",\"2016-05-19T15:01:00\",\"Business\",\"Old City\",\"Parkway Museums\",\"Meal/Entertain\",14,19,3,5,\"Thursday\"],[\"2016-05-20T10:56:00\",\"2016-05-20T11:07:00\",\"Business\",\"Old City\",\"Hog Island\",\"Meeting\",10,20,4,5,\"Friday\"],[\"2016-05-20T15:43:00\",\"2016-05-20T16:12:00\",\"Business\",\"Morrisville\",\"Cary\",\"Meal/Entertain\",15,20,4,5,\"Friday\"],[\"2016-05-22T15:39:00\",\"2016-05-22T15:46:00\",\"Business\",\"Cary\",\"Morrisville\",\"Meal/Entertain\",15,22,6,5,\"Sunday\"],[\"2016-05-22T18:46:00\",\"2016-05-22T18:53:00\",\"Business\",\"Morrisville\",\"Cary\",\"Meal/Entertain\",18,22,6,5,\"Sunday\"],[\"2016-05-23T20:19:00\",\"2016-05-23T20:27:00\",\"Business\",\"Whitebridge\",\"Savon Height\",\"Meal/Entertain\",20,23,0,5,\"Monday\"],[\"2016-05-23T21:09:00\",\"2016-05-23T21:21:00\",\"Business\",\"Savon Height\",\"Whitebridge\",\"Errand/Supplies\",21,23,0,5,\"Monday\"],[\"2016-05-27T20:26:00\",\"2016-05-27T20:30:00\",\"Business\",\"Whitebridge\",\"Kildaire Farms\",\"Errand/Supplies\",20,27,4,5,\"Friday\"],[\"2016-05-27T20:47:00\",\"2016-05-27T20:53:00\",\"Business\",\"Savon Height\",\"Kilarney Woods\",null,20,27,4,5,\"Friday\"],[\"2016-05-27T22:11:00\",\"2016-05-27T22:14:00\",\"Business\",\"Kilarney Woods\",\"Kildaire Farms\",\"Errand/Supplies\",22,27,4,5,\"Friday\"],[\"2016-05-28T00:15:00\",\"2016-05-28T00:21:00\",\"Business\",\"Kilarney Woods\",\"Whitebridge\",\"Errand/Supplies\",0,28,5,5,\"Saturday\"],[\"2016-05-28T12:52:00\",\"2016-05-28T13:06:00\",\"Business\",\"Cary\",\"Morrisville\",\"Meal/Entertain\",12,28,5,5,\"Saturday\"],[\"2016-05-28T14:35:00\",\"2016-05-28T15:04:00\",\"Business\",\"Morrisville\",\"Cary\",\"Customer Visit\",14,28,5,5,\"Saturday\"],[\"2016-05-31T13:54:00\",\"2016-05-31T14:41:00\",\"Business\",\"Cary\",\"Raleigh\",\"Meeting\",13,31,1,5,\"Tuesday\"],[\"2016-05-31T16:02:00\",\"2016-05-31T16:39:00\",\"Business\",\"Raleigh\",\"Cary\",\"Meeting\",16,31,1,5,\"Tuesday\"],[\"2016-05-31T17:50:00\",\"2016-05-31T17:59:00\",\"Business\",\"Westpark Place\",\"Whitebridge\",null,17,31,1,5,\"Tuesday\"],[\"2016-06-01T10:19:00\",\"2016-06-01T10:47:00\",\"Business\",\"Cary\",\"Morrisville\",\"Customer Visit\",10,1,2,6,\"Wednesday\"],[\"2016-06-01T13:10:00\",\"2016-06-01T13:39:00\",\"Business\",\"Morrisville\",\"Cary\",\"Meeting\",13,1,2,6,\"Wednesday\"],[\"2016-06-03T11:29:00\",\"2016-06-03T11:49:00\",\"Business\",\"Cary\",\"Durham\",\"Meeting\",11,3,4,6,\"Friday\"],[\"2016-06-03T13:08:00\",\"2016-06-03T13:38:00\",\"Business\",\"Durham\",\"Cary\",\"Meeting\",13,3,4,6,\"Friday\"],[\"2016-06-03T15:31:00\",\"2016-06-03T15:54:00\",\"Business\",\"Cary\",\"Morrisville\",\"Meal/Entertain\",15,3,4,6,\"Friday\"],[\"2016-06-03T18:14:00\",\"2016-06-03T18:29:00\",\"Business\",\"Townes at Everett Crossing\",\"Chessington\",\"Errand/Supplies\",18,3,4,6,\"Friday\"],[\"2016-06-03T18:41:00\",\"2016-06-03T18:53:00\",\"Business\",\"Morrisville\",\"Cary\",\"Errand/Supplies\",18,3,4,6,\"Friday\"],[\"2016-06-03T19:36:00\",\"2016-06-03T19:42:00\",\"Business\",\"Huntington Woods\",\"Weston\",\"Errand/Supplies\",19,3,4,6,\"Friday\"],[\"2016-06-03T22:47:00\",\"2016-06-03T23:06:00\",\"Business\",\"Morrisville\",\"Cary\",\"Between Offices\",22,3,4,6,\"Friday\"],[\"2016-06-05T14:03:00\",\"2016-06-05T14:33:00\",\"Business\",\"Whitebridge\",\"Savon Height\",\"Customer Visit\",14,5,6,6,\"Sunday\"],[\"2016-06-05T15:06:00\",\"2016-06-05T15:22:00\",\"Business\",\"Cary\",\"Morrisville\",\"Customer Visit\",15,5,6,6,\"Sunday\"],[\"2016-06-05T15:57:00\",\"2016-06-05T16:08:00\",\"Business\",\"Weston\",\"Weston\",\"Meal/Entertain\",15,5,6,6,\"Sunday\"],[\"2016-06-05T18:05:00\",\"2016-06-05T18:14:00\",\"Business\",\"Morrisville\",\"Cary\",\"Meal/Entertain\",18,5,6,6,\"Sunday\"],[\"2016-06-05T21:53:00\",\"2016-06-05T22:05:00\",\"Business\",\"Cary\",\"Durham\",\"Meeting\",21,5,6,6,\"Sunday\"],[\"2016-06-05T23:52:00\",\"2016-06-06T00:08:00\",\"Business\",\"Durham\",\"Cary\",\"Meeting\",23,5,6,6,\"Sunday\"],[\"2016-06-06T15:36:00\",\"2016-06-06T15:45:00\",\"Business\",\"Whitebridge\",\"Hazelwood\",\"Errand/Supplies\",15,6,0,6,\"Monday\"],[\"2016-06-06T16:16:00\",\"2016-06-06T16:24:00\",\"Business\",\"Hazelwood\",\"Whitebridge\",\"Errand/Supplies\",16,6,0,6,\"Monday\"],[\"2016-06-06T20:06:00\",\"2016-06-06T20:20:00\",\"Business\",\"Cary\",\"Apex\",\"Meal/Entertain\",20,6,0,6,\"Monday\"],[\"2016-06-06T21:08:00\",\"2016-06-06T21:37:00\",\"Business\",\"Apex\",\"Cary\",\"Meal/Entertain\",21,6,0,6,\"Monday\"],[\"2016-06-06T21:41:00\",\"2016-06-06T22:00:00\",\"Business\",\"Cary\",\"Durham\",\"Meeting\",21,6,0,6,\"Monday\"],[\"2016-06-06T23:34:00\",\"2016-06-06T23:48:00\",\"Business\",\"Durham\",\"Cary\",\"Meeting\",23,6,0,6,\"Monday\"],[\"2016-06-07T21:42:00\",\"2016-06-07T22:00:00\",\"Business\",\"Cary\",\"Durham\",\"Meeting\",21,7,1,6,\"Tuesday\"],[\"2016-06-07T23:41:00\",\"2016-06-08T00:04:00\",\"Business\",\"Durham\",\"Cary\",\"Meeting\",23,7,1,6,\"Tuesday\"],[\"2016-06-08T08:23:00\",\"2016-06-08T08:53:00\",\"Business\",\"Cary\",\"Morrisville\",\"Meal/Entertain\",8,8,2,6,\"Wednesday\"],[\"2016-06-08T12:04:00\",\"2016-06-08T13:01:00\",\"Business\",\"Jamaica\",\"New York\",\"Errand/Supplies\",12,8,2,6,\"Wednesday\"],[\"2016-06-08T13:12:00\",\"2016-06-08T13:29:00\",\"Business\",\"Seaport\",\"Gramercy-Flatiron\",\"Meal/Entertain\",13,8,2,6,\"Wednesday\"],[\"2016-06-08T14:31:00\",\"2016-06-08T14:37:00\",\"Business\",\"Medical Centre\",\"Tudor City\",\"Errand/Supplies\",14,8,2,6,\"Wednesday\"],[\"2016-06-08T16:55:00\",\"2016-06-08T17:11:00\",\"Business\",\"Rose Hill\",\"Soho\",\"Meal/Entertain\",16,8,2,6,\"Wednesday\"],[\"2016-06-08T17:16:00\",\"2016-06-08T17:18:00\",\"Business\",\"Soho\",\"Tribeca\",\"Errand/Supplies\",17,8,2,6,\"Wednesday\"],[\"2016-06-08T17:59:00\",\"2016-06-08T18:05:00\",\"Business\",\"Tribeca\",\"Financial District\",\"Errand/Supplies\",17,8,2,6,\"Wednesday\"],[\"2016-06-08T20:11:00\",\"2016-06-08T20:25:00\",\"Business\",\"Financial District\",\"Kips Bay\",\"Errand/Supplies\",20,8,2,6,\"Wednesday\"],[\"2016-06-10T15:19:00\",\"2016-06-10T16:28:00\",\"Business\",\"New York\",\"Jamaica\",\"Meeting\",15,10,4,6,\"Friday\"],[\"2016-06-10T21:47:00\",\"2016-06-10T22:04:00\",\"Business\",\"Cary\",\"Durham\",\"Meeting\",21,10,4,6,\"Friday\"],[\"2016-06-10T23:53:00\",\"2016-06-11T00:01:00\",\"Business\",\"Durham\",\"Cary\",\"Meeting\",23,10,4,6,\"Friday\"],[\"2016-06-11T17:08:00\",\"2016-06-11T17:16:00\",\"Business\",\"Cary\",\"Morrisville\",\"Errand/Supplies\",17,11,5,6,\"Saturday\"],[\"2016-06-11T17:34:00\",\"2016-06-11T17:39:00\",\"Business\",\"Morrisville\",\"Cary\",\"Meal/Entertain\",17,11,5,6,\"Saturday\"],[\"2016-06-11T17:50:00\",\"2016-06-11T17:56:00\",\"Business\",\"Westpark Place\",\"Whitebridge\",null,17,11,5,6,\"Saturday\"],[\"2016-06-11T21:45:00\",\"2016-06-11T22:04:00\",\"Business\",\"Cary\",\"Durham\",\"Meeting\",21,11,5,6,\"Saturday\"],[\"2016-06-11T23:39:00\",\"2016-06-12T00:05:00\",\"Business\",\"Durham\",\"Cary\",\"Meeting\",23,11,5,6,\"Saturday\"],[\"2016-06-12T19:53:00\",\"2016-06-12T19:56:00\",\"Business\",\"Cary\",\"Morrisville\",\"Meal/Entertain\",19,12,6,6,\"Sunday\"],[\"2016-06-12T20:05:00\",\"2016-06-12T20:16:00\",\"Business\",\"Morrisville\",\"Cary\",\"Errand/Supplies\",20,12,6,6,\"Sunday\"],[\"2016-06-12T21:58:00\",\"2016-06-12T22:19:00\",\"Business\",\"Parkway\",\"Whitebridge\",\"Errand/Supplies\",21,12,6,6,\"Sunday\"],[\"2016-06-13T05:23:00\",\"2016-06-13T05:42:00\",\"Business\",\"Cary\",\"Morrisville\",\"Meal/Entertain\",5,13,0,6,\"Monday\"],[\"2016-06-13T14:17:00\",\"2016-06-13T14:46:00\",\"Business\",\"Oakland\",\"Emeryville\",\"Meeting\",14,13,0,6,\"Monday\"],[\"2016-06-13T18:08:00\",\"2016-06-13T18:47:00\",\"Business\",\"Emeryville\",\"Berkeley\",\"Meal/Entertain\",18,13,0,6,\"Monday\"],[\"2016-06-13T18:54:00\",\"2016-06-13T19:23:00\",\"Business\",\"Berkeley\",\"Oakland\",\"Meal/Entertain\",18,13,0,6,\"Monday\"],[\"2016-06-13T20:00:00\",\"2016-06-13T20:05:00\",\"Business\",\"Oakland\",\"Unknown Location\",\"Customer Visit\",20,13,0,6,\"Monday\"],[\"2016-06-14T12:03:00\",\"2016-06-14T12:21:00\",\"Business\",\"Emeryville\",\"San Francisco\",null,12,14,1,6,\"Tuesday\"],[\"2016-06-14T16:09:00\",\"2016-06-14T16:39:00\",\"Business\",\"San Francisco\",\"Emeryville\",\"Meeting\",16,14,1,6,\"Tuesday\"],[\"2016-06-14T17:15:00\",\"2016-06-14T17:24:00\",\"Business\",\"Emeryville\",\"Oakland\",\"Meeting\",17,14,1,6,\"Tuesday\"],[\"2016-06-14T17:27:00\",\"2016-06-14T17:57:00\",\"Business\",\"Downtown\",\"Bay Farm Island\",\"Errand/Supplies\",17,14,1,6,\"Tuesday\"],[\"2016-06-15T01:46:00\",\"2016-06-15T02:06:00\",\"Business\",\"Kenner\",\"New Orleans\",\"Between Offices\",1,15,2,6,\"Wednesday\"],[\"2016-06-15T15:26:00\",\"2016-06-15T15:34:00\",\"Business\",\"CBD\",\"Lower Garden District\",\"Between Offices\",15,15,2,6,\"Wednesday\"],[\"2016-06-15T16:37:00\",\"2016-06-15T17:02:00\",\"Business\",\"Lower Garden District\",\"Lakeview\",\"Customer Visit\",16,15,2,6,\"Wednesday\"],[\"2016-06-15T17:29:00\",\"2016-06-15T17:49:00\",\"Personal\",\"Lakeview\",\"Storyville\",null,17,15,2,6,\"Wednesday\"],[\"2016-06-15T19:52:00\",\"2016-06-15T19:58:00\",\"Business\",\"Storyville\",\"Faubourg Marigny\",\"Meal/Entertain\",19,15,2,6,\"Wednesday\"],[\"2016-06-16T13:36:00\",\"2016-06-16T14:30:00\",\"Business\",\"New Orleans\",\"Metairie\",null,13,16,3,6,\"Thursday\"],[\"2016-06-16T14:42:00\",\"2016-06-16T14:46:00\",\"Business\",\"Metairie\",\"Kenner\",null,14,16,3,6,\"Thursday\"],[\"2016-06-16T15:17:00\",\"2016-06-16T15:41:00\",\"Business\",\"Kenner\",\"New Orleans\",null,15,16,3,6,\"Thursday\"],[\"2016-06-16T19:39:00\",\"2016-06-16T19:56:00\",\"Business\",\"New Orleans\",\"Kenner\",null,19,16,3,6,\"Thursday\"],[\"2016-06-16T21:43:00\",\"2016-06-16T21:56:00\",\"Business\",\"Kenner\",\"New Orleans\",null,21,16,3,6,\"Thursday\"],[\"2016-06-17T16:11:00\",\"2016-06-17T16:44:00\",\"Business\",\"New Orleans\",\"Kenner\",null,16,17,4,6,\"Friday\"],[\"2016-06-18T00:29:00\",\"2016-06-18T00:51:00\",\"Business\",\"Morrisville\",\"Cary\",null,0,18,5,6,\"Saturday\"],[\"2016-06-19T02:39:00\",\"2016-06-19T02:50:00\",\"Business\",\"Cary\",\"Raleigh\",null,2,19,6,6,\"Sunday\"],[\"2016-06-19T05:51:00\",\"2016-06-19T06:00:00\",\"Business\",\"Raleigh\",\"Cary\",null,5,19,6,6,\"Sunday\"],[\"2016-06-21T15:39:00\",\"2016-06-21T16:08:00\",\"Business\",\"Cary\",\"Raleigh\",null,15,21,1,6,\"Tuesday\"],[\"2016-06-21T17:11:00\",\"2016-06-21T18:02:00\",\"Business\",\"Raleigh\",\"Cary\",\"Meal/Entertain\",17,21,1,6,\"Tuesday\"],[\"2016-06-24T10:41:00\",\"2016-06-24T10:57:00\",\"Business\",\"Whitebridge\",\"Waverly Place\",\"Meal/Entertain\",10,24,4,6,\"Friday\"],[\"2016-06-24T11:54:00\",\"2016-06-24T12:01:00\",\"Business\",\"Waverly Place\",\"Macgregor Downs\",\"Meal/Entertain\",11,24,4,6,\"Friday\"],[\"2016-06-24T12:19:00\",\"2016-06-24T12:37:00\",\"Business\",\"Cary\",\"Raleigh\",\"Errand/Supplies\",12,24,4,6,\"Friday\"],[\"2016-06-24T12:50:00\",\"2016-06-24T13:12:00\",\"Business\",\"Raleigh\",\"Morrisville\",\"Errand/Supplies\",12,24,4,6,\"Friday\"],[\"2016-06-24T13:18:00\",\"2016-06-24T13:27:00\",\"Business\",\"Morrisville\",\"Cary\",\"Errand/Supplies\",13,24,4,6,\"Friday\"],[\"2016-06-24T14:01:00\",\"2016-06-24T14:20:00\",\"Business\",\"Cary\",\"Morrisville\",\"Temporary Site\",14,24,4,6,\"Friday\"],[\"2016-06-24T20:44:00\",\"2016-06-24T21:02:00\",\"Business\",\"Kenner\",\"New Orleans\",null,20,24,4,6,\"Friday\"],[\"2016-06-25T09:03:00\",\"2016-06-25T09:12:00\",\"Business\",\"CBD\",\"Bywater\",null,9,25,5,6,\"Saturday\"],[\"2016-06-25T09:15:00\",\"2016-06-25T10:08:00\",\"Business\",\"New Orleans\",\"Chalmette\",\"Between Offices\",9,25,5,6,\"Saturday\"],[\"2016-06-25T10:18:00\",\"2016-06-25T10:25:00\",\"Business\",\"Chalmette\",\"Arabi\",\"Errand/Supplies\",10,25,5,6,\"Saturday\"],[\"2016-06-25T10:50:00\",\"2016-06-25T11:18:00\",\"Business\",\"Arabi\",\"Metairie\",\"Meal/Entertain\",10,25,5,6,\"Saturday\"],[\"2016-06-25T11:25:00\",\"2016-06-25T11:34:00\",\"Business\",\"Pontchartrain Shores\",\"Pontchartrain Shores\",\"Meeting\",11,25,5,6,\"Saturday\"],[\"2016-06-25T11:53:00\",\"2016-06-25T13:21:00\",\"Business\",\"Metairie\",\"New Orleans\",\"Meeting\",11,25,5,6,\"Saturday\"],[\"2016-06-25T19:47:00\",\"2016-06-25T19:58:00\",\"Business\",\"Storyville\",\"Marigny\",null,19,25,5,6,\"Saturday\"],[\"2016-06-25T23:19:00\",\"2016-06-25T23:26:00\",\"Business\",\"Marigny\",\"Storyville\",null,23,25,5,6,\"Saturday\"],[\"2016-06-26T17:43:00\",\"2016-06-26T18:18:00\",\"Business\",\"New Orleans\",\"Kenner\",\"Meeting\",17,26,6,6,\"Sunday\"],[\"2016-06-26T18:45:00\",\"2016-06-26T19:12:00\",\"Business\",\"Pontchartrain Shores\",\"Pontchartrain Shores\",null,18,26,6,6,\"Sunday\"],[\"2016-06-26T19:41:00\",\"2016-06-26T19:50:00\",\"Business\",\"Kenner\",\"Kenner\",null,19,26,6,6,\"Sunday\"],[\"2016-06-26T21:14:00\",\"2016-06-26T21:42:00\",\"Business\",\"Kenner\",\"New Orleans\",null,21,26,6,6,\"Sunday\"],[\"2016-06-27T07:37:00\",\"2016-06-27T08:48:00\",\"Business\",\"New Orleans\",\"Covington\",null,7,27,0,6,\"Monday\"],[\"2016-06-27T08:51:00\",\"2016-06-27T09:00:00\",\"Business\",\"Covington\",\"Covington\",null,8,27,0,6,\"Monday\"],[\"2016-06-27T09:05:00\",\"2016-06-27T09:33:00\",\"Business\",\"Covington\",\"Covington\",null,9,27,0,6,\"Monday\"],[\"2016-06-27T09:43:00\",\"2016-06-27T10:08:00\",\"Business\",\"Covington\",\"Covington\",null,9,27,0,6,\"Monday\"],[\"2016-06-27T10:22:00\",\"2016-06-27T10:39:00\",\"Business\",\"Covington\",\"Covington\",null,10,27,0,6,\"Monday\"],[\"2016-06-27T10:51:00\",\"2016-06-27T10:58:00\",\"Business\",\"Covington\",\"Covington\",null,10,27,0,6,\"Monday\"],[\"2016-06-27T11:06:00\",\"2016-06-27T11:24:00\",\"Business\",\"Covington\",\"Mandeville\",null,11,27,0,6,\"Monday\"],[\"2016-06-27T11:30:00\",\"2016-06-27T11:42:00\",\"Business\",\"Mandeville\",\"Mandeville\",null,11,27,0,6,\"Monday\"],[\"2016-06-27T12:22:00\",\"2016-06-27T13:02:00\",\"Business\",\"Mandeville\",\"Metairie\",null,12,27,0,6,\"Monday\"],[\"2016-06-27T13:56:00\",\"2016-06-27T14:05:00\",\"Business\",\"Metairie\",\"Kenner\",null,13,27,0,6,\"Monday\"],[\"2016-06-27T21:09:00\",\"2016-06-27T21:19:00\",\"Business\",\"Jamestown Court\",\"Jamestown Court\",null,21,27,0,6,\"Monday\"],[\"2016-06-28T00:48:00\",\"2016-06-28T01:05:00\",\"Business\",\"Morrisville\",\"Cary\",\"Customer Visit\",0,28,1,6,\"Tuesday\"],[\"2016-06-28T20:13:00\",\"2016-06-28T20:33:00\",\"Business\",\"Cary\",\"Durham\",\"Meeting\",20,28,1,6,\"Tuesday\"],[\"2016-06-28T23:34:00\",\"2016-06-28T23:59:00\",\"Business\",\"Durham\",\"Cary\",\"Meeting\",23,28,1,6,\"Tuesday\"],[\"2016-06-28T23:34:00\",\"2016-06-28T23:59:00\",\"Business\",\"Durham\",\"Cary\",\"Meeting\",23,28,1,6,\"Tuesday\"],[\"2016-06-29T08:56:00\",\"2016-06-29T09:24:00\",\"Business\",\"Cary\",\"Morrisville\",null,8,29,2,6,\"Wednesday\"],[\"2016-06-29T10:22:00\",\"2016-06-29T10:38:00\",\"Business\",\"Morrisville\",\"Cary\",null,10,29,2,6,\"Wednesday\"],[\"2016-06-29T11:49:00\",\"2016-06-29T11:51:00\",\"Business\",\"Whitebridge\",\"Westpark Place\",null,11,29,2,6,\"Wednesday\"],[\"2016-06-29T12:11:00\",\"2016-06-29T12:16:00\",\"Business\",\"Westpark Place\",\"Whitebridge\",null,12,29,2,6,\"Wednesday\"],[\"2016-06-29T20:11:00\",\"2016-06-29T20:29:00\",\"Business\",\"Cary\",\"Durham\",\"Meeting\",20,29,2,6,\"Wednesday\"],[\"2016-06-29T23:38:00\",\"2016-06-30T00:00:00\",\"Business\",\"Durham\",\"Cary\",\"Meeting\",23,29,2,6,\"Wednesday\"],[\"2016-06-30T20:09:00\",\"2016-06-30T20:26:00\",\"Business\",\"Cary\",\"Durham\",\"Meeting\",20,30,3,6,\"Thursday\"],[\"2016-07-01T00:00:00\",\"2016-07-01T00:25:00\",\"Business\",\"Durham\",\"Cary\",\"Meeting\",0,1,4,7,\"Friday\"],[\"2016-07-01T09:34:00\",\"2016-07-01T09:57:00\",\"Business\",\"Cary\",\"Raleigh\",\"Meeting\",9,1,4,7,\"Friday\"],[\"2016-07-01T12:36:00\",\"2016-07-01T13:00:00\",\"Business\",\"Raleigh\",\"Cary\",\"Meeting\",12,1,4,7,\"Friday\"],[\"2016-07-01T20:06:00\",\"2016-07-01T20:24:00\",\"Business\",\"Cary\",\"Durham\",\"Meeting\",20,1,4,7,\"Friday\"],[\"2016-07-01T23:48:00\",\"2016-07-02T00:09:00\",\"Business\",\"Durham\",\"Cary\",\"Meeting\",23,1,4,7,\"Friday\"],[\"2016-07-02T20:18:00\",\"2016-07-02T20:36:00\",\"Business\",\"Cary\",\"Durham\",\"Meeting\",20,2,5,7,\"Saturday\"],[\"2016-07-02T23:48:00\",\"2016-07-03T00:12:00\",\"Business\",\"Durham\",\"Cary\",\"Meeting\",23,2,5,7,\"Saturday\"],[\"2016-07-03T00:28:00\",\"2016-07-03T00:38:00\",\"Business\",\"Cary\",\"Morrisville\",\"Errand/Supplies\",0,3,6,7,\"Sunday\"],[\"2016-07-03T03:02:00\",\"2016-07-03T03:08:00\",\"Business\",\"Morrisville\",\"Cary\",\"Errand/Supplies\",3,3,6,7,\"Sunday\"],[\"2016-07-03T20:00:00\",\"2016-07-03T20:18:00\",\"Business\",\"Cary\",\"Durham\",\"Meeting\",20,3,6,7,\"Sunday\"],[\"2016-07-04T00:32:00\",\"2016-07-04T00:47:00\",\"Business\",\"Durham\",\"Cary\",\"Meeting\",0,4,0,7,\"Monday\"],[\"2016-07-04T17:31:00\",\"2016-07-04T17:49:00\",\"Business\",\"Whitebridge\",\"Summerwinds\",\"Meeting\",17,4,0,7,\"Monday\"],[\"2016-07-04T18:23:00\",\"2016-07-04T18:49:00\",\"Business\",\"Summerwinds\",\"Whitebridge\",\"Temporary Site\",18,4,0,7,\"Monday\"],[\"2016-07-04T20:00:00\",\"2016-07-04T20:17:00\",\"Business\",\"Cary\",\"Durham\",\"Meeting\",20,4,0,7,\"Monday\"],[\"2016-07-05T00:00:00\",\"2016-07-05T00:05:00\",\"Business\",\"Parkwood\",\"Parkwood\",\"Errand/Supplies\",0,5,1,7,\"Tuesday\"],[\"2016-07-05T00:08:00\",\"2016-07-05T00:28:00\",\"Business\",\"Durham\",\"Cary\",\"Meeting\",0,5,1,7,\"Tuesday\"],[\"2016-07-05T16:48:00\",\"2016-07-05T16:52:00\",\"Business\",\"Whitebridge\",\"Whitebridge\",\"Errand/Supplies\",16,5,1,7,\"Tuesday\"],[\"2016-07-05T20:06:00\",\"2016-07-05T20:26:00\",\"Business\",\"Cary\",\"Durham\",null,20,5,1,7,\"Tuesday\"],[\"2016-07-05T22:41:00\",\"2016-07-05T23:02:00\",\"Business\",\"Durham\",\"Morrisville\",null,22,5,1,7,\"Tuesday\"],[\"2016-07-06T00:33:00\",\"2016-07-06T00:53:00\",\"Business\",\"Morrisville\",\"Cary\",\"Meal/Entertain\",0,6,2,7,\"Wednesday\"],[\"2016-07-06T09:06:00\",\"2016-07-06T09:25:00\",\"Business\",\"Cary\",\"Durham\",\"Meeting\",9,6,2,7,\"Wednesday\"],[\"2016-07-06T12:48:00\",\"2016-07-06T13:08:00\",\"Business\",\"Durham\",\"Cary\",null,12,6,2,7,\"Wednesday\"],[\"2016-07-06T20:04:00\",\"2016-07-06T20:14:00\",\"Business\",\"Cary\",\"Morrisville\",\"Meal/Entertain\",20,6,2,7,\"Wednesday\"],[\"2016-07-06T23:46:00\",\"2016-07-06T23:59:00\",\"Business\",\"Morrisville\",\"Cary\",\"Customer Visit\",23,6,2,7,\"Wednesday\"],[\"2016-07-07T08:22:00\",\"2016-07-07T08:50:00\",\"Business\",\"Cary\",\"Morrisville\",\"Temporary Site\",8,7,3,7,\"Thursday\"],[\"2016-07-07T10:27:00\",\"2016-07-07T10:33:00\",\"Business\",\"Morrisville\",\"Cary\",null,10,7,3,7,\"Thursday\"],[\"2016-07-07T12:59:00\",\"2016-07-07T13:35:00\",\"Business\",\"Kenner\",\"New Orleans\",null,12,7,3,7,\"Thursday\"],[\"2016-07-08T09:50:00\",\"2016-07-08T10:13:00\",\"Business\",\"CBD\",\"Pontchartrain Beach\",null,9,8,4,7,\"Friday\"],[\"2016-07-08T10:51:00\",\"2016-07-08T11:12:00\",\"Business\",\"Pontchartrain Beach\",\"CBD\",null,10,8,4,7,\"Friday\"],[\"2016-07-08T13:48:00\",\"2016-07-08T14:11:00\",\"Business\",\"New Orleans\",\"Metairie\",null,13,8,4,7,\"Friday\"],[\"2016-07-08T17:11:00\",\"2016-07-08T17:30:00\",\"Business\",\"Kenner\",\"New Orleans\",null,17,8,4,7,\"Friday\"],[\"2016-07-09T09:03:00\",\"2016-07-09T09:46:00\",\"Business\",\"New Orleans\",\"Kenner\",null,9,9,5,7,\"Saturday\"],[\"2016-07-09T09:52:00\",\"2016-07-09T10:06:00\",\"Business\",\"Kenner\",\"Metairie\",null,9,9,5,7,\"Saturday\"],[\"2016-07-09T10:15:00\",\"2016-07-09T10:33:00\",\"Business\",\"Metairie\",\"New Orleans\",null,10,9,5,7,\"Saturday\"],[\"2016-07-10T14:10:00\",\"2016-07-10T14:17:00\",\"Business\",\"CBD\",\"St Thomas\",null,14,10,6,7,\"Sunday\"],[\"2016-07-10T16:04:00\",\"2016-07-10T16:15:00\",\"Business\",\"St Thomas\",\"CBD\",null,16,10,6,7,\"Sunday\"],[\"2016-07-10T18:05:00\",\"2016-07-10T18:21:00\",\"Business\",\"New Orleans\",\"Kenner\",null,18,10,6,7,\"Sunday\"],[\"2016-07-10T19:51:00\",\"2016-07-10T20:08:00\",\"Business\",\"Kenner\",\"New Orleans\",null,19,10,6,7,\"Sunday\"],[\"2016-07-12T16:10:00\",\"2016-07-12T16:45:00\",\"Business\",\"New Orleans\",\"Kenner\",null,16,12,1,7,\"Tuesday\"],[\"2016-07-12T19:21:00\",\"2016-07-12T19:26:00\",\"Personal\",\"Kenner\",\"Kenner\",null,19,12,1,7,\"Tuesday\"],[\"2016-07-12T23:47:00\",\"2016-07-13T00:11:00\",\"Personal\",\"Morrisville\",\"Cary\",null,23,12,1,7,\"Tuesday\"],[\"2016-07-13T12:39:00\",\"2016-07-13T13:20:00\",\"Personal\",\"Cary\",\"Morrisville\",null,12,13,2,7,\"Wednesday\"],[\"2016-07-13T13:25:00\",\"2016-07-13T13:39:00\",\"Personal\",\"Morrisville\",\"Morrisville\",null,13,13,2,7,\"Wednesday\"],[\"2016-07-13T13:42:00\",\"2016-07-13T13:54:00\",\"Personal\",\"Morrisville\",\"Cary\",null,13,13,2,7,\"Wednesday\"],[\"2016-07-14T15:51:00\",\"2016-07-14T15:59:00\",\"Personal\",\"Cary\",\"Morrisville\",null,15,14,3,7,\"Thursday\"],[\"2016-07-14T16:03:00\",\"2016-07-14T16:34:00\",\"Business\",\"Morrisville\",\"Morrisville\",\"Errand/Supplies\",16,14,3,7,\"Thursday\"],[\"2016-07-14T16:39:00\",\"2016-07-14T20:05:00\",\"Business\",\"Morrisville\",\"Banner Elk\",null,16,14,3,7,\"Thursday\"],[\"2016-07-15T11:32:00\",\"2016-07-15T11:53:00\",\"Personal\",\"Banner Elk\",\"Banner Elk\",null,11,15,4,7,\"Friday\"],[\"2016-07-15T12:09:00\",\"2016-07-15T12:19:00\",\"Personal\",\"Banner Elk\",\"Banner Elk\",null,12,15,4,7,\"Friday\"],[\"2016-07-15T12:35:00\",\"2016-07-15T13:15:00\",\"Personal\",\"Banner Elk\",\"Elk Park\",null,12,15,4,7,\"Friday\"],[\"2016-07-15T15:03:00\",\"2016-07-15T15:33:00\",\"Personal\",\"Elk Park\",\"Banner Elk\",null,15,15,4,7,\"Friday\"],[\"2016-07-15T15:40:00\",\"2016-07-15T15:52:00\",\"Personal\",\"Banner Elk\",\"Banner Elk\",null,15,15,4,7,\"Friday\"],[\"2016-07-16T13:14:00\",\"2016-07-16T14:10:00\",\"Personal\",\"Banner Elk\",\"Newland\",null,13,16,5,7,\"Saturday\"],[\"2016-07-16T14:14:00\",\"2016-07-16T14:30:00\",\"Personal\",\"Newland\",\"Newland\",null,14,16,5,7,\"Saturday\"],[\"2016-07-16T15:29:00\",\"2016-07-16T16:57:00\",\"Personal\",\"Newland\",\"Boone\",null,15,16,5,7,\"Saturday\"],[\"2016-07-16T19:42:00\",\"2016-07-16T20:35:00\",\"Personal\",\"Boone\",\"Banner Elk\",null,19,16,5,7,\"Saturday\"],[\"2016-07-16T21:45:00\",\"2016-07-16T22:18:00\",\"Personal\",\"Banner Elk\",\"Banner Elk\",null,21,16,5,7,\"Saturday\"],[\"2016-07-16T22:50:00\",\"2016-07-16T23:03:00\",\"Business\",\"Banner Elk\",\"Banner Elk\",\"Errand/Supplies\",22,16,5,7,\"Saturday\"],[\"2016-07-17T11:23:00\",\"2016-07-17T11:50:00\",\"Personal\",\"Banner Elk\",\"Boone\",\"Charity ($)\",11,17,6,7,\"Sunday\"],[\"2016-07-17T12:20:00\",\"2016-07-17T15:25:00\",\"Personal\",\"Boone\",\"Cary\",\"Commute\",12,17,6,7,\"Sunday\"],[\"2016-07-18T10:37:00\",\"2016-07-18T10:49:00\",\"Personal\",\"Cary\",\"Morrisville\",\"Moving\",10,18,0,7,\"Monday\"],[\"2016-07-18T10:54:00\",\"2016-07-18T11:15:00\",\"Personal\",\"Morrisville\",\"Cary\",\"Moving\",10,18,0,7,\"Monday\"],[\"2016-07-18T11:25:00\",\"2016-07-18T11:36:00\",\"Personal\",\"Northwoods\",\"Preston\",\"Moving\",11,18,0,7,\"Monday\"],[\"2016-07-18T11:40:00\",\"2016-07-18T11:56:00\",\"Personal\",\"Preston\",\"Whitebridge\",\"Moving\",11,18,0,7,\"Monday\"],[\"2016-07-18T17:12:00\",\"2016-07-18T17:33:00\",\"Business\",\"Cary\",\"Apex\",\"Meeting\",17,18,0,7,\"Monday\"],[\"2016-07-18T18:32:00\",\"2016-07-18T18:47:00\",\"Business\",\"Apex\",\"Cary\",\"Meal/Entertain\",18,18,0,7,\"Monday\"],[\"2016-07-18T19:07:00\",\"2016-07-18T19:14:00\",\"Business\",\"Cary\",\"Morrisville\",\"Meal/Entertain\",19,18,0,7,\"Monday\"],[\"2016-07-18T20:28:00\",\"2016-07-18T20:32:00\",\"Business\",\"Hazelwood\",\"Weston\",\"Errand/Supplies\",20,18,0,7,\"Monday\"],[\"2016-07-18T21:11:00\",\"2016-07-18T21:19:00\",\"Business\",\"Morrisville\",\"Cary\",\"Meal/Entertain\",21,18,0,7,\"Monday\"],[\"2016-07-19T10:35:00\",\"2016-07-19T10:51:00\",\"Business\",\"Whitebridge\",\"Stonewater\",\"Customer Visit\",10,19,1,7,\"Tuesday\"],[\"2016-07-19T10:56:00\",\"2016-07-19T11:11:00\",\"Business\",\"Stonewater\",\"Lexington Park at Amberly\",\"Meeting\",10,19,1,7,\"Tuesday\"],[\"2016-07-19T11:30:00\",\"2016-07-19T12:00:00\",\"Business\",\"Lexington Park at Amberly\",\"Whitebridge\",\"Meal/Entertain\",11,19,1,7,\"Tuesday\"],[\"2016-07-19T17:14:00\",\"2016-07-19T17:24:00\",\"Business\",\"Whitebridge\",\"Chessington\",\"Errand/Supplies\",17,19,1,7,\"Tuesday\"],[\"2016-07-19T17:50:00\",\"2016-07-19T18:08:00\",\"Personal\",\"Chessington\",\"Whitebridge\",null,17,19,1,7,\"Tuesday\"],[\"2016-07-20T17:12:00\",\"2016-07-20T17:24:00\",\"Personal\",\"Whitebridge\",\"Edgehill Farms\",null,17,20,2,7,\"Wednesday\"],[\"2016-07-20T17:50:00\",\"2016-07-20T17:57:00\",\"Personal\",\"Edgehill Farms\",\"Preston\",null,17,20,2,7,\"Wednesday\"],[\"2016-07-20T18:16:00\",\"2016-07-20T18:20:00\",\"Personal\",\"Preston\",\"Whitebridge\",null,18,20,2,7,\"Wednesday\"],[\"2016-07-21T17:17:00\",\"2016-07-21T17:23:00\",\"Business\",\"Whitebridge\",\"Edgehill Farms\",null,17,21,3,7,\"Thursday\"],[\"2016-07-21T17:42:00\",\"2016-07-21T17:51:00\",\"Business\",\"Edgehill Farms\",\"Burtrose\",null,17,21,3,7,\"Thursday\"],[\"2016-07-21T18:27:00\",\"2016-07-21T18:42:00\",\"Business\",\"Cary\",\"Morrisville\",null,18,21,3,7,\"Thursday\"],[\"2016-07-21T19:30:00\",\"2016-07-21T19:39:00\",\"Business\",\"Morrisville\",\"Cary\",null,19,21,3,7,\"Thursday\"],[\"2016-07-22T10:42:00\",\"2016-07-22T10:53:00\",\"Business\",\"Cary\",\"Morrisville\",null,10,22,4,7,\"Friday\"],[\"2016-07-22T11:11:00\",\"2016-07-22T11:25:00\",\"Business\",\"Morrisville\",\"Cary\",null,11,22,4,7,\"Friday\"],[\"2016-07-22T11:37:00\",\"2016-07-22T12:00:00\",\"Business\",\"Hazelwood\",\"Lexington Park at Amberly\",null,11,22,4,7,\"Friday\"],[\"2016-07-22T12:14:00\",\"2016-07-22T12:31:00\",\"Business\",\"Cary\",\"Durham\",null,12,22,4,7,\"Friday\"],[\"2016-07-22T13:21:00\",\"2016-07-22T13:42:00\",\"Business\",\"Durham\",\"Cary\",\"Meeting\",13,22,4,7,\"Friday\"],[\"2016-07-22T14:27:00\",\"2016-07-22T14:43:00\",\"Business\",\"Cary\",\"Morrisville\",\"Meal/Entertain\",14,22,4,7,\"Friday\"],[\"2016-07-22T15:49:00\",\"2016-07-22T16:22:00\",\"Business\",\"Morrisville\",\"Cary\",null,15,22,4,7,\"Friday\"],[\"2016-07-22T18:33:00\",\"2016-07-22T18:51:00\",\"Business\",\"Wayne Ridge\",\"Whitebridge\",null,18,22,4,7,\"Friday\"],[\"2016-07-23T14:27:00\",\"2016-07-23T14:44:00\",\"Business\",\"Cary\",\"Morrisville\",null,14,23,5,7,\"Saturday\"],[\"2016-07-23T14:48:00\",\"2016-07-23T15:12:00\",\"Business\",\"Morrisville\",\"Cary\",null,14,23,5,7,\"Saturday\"],[\"2016-07-23T15:15:00\",\"2016-07-23T15:27:00\",\"Business\",\"Cary\",\"Morrisville\",null,15,23,5,7,\"Saturday\"],[\"2016-07-23T15:50:00\",\"2016-07-23T16:10:00\",\"Business\",\"Morrisville\",\"Cary\",null,15,23,5,7,\"Saturday\"],[\"2016-07-23T20:17:00\",\"2016-07-23T20:33:00\",\"Business\",\"Cary\",\"Durham\",\"Meeting\",20,23,5,7,\"Saturday\"],[\"2016-07-23T23:18:00\",\"2016-07-23T23:43:00\",\"Business\",\"Durham\",\"Cary\",\"Meeting\",23,23,5,7,\"Saturday\"],[\"2016-07-25T10:35:00\",\"2016-07-25T10:41:00\",\"Business\",\"Whitebridge\",\"Parkway\",null,10,25,0,7,\"Monday\"],[\"2016-07-25T10:47:00\",\"2016-07-25T10:58:00\",\"Business\",\"Cary\",\"Morrisville\",null,10,25,0,7,\"Monday\"],[\"2016-07-25T11:04:00\",\"2016-07-25T11:33:00\",\"Business\",\"Morrisville\",\"Cary\",null,11,25,0,7,\"Monday\"],[\"2016-07-25T11:37:00\",\"2016-07-25T11:44:00\",\"Business\",\"Parkway\",\"Whitebridge\",null,11,25,0,7,\"Monday\"],[\"2016-07-26T15:43:00\",\"2016-07-26T15:49:00\",\"Business\",\"Whitebridge\",\"Westpark Place\",null,15,26,1,7,\"Tuesday\"],[\"2016-07-26T17:14:00\",\"2016-07-26T17:24:00\",\"Business\",\"Westpark Place\",\"Whitebridge\",null,17,26,1,7,\"Tuesday\"],[\"2016-07-26T20:52:00\",\"2016-07-26T21:00:00\",\"Business\",\"Cary\",\"Morrisville\",\"Meal/Entertain\",20,26,1,7,\"Tuesday\"],[\"2016-07-26T22:31:00\",\"2016-07-26T22:39:00\",\"Business\",\"Morrisville\",\"Cary\",\"Meal/Entertain\",22,26,1,7,\"Tuesday\"],[\"2016-07-27T19:08:00\",\"2016-07-27T19:20:00\",\"Business\",\"Cary\",\"Morrisville\",null,19,27,2,7,\"Wednesday\"],[\"2016-07-27T21:34:00\",\"2016-07-27T21:57:00\",\"Business\",\"Morrisville\",\"Raleigh\",null,21,27,2,7,\"Wednesday\"],[\"2016-07-27T22:00:00\",\"2016-07-27T22:26:00\",\"Business\",\"Raleigh\",\"Morrisville\",null,22,27,2,7,\"Wednesday\"],[\"2016-07-28T00:04:00\",\"2016-07-28T00:09:00\",\"Business\",\"Morrisville\",\"Cary\",null,0,28,3,7,\"Thursday\"],[\"2016-07-29T15:45:00\",\"2016-07-29T15:47:00\",\"Business\",\"Whitebridge\",\"Westpark Place\",null,15,29,4,7,\"Friday\"],[\"2016-07-29T17:27:00\",\"2016-07-29T17:45:00\",\"Business\",\"Westpark Place\",\"Whitebridge\",\"Meal/Entertain\",17,29,4,7,\"Friday\"],[\"2016-07-30T17:02:00\",\"2016-07-30T17:27:00\",\"Business\",\"Cary\",\"Durham\",null,17,30,5,7,\"Saturday\"],[\"2016-07-30T21:16:00\",\"2016-07-30T21:41:00\",\"Business\",\"Durham\",\"Cary\",null,21,30,5,7,\"Saturday\"],[\"2016-07-31T17:30:00\",\"2016-07-31T17:37:00\",\"Business\",\"Westpark Place\",\"Whitebridge\",null,17,31,6,7,\"Sunday\"],[\"2016-08-01T12:47:00\",\"2016-08-01T13:04:00\",\"Business\",\"Whitebridge\",\"Arlington Park at Amberly\",null,12,1,0,8,\"Monday\"],[\"2016-08-01T13:08:00\",\"2016-08-01T13:19:00\",\"Business\",\"Arlington Park at Amberly\",\"Lexington Park at Amberly\",null,13,1,0,8,\"Monday\"],[\"2016-08-01T13:28:00\",\"2016-08-01T13:46:00\",\"Business\",\"Lexington Park at Amberly\",\"Westpark Place\",null,13,1,0,8,\"Monday\"],[\"2016-08-01T13:52:00\",\"2016-08-01T14:14:00\",\"Business\",\"Cary\",\"Apex\",null,13,1,0,8,\"Monday\"],[\"2016-08-01T15:40:00\",\"2016-08-01T15:47:00\",\"Business\",\"Apex\",\"Cary\",null,15,1,0,8,\"Monday\"],[\"2016-08-01T16:18:00\",\"2016-08-01T16:25:00\",\"Business\",\"Whitebridge\",\"Edgehill Farms\",null,16,1,0,8,\"Monday\"],[\"2016-08-01T16:29:00\",\"2016-08-01T16:59:00\",\"Business\",\"Cary\",\"Morrisville\",null,16,1,0,8,\"Monday\"],[\"2016-08-01T17:23:00\",\"2016-08-01T17:55:00\",\"Business\",\"Morrisville\",\"Cary\",null,17,1,0,8,\"Monday\"],[\"2016-08-02T08:11:00\",\"2016-08-02T08:32:00\",\"Business\",\"Cary\",\"Morrisville\",\"Meeting\",8,2,1,8,\"Tuesday\"],[\"2016-08-02T11:51:00\",\"2016-08-02T12:15:00\",\"Business\",\"Arlington\",\"Washington\",null,11,2,1,8,\"Tuesday\"],[\"2016-08-02T19:15:00\",\"2016-08-02T19:23:00\",\"Business\",\"Kalorama Triangle\",\"K Street\",null,19,2,1,8,\"Tuesday\"],[\"2016-08-02T21:23:00\",\"2016-08-02T21:29:00\",\"Business\",\"K Street\",\"Kalorama Triangle\",null,21,2,1,8,\"Tuesday\"],[\"2016-08-03T12:46:00\",\"2016-08-03T13:00:00\",\"Business\",\"West End\",\"Northwest Rectangle\",null,12,3,2,8,\"Wednesday\"],[\"2016-08-03T14:59:00\",\"2016-08-03T15:03:00\",\"Business\",\"K Street\",\"Kalorama Triangle\",null,14,3,2,8,\"Wednesday\"],[\"2016-08-03T16:00:00\",\"2016-08-03T16:04:00\",\"Business\",\"Kalorama Triangle\",\"Downtown\",null,16,3,2,8,\"Wednesday\"],[\"2016-08-05T17:23:00\",\"2016-08-05T17:30:00\",\"Business\",\"Connecticut Avenue\",\"Kalorama Triangle\",null,17,5,4,8,\"Friday\"],[\"2016-08-05T18:17:00\",\"2016-08-05T18:21:00\",\"Business\",\"Kalorama Triangle\",\"Columbia Heights\",null,18,5,4,8,\"Friday\"],[\"2016-08-05T19:17:00\",\"2016-08-05T19:27:00\",\"Business\",\"Columbia Heights\",\"Kalorama Triangle\",null,19,5,4,8,\"Friday\"],[\"2016-08-06T06:40:00\",\"2016-08-06T06:58:00\",\"Business\",\"Washington\",\"Arlington\",null,6,6,5,8,\"Saturday\"],[\"2016-08-06T09:31:00\",\"2016-08-06T09:53:00\",\"Business\",\"Morrisville\",\"Cary\",null,9,6,5,8,\"Saturday\"],[\"2016-08-07T17:14:00\",\"2016-08-07T17:23:00\",\"Business\",\"Whitebridge\",\"Edgehill Farms\",null,17,7,6,8,\"Sunday\"],[\"2016-08-07T17:28:00\",\"2016-08-07T17:43:00\",\"Business\",\"Edgehill Farms\",\"Whitebridge\",\"Customer Visit\",17,7,6,8,\"Sunday\"],[\"2016-08-07T18:17:00\",\"2016-08-07T18:23:00\",\"Business\",\"Cary\",\"Morrisville\",null,18,7,6,8,\"Sunday\"],[\"2016-08-07T20:15:00\",\"2016-08-07T20:23:00\",\"Business\",\"Morrisville\",\"Cary\",\"Meal/Entertain\",20,7,6,8,\"Sunday\"],[\"2016-08-08T16:17:00\",\"2016-08-08T16:31:00\",\"Business\",\"Whitebridge\",\"Farmington Woods\",null,16,8,0,8,\"Monday\"],[\"2016-08-08T16:37:00\",\"2016-08-08T16:50:00\",\"Business\",\"Farmington Woods\",\"Edgehill Farms\",null,16,8,0,8,\"Monday\"],[\"2016-08-08T17:02:00\",\"2016-08-08T17:13:00\",\"Business\",\"Edgehill Farms\",\"Whitebridge\",\"Customer Visit\",17,8,0,8,\"Monday\"],[\"2016-08-08T21:50:00\",\"2016-08-08T22:15:00\",\"Business\",\"Cary\",\"Morrisville\",null,21,8,0,8,\"Monday\"],[\"2016-08-08T23:28:00\",\"2016-08-08T23:37:00\",\"Business\",\"Morrisville\",\"Cary\",\"Customer Visit\",23,8,0,8,\"Monday\"],[\"2016-08-09T14:20:00\",\"2016-08-09T14:38:00\",\"Business\",\"Whitebridge\",\"Waverly Place\",null,14,9,1,8,\"Tuesday\"],[\"2016-08-09T15:15:00\",\"2016-08-09T15:36:00\",\"Business\",\"Cary\",\"Raleigh\",null,15,9,1,8,\"Tuesday\"],[\"2016-08-09T16:04:00\",\"2016-08-09T16:37:00\",\"Business\",\"Raleigh\",\"Cary\",null,16,9,1,8,\"Tuesday\"],[\"2016-08-10T16:56:00\",\"2016-08-10T17:24:00\",\"Business\",\"Cary\",\"Durham\",null,16,10,2,8,\"Wednesday\"],[\"2016-08-10T17:53:00\",\"2016-08-10T18:28:00\",\"Business\",\"Durham\",\"Apex\",null,17,10,2,8,\"Wednesday\"],[\"2016-08-10T18:49:00\",\"2016-08-10T18:50:00\",\"Business\",\"Apex\",\"Apex\",null,18,10,2,8,\"Wednesday\"],[\"2016-08-10T19:47:00\",\"2016-08-10T20:02:00\",\"Business\",\"Apex\",\"Cary\",null,19,10,2,8,\"Wednesday\"],[\"2016-08-11T12:53:00\",\"2016-08-11T13:00:00\",\"Business\",\"Whitebridge\",\"Heritage Pines\",null,12,11,3,8,\"Thursday\"],[\"2016-08-11T13:14:00\",\"2016-08-11T13:28:00\",\"Business\",\"Heritage Pines\",\"Edgehill Farms\",null,13,11,3,8,\"Thursday\"],[\"2016-08-11T13:32:00\",\"2016-08-11T13:42:00\",\"Business\",\"Edgehill Farms\",\"Whitebridge\",null,13,11,3,8,\"Thursday\"],[\"2016-08-11T18:37:00\",\"2016-08-11T19:29:00\",\"Business\",\"Cary\",\"Wake Forest\",null,18,11,3,8,\"Thursday\"],[\"2016-08-11T20:59:00\",\"2016-08-11T21:44:00\",\"Business\",\"Wake Forest\",\"Cary\",null,20,11,3,8,\"Thursday\"],[\"2016-08-12T18:49:00\",\"2016-08-12T18:52:00\",\"Business\",\"Whitebridge\",\"Westpark Place\",null,18,12,4,8,\"Friday\"],[\"2016-08-12T18:56:00\",\"2016-08-12T19:05:00\",\"Business\",\"Westpark Place\",\"Whitebridge\",null,18,12,4,8,\"Friday\"],[\"2016-08-13T15:35:00\",\"2016-08-13T15:58:00\",\"Business\",\"Cary\",\"Morrisville\",\"Meeting\",15,13,5,8,\"Saturday\"],[\"2016-08-15T09:05:00\",\"2016-08-15T09:52:00\",\"Business\",\"R?walpindi\",\"Unknown Location\",null,9,15,0,8,\"Monday\"],[\"2016-08-15T15:20:00\",\"2016-08-15T15:47:00\",\"Business\",\"Unknown Location\",\"Unknown Location\",null,15,15,0,8,\"Monday\"],[\"2016-08-15T16:52:00\",\"2016-08-15T17:30:00\",\"Business\",\"Unknown Location\",\"Unknown Location\",null,16,15,0,8,\"Monday\"],[\"2016-08-15T19:08:00\",\"2016-08-15T20:30:00\",\"Business\",\"Unknown Location\",\"Unknown Location\",\"Temporary Site\",19,15,0,8,\"Monday\"],[\"2016-08-16T07:58:00\",\"2016-08-16T08:11:00\",\"Business\",\"Unknown Location\",\"Unknown Location\",null,7,16,1,8,\"Tuesday\"],[\"2016-08-16T08:16:00\",\"2016-08-16T08:23:00\",\"Business\",\"Unknown Location\",\"Unknown Location\",null,8,16,1,8,\"Tuesday\"],[\"2016-08-16T08:46:00\",\"2016-08-16T08:53:00\",\"Business\",\"Unknown Location\",\"Unknown Location\",null,8,16,1,8,\"Tuesday\"],[\"2016-08-16T10:06:00\",\"2016-08-16T10:27:00\",\"Business\",\"Unknown Location\",\"Islamabad\",null,10,16,1,8,\"Tuesday\"],[\"2016-08-16T10:31:00\",\"2016-08-16T10:38:00\",\"Business\",\"Islamabad\",\"Islamabad\",null,10,16,1,8,\"Tuesday\"],[\"2016-08-16T11:47:00\",\"2016-08-16T12:03:00\",\"Business\",\"Islamabad\",\"Unknown Location\",\"Temporary Site\",11,16,1,8,\"Tuesday\"],[\"2016-08-16T15:13:00\",\"2016-08-16T15:36:00\",\"Business\",\"Unknown Location\",\"Unknown Location\",null,15,16,1,8,\"Tuesday\"],[\"2016-08-17T10:17:00\",\"2016-08-17T10:41:00\",\"Business\",\"Unknown Location\",\"Unknown Location\",null,10,17,2,8,\"Wednesday\"],[\"2016-08-17T10:57:00\",\"2016-08-17T11:20:00\",\"Business\",\"Unknown Location\",\"Unknown Location\",null,10,17,2,8,\"Wednesday\"],[\"2016-08-17T14:45:00\",\"2016-08-17T14:50:00\",\"Business\",\"Unknown Location\",\"R?walpindi\",null,14,17,2,8,\"Wednesday\"],[\"2016-08-17T15:32:00\",\"2016-08-17T15:47:00\",\"Business\",\"R?walpindi\",\"Islamabad\",null,15,17,2,8,\"Wednesday\"],[\"2016-08-17T16:29:00\",\"2016-08-17T16:50:00\",\"Business\",\"Islamabad\",\"Unknown Location\",null,16,17,2,8,\"Wednesday\"],[\"2016-08-17T16:54:00\",\"2016-08-17T17:00:00\",\"Business\",\"Unknown Location\",\"Unknown Location\",null,16,17,2,8,\"Wednesday\"],[\"2016-08-17T17:05:00\",\"2016-08-17T17:34:00\",\"Business\",\"Unknown Location\",\"Unknown Location\",null,17,17,2,8,\"Wednesday\"],[\"2016-08-17T18:38:00\",\"2016-08-17T18:57:00\",\"Business\",\"Unknown Location\",\"Unknown Location\",\"Temporary Site\",18,17,2,8,\"Wednesday\"],[\"2016-08-18T18:40:00\",\"2016-08-18T19:07:00\",\"Business\",\"Unknown Location\",\"Unknown Location\",\"Temporary Site\",18,18,3,8,\"Thursday\"],[\"2016-08-19T08:24:00\",\"2016-08-19T08:45:00\",\"Business\",\"Unknown Location\",\"Noorpur Shahan\",null,8,19,4,8,\"Friday\"],[\"2016-08-19T08:54:00\",\"2016-08-19T09:07:00\",\"Business\",\"Noorpur Shahan\",\"Islamabad\",null,8,19,4,8,\"Friday\"],[\"2016-08-19T09:27:00\",\"2016-08-19T09:47:00\",\"Business\",\"Islamabad\",\"R?walpindi\",null,9,19,4,8,\"Friday\"],[\"2016-08-19T10:57:00\",\"2016-08-19T11:06:00\",\"Business\",\"R?walpindi\",\"Unknown Location\",null,10,19,4,8,\"Friday\"],[\"2016-08-19T12:07:00\",\"2016-08-19T12:24:00\",\"Business\",\"Unknown Location\",\"Islamabad\",null,12,19,4,8,\"Friday\"],[\"2016-08-19T15:51:00\",\"2016-08-19T16:06:00\",\"Business\",\"Islamabad\",\"Islamabad\",null,15,19,4,8,\"Friday\"],[\"2016-08-19T17:12:00\",\"2016-08-19T17:52:00\",\"Business\",\"Islamabad\",\"Unknown Location\",null,17,19,4,8,\"Friday\"],[\"2016-08-21T10:00:00\",\"2016-08-21T10:29:00\",\"Business\",\"Unknown Location\",\"Unknown Location\",\"Airport/Travel\",10,21,6,8,\"Sunday\"],[\"2016-08-21T14:05:00\",\"2016-08-21T14:34:00\",\"Business\",\"Unknown Location\",\"Unknown Location\",null,14,21,6,8,\"Sunday\"],[\"2016-08-21T16:30:00\",\"2016-08-21T17:02:00\",\"Business\",\"Unknown Location\",\"Islamabad\",null,16,21,6,8,\"Sunday\"],[\"2016-08-21T18:10:00\",\"2016-08-21T18:17:00\",\"Business\",\"Islamabad\",\"Islamabad\",null,18,21,6,8,\"Sunday\"],[\"2016-08-21T18:48:00\",\"2016-08-21T19:24:00\",\"Business\",\"Islamabad\",\"Unknown Location\",null,18,21,6,8,\"Sunday\"],[\"2016-08-22T10:00:00\",\"2016-08-22T10:44:00\",\"Business\",\"Unknown Location\",\"Islamabad\",null,10,22,0,8,\"Monday\"],[\"2016-08-22T11:07:00\",\"2016-08-22T11:23:00\",\"Business\",\"Islamabad\",\"Unknown Location\",null,11,22,0,8,\"Monday\"],[\"2016-08-22T12:36:00\",\"2016-08-22T12:49:00\",\"Business\",\"Unknown Location\",\"Islamabad\",null,12,22,0,8,\"Monday\"],[\"2016-08-22T13:02:00\",\"2016-08-22T13:11:00\",\"Business\",\"Islamabad\",\"Islamabad\",null,13,22,0,8,\"Monday\"],[\"2016-08-22T14:07:00\",\"2016-08-22T14:31:00\",\"Business\",\"Islamabad\",\"Unknown Location\",null,14,22,0,8,\"Monday\"],[\"2016-08-22T15:14:00\",\"2016-08-22T15:49:00\",\"Business\",\"Unknown Location\",\"Unknown Location\",null,15,22,0,8,\"Monday\"],[\"2016-08-22T15:59:00\",\"2016-08-22T17:16:00\",\"Business\",\"Unknown Location\",\"Unknown Location\",null,15,22,0,8,\"Monday\"],[\"2016-08-22T19:58:00\",\"2016-08-22T20:50:00\",\"Business\",\"Unknown Location\",\"R?walpindi\",null,19,22,0,8,\"Monday\"],[\"2016-08-22T20:53:00\",\"2016-08-22T21:31:00\",\"Business\",\"R?walpindi\",\"R?walpindi\",null,20,22,0,8,\"Monday\"],[\"2016-08-22T22:31:00\",\"2016-08-22T23:00:00\",\"Business\",\"R?walpindi\",\"Unknown Location\",null,22,22,0,8,\"Monday\"],[\"2016-08-23T08:10:00\",\"2016-08-23T08:25:00\",\"Business\",\"Unknown Location\",\"Noorpur Shahan\",null,8,23,1,8,\"Tuesday\"],[\"2016-08-23T09:35:00\",\"2016-08-23T10:09:00\",\"Business\",\"Noorpur Shahan\",\"Unknown Location\",null,9,23,1,8,\"Tuesday\"],[\"2016-08-23T12:59:00\",\"2016-08-23T13:15:00\",\"Business\",\"Unknown Location\",\"Noorpur Shahan\",null,12,23,1,8,\"Tuesday\"],[\"2016-08-23T13:19:00\",\"2016-08-23T13:30:00\",\"Business\",\"Noorpur Shahan\",\"Islamabad\",null,13,23,1,8,\"Tuesday\"],[\"2016-08-23T13:49:00\",\"2016-08-23T14:04:00\",\"Business\",\"Islamabad\",\"Unknown Location\",null,13,23,1,8,\"Tuesday\"],[\"2016-08-23T15:07:00\",\"2016-08-23T15:12:00\",\"Business\",\"Unknown Location\",\"Unknown Location\",null,15,23,1,8,\"Tuesday\"],[\"2016-08-23T15:15:00\",\"2016-08-23T17:16:00\",\"Business\",\"Unknown Location\",\"Unknown Location\",null,15,23,1,8,\"Tuesday\"],[\"2016-08-23T17:42:00\",\"2016-08-23T18:31:00\",\"Business\",\"Unknown Location\",\"Unknown Location\",null,17,23,1,8,\"Tuesday\"],[\"2016-08-24T12:05:00\",\"2016-08-24T12:56:00\",\"Business\",\"Unknown Location\",\"Unknown Location\",null,12,24,2,8,\"Wednesday\"],[\"2016-08-24T13:01:00\",\"2016-08-24T15:25:00\",\"Business\",\"Unknown Location\",\"Unknown Location\",null,13,24,2,8,\"Wednesday\"],[\"2016-08-25T15:17:00\",\"2016-08-25T16:22:00\",\"Business\",\"Unknown Location\",\"Unknown Location\",null,15,25,3,8,\"Thursday\"],[\"2016-08-25T16:36:00\",\"2016-08-25T16:56:00\",\"Business\",\"Unknown Location\",\"Unknown Location\",null,16,25,3,8,\"Thursday\"],[\"2016-08-25T17:19:00\",\"2016-08-25T19:20:00\",\"Business\",\"Unknown Location\",\"Unknown Location\",null,17,25,3,8,\"Thursday\"],[\"2016-08-25T19:25:00\",\"2016-08-25T19:57:00\",\"Business\",\"Unknown Location\",\"Lahore\",null,19,25,3,8,\"Thursday\"],[\"2016-08-25T22:58:00\",\"2016-08-25T23:16:00\",\"Business\",\"Lahore\",\"Unknown Location\",null,22,25,3,8,\"Thursday\"],[\"2016-08-26T09:06:00\",\"2016-08-26T09:20:00\",\"Business\",\"Unknown Location\",\"Unknown Location\",null,9,26,4,8,\"Friday\"],[\"2016-08-26T11:14:00\",\"2016-08-26T11:26:00\",\"Business\",\"Unknown Location\",\"Unknown Location\",null,11,26,4,8,\"Friday\"],[\"2016-08-26T12:10:00\",\"2016-08-26T12:20:00\",\"Business\",\"Unknown Location\",\"Lahore\",null,12,26,4,8,\"Friday\"],[\"2016-08-26T14:10:00\",\"2016-08-26T14:33:00\",\"Business\",\"Lahore\",\"Lahore\",null,14,26,4,8,\"Friday\"],[\"2016-08-26T15:23:00\",\"2016-08-26T15:35:00\",\"Business\",\"Lahore\",\"Lahore\",null,15,26,4,8,\"Friday\"],[\"2016-08-26T15:59:00\",\"2016-08-26T16:24:00\",\"Business\",\"Lahore\",\"Unknown Location\",null,15,26,4,8,\"Friday\"],[\"2016-08-26T16:55:00\",\"2016-08-26T17:12:00\",\"Business\",\"Unknown Location\",\"Lahore\",null,16,26,4,8,\"Friday\"],[\"2016-08-26T18:42:00\",\"2016-08-26T18:56:00\",\"Business\",\"Lahore\",\"Lahore\",null,18,26,4,8,\"Friday\"],[\"2016-08-26T19:31:00\",\"2016-08-26T19:54:00\",\"Business\",\"Lahore\",\"Lahore\",null,19,26,4,8,\"Friday\"],[\"2016-08-26T20:06:00\",\"2016-08-26T20:16:00\",\"Business\",\"Lahore\",\"Unknown Location\",null,20,26,4,8,\"Friday\"],[\"2016-08-27T09:34:00\",\"2016-08-27T10:11:00\",\"Business\",\"Unknown Location\",\"Lahore\",null,9,27,5,8,\"Saturday\"],[\"2016-08-27T11:47:00\",\"2016-08-27T12:06:00\",\"Business\",\"Lahore\",\"Lahore\",null,11,27,5,8,\"Saturday\"],[\"2016-08-27T12:12:00\",\"2016-08-27T12:17:00\",\"Business\",\"Lahore\",\"Lahore\",null,12,27,5,8,\"Saturday\"],[\"2016-08-27T14:01:00\",\"2016-08-27T15:44:00\",\"Business\",\"Lahore\",\"Unknown Location\",null,14,27,5,8,\"Saturday\"],[\"2016-08-27T16:15:00\",\"2016-08-27T19:13:00\",\"Business\",\"Unknown Location\",\"Unknown Location\",null,16,27,5,8,\"Saturday\"],[\"2016-08-28T09:57:00\",\"2016-08-28T10:18:00\",\"Business\",\"Unknown Location\",\"Noorpur Shahan\",null,9,28,6,8,\"Sunday\"],[\"2016-08-28T16:39:00\",\"2016-08-28T16:55:00\",\"Business\",\"Noorpur Shahan\",\"Islamabad\",null,16,28,6,8,\"Sunday\"],[\"2016-08-28T17:37:00\",\"2016-08-28T17:55:00\",\"Business\",\"Islamabad\",\"Islamabad\",null,17,28,6,8,\"Sunday\"],[\"2016-08-28T21:15:00\",\"2016-08-28T21:59:00\",\"Business\",\"Islamabad\",\"Unknown Location\",null,21,28,6,8,\"Sunday\"],[\"2016-08-29T12:02:00\",\"2016-08-29T12:31:00\",\"Business\",\"Unknown Location\",\"Islamabad\",null,12,29,0,8,\"Monday\"],[\"2016-08-29T13:38:00\",\"2016-08-29T13:48:00\",\"Business\",\"Islamabad\",\"Islamabad\",null,13,29,0,8,\"Monday\"],[\"2016-08-29T14:31:00\",\"2016-08-29T14:41:00\",\"Business\",\"Islamabad\",\"Islamabad\",null,14,29,0,8,\"Monday\"],[\"2016-08-29T14:49:00\",\"2016-08-29T15:04:00\",\"Business\",\"Islamabad\",\"Unknown Location\",\"Temporary Site\",14,29,0,8,\"Monday\"],[\"2016-08-29T15:49:00\",\"2016-08-29T15:59:00\",\"Business\",\"Unknown Location\",\"Islamabad\",null,15,29,0,8,\"Monday\"],[\"2016-08-29T16:06:00\",\"2016-08-29T16:21:00\",\"Business\",\"Islamabad\",\"Unknown Location\",null,16,29,0,8,\"Monday\"],[\"2016-08-29T17:24:00\",\"2016-08-29T17:41:00\",\"Business\",\"Unknown Location\",\"Islamabad\",null,17,29,0,8,\"Monday\"],[\"2016-08-29T18:27:00\",\"2016-08-29T18:36:00\",\"Business\",\"Islamabad\",\"Islamabad\",null,18,29,0,8,\"Monday\"],[\"2016-08-30T11:53:00\",\"2016-08-30T12:05:00\",\"Business\",\"Unknown Location\",\"Unknown Location\",null,11,30,1,8,\"Tuesday\"],[\"2016-08-30T12:46:00\",\"2016-08-30T13:09:00\",\"Business\",\"Unknown Location\",\"Islamabad\",null,12,30,1,8,\"Tuesday\"],[\"2016-08-30T13:25:00\",\"2016-08-30T13:46:00\",\"Business\",\"Islamabad\",\"Islamabad\",null,13,30,1,8,\"Tuesday\"],[\"2016-08-30T14:00:00\",\"2016-08-30T14:20:00\",\"Business\",\"Islamabad\",\"Unknown Location\",null,14,30,1,8,\"Tuesday\"],[\"2016-08-30T17:27:00\",\"2016-08-30T18:09:00\",\"Business\",\"Unknown Location\",\"Unknown Location\",null,17,30,1,8,\"Tuesday\"],[\"2016-09-01T11:51:00\",\"2016-09-01T12:24:00\",\"Business\",\"Unknown Location\",\"Islamabad\",null,11,1,3,9,\"Thursday\"],[\"2016-09-01T17:21:00\",\"2016-09-01T17:36:00\",\"Business\",\"Islamabad\",\"Unknown Location\",null,17,1,3,9,\"Thursday\"],[\"2016-09-01T18:49:00\",\"2016-09-01T19:08:00\",\"Business\",\"Unknown Location\",\"Unknown Location\",null,18,1,3,9,\"Thursday\"],[\"2016-09-02T11:37:00\",\"2016-09-02T12:24:00\",\"Business\",\"Unknown Location\",\"Islamabad\",null,11,2,4,9,\"Friday\"],[\"2016-09-02T18:56:00\",\"2016-09-02T19:37:00\",\"Business\",\"Unknown Location\",\"Unknown Location\",null,18,2,4,9,\"Friday\"],[\"2016-09-05T10:25:00\",\"2016-09-05T10:44:00\",\"Business\",\"Unknown Location\",\"R?walpindi\",null,10,5,0,9,\"Monday\"],[\"2016-09-06T17:49:00\",\"2016-09-06T17:49:00\",\"Business\",\"Unknown Location\",\"Unknown Location\",null,17,6,1,9,\"Tuesday\"],[\"2016-09-10T10:28:00\",\"2016-09-10T10:45:00\",\"Business\",\"Unknown Location\",\"Unknown Location\",null,10,10,5,9,\"Saturday\"],[\"2016-09-11T09:51:00\",\"2016-09-11T09:55:00\",\"Business\",\"Unknown Location\",\"Unknown Location\",null,9,11,6,9,\"Sunday\"],[\"2016-09-11T21:40:00\",\"2016-09-11T21:42:00\",\"Business\",\"Unknown Location\",\"Unknown Location\",null,21,11,6,9,\"Sunday\"],[\"2016-09-12T08:07:00\",\"2016-09-12T08:12:00\",\"Business\",\"Unknown Location\",\"Unknown Location\",null,8,12,0,9,\"Monday\"],[\"2016-09-12T11:15:00\",\"2016-09-12T11:24:00\",\"Business\",\"Unknown Location\",\"Unknown Location\",null,11,12,0,9,\"Monday\"],[\"2016-09-12T13:04:00\",\"2016-09-12T13:44:00\",\"Business\",\"Unknown Location\",\"Unknown Location\",null,13,12,0,9,\"Monday\"],[\"2016-09-13T16:56:00\",\"2016-09-13T17:02:00\",\"Business\",\"Unknown Location\",\"Unknown Location\",null,16,13,1,9,\"Tuesday\"],[\"2016-09-14T11:55:00\",\"2016-09-14T11:59:00\",\"Business\",\"Unknown Location\",\"Unknown Location\",null,11,14,2,9,\"Wednesday\"],[\"2016-09-15T20:33:00\",\"2016-09-15T20:38:00\",\"Business\",\"Unknown Location\",\"Unknown Location\",null,20,15,3,9,\"Thursday\"],[\"2016-09-16T07:08:00\",\"2016-09-16T07:08:00\",\"Business\",\"Unknown Location\",\"Unknown Location\",null,7,16,4,9,\"Friday\"],[\"2016-09-18T18:07:00\",\"2016-09-18T18:11:00\",\"Business\",\"Unknown Location\",\"Unknown Location\",null,18,18,6,9,\"Sunday\"],[\"2016-09-19T06:18:00\",\"2016-09-19T06:49:00\",\"Business\",\"R?walpindi\",\"Unknown Location\",null,6,19,0,9,\"Monday\"],[\"2016-09-19T14:40:00\",\"2016-09-19T14:56:00\",\"Business\",\"Unknown Location\",\"Islamabad\",null,14,19,0,9,\"Monday\"],[\"2016-09-19T16:23:00\",\"2016-09-19T16:31:00\",\"Business\",\"Islamabad\",\"Unknown Location\",null,16,19,0,9,\"Monday\"],[\"2016-09-19T17:36:00\",\"2016-09-19T18:20:00\",\"Business\",\"Unknown Location\",\"Unknown Location\",null,17,19,0,9,\"Monday\"],[\"2016-09-19T19:10:00\",\"2016-09-19T19:49:00\",\"Business\",\"Unknown Location\",\"Islamabad\",null,19,19,0,9,\"Monday\"],[\"2016-09-20T11:29:00\",\"2016-09-20T11:48:00\",\"Business\",\"Islamabad\",\"Unknown Location\",null,11,20,1,9,\"Tuesday\"],[\"2016-09-20T20:47:00\",\"2016-09-20T22:47:00\",\"Business\",\"Unknown Location\",\"R?walpindi\",null,20,20,1,9,\"Tuesday\"],[\"2016-09-23T13:15:00\",\"2016-09-23T13:40:00\",\"Business\",\"Karachi\",\"Karachi\",null,13,23,4,9,\"Friday\"],[\"2016-09-24T14:34:00\",\"2016-09-24T15:15:00\",\"Business\",\"Karachi\",\"Unknown Location\",null,14,24,5,9,\"Saturday\"],[\"2016-09-24T20:29:00\",\"2016-09-24T20:33:00\",\"Business\",\"Unknown Location\",\"Unknown Location\",null,20,24,5,9,\"Saturday\"],[\"2016-09-27T08:33:00\",\"2016-09-27T08:35:00\",\"Business\",\"Unknown Location\",\"Unknown Location\",null,8,27,1,9,\"Tuesday\"],[\"2016-09-27T13:21:00\",\"2016-09-27T14:43:00\",\"Business\",\"Lahore\",\"Lahore\",null,13,27,1,9,\"Tuesday\"],[\"2016-09-27T19:14:00\",\"2016-09-27T20:34:00\",\"Business\",\"Lahore\",\"Unknown Location\",null,19,27,1,9,\"Tuesday\"],[\"2016-09-27T21:01:00\",\"2016-09-28T02:37:00\",\"Business\",\"Unknown Location\",\"Unknown Location\",null,21,27,1,9,\"Tuesday\"],[\"2016-09-28T17:21:00\",\"2016-09-28T19:36:00\",\"Business\",\"Islamabad\",\"Unknown Location\",null,17,28,2,9,\"Wednesday\"],[\"2016-09-29T16:13:00\",\"2016-09-29T18:47:00\",\"Business\",\"Unknown Location\",\"Islamabad\",null,16,29,3,9,\"Thursday\"],[\"2016-09-30T17:39:00\",\"2016-09-30T20:20:00\",\"Business\",\"Islamabad\",\"Islamabad\",null,17,30,4,9,\"Friday\"],[\"2016-09-30T20:59:00\",\"2016-09-30T22:34:00\",\"Business\",\"Islamabad\",\"Unknown Location\",null,20,30,4,9,\"Friday\"],[\"2016-10-03T17:09:00\",\"2016-10-03T17:12:00\",\"Business\",\"Unknown Location\",\"Islamabad\",null,17,3,0,10,\"Monday\"],[\"2016-10-03T18:17:00\",\"2016-10-03T18:34:00\",\"Business\",\"Islamabad\",\"Islamabad\",null,18,3,0,10,\"Monday\"],[\"2016-10-03T18:51:00\",\"2016-10-03T19:01:00\",\"Business\",\"Islamabad\",\"Islamabad\",null,18,3,0,10,\"Monday\"],[\"2016-10-03T22:04:00\",\"2016-10-03T22:33:00\",\"Business\",\"Islamabad\",\"Unknown Location\",null,22,3,0,10,\"Monday\"],[\"2016-10-04T09:50:00\",\"2016-10-04T10:52:00\",\"Business\",\"Unknown Location\",\"Unknown Location\",null,9,4,1,10,\"Tuesday\"],[\"2016-10-04T12:17:00\",\"2016-10-04T12:18:00\",\"Business\",\"Unknown Location\",\"Unknown Location\",null,12,4,1,10,\"Tuesday\"],[\"2016-10-06T08:49:00\",\"2016-10-06T11:36:00\",\"Business\",\"Unknown Location\",\"R?walpindi\",null,8,6,3,10,\"Thursday\"],[\"2016-10-06T17:23:00\",\"2016-10-06T17:40:00\",\"Business\",\"R?walpindi\",\"Unknown Location\",null,17,6,3,10,\"Thursday\"],[\"2016-10-06T18:37:00\",\"2016-10-06T18:39:00\",\"Business\",\"Unknown Location\",\"Unknown Location\",null,18,6,3,10,\"Thursday\"],[\"2016-10-06T19:46:00\",\"2016-10-06T20:26:00\",\"Business\",\"Unknown Location\",\"Unknown Location\",null,19,6,3,10,\"Thursday\"],[\"2016-10-07T10:56:00\",\"2016-10-07T10:59:00\",\"Business\",\"Unknown Location\",\"Lahore\",null,10,7,4,10,\"Friday\"],[\"2016-10-07T11:27:00\",\"2016-10-07T11:50:00\",\"Business\",\"Lahore\",\"Lahore\",null,11,7,4,10,\"Friday\"],[\"2016-10-07T13:52:00\",\"2016-10-07T14:08:00\",\"Business\",\"Lahore\",\"Unknown Location\",null,13,7,4,10,\"Friday\"],[\"2016-10-07T14:29:00\",\"2016-10-07T15:11:00\",\"Business\",\"Unknown Location\",\"Lahore\",null,14,7,4,10,\"Friday\"],[\"2016-10-07T15:47:00\",\"2016-10-07T16:02:00\",\"Business\",\"Lahore\",\"Lahore\",null,15,7,4,10,\"Friday\"],[\"2016-10-07T18:08:00\",\"2016-10-07T18:27:00\",\"Business\",\"Lahore\",\"Lahore\",null,18,7,4,10,\"Friday\"],[\"2016-10-07T18:33:00\",\"2016-10-07T19:01:00\",\"Business\",\"Lahore\",\"Lahore\",null,18,7,4,10,\"Friday\"],[\"2016-10-08T15:03:00\",\"2016-10-08T15:03:00\",\"Business\",\"Karachi\",\"Karachi\",null,15,8,5,10,\"Saturday\"],[\"2016-10-08T18:15:00\",\"2016-10-08T18:18:00\",\"Business\",\"Karachi\",\"Unknown Location\",null,18,8,5,10,\"Saturday\"],[\"2016-10-09T14:04:00\",\"2016-10-09T14:23:00\",\"Business\",\"Unknown Location\",\"Unknown Location\",\"Temporary Site\",14,9,6,10,\"Sunday\"],[\"2016-10-10T17:22:00\",\"2016-10-10T17:28:00\",\"Business\",\"Islamabad\",\"Islamabad\",null,17,10,0,10,\"Monday\"],[\"2016-10-10T17:33:00\",\"2016-10-10T18:13:00\",\"Business\",\"Islamabad\",\"Unknown Location\",null,17,10,0,10,\"Monday\"],[\"2016-10-11T01:27:00\",\"2016-10-11T02:08:00\",\"Business\",\"Unknown Location\",\"R?walpindi\",\"Meeting\",1,11,1,10,\"Tuesday\"],[\"2016-10-12T19:18:00\",\"2016-10-12T19:21:00\",\"Business\",\"R?walpindi\",\"Unknown Location\",null,19,12,2,10,\"Wednesday\"],[\"2016-10-13T11:20:00\",\"2016-10-13T11:58:00\",\"Business\",\"Unknown Location\",\"Islamabad\",null,11,13,3,10,\"Thursday\"],[\"2016-10-13T12:08:00\",\"2016-10-13T12:14:00\",\"Business\",\"Islamabad\",\"Islamabad\",null,12,13,3,10,\"Thursday\"],[\"2016-10-13T13:02:00\",\"2016-10-13T13:02:00\",\"Business\",\"Islamabad\",\"Islamabad\",null,13,13,3,10,\"Thursday\"],[\"2016-10-13T13:37:00\",\"2016-10-13T13:46:00\",\"Business\",\"Islamabad\",\"Islamabad\",null,13,13,3,10,\"Thursday\"],[\"2016-10-13T16:08:00\",\"2016-10-13T16:53:00\",\"Business\",\"Islamabad\",\"Unknown Location\",null,16,13,3,10,\"Thursday\"],[\"2016-10-14T08:50:00\",\"2016-10-14T09:44:00\",\"Business\",\"Unknown Location\",\"R?walpindi\",null,8,14,4,10,\"Friday\"],[\"2016-10-14T10:16:00\",\"2016-10-14T10:52:00\",\"Business\",\"R?walpindi\",\"Unknown Location\",null,10,14,4,10,\"Friday\"],[\"2016-10-14T15:56:00\",\"2016-10-14T16:20:00\",\"Business\",\"Unknown Location\",\"Unknown Location\",null,15,14,4,10,\"Friday\"],[\"2016-10-14T23:54:00\",\"2016-10-15T02:06:00\",\"Business\",\"Unknown Location\",\"R?walpindi\",\"Meeting\",23,14,4,10,\"Friday\"],[\"2016-10-15T22:28:00\",\"2016-10-15T22:48:00\",\"Business\",\"Morrisville\",\"Morrisville\",null,22,15,5,10,\"Saturday\"],[\"2016-10-16T00:01:00\",\"2016-10-16T00:14:00\",\"Business\",\"Morrisville\",\"Cary\",null,0,16,6,10,\"Sunday\"],[\"2016-10-16T12:52:00\",\"2016-10-16T13:11:00\",\"Business\",\"Cary\",\"Durham\",\"Meeting\",12,16,6,10,\"Sunday\"],[\"2016-10-16T14:40:00\",\"2016-10-16T15:01:00\",\"Business\",\"Durham\",\"Morrisville\",null,14,16,6,10,\"Sunday\"],[\"2016-10-16T15:10:00\",\"2016-10-16T15:19:00\",\"Business\",\"Morrisville\",\"Cary\",null,15,16,6,10,\"Sunday\"],[\"2016-10-16T19:27:00\",\"2016-10-16T19:33:00\",\"Business\",\"Whitebridge\",\"Parkway\",\"Meeting\",19,16,6,10,\"Sunday\"],[\"2016-10-16T20:30:00\",\"2016-10-16T20:39:00\",\"Business\",\"Cary\",\"Morrisville\",null,20,16,6,10,\"Sunday\"],[\"2016-10-16T21:34:00\",\"2016-10-16T21:41:00\",\"Business\",\"Morrisville\",\"Cary\",\"Meal/Entertain\",21,16,6,10,\"Sunday\"],[\"2016-10-17T15:19:00\",\"2016-10-17T15:57:00\",\"Business\",\"Cary\",\"Raleigh\",null,15,17,0,10,\"Monday\"],[\"2016-10-17T16:29:00\",\"2016-10-17T17:11:00\",\"Business\",\"Raleigh\",\"Cary\",null,16,17,0,10,\"Monday\"],[\"2016-10-17T18:02:00\",\"2016-10-17T18:16:00\",\"Business\",\"Cary\",\"Apex\",null,18,17,0,10,\"Monday\"],[\"2016-10-17T18:31:00\",\"2016-10-17T18:45:00\",\"Business\",\"Apex\",\"Apex\",null,18,17,0,10,\"Monday\"],[\"2016-10-17T19:08:00\",\"2016-10-17T19:25:00\",\"Business\",\"Apex\",\"Cary\",null,19,17,0,10,\"Monday\"],[\"2016-10-18T08:12:00\",\"2016-10-18T08:22:00\",\"Business\",\"Whitebridge\",\"Edgehill Farms\",null,8,18,1,10,\"Tuesday\"],[\"2016-10-18T08:53:00\",\"2016-10-18T09:02:00\",\"Business\",\"Edgehill Farms\",\"Whitebridge\",null,8,18,1,10,\"Tuesday\"],[\"2016-10-18T10:41:00\",\"2016-10-18T11:09:00\",\"Business\",\"Cary\",\"Morrisville\",\"Temporary Site\",10,18,1,10,\"Tuesday\"],[\"2016-10-18T18:12:00\",\"2016-10-18T18:33:00\",\"Business\",\"Oakland\",\"Emeryville\",null,18,18,1,10,\"Tuesday\"],[\"2016-10-18T19:03:00\",\"2016-10-18T19:13:00\",\"Business\",\"Emeryville\",\"Berkeley\",null,19,18,1,10,\"Tuesday\"],[\"2016-10-18T20:31:00\",\"2016-10-18T20:37:00\",\"Business\",\"Berkeley\",\"Emeryville\",null,20,18,1,10,\"Tuesday\"],[\"2016-10-19T09:33:00\",\"2016-10-19T09:47:00\",\"Business\",\"Emeryville\",\"Oakland\",null,9,19,2,10,\"Wednesday\"],[\"2016-10-19T09:54:00\",\"2016-10-19T10:21:00\",\"Business\",\"Oakland\",\"San Francisco\",null,9,19,2,10,\"Wednesday\"],[\"2016-10-19T13:45:00\",\"2016-10-19T13:56:00\",\"Business\",\"SOMISSPO\",\"French Quarter\",null,13,19,2,10,\"Wednesday\"],[\"2016-10-19T14:02:00\",\"2016-10-19T14:31:00\",\"Business\",\"San Francisco\",\"Berkeley\",null,14,19,2,10,\"Wednesday\"],[\"2016-10-19T15:44:00\",\"2016-10-19T16:02:00\",\"Business\",\"West Berkeley\",\"North Berkeley Hills\",null,15,19,2,10,\"Wednesday\"],[\"2016-10-19T16:06:00\",\"2016-10-19T16:19:00\",\"Business\",\"North Berkeley Hills\",\"Southside\",null,16,19,2,10,\"Wednesday\"],[\"2016-10-19T16:33:00\",\"2016-10-19T17:01:00\",\"Business\",\"Berkeley\",\"Emeryville\",null,16,19,2,10,\"Wednesday\"],[\"2016-10-20T11:26:00\",\"2016-10-20T11:34:00\",\"Business\",\"Emeryville\",\"Berkeley\",null,11,20,3,10,\"Thursday\"],[\"2016-10-20T12:19:00\",\"2016-10-20T13:17:00\",\"Business\",\"Berkeley\",\"San Jose\",null,12,20,3,10,\"Thursday\"],[\"2016-10-20T20:44:00\",\"2016-10-20T21:37:00\",\"Business\",\"San Jose\",\"Emeryville\",null,20,20,3,10,\"Thursday\"],[\"2016-10-21T10:06:00\",\"2016-10-21T10:21:00\",\"Business\",\"Emeryville\",\"Oakland\",null,10,21,4,10,\"Friday\"],[\"2016-10-22T00:54:00\",\"2016-10-22T01:09:00\",\"Business\",\"Morrisville\",\"Cary\",null,0,22,5,10,\"Saturday\"],[\"2016-10-22T13:26:00\",\"2016-10-22T14:03:00\",\"Business\",\"Cary\",\"Raleigh\",null,13,22,5,10,\"Saturday\"],[\"2016-10-22T17:08:00\",\"2016-10-22T17:55:00\",\"Business\",\"Raleigh\",\"Cary\",null,17,22,5,10,\"Saturday\"],[\"2016-10-23T09:24:00\",\"2016-10-23T10:05:00\",\"Business\",\"Cary\",\"Raleigh\",null,9,23,6,10,\"Sunday\"],[\"2016-10-23T12:17:00\",\"2016-10-23T12:59:00\",\"Business\",\"Raleigh\",\"Cary\",null,12,23,6,10,\"Sunday\"],[\"2016-10-23T19:04:00\",\"2016-10-23T19:14:00\",\"Business\",\"Cary\",\"Morrisville\",\"Meal/Entertain\",19,23,6,10,\"Sunday\"],[\"2016-10-23T21:10:00\",\"2016-10-23T21:25:00\",\"Business\",\"Morrisville\",\"Cary\",\"Customer Visit\",21,23,6,10,\"Sunday\"],[\"2016-10-24T14:57:00\",\"2016-10-24T15:26:00\",\"Business\",\"Cary\",\"Durham\",null,14,24,0,10,\"Monday\"],[\"2016-10-24T15:33:00\",\"2016-10-24T16:13:00\",\"Business\",\"Durham\",\"Morrisville\",null,15,24,0,10,\"Monday\"],[\"2016-10-24T16:34:00\",\"2016-10-24T16:41:00\",\"Business\",\"Morrisville\",\"Cary\",null,16,24,0,10,\"Monday\"],[\"2016-10-25T13:27:00\",\"2016-10-25T14:08:00\",\"Business\",\"Cary\",\"Apex\",null,13,25,1,10,\"Tuesday\"],[\"2016-10-25T15:04:00\",\"2016-10-25T15:11:00\",\"Business\",\"Apex\",\"Eagle Rock\",null,15,25,1,10,\"Tuesday\"],[\"2016-10-25T15:16:00\",\"2016-10-25T15:33:00\",\"Business\",\"Eagle Rock\",\"Cary\",null,15,25,1,10,\"Tuesday\"],[\"2016-10-25T20:00:00\",\"2016-10-25T20:11:00\",\"Business\",\"Whitebridge\",\"Savon Height\",\"Meal/Entertain\",20,25,1,10,\"Tuesday\"],[\"2016-10-25T20:54:00\",\"2016-10-25T21:03:00\",\"Business\",\"Savon Height\",\"Parkway\",null,20,25,1,10,\"Tuesday\"],[\"2016-10-25T22:24:00\",\"2016-10-25T22:45:00\",\"Business\",\"Parkway\",\"Whitebridge\",\"Errand/Supplies\",22,25,1,10,\"Tuesday\"],[\"2016-10-26T19:25:00\",\"2016-10-26T19:31:00\",\"Business\",\"Whitebridge\",\"Parkway\",\"Meeting\",19,26,2,10,\"Wednesday\"],[\"2016-10-26T20:53:00\",\"2016-10-26T21:03:00\",\"Business\",\"Parkway\",\"Whitebridge\",null,20,26,2,10,\"Wednesday\"],[\"2016-10-27T18:51:00\",\"2016-10-27T19:16:00\",\"Business\",\"Cary\",\"Morrisville\",\"Meeting\",18,27,3,10,\"Thursday\"],[\"2016-10-27T19:20:00\",\"2016-10-27T19:35:00\",\"Business\",\"Morrisville\",\"Morrisville\",null,19,27,3,10,\"Thursday\"],[\"2016-10-27T19:52:00\",\"2016-10-27T20:21:00\",\"Business\",\"Huntington Woods\",\"Huntington Woods\",null,19,27,3,10,\"Thursday\"],[\"2016-10-27T20:47:00\",\"2016-10-27T20:54:00\",\"Business\",\"Huntington Woods\",\"Weston\",null,20,27,3,10,\"Thursday\"],[\"2016-10-27T21:26:00\",\"2016-10-27T21:48:00\",\"Business\",\"Morrisville\",\"Cary\",null,21,27,3,10,\"Thursday\"],[\"2016-10-28T11:34:00\",\"2016-10-28T11:52:00\",\"Business\",\"Cary\",\"Durham\",\"Meeting\",11,28,4,10,\"Friday\"],[\"2016-10-28T13:06:00\",\"2016-10-28T13:36:00\",\"Business\",\"Durham\",\"Cary\",\"Meeting\",13,28,4,10,\"Friday\"],[\"2016-10-28T15:53:00\",\"2016-10-28T17:59:00\",\"Business\",\"Cary\",\"Winston Salem\",\"Meeting\",15,28,4,10,\"Friday\"],[\"2016-10-28T18:13:00\",\"2016-10-28T20:07:00\",\"Business\",\"Winston Salem\",\"Asheville\",\"Meeting\",18,28,4,10,\"Friday\"],[\"2016-10-28T20:13:00\",\"2016-10-28T22:00:00\",\"Business\",\"Asheville\",\"Topton\",\"Meeting\",20,28,4,10,\"Friday\"],[\"2016-10-29T15:22:00\",\"2016-10-29T17:05:00\",\"Business\",\"Topton\",\"Hayesville\",\"Meeting\",15,29,5,10,\"Saturday\"],[\"2016-10-29T17:13:00\",\"2016-10-29T19:19:00\",\"Business\",\"Hayesville\",\"Topton\",null,17,29,5,10,\"Saturday\"],[\"2016-10-30T07:49:00\",\"2016-10-30T08:30:00\",\"Business\",\"Topton\",\"Bryson City\",null,7,30,6,10,\"Sunday\"],[\"2016-10-30T09:07:00\",\"2016-10-30T10:09:00\",\"Business\",\"Bryson City\",\"Bryson City\",null,9,30,6,10,\"Sunday\"],[\"2016-10-30T10:11:00\",\"2016-10-30T10:38:00\",\"Business\",\"Bryson City\",\"Bryson City\",null,10,30,6,10,\"Sunday\"],[\"2016-10-30T10:51:00\",\"2016-10-30T11:21:00\",\"Business\",\"Bryson City\",\"Bryson City\",null,10,30,6,10,\"Sunday\"],[\"2016-10-30T12:24:00\",\"2016-10-30T12:35:00\",\"Business\",\"Bryson City\",\"Almond\",null,12,30,6,10,\"Sunday\"],[\"2016-10-30T12:58:00\",\"2016-10-30T13:18:00\",\"Business\",\"Almond\",\"Bryson City\",null,12,30,6,10,\"Sunday\"],[\"2016-10-30T13:24:00\",\"2016-10-30T14:37:00\",\"Business\",\"Bryson City\",\"Asheville\",null,13,30,6,10,\"Sunday\"],[\"2016-10-30T15:22:00\",\"2016-10-30T18:23:00\",\"Business\",\"Asheville\",\"Mebane\",null,15,30,6,10,\"Sunday\"],[\"2016-10-30T18:26:00\",\"2016-10-30T19:39:00\",\"Business\",\"Mebane\",\"Cary\",null,18,30,6,10,\"Sunday\"],[\"2016-10-31T18:11:00\",\"2016-10-31T18:20:00\",\"Business\",\"Cary\",\"Morrisville\",null,18,31,0,10,\"Monday\"],[\"2016-10-31T18:47:00\",\"2016-10-31T19:16:00\",\"Business\",\"Morrisville\",\"Raleigh\",null,18,31,0,10,\"Monday\"],[\"2016-10-31T20:18:00\",\"2016-10-31T20:44:00\",\"Business\",\"Raleigh\",\"Cary\",null,20,31,0,10,\"Monday\"],[\"2016-10-31T21:45:00\",\"2016-10-31T22:10:00\",\"Business\",\"Savon Height\",\"Whitebridge\",\"Errand/Supplies\",21,31,0,10,\"Monday\"],[\"2016-11-01T11:50:00\",\"2016-11-01T12:27:00\",\"Business\",\"Cary\",\"Durham\",null,11,1,1,11,\"Tuesday\"],[\"2016-11-01T16:29:00\",\"2016-11-01T17:02:00\",\"Business\",\"Durham\",\"Cary\",null,16,1,1,11,\"Tuesday\"],[\"2016-11-01T17:35:00\",\"2016-11-01T17:42:00\",\"Business\",\"Whitebridge\",\"Whitebridge\",null,17,1,1,11,\"Tuesday\"],[\"2016-11-01T19:14:00\",\"2016-11-01T19:20:00\",\"Business\",\"Whitebridge\",\"Whitebridge\",null,19,1,1,11,\"Tuesday\"],[\"2016-11-01T19:59:00\",\"2016-11-01T20:12:00\",\"Business\",\"Whitebridge\",\"Whitebridge\",null,19,1,1,11,\"Tuesday\"],[\"2016-11-01T20:41:00\",\"2016-11-01T20:55:00\",\"Business\",\"Whitebridge\",\"Whitebridge\",\"Meal/Entertain\",20,1,1,11,\"Tuesday\"],[\"2016-11-02T15:10:00\",\"2016-11-02T15:18:00\",\"Business\",\"Whitebridge\",\"Westpark Place\",null,15,2,2,11,\"Wednesday\"],[\"2016-11-02T15:45:00\",\"2016-11-02T15:52:00\",\"Business\",\"Westpark Place\",\"Whitebridge\",null,15,2,2,11,\"Wednesday\"],[\"2016-11-02T16:46:00\",\"2016-11-02T17:11:00\",\"Business\",\"Cary\",\"Morrisville\",\"Meeting\",16,2,2,11,\"Wednesday\"],[\"2016-11-02T17:34:00\",\"2016-11-02T17:49:00\",\"Business\",\"Morrisville\",\"Morrisville\",null,17,2,2,11,\"Wednesday\"],[\"2016-11-02T17:53:00\",\"2016-11-02T18:00:00\",\"Business\",\"Morrisville\",\"Cary\",null,17,2,2,11,\"Wednesday\"],[\"2016-11-03T11:28:00\",\"2016-11-03T11:34:00\",\"Business\",\"Whitebridge\",\"Hazelwood\",null,11,3,3,11,\"Thursday\"],[\"2016-11-03T12:43:00\",\"2016-11-03T12:49:00\",\"Business\",\"Hazelwood\",\"Whitebridge\",null,12,3,3,11,\"Thursday\"],[\"2016-11-03T13:42:00\",\"2016-11-03T13:47:00\",\"Business\",\"Whitebridge\",\"Westpark Place\",null,13,3,3,11,\"Thursday\"],[\"2016-11-03T14:13:00\",\"2016-11-03T14:26:00\",\"Business\",\"Westpark Place\",\"Whitebridge\",null,14,3,3,11,\"Thursday\"],[\"2016-11-03T18:51:00\",\"2016-11-03T19:08:00\",\"Business\",\"Cary\",\"Morrisville\",\"Meal/Entertain\",18,3,3,11,\"Thursday\"],[\"2016-11-03T22:46:00\",\"2016-11-03T22:58:00\",\"Business\",\"Morrisville\",\"Cary\",\"Customer Visit\",22,3,3,11,\"Thursday\"],[\"2016-11-04T10:02:00\",\"2016-11-04T10:18:00\",\"Business\",\"Cary\",\"Morrisville\",\"Temporary Site\",10,4,4,11,\"Friday\"],[\"2016-11-04T18:14:00\",\"2016-11-04T18:21:00\",\"Business\",\"San Jose\",\"Santa Clara\",null,18,4,4,11,\"Friday\"],[\"2016-11-04T21:04:00\",\"2016-11-04T21:20:00\",\"Business\",\"Agnew\",\"Cory\",null,21,4,4,11,\"Friday\"],[\"2016-11-04T22:12:00\",\"2016-11-04T22:25:00\",\"Business\",\"Cory\",\"Agnew\",null,22,4,4,11,\"Friday\"],[\"2016-11-05T08:34:00\",\"2016-11-05T08:43:00\",\"Business\",\"Agnew\",\"Renaissance\",null,8,5,5,11,\"Saturday\"],[\"2016-11-05T17:29:00\",\"2016-11-05T17:40:00\",\"Business\",\"Renaissance\",\"Agnew\",null,17,5,5,11,\"Saturday\"],[\"2016-11-05T19:20:00\",\"2016-11-05T19:28:00\",\"Business\",\"Agnew\",\"Agnew\",null,19,5,5,11,\"Saturday\"],[\"2016-11-06T10:50:00\",\"2016-11-06T11:04:00\",\"Business\",\"Agnew\",\"Renaissance\",null,10,6,6,11,\"Sunday\"],[\"2016-11-06T16:05:00\",\"2016-11-06T16:22:00\",\"Business\",\"Renaissance\",\"Agnew\",\"Meeting\",16,6,6,11,\"Sunday\"],[\"2016-11-06T16:27:00\",\"2016-11-06T17:28:00\",\"Business\",\"Santa Clara\",\"Berkeley\",\"Customer Visit\",16,6,6,11,\"Sunday\"],[\"2016-11-06T19:04:00\",\"2016-11-06T19:12:00\",\"Business\",\"Downtown\",\"West Berkeley\",null,19,6,6,11,\"Sunday\"],[\"2016-11-06T20:06:00\",\"2016-11-06T20:21:00\",\"Business\",\"West Berkeley\",\"Central\",null,20,6,6,11,\"Sunday\"],[\"2016-11-07T12:28:00\",\"2016-11-07T12:57:00\",\"Business\",\"Berkeley\",\"San Francisco\",\"Between Offices\",12,7,0,11,\"Monday\"],[\"2016-11-07T19:17:00\",\"2016-11-07T19:57:00\",\"Business\",\"San Francisco\",\"Berkeley\",\"Between Offices\",19,7,0,11,\"Monday\"],[\"2016-11-08T10:29:00\",\"2016-11-08T10:57:00\",\"Business\",\"Berkeley\",\"San Francisco\",\"Between Offices\",10,8,1,11,\"Tuesday\"],[\"2016-11-08T12:16:00\",\"2016-11-08T12:49:00\",\"Business\",\"San Francisco\",\"Berkeley\",\"Meeting\",12,8,1,11,\"Tuesday\"],[\"2016-11-08T13:41:00\",\"2016-11-08T14:01:00\",\"Business\",\"Berkeley\",\"Emeryville\",null,13,8,1,11,\"Tuesday\"],[\"2016-11-08T16:21:00\",\"2016-11-08T16:34:00\",\"Business\",\"Emeryville\",\"Berkeley\",null,16,8,1,11,\"Tuesday\"],[\"2016-11-09T13:08:00\",\"2016-11-09T13:41:00\",\"Business\",\"Berkeley\",\"San Francisco\",null,13,9,2,11,\"Wednesday\"],[\"2016-11-09T15:58:00\",\"2016-11-09T16:04:00\",\"Business\",\"NOMA\",\"Downtown\",null,15,9,2,11,\"Wednesday\"],[\"2016-11-09T17:31:00\",\"2016-11-09T18:03:00\",\"Business\",\"Downtown\",\"Sunnyside\",null,17,9,2,11,\"Wednesday\"],[\"2016-11-09T18:09:00\",\"2016-11-09T18:14:00\",\"Business\",\"Sunnyside\",\"Ingleside\",null,18,9,2,11,\"Wednesday\"],[\"2016-11-09T18:21:00\",\"2016-11-09T18:35:00\",\"Business\",\"Ingleside\",\"Potrero Flats\",\"Meeting\",18,9,2,11,\"Wednesday\"],[\"2016-11-09T18:40:00\",\"2016-11-09T19:17:00\",\"Business\",\"San Francisco\",\"Oakland\",\"Customer Visit\",18,9,2,11,\"Wednesday\"],[\"2016-11-09T20:52:00\",\"2016-11-09T21:02:00\",\"Business\",\"Oakland\",\"Berkeley\",null,20,9,2,11,\"Wednesday\"],[\"2016-11-09T21:56:00\",\"2016-11-09T22:02:00\",\"Business\",\"Central\",\"Central\",null,21,9,2,11,\"Wednesday\"],[\"2016-11-10T09:46:00\",\"2016-11-10T10:15:00\",\"Business\",\"Berkeley\",\"San Francisco\",\"Temporary Site\",9,10,3,11,\"Thursday\"],[\"2016-11-10T10:20:00\",\"2016-11-10T10:31:00\",\"Business\",\"Tenderloin\",\"SOMISSPO\",null,10,10,3,11,\"Thursday\"],[\"2016-11-10T14:57:00\",\"2016-11-10T15:07:00\",\"Business\",\"SOMISSPO\",\"Tenderloin\",null,14,10,3,11,\"Thursday\"],[\"2016-11-10T15:17:00\",\"2016-11-10T15:22:00\",\"Business\",\"San Francisco\",\"Oakland\",\"Temporary Site\",15,10,3,11,\"Thursday\"],[\"2016-11-10T15:30:00\",\"2016-11-10T15:53:00\",\"Business\",\"Oakland\",\"Berkeley\",\"Meeting\",15,10,3,11,\"Thursday\"],[\"2016-11-10T19:18:00\",\"2016-11-10T19:21:00\",\"Business\",\"West Berkeley\",\"Central\",null,19,10,3,11,\"Thursday\"],[\"2016-11-11T09:35:00\",\"2016-11-11T10:23:00\",\"Business\",\"Berkeley\",\"Menlo Park\",\"Customer Visit\",9,11,4,11,\"Friday\"],[\"2016-11-11T12:58:00\",\"2016-11-11T13:13:00\",\"Business\",\"Menlo Park\",\"Palo Alto\",null,12,11,4,11,\"Friday\"],[\"2016-11-11T14:20:00\",\"2016-11-11T14:32:00\",\"Business\",\"Palo Alto\",\"Menlo Park\",null,14,11,4,11,\"Friday\"],[\"2016-11-11T14:39:00\",\"2016-11-11T15:46:00\",\"Business\",\"Menlo Park\",\"Berkeley\",\"Customer Visit\",14,11,4,11,\"Friday\"],[\"2016-11-11T18:30:00\",\"2016-11-11T18:43:00\",\"Business\",\"Central\",\"College Avenue\",null,18,11,4,11,\"Friday\"],[\"2016-11-11T21:08:00\",\"2016-11-11T21:18:00\",\"Business\",\"College Avenue\",\"Central\",null,21,11,4,11,\"Friday\"],[\"2016-11-12T10:32:00\",\"2016-11-12T10:52:00\",\"Business\",\"Central\",\"South\",null,10,12,5,11,\"Saturday\"],[\"2016-11-12T10:55:00\",\"2016-11-12T11:25:00\",\"Business\",\"South\",\"Downtown\",null,10,12,5,11,\"Saturday\"],[\"2016-11-12T13:07:00\",\"2016-11-12T13:15:00\",\"Business\",\"Downtown\",\"Central\",null,13,12,5,11,\"Saturday\"],[\"2016-11-12T13:46:00\",\"2016-11-12T13:50:00\",\"Business\",\"Central\",\"West Berkeley\",null,13,12,5,11,\"Saturday\"],[\"2016-11-12T14:22:00\",\"2016-11-12T14:53:00\",\"Business\",\"West Berkeley\",\"South\",\"Meeting\",14,12,5,11,\"Saturday\"],[\"2016-11-12T15:14:00\",\"2016-11-12T15:21:00\",\"Business\",\"South\",\"Southwest Berkeley\",null,15,12,5,11,\"Saturday\"],[\"2016-11-12T15:25:00\",\"2016-11-12T15:36:00\",\"Business\",\"Berkeley\",\"Emeryville\",null,15,12,5,11,\"Saturday\"],[\"2016-11-12T15:40:00\",\"2016-11-12T15:59:00\",\"Business\",\"Emeryville\",\"Berkeley\",\"Errand/Supplies\",15,12,5,11,\"Saturday\"],[\"2016-11-13T08:54:00\",\"2016-11-13T09:02:00\",\"Business\",\"Central\",\"Central\",null,8,13,6,11,\"Sunday\"],[\"2016-11-13T09:27:00\",\"2016-11-13T09:53:00\",\"Business\",\"Central\",\"Central\",null,9,13,6,11,\"Sunday\"],[\"2016-11-13T10:31:00\",\"2016-11-13T10:37:00\",\"Business\",\"Central\",\"Southside\",null,10,13,6,11,\"Sunday\"],[\"2016-11-13T11:04:00\",\"2016-11-13T11:16:00\",\"Business\",\"Southside\",\"West Berkeley\",null,11,13,6,11,\"Sunday\"],[\"2016-11-13T12:22:00\",\"2016-11-13T12:51:00\",\"Business\",\"West Berkeley\",\"Southside\",\"Meeting\",12,13,6,11,\"Sunday\"],[\"2016-11-13T13:05:00\",\"2016-11-13T13:11:00\",\"Business\",\"Southside\",\"South Berkeley\",null,13,13,6,11,\"Sunday\"],[\"2016-11-13T13:14:00\",\"2016-11-13T13:18:00\",\"Business\",\"South Berkeley\",\"Southside\",null,13,13,6,11,\"Sunday\"],[\"2016-11-13T14:35:00\",\"2016-11-13T14:46:00\",\"Business\",\"Southside\",\"Central\",null,14,13,6,11,\"Sunday\"],[\"2016-11-13T15:14:00\",\"2016-11-13T15:24:00\",\"Business\",\"Central\",\"Southside\",null,15,13,6,11,\"Sunday\"],[\"2016-11-13T15:47:00\",\"2016-11-13T15:59:00\",\"Business\",\"Southside\",\"Central\",null,15,13,6,11,\"Sunday\"],[\"2016-11-14T11:24:00\",\"2016-11-14T12:13:00\",\"Business\",\"Berkeley\",\"Mountain View\",\"Customer Visit\",11,14,0,11,\"Monday\"],[\"2016-11-14T13:40:00\",\"2016-11-14T14:33:00\",\"Business\",\"Mountain View\",\"Berkeley\",\"Customer Visit\",13,14,0,11,\"Monday\"],[\"2016-11-14T15:27:00\",\"2016-11-14T15:36:00\",\"Business\",\"Berkeley\",\"Emeryville\",null,15,14,0,11,\"Monday\"],[\"2016-11-14T20:19:00\",\"2016-11-14T20:30:00\",\"Business\",\"Emeryville\",\"Berkeley\",\"Errand/Supplies\",20,14,0,11,\"Monday\"],[\"2016-11-15T13:59:00\",\"2016-11-15T14:06:00\",\"Business\",\"Berkeley\",\"Oakland\",null,13,15,1,11,\"Tuesday\"],[\"2016-11-15T14:09:00\",\"2016-11-15T14:26:00\",\"Business\",\"Oakland\",\"San Francisco\",\"Temporary Site\",14,15,1,11,\"Tuesday\"],[\"2016-11-15T20:44:00\",\"2016-11-15T21:00:00\",\"Business\",\"San Francisco\",\"Berkeley\",\"Temporary Site\",20,15,1,11,\"Tuesday\"],[\"2016-11-16T20:21:00\",\"2016-11-16T20:27:00\",\"Business\",\"Berkeley\",\"El Cerrito\",\"Temporary Site\",20,16,2,11,\"Wednesday\"],[\"2016-11-16T22:52:00\",\"2016-11-16T23:02:00\",\"Business\",\"El Cerrito\",\"Berkeley\",\"Meal/Entertain\",22,16,2,11,\"Wednesday\"],[\"2016-11-17T10:13:00\",\"2016-11-17T10:44:00\",\"Business\",\"Berkeley\",\"Oakland\",\"Customer Visit\",10,17,3,11,\"Thursday\"],[\"2016-11-18T20:09:00\",\"2016-11-18T20:19:00\",\"Business\",\"Cary\",\"Morrisville\",\"Meal/Entertain\",20,18,4,11,\"Friday\"],[\"2016-11-18T21:23:00\",\"2016-11-18T21:34:00\",\"Business\",\"Morrisville\",\"Cary\",\"Meal/Entertain\",21,18,4,11,\"Friday\"],[\"2016-11-18T21:56:00\",\"2016-11-18T22:21:00\",\"Business\",\"Krendle Woods\",\"Whitebridge\",\"Meeting\",21,18,4,11,\"Friday\"],[\"2016-11-19T13:51:00\",\"2016-11-19T14:10:00\",\"Business\",\"Cary\",\"Durham\",\"Meeting\",13,19,5,11,\"Saturday\"],[\"2016-11-19T14:30:00\",\"2016-11-19T14:51:00\",\"Business\",\"Durham\",\"Cary\",\"Meeting\",14,19,5,11,\"Saturday\"],[\"2016-11-19T16:01:00\",\"2016-11-19T16:06:00\",\"Business\",\"Cary\",\"Cary\",null,16,19,5,11,\"Saturday\"],[\"2016-11-19T16:27:00\",\"2016-11-19T16:41:00\",\"Business\",\"Cary\",\"Cary\",null,16,19,5,11,\"Saturday\"],[\"2016-11-19T17:41:00\",\"2016-11-19T17:54:00\",\"Business\",\"Cary\",\"Apex\",\"Errand/Supplies\",17,19,5,11,\"Saturday\"],[\"2016-11-19T21:14:00\",\"2016-11-19T21:35:00\",\"Business\",\"Apex\",\"Cary\",\"Customer Visit\",21,19,5,11,\"Saturday\"],[\"2016-11-20T10:27:00\",\"2016-11-20T11:32:00\",\"Business\",\"Cary\",\"Cary\",\"Between Offices\",10,20,6,11,\"Sunday\"],[\"2016-11-20T11:58:00\",\"2016-11-20T12:28:00\",\"Business\",\"Cary\",\"Cary\",\"Customer Visit\",11,20,6,11,\"Sunday\"],[\"2016-11-20T14:58:00\",\"2016-11-20T15:07:00\",\"Business\",\"Cary\",\"Cary\",\"Meeting\",14,20,6,11,\"Sunday\"],[\"2016-11-20T17:45:00\",\"2016-11-20T18:37:00\",\"Business\",\"Cary\",\"Cary\",\"Errand/Supplies\",17,20,6,11,\"Sunday\"],[\"2016-11-21T13:37:00\",\"2016-11-21T13:49:00\",\"Business\",\"Cary\",\"Cary\",\"Meal/Entertain\",13,21,0,11,\"Monday\"],[\"2016-11-21T14:34:00\",\"2016-11-21T14:44:00\",\"Business\",\"Cary\",\"Cary\",\"Meal/Entertain\",14,21,0,11,\"Monday\"],[\"2016-11-21T17:50:00\",\"2016-11-21T18:04:00\",\"Business\",\"Cary\",\"Unknown Location\",\"Errand/Supplies\",17,21,0,11,\"Monday\"],[\"2016-11-21T18:18:00\",\"2016-11-21T18:27:00\",\"Business\",\"Unknown Location\",\"Morrisville\",\"Meal/Entertain\",18,21,0,11,\"Monday\"],[\"2016-11-21T18:43:00\",\"2016-11-21T18:51:00\",\"Business\",\"Morrisville\",\"Cary\",\"Errand/Supplies\",18,21,0,11,\"Monday\"],[\"2016-11-22T15:12:00\",\"2016-11-22T15:27:00\",\"Business\",\"Cary\",\"Cary\",\"Meeting\",15,22,1,11,\"Tuesday\"],[\"2016-11-22T15:31:00\",\"2016-11-22T15:44:00\",\"Business\",\"Cary\",\"Cary\",\"Meeting\",15,22,1,11,\"Tuesday\"],[\"2016-11-22T15:51:00\",\"2016-11-22T16:43:00\",\"Business\",\"Cary\",\"Cary\",\"Customer Visit\",15,22,1,11,\"Tuesday\"],[\"2016-11-22T18:18:00\",\"2016-11-22T18:28:00\",\"Business\",\"Cary\",\"Morrisville\",\"Meal/Entertain\",18,22,1,11,\"Tuesday\"],[\"2016-11-22T21:02:00\",\"2016-11-22T21:14:00\",\"Business\",\"Morrisville\",\"Cary\",\"Customer Visit\",21,22,1,11,\"Tuesday\"],[\"2016-11-23T15:34:00\",\"2016-11-23T15:50:00\",\"Business\",\"Cary\",\"Cary\",\"Meal/Entertain\",15,23,2,11,\"Wednesday\"],[\"2016-11-23T16:18:00\",\"2016-11-23T16:29:00\",\"Business\",\"Cary\",\"Cary\",null,16,23,2,11,\"Wednesday\"],[\"2016-11-23T16:49:00\",\"2016-11-23T17:00:00\",\"Business\",\"Cary\",\"Cary\",null,16,23,2,11,\"Wednesday\"],[\"2016-11-23T18:37:00\",\"2016-11-23T18:47:00\",\"Business\",\"Cary\",\"Cary\",null,18,23,2,11,\"Wednesday\"],[\"2016-11-25T11:47:00\",\"2016-11-25T12:04:00\",\"Business\",\"Cary\",\"Durham\",\"Meeting\",11,25,4,11,\"Friday\"],[\"2016-11-25T13:13:00\",\"2016-11-25T13:31:00\",\"Business\",\"Durham\",\"Cary\",\"Meeting\",13,25,4,11,\"Friday\"],[\"2016-11-26T15:54:00\",\"2016-11-26T15:59:00\",\"Business\",\"Cary\",\"Cary\",null,15,26,5,11,\"Saturday\"],[\"2016-11-26T17:00:00\",\"2016-11-26T17:12:00\",\"Business\",\"Cary\",\"Apex\",\"Meeting\",17,26,5,11,\"Saturday\"],[\"2016-11-26T17:36:00\",\"2016-11-26T17:56:00\",\"Business\",\"Apex\",\"Holly Springs\",\"Meeting\",17,26,5,11,\"Saturday\"],[\"2016-11-26T18:29:00\",\"2016-11-26T19:04:00\",\"Business\",\"Holly Springs\",\"Cary\",\"Between Offices\",18,26,5,11,\"Saturday\"],[\"2016-11-26T19:47:00\",\"2016-11-26T19:54:00\",\"Business\",\"Cary\",\"Cary\",\"Errand/Supplies\",19,26,5,11,\"Saturday\"],[\"2016-11-27T15:59:00\",\"2016-11-27T16:06:00\",\"Business\",\"Cary\",\"Morrisville\",\"Meal/Entertain\",15,27,6,11,\"Sunday\"],[\"2016-11-27T18:55:00\",\"2016-11-27T19:09:00\",\"Business\",\"Morrisville\",\"Cary\",null,18,27,6,11,\"Sunday\"],[\"2016-11-30T11:03:00\",\"2016-11-30T11:34:00\",\"Business\",\"Cary\",\"Raleigh\",\"Customer Visit\",11,30,2,11,\"Wednesday\"],[\"2016-11-30T11:53:00\",\"2016-11-30T12:35:00\",\"Business\",\"Raleigh\",\"Morrisville\",\"Temporary Site\",11,30,2,11,\"Wednesday\"],[\"2016-11-30T12:43:00\",\"2016-11-30T12:53:00\",\"Business\",\"Morrisville\",\"Cary\",null,12,30,2,11,\"Wednesday\"],[\"2016-12-01T07:44:00\",\"2016-12-01T07:59:00\",\"Business\",\"Cary\",\"Cary\",\"Meeting\",7,1,3,12,\"Thursday\"],[\"2016-12-01T08:37:00\",\"2016-12-01T08:53:00\",\"Business\",\"Cary\",\"Cary\",\"Errand/Supplies\",8,1,3,12,\"Thursday\"],[\"2016-12-01T18:00:00\",\"2016-12-01T18:12:00\",\"Business\",\"Cary\",\"Morrisville\",\"Meal/Entertain\",18,1,3,12,\"Thursday\"],[\"2016-12-01T20:36:00\",\"2016-12-01T20:46:00\",\"Business\",\"Morrisville\",\"Cary\",\"Customer Visit\",20,1,3,12,\"Thursday\"],[\"2016-12-02T12:12:00\",\"2016-12-02T12:23:00\",\"Business\",\"Cary\",\"Apex\",\"Meal/Entertain\",12,2,4,12,\"Friday\"],[\"2016-12-02T13:07:00\",\"2016-12-02T13:22:00\",\"Business\",\"Apex\",\"Cary\",\"Customer Visit\",13,2,4,12,\"Friday\"],[\"2016-12-02T20:41:00\",\"2016-12-02T20:48:00\",\"Business\",\"Cary\",\"Morrisville\",\"Meal/Entertain\",20,2,4,12,\"Friday\"],[\"2016-12-02T22:59:00\",\"2016-12-02T23:07:00\",\"Business\",\"Morrisville\",\"Cary\",\"Customer Visit\",22,2,4,12,\"Friday\"],[\"2016-12-03T18:35:00\",\"2016-12-03T18:56:00\",\"Business\",\"Cary\",\"Wake Co.\",\"Errand/Supplies\",18,3,5,12,\"Saturday\"],[\"2016-12-03T19:08:00\",\"2016-12-03T19:15:00\",\"Business\",\"Wake Co.\",\"Morrisville\",null,19,3,5,12,\"Saturday\"],[\"2016-12-03T20:31:00\",\"2016-12-03T20:41:00\",\"Business\",\"Morrisville\",\"Cary\",\"Customer Visit\",20,3,5,12,\"Saturday\"],[\"2016-12-04T18:56:00\",\"2016-12-04T19:03:00\",\"Business\",\"Cary\",\"Morrisville\",\"Meal/Entertain\",18,4,6,12,\"Sunday\"],[\"2016-12-04T20:23:00\",\"2016-12-04T20:34:00\",\"Business\",\"Morrisville\",\"Cary\",\"Customer Visit\",20,4,6,12,\"Sunday\"],[\"2016-12-05T18:04:00\",\"2016-12-05T18:17:00\",\"Business\",\"Cary\",\"Cary\",null,18,5,0,12,\"Monday\"],[\"2016-12-05T19:22:00\",\"2016-12-05T19:37:00\",\"Business\",\"Cary\",\"Cary\",\"Meal/Entertain\",19,5,0,12,\"Monday\"],[\"2016-12-07T12:03:00\",\"2016-12-07T12:32:00\",\"Business\",\"Cary\",\"Cary\",\"Meeting\",12,7,2,12,\"Wednesday\"],[\"2016-12-07T12:35:00\",\"2016-12-07T12:46:00\",\"Business\",\"Cary\",\"Cary\",\"Meeting\",12,7,2,12,\"Wednesday\"],[\"2016-12-07T19:53:00\",\"2016-12-07T20:13:00\",\"Business\",\"Cary\",\"Cary\",\"Customer Visit\",19,7,2,12,\"Wednesday\"],[\"2016-12-07T21:13:00\",\"2016-12-07T21:50:00\",\"Business\",\"Cary\",\"Cary\",\"Meal/Entertain\",21,7,2,12,\"Wednesday\"],[\"2016-12-08T14:19:00\",\"2016-12-08T14:32:00\",\"Business\",\"Cary\",\"Cary\",\"Errand/Supplies\",14,8,3,12,\"Thursday\"],[\"2016-12-08T14:53:00\",\"2016-12-08T15:02:00\",\"Business\",\"Cary\",\"Cary\",\"Errand/Supplies\",14,8,3,12,\"Thursday\"],[\"2016-12-08T19:22:00\",\"2016-12-08T19:27:00\",\"Business\",\"Cary\",\"Cary\",\"Meeting\",19,8,3,12,\"Thursday\"],[\"2016-12-08T21:26:00\",\"2016-12-08T21:31:00\",\"Business\",\"Cary\",\"Cary\",\"Errand/Supplies\",21,8,3,12,\"Thursday\"],[\"2016-12-09T12:09:00\",\"2016-12-09T12:24:00\",\"Business\",\"Cary\",\"Apex\",\"Errand/Supplies\",12,9,4,12,\"Friday\"],[\"2016-12-09T13:15:00\",\"2016-12-09T13:43:00\",\"Business\",\"Apex\",\"Cary\",\"Temporary Site\",13,9,4,12,\"Friday\"],[\"2016-12-09T20:11:00\",\"2016-12-09T20:34:00\",\"Business\",\"Cary\",\"Cary\",\"Meeting\",20,9,4,12,\"Friday\"],[\"2016-12-09T22:03:00\",\"2016-12-09T22:57:00\",\"Business\",\"Cary\",\"Cary\",\"Customer Visit\",22,9,4,12,\"Friday\"],[\"2016-12-10T12:43:00\",\"2016-12-10T13:16:00\",\"Business\",\"Cary\",\"Fuquay-Varina\",\"Meeting\",12,10,5,12,\"Saturday\"],[\"2016-12-10T14:42:00\",\"2016-12-10T15:18:00\",\"Business\",\"Fuquay-Varina\",\"Cary\",\"Errand/Supplies\",14,10,5,12,\"Saturday\"],[\"2016-12-10T18:17:00\",\"2016-12-10T18:27:00\",\"Business\",\"Cary\",\"Morrisville\",\"Meal/Entertain\",18,10,5,12,\"Saturday\"],[\"2016-12-10T22:09:00\",\"2016-12-10T22:21:00\",\"Business\",\"Morrisville\",\"Cary\",\"Customer Visit\",22,10,5,12,\"Saturday\"],[\"2016-12-11T16:06:00\",\"2016-12-11T16:16:00\",\"Business\",\"Cary\",\"Morrisville\",\"Meal/Entertain\",16,11,6,12,\"Sunday\"],[\"2016-12-11T19:05:00\",\"2016-12-11T19:15:00\",\"Business\",\"Morrisville\",\"Cary\",\"Errand/Supplies\",19,11,6,12,\"Sunday\"],[\"2016-12-11T21:48:00\",\"2016-12-11T21:56:00\",\"Business\",\"Cary\",\"Cary\",\"Errand/Supplies\",21,11,6,12,\"Sunday\"],[\"2016-12-12T13:22:00\",\"2016-12-12T13:32:00\",\"Business\",\"Cary\",\"Cary\",\"Errand/Supplies\",13,12,0,12,\"Monday\"],[\"2016-12-12T13:36:00\",\"2016-12-12T13:51:00\",\"Business\",\"Cary\",\"Apex\",\"Meal/Entertain\",13,12,0,12,\"Monday\"],[\"2016-12-12T14:26:00\",\"2016-12-12T14:39:00\",\"Business\",\"Apex\",\"Cary\",\"Customer Visit\",14,12,0,12,\"Monday\"],[\"2016-12-12T17:51:00\",\"2016-12-12T18:01:00\",\"Business\",\"Cary\",\"Morrisville\",\"Meal/Entertain\",17,12,0,12,\"Monday\"],[\"2016-12-12T20:48:00\",\"2016-12-12T20:57:00\",\"Business\",\"Morrisville\",\"Cary\",\"Customer Visit\",20,12,0,12,\"Monday\"],[\"2016-12-13T18:19:00\",\"2016-12-13T18:29:00\",\"Business\",\"Cary\",\"Cary\",\"Errand/Supplies\",18,13,1,12,\"Tuesday\"],[\"2016-12-13T20:20:00\",\"2016-12-13T20:29:00\",\"Business\",\"Cary\",\"Cary\",\"Meal/Entertain\",20,13,1,12,\"Tuesday\"],[\"2016-12-14T16:52:00\",\"2016-12-14T17:10:00\",\"Business\",\"Cary\",\"Cary\",null,16,14,2,12,\"Wednesday\"],[\"2016-12-14T17:22:00\",\"2016-12-14T17:34:00\",\"Business\",\"Cary\",\"Cary\",null,17,14,2,12,\"Wednesday\"],[\"2016-12-14T17:50:00\",\"2016-12-14T18:00:00\",\"Business\",\"Cary\",\"Morrisville\",\"Meal/Entertain\",17,14,2,12,\"Wednesday\"],[\"2016-12-14T20:24:00\",\"2016-12-14T20:40:00\",\"Business\",\"Morrisville\",\"Cary\",\"Customer Visit\",20,14,2,12,\"Wednesday\"],[\"2016-12-15T14:20:00\",\"2016-12-15T14:54:00\",\"Business\",\"Cary\",\"Morrisville\",\"Meeting\",14,15,3,12,\"Thursday\"],[\"2016-12-17T15:38:00\",\"2016-12-17T16:12:00\",\"Business\",\"Unknown Location\",\"Unknown Location\",\"Airport/Travel\",15,17,5,12,\"Saturday\"],[\"2016-12-17T17:19:00\",\"2016-12-17T17:59:00\",\"Business\",\"Unknown Location\",\"Unknown Location\",\"Temporary Site\",17,17,5,12,\"Saturday\"],[\"2016-12-18T13:03:00\",\"2016-12-18T13:41:00\",\"Business\",\"Unknown Location\",\"Unknown Location\",\"Errand/Supplies\",13,18,6,12,\"Sunday\"],[\"2016-12-18T16:38:00\",\"2016-12-18T17:25:00\",\"Business\",\"Unknown Location\",\"Unknown Location\",\"Errand/Supplies\",16,18,6,12,\"Sunday\"],[\"2016-12-18T20:35:00\",\"2016-12-18T21:04:00\",\"Business\",\"Unknown Location\",\"Unknown Location\",null,20,18,6,12,\"Sunday\"],[\"2016-12-19T09:08:00\",\"2016-12-19T09:36:00\",\"Business\",\"Unknown Location\",\"Islamabad\",\"Errand/Supplies\",9,19,0,12,\"Monday\"],[\"2016-12-19T10:15:00\",\"2016-12-19T10:34:00\",\"Business\",\"Islamabad\",\"Rawalpindi\",\"Temporary Site\",10,19,0,12,\"Monday\"],[\"2016-12-19T13:04:00\",\"2016-12-19T13:08:00\",\"Business\",\"Rawalpindi\",\"Unknown Location\",\"Errand/Supplies\",13,19,0,12,\"Monday\"],[\"2016-12-19T13:24:00\",\"2016-12-19T13:35:00\",\"Business\",\"Unknown Location\",\"Unknown Location\",null,13,19,0,12,\"Monday\"],[\"2016-12-19T14:07:00\",\"2016-12-19T14:15:00\",\"Business\",\"Unknown Location\",\"Unknown Location\",null,14,19,0,12,\"Monday\"],[\"2016-12-19T14:18:00\",\"2016-12-19T14:32:00\",\"Business\",\"Unknown Location\",\"Unknown Location\",null,14,19,0,12,\"Monday\"],[\"2016-12-19T14:37:00\",\"2016-12-19T14:50:00\",\"Business\",\"Unknown Location\",\"Unknown Location\",null,14,19,0,12,\"Monday\"],[\"2016-12-19T15:09:00\",\"2016-12-19T15:38:00\",\"Business\",\"Unknown Location\",\"Rawalpindi\",\"Customer Visit\",15,19,0,12,\"Monday\"],[\"2016-12-19T16:50:00\",\"2016-12-19T17:09:00\",\"Business\",\"Rawalpindi\",\"Islamabad\",\"Customer Visit\",16,19,0,12,\"Monday\"],[\"2016-12-19T19:05:00\",\"2016-12-19T19:17:00\",\"Business\",\"Islamabad\",\"Unknown Location\",null,19,19,0,12,\"Monday\"],[\"2016-12-19T19:55:00\",\"2016-12-19T20:30:00\",\"Business\",\"Unknown Location\",\"Unknown Location\",\"Meeting\",19,19,0,12,\"Monday\"],[\"2016-12-20T08:49:00\",\"2016-12-20T09:24:00\",\"Business\",\"Unknown Location\",\"Rawalpindi\",null,8,20,1,12,\"Tuesday\"],[\"2016-12-20T10:30:00\",\"2016-12-20T10:48:00\",\"Business\",\"Rawalpindi\",\"Rawalpindi\",\"Errand/Supplies\",10,20,1,12,\"Tuesday\"],[\"2016-12-20T11:30:00\",\"2016-12-20T12:17:00\",\"Business\",\"Rawalpindi\",\"Unknown Location\",\"Meeting\",11,20,1,12,\"Tuesday\"],[\"2016-12-20T13:14:00\",\"2016-12-20T13:20:00\",\"Business\",\"Unknown Location\",\"Unknown Location\",\"Errand/Supplies\",13,20,1,12,\"Tuesday\"],[\"2016-12-20T13:54:00\",\"2016-12-20T14:17:00\",\"Business\",\"Unknown Location\",\"Islamabad\",\"Temporary Site\",13,20,1,12,\"Tuesday\"],[\"2016-12-20T16:14:00\",\"2016-12-20T16:24:00\",\"Business\",\"Islamabad\",\"Islamabad\",\"Errand/Supplies\",16,20,1,12,\"Tuesday\"],[\"2016-12-20T16:56:00\",\"2016-12-20T17:07:00\",\"Business\",\"Islamabad\",\"Islamabad\",\"Errand/Supplies\",16,20,1,12,\"Tuesday\"],[\"2016-12-20T18:47:00\",\"2016-12-20T19:21:00\",\"Business\",\"Islamabad\",\"Unknown Location\",\"Customer Visit\",18,20,1,12,\"Tuesday\"],[\"2016-12-21T07:42:00\",\"2016-12-21T08:10:00\",\"Business\",\"Unknown Location\",\"Unknown Location\",\"Meeting\",7,21,2,12,\"Wednesday\"],[\"2016-12-21T10:14:00\",\"2016-12-21T10:30:00\",\"Business\",\"Unknown Location\",\"Islamabad\",\"Errand/Supplies\",10,21,2,12,\"Wednesday\"],[\"2016-12-21T11:35:00\",\"2016-12-21T11:49:00\",\"Business\",\"Islamabad\",\"Unknown Location\",\"Meal/Entertain\",11,21,2,12,\"Wednesday\"],[\"2016-12-21T12:51:00\",\"2016-12-21T13:33:00\",\"Business\",\"Unknown Location\",\"Unknown Location\",\"Meeting\",12,21,2,12,\"Wednesday\"],[\"2016-12-21T15:38:00\",\"2016-12-21T15:49:00\",\"Business\",\"Unknown Location\",\"Unknown Location\",\"Errand/Supplies\",15,21,2,12,\"Wednesday\"],[\"2016-12-21T15:55:00\",\"2016-12-21T16:05:00\",\"Business\",\"Unknown Location\",\"Islamabad\",\"Errand/Supplies\",15,21,2,12,\"Wednesday\"],[\"2016-12-21T17:45:00\",\"2016-12-21T17:54:00\",\"Business\",\"Islamabad\",\"Islamabad\",\"Meeting\",17,21,2,12,\"Wednesday\"],[\"2016-12-21T17:59:00\",\"2016-12-21T18:31:00\",\"Business\",\"Islamabad\",\"Unknown Location\",\"Customer Visit\",17,21,2,12,\"Wednesday\"],[\"2016-12-21T19:49:00\",\"2016-12-21T20:35:00\",\"Business\",\"Unknown Location\",\"Rawalpindi\",\"Meeting\",19,21,2,12,\"Wednesday\"],[\"2016-12-21T20:56:00\",\"2016-12-21T23:42:00\",\"Business\",\"Rawalpindi\",\"Unknown Location\",\"Meeting\",20,21,2,12,\"Wednesday\"],[\"2016-12-22T15:40:00\",\"2016-12-22T16:38:00\",\"Business\",\"Unknown Location\",\"Unknown Location\",\"Meeting\",15,22,3,12,\"Thursday\"],[\"2016-12-22T17:04:00\",\"2016-12-22T17:20:00\",\"Business\",\"Unknown Location\",\"Unknown Location\",\"Customer Visit\",17,22,3,12,\"Thursday\"],[\"2016-12-22T17:27:00\",\"2016-12-22T17:53:00\",\"Business\",\"Unknown Location\",\"Unknown Location\",\"Meeting\",17,22,3,12,\"Thursday\"],[\"2016-12-22T17:56:00\",\"2016-12-22T18:29:00\",\"Business\",\"Unknown Location\",\"Unknown Location\",\"Meeting\",17,22,3,12,\"Thursday\"],[\"2016-12-22T18:31:00\",\"2016-12-22T18:37:00\",\"Business\",\"Unknown Location\",\"Unknown Location\",\"Errand/Supplies\",18,22,3,12,\"Thursday\"],[\"2016-12-22T18:38:00\",\"2016-12-22T18:47:00\",\"Business\",\"Unknown Location\",\"Unknown Location\",\"Temporary Site\",18,22,3,12,\"Thursday\"],[\"2016-12-22T19:04:00\",\"2016-12-22T19:50:00\",\"Business\",\"Unknown Location\",\"Lahore\",\"Meeting\",19,22,3,12,\"Thursday\"],[\"2016-12-22T21:41:00\",\"2016-12-22T21:53:00\",\"Business\",\"Lahore\",\"Lahore\",\"Meal/Entertain\",21,22,3,12,\"Thursday\"],[\"2016-12-22T23:27:00\",\"2016-12-22T23:32:00\",\"Business\",\"Lahore\",\"Lahore\",\"Customer Visit\",23,22,3,12,\"Thursday\"],[\"2016-12-23T09:21:00\",\"2016-12-23T09:41:00\",\"Business\",\"Lahore\",\"Lahore\",\"Meeting\",9,23,4,12,\"Friday\"],[\"2016-12-23T11:33:00\",\"2016-12-23T11:58:00\",\"Business\",\"Lahore\",\"Unknown Location\",\"Meeting\",11,23,4,12,\"Friday\"],[\"2016-12-23T14:15:00\",\"2016-12-23T15:25:00\",\"Business\",\"Unknown Location\",\"Unknown Location\",\"Meeting\",14,23,4,12,\"Friday\"],[\"2016-12-23T16:23:00\",\"2016-12-23T16:34:00\",\"Business\",\"Unknown Location\",\"Unknown Location\",\"Errand/Supplies\",16,23,4,12,\"Friday\"],[\"2016-12-23T17:34:00\",\"2016-12-23T18:27:00\",\"Business\",\"Unknown Location\",\"Lahore\",\"Meal/Entertain\",17,23,4,12,\"Friday\"],[\"2016-12-24T07:43:00\",\"2016-12-24T08:04:00\",\"Business\",\"Lahore\",\"Unknown Location\",\"Meal/Entertain\",7,24,5,12,\"Saturday\"],[\"2016-12-24T09:19:00\",\"2016-12-24T09:55:00\",\"Business\",\"Unknown Location\",\"Lahore\",\"Meal/Entertain\",9,24,5,12,\"Saturday\"],[\"2016-12-24T10:34:00\",\"2016-12-24T10:53:00\",\"Business\",\"Lahore\",\"Lahore\",\"Meal/Entertain\",10,24,5,12,\"Saturday\"],[\"2016-12-24T12:51:00\",\"2016-12-24T12:53:00\",\"Business\",\"Lahore\",\"Lahore\",\"Errand/Supplies\",12,24,5,12,\"Saturday\"],[\"2016-12-24T13:08:00\",\"2016-12-24T13:29:00\",\"Business\",\"Lahore\",\"Lahore\",\"Errand/Supplies\",13,24,5,12,\"Saturday\"],[\"2016-12-24T17:12:00\",\"2016-12-24T17:27:00\",\"Business\",\"Lahore\",\"Lahore\",\"Errand/Supplies\",17,24,5,12,\"Saturday\"],[\"2016-12-24T19:12:00\",\"2016-12-24T19:27:00\",\"Business\",\"Lahore\",\"Lahore\",\"Meal/Entertain\",19,24,5,12,\"Saturday\"],[\"2016-12-24T22:04:00\",\"2016-12-24T22:09:00\",\"Business\",\"Lahore\",\"Lahore\",\"Errand/Supplies\",22,24,5,12,\"Saturday\"],[\"2016-12-25T00:10:00\",\"2016-12-25T00:14:00\",\"Business\",\"Lahore\",\"Lahore\",\"Errand/Supplies\",0,25,6,12,\"Sunday\"],[\"2016-12-25T19:15:00\",\"2016-12-25T19:26:00\",\"Business\",\"Lahore\",\"Lahore\",\"Meal/Entertain\",19,25,6,12,\"Sunday\"],[\"2016-12-25T21:58:00\",\"2016-12-25T22:04:00\",\"Business\",\"Lahore\",\"Lahore\",\"Meal/Entertain\",21,25,6,12,\"Sunday\"],[\"2016-12-26T08:30:00\",\"2016-12-26T08:41:00\",\"Business\",\"Lahore\",\"Lahore\",\"Meal/Entertain\",8,26,0,12,\"Monday\"],[\"2016-12-26T09:05:00\",\"2016-12-26T09:19:00\",\"Business\",\"Lahore\",\"Lahore\",\"Customer Visit\",9,26,0,12,\"Monday\"],[\"2016-12-26T10:15:00\",\"2016-12-26T10:36:00\",\"Business\",\"Lahore\",\"Lahore\",\"Customer Visit\",10,26,0,12,\"Monday\"],[\"2016-12-26T11:29:00\",\"2016-12-26T11:42:00\",\"Business\",\"Lahore\",\"Lahore\",\"Customer Visit\",11,26,0,12,\"Monday\"],[\"2016-12-26T13:09:00\",\"2016-12-26T13:43:00\",\"Business\",\"Lahore\",\"Unknown Location\",\"Meeting\",13,26,0,12,\"Monday\"],[\"2016-12-27T07:02:00\",\"2016-12-27T07:14:00\",\"Business\",\"Kar?chi\",\"Kar?chi\",\"Temporary Site\",7,27,1,12,\"Tuesday\"],[\"2016-12-27T08:37:00\",\"2016-12-27T08:59:00\",\"Business\",\"Kar?chi\",\"Kar?chi\",\"Meal/Entertain\",8,27,1,12,\"Tuesday\"],[\"2016-12-27T12:53:00\",\"2016-12-27T12:57:00\",\"Business\",\"Kar?chi\",\"Kar?chi\",\"Meal/Entertain\",12,27,1,12,\"Tuesday\"],[\"2016-12-27T14:49:00\",\"2016-12-27T15:03:00\",\"Business\",\"Kar?chi\",\"Unknown Location\",\"Customer Visit\",14,27,1,12,\"Tuesday\"],[\"2016-12-27T16:34:00\",\"2016-12-27T16:58:00\",\"Business\",\"Unknown Location\",\"Kar?chi\",\"Meeting\",16,27,1,12,\"Tuesday\"],[\"2016-12-27T19:19:00\",\"2016-12-27T19:50:00\",\"Business\",\"Kar?chi\",\"Kar?chi\",\"Customer Visit\",19,27,1,12,\"Tuesday\"],[\"2016-12-28T08:34:00\",\"2016-12-28T09:06:00\",\"Business\",\"Kar?chi\",\"Unknown Location\",\"Meal/Entertain\",8,28,2,12,\"Wednesday\"],[\"2016-12-28T11:42:00\",\"2016-12-28T12:12:00\",\"Business\",\"Unknown Location\",\"Kar?chi\",\"Errand/Supplies\",11,28,2,12,\"Wednesday\"],[\"2016-12-28T13:53:00\",\"2016-12-28T14:01:00\",\"Business\",\"Kar?chi\",\"Kar?chi\",\"Errand/Supplies\",13,28,2,12,\"Wednesday\"],[\"2016-12-28T15:04:00\",\"2016-12-28T15:39:00\",\"Business\",\"Kar?chi\",\"Unknown Location\",\"Meal/Entertain\",15,28,2,12,\"Wednesday\"],[\"2016-12-28T17:02:00\",\"2016-12-28T17:16:00\",\"Business\",\"Unknown Location\",\"Kar?chi\",\"Errand/Supplies\",17,28,2,12,\"Wednesday\"],[\"2016-12-28T18:33:00\",\"2016-12-28T18:56:00\",\"Business\",\"Kar?chi\",\"Kar?chi\",\"Errand/Supplies\",18,28,2,12,\"Wednesday\"],[\"2016-12-28T22:44:00\",\"2016-12-28T23:18:00\",\"Business\",\"Kar?chi\",\"Kar?chi\",\"Errand/Supplies\",22,28,2,12,\"Wednesday\"],[\"2016-12-29T00:49:00\",\"2016-12-29T01:06:00\",\"Business\",\"Kar?chi\",\"Kar?chi\",\"Errand/Supplies\",0,29,3,12,\"Thursday\"],[\"2016-12-29T09:44:00\",\"2016-12-29T10:07:00\",\"Business\",\"Kar?chi\",\"Unknown Location\",\"Meal/Entertain\",9,29,3,12,\"Thursday\"],[\"2016-12-29T11:28:00\",\"2016-12-29T12:00:00\",\"Business\",\"Unknown Location\",\"Kar?chi\",\"Meal/Entertain\",11,29,3,12,\"Thursday\"],[\"2016-12-29T12:25:00\",\"2016-12-29T12:33:00\",\"Business\",\"Kar?chi\",\"Kar?chi\",\"Errand/Supplies\",12,29,3,12,\"Thursday\"],[\"2016-12-29T13:17:00\",\"2016-12-29T13:24:00\",\"Business\",\"Kar?chi\",\"Kar?chi\",\"Errand/Supplies\",13,29,3,12,\"Thursday\"],[\"2016-12-29T13:56:00\",\"2016-12-29T14:11:00\",\"Business\",\"Kar?chi\",\"Kar?chi\",\"Airport/Travel\",13,29,3,12,\"Thursday\"],[\"2016-12-29T14:42:00\",\"2016-12-29T14:58:00\",\"Business\",\"Kar?chi\",\"Kar?chi\",\"Between Offices\",14,29,3,12,\"Thursday\"],[\"2016-12-29T15:05:00\",\"2016-12-29T15:16:00\",\"Business\",\"Kar?chi\",\"Kar?chi\",\"Errand/Supplies\",15,29,3,12,\"Thursday\"],[\"2016-12-29T18:59:00\",\"2016-12-29T19:14:00\",\"Business\",\"Kar?chi\",\"Unknown Location\",\"Meal/Entertain\",18,29,3,12,\"Thursday\"],[\"2016-12-29T19:50:00\",\"2016-12-29T20:10:00\",\"Business\",\"Unknown Location\",\"Kar?chi\",\"Customer Visit\",19,29,3,12,\"Thursday\"],[\"2016-12-29T20:15:00\",\"2016-12-29T20:45:00\",\"Business\",\"Kar?chi\",\"Kar?chi\",\"Meeting\",20,29,3,12,\"Thursday\"],[\"2016-12-29T20:53:00\",\"2016-12-29T21:42:00\",\"Business\",\"Kar?chi\",\"Unknown Location\",null,20,29,3,12,\"Thursday\"],[\"2016-12-29T23:14:00\",\"2016-12-29T23:47:00\",\"Business\",\"Unknown Location\",\"Kar?chi\",\"Meeting\",23,29,3,12,\"Thursday\"],[\"2016-12-30T10:15:00\",\"2016-12-30T10:33:00\",\"Business\",\"Kar?chi\",\"Kar?chi\",\"Errand/Supplies\",10,30,4,12,\"Friday\"],[\"2016-12-30T11:31:00\",\"2016-12-30T11:56:00\",\"Business\",\"Kar?chi\",\"Kar?chi\",\"Errand/Supplies\",11,30,4,12,\"Friday\"],[\"2016-12-30T15:41:00\",\"2016-12-30T16:03:00\",\"Business\",\"Kar?chi\",\"Kar?chi\",\"Errand/Supplies\",15,30,4,12,\"Friday\"],[\"2016-12-30T16:45:00\",\"2016-12-30T17:08:00\",\"Business\",\"Kar?chi\",\"Kar?chi\",\"Meeting\",16,30,4,12,\"Friday\"],[\"2016-12-30T23:06:00\",\"2016-12-30T23:10:00\",\"Business\",\"Kar?chi\",\"Kar?chi\",\"Customer Visit\",23,30,4,12,\"Friday\"],[\"2016-12-31T01:07:00\",\"2016-12-31T01:14:00\",\"Business\",\"Kar?chi\",\"Kar?chi\",\"Meeting\",1,31,5,12,\"Saturday\"],[\"2016-12-31T13:24:00\",\"2016-12-31T13:42:00\",\"Business\",\"Kar?chi\",\"Unknown Location\",\"Temporary Site\",13,31,5,12,\"Saturday\"],[\"2016-12-31T15:03:00\",\"2016-12-31T15:38:00\",\"Business\",\"Unknown Location\",\"Unknown Location\",\"Meeting\",15,31,5,12,\"Saturday\"],[\"2016-12-31T21:32:00\",\"2016-12-31T21:50:00\",\"Business\",\"Katunayake\",\"Gampaha\",\"Temporary Site\",21,31,5,12,\"Saturday\"],[\"2016-12-31T22:08:00\",\"2016-12-31T23:51:00\",\"Business\",\"Gampaha\",\"Ilukwatta\",\"Temporary Site\",22,31,5,12,\"Saturday\"]],\"fillcolor\":\"rgba(255,255,255,0)\",\"hoveron\":\"points\",\"hovertemplate\":\"MILES*=%{x}<br>START_DATE*=%{customdata[0]}<br>END_DATE*=%{customdata[1]}<br>CATEGORY*=%{customdata[2]}<br>START*=%{customdata[3]}<br>STOP*=%{customdata[4]}<br>PURPOSE*=%{customdata[5]}<br>HOUR=%{customdata[6]}<br>DAY=%{customdata[7]}<br>DAY_OF_WEEK=%{customdata[8]}<br>MONTH=%{customdata[9]}<br>WEEKDAY=%{customdata[10]}<extra></extra>\",\"jitter\":0,\"legendgroup\":\"\",\"line\":{\"color\":\"rgba(255,255,255,0)\"},\"marker\":{\"color\":\"#636efa\",\"symbol\":\"line-ns-open\"},\"name\":\"\",\"offsetgroup\":\"\",\"showlegend\":false,\"type\":\"box\",\"x\":[5.1,5.0,4.8,4.7,63.7,4.3,7.1,0.8,8.3,16.5,10.8,7.5,6.2,6.4,1.6,1.7,1.9,1.9,4.0,1.8,2.4,2.0,15.1,11.2,11.8,21.9,3.9,8.0,10.4,10.4,4.8,4.7,7.2,7.6,17.1,15.1,40.2,1.6,2.4,1.0,2.0,2.3,1.9,1.4,0.5,1.8,18.7,3.4,2.7,12.9,19.0,14.7,15.7,4.6,5.2,10.4,10.1,5.8,5.5,5.7,5.7,19.4,23.3,3.9,8.3,6.0,1.6,5.2,9.7,1.6,1.1,1.6,9.0,7.7,10.4,10.4,11.4,9.0,3.2,5.6,5.7,6.1,6.1,4.3,2.7,5.3,3.0,5.1,1.5,6.1,6.1,17.3,5.7,13.5,6.1,8.5,2.6,17.0,18.0,8.4,11.5,8.9,2.7,1.8,8.1,2.0,13.0,13.9,43.7,14.1,2.6,4.5,1.7,1.8,6.0,1.1,3.6,14.7,1.7,21.4,0.5,23.5,12.7,6.0,5.2,10.0,18.3,11.2,7.6,1.5,1.0,7.3,3.5,4.2,13.6,2.5,14.4,3.0,1.5,18.4,23.1,16.5,3.2,7.7,14.5,2.4,4.6,8.8,8.3,22.7,13.0,8.1,2.2,9.7,20.0,8.1,1.5,1.7,3.1,3.2,6.0,5.8,6.3,1.7,10.6,9.9,1.9,4.2,2.0,7.7,6.8,2.1,3.8,5.6,2.6,6.6,8.0,8.0,2.2,2.3,5.2,7.6,17.3,9.9,9.9,10.4,10.9,15.7,4.9,0.8,13.5,1.9,2.0,6.5,4.2,3.5,7.8,7.8,3.9,2.8,12.4,5.9,9.4,11.9,7.2,7.6,1.6,8.4,12.8,2.3,1.6,2.0,0.8,1.2,1.0,2.1,2.2,1.9,5.7,8.4,6.2,10.5,7.2,12.5,2.0,2.7,2.0,2.8,1.7,2.0,2.1,1.7,136.0,30.2,15.5,4.9,12.6,10.4,1.1,1.1,13.2,1.0,9.2,9.4,12.0,35.1,36.5,3.1,2.1,1.2,7.5,57.0,5.9,6.2,10.4,1.2,9.6,1.0,0.9,8.8,25.6,23.0,8.1,1.4,1.7,1.6,2.0,2.2,144.0,310.3,201.0,6.7,8.8,1.2,2.1,6.6,6.1,6.9,7.3,3.6,27.2,25.7,13.6,6.2,6.0,13.8,28.8,16.1,16.4,11.0,15.5,20.3,0.7,5.5,5.1,77.3,80.5,174.2,144.0,159.3,7.9,8.0,6.1,6.1,10.5,8.7,1.8,19.1,18.6,2.8,8.9,7.5,15.9,6.5,15.3,13.7,11.9,1.4,15.2,6.0,6.1,8.2,8.0,13.6,22.5,10.4,10.0,6.0,6.5,3.1,1.9,4.2,4.9,4.8,12.4,32.8,5.5,9.9,10.0,14.2,18.2,7.7,6.8,2.1,2.3,6.2,7.5,3.1,2.2,3.9,2.5,8.7,14.5,4.5,5.0,14.2,2.9,12.9,14.4,17.0,7.9,8.4,20.5,9.8,17.6,9.3,7.9,25.6,8.1,3.1,3.1,2.8,2.7,1.9,8.4,7.6,2.9,11.2,8.2,3.0,2.5,3.6,3.6,4.5,1.2,1.7,4.7,6.1,11.3,14.9,14.0,1.8,6.7,9.6,10.4,9.9,6.0,3.3,3.1,1.7,4.0,7.8,7.8,3.8,2.5,9.9,9.9,3.0,2.4,5.7,7.2,10.4,9.9,10.4,9.9,8.7,22.3,3.3,0.7,2.5,0.5,0.9,4.8,16.3,10.4,9.9,3.7,4.6,1.7,10.4,9.9,2.5,4.3,2.8,8.4,13.2,3.9,5.1,5.2,9.8,11.6,5.1,9.3,12.4,1.9,6.4,5.5,1.5,14.5,2.7,15.0,12.9,13.6,12.2,8.7,6.0,5.9,19.3,16.6,7.1,2.1,8.6,9.0,3.1,8.4,12.8,4.5,11.8,1.1,17.0,1.7,15.5,1.6,1.5,12.6,4.8,2.2,13.0,46.9,2.5,8.6,5.2,7.6,1.8,4.7,2.8,30.0,4.4,1.0,8.2,10.4,9.9,9.9,7.3,7.4,1.6,1.8,10.4,9.9,9.9,9.9,13.3,11.3,10.5,9.9,10.1,9.9,3.1,3.1,9.9,9.9,8.8,8.7,11.8,1.2,9.9,0.6,9.9,8.6,6.3,9.9,9.9,3.3,3.1,7.9,8.9,12.8,7.7,7.0,12.5,13.2,13.0,4.9,8.5,1.3,1.8,13.6,13.4,12.3,1.4,8.7,23.5,2.2,4.4,3.3,11.8,195.3,8.3,3.2,22.4,12.2,4.5,28.1,3.8,41.9,23.8,13.0,4.4,15.1,180.2,4.1,6.1,3.3,4.7,7.2,5.5,3.3,0.9,3.8,6.4,3.0,8.7,3.9,4.8,2.8,1.4,1.4,2.7,2.3,3.7,2.9,3.8,5.1,9.1,8.0,9.9,6.1,12.2,8.0,4.0,9.5,3.0,6.3,10.4,9.9,1.5,4.9,7.9,1.7,2.2,2.1,2.5,2.5,2.8,14.7,14.6,2.3,2.2,2.2,14.0,13.3,1.8,6.2,1.3,1.9,6.9,4.6,2.8,9.1,8.1,8.4,4.9,1.0,1.0,2.0,1.1,1.5,1.3,1.8,1.5,6.6,8.0,2.7,2.7,2.5,2.5,5.2,4.0,2.7,4.8,3.2,6.9,14.9,17.4,12.9,15.3,1.0,6.0,2.2,4.4,2.8,31.7,31.9,1.9,1.8,8.4,15.6,14.1,15.7,25.9,7.9,2.7,5.5,5.7,1.2,5.7,16.2,2.6,12.1,1.4,6.4,7.3,5.3,5.5,7.7,7.6,7.6,3.3,6.5,2.0,5.7,3.2,12.5,7.6,7.7,12.2,1.4,20.2,9.8,6.3,4.9,1.5,10.9,19.0,19.0,7.9,4.1,18.7,8.7,7.5,7.7,4.4,5.0,1.9,7.9,17.7,25.2,96.2,35.0,5.5,50.4,9.2,7.3,5.0,3.8,3.9,7.4,1.5,7.9,2.9,3.4,3.8,5.9,9.6,7.0,0.9,86.6,156.9,10.1,6.2,5.3,12.1,10.8,4.3,2.5,5.7,2.8,4.0,5.5,2.6,2.1,8.8,4.4,5.3,13.0,13.0,10.6,2.2,9.2,12.9,17.2,69.1,2.8,8.6,9.8,3.6,1.7,11.5,0.7,0.7,0.9,1.6,9.4,18.2,10.5,5.7,18.0,18.3,16.5,9.6,2.9,8.2,2.4,5.8,9.8,7.3,195.6,20.5,12.6,37.7,16.7,10.5,2.8,1.6,12.7,28.6,15.1,17.9,112.6,18.4,13.8,33.2,2.6,5.8,8.3,2.4,3.1,6.1,3.6,8.0,7.7,1.7,9.5,17.1,18.4,9.8,1.0,0.7,2.3,10.9,12.7,12.4,3.8,17.0,6.2,3.1,10.5,8.1,3.1,2.1,4.3,2.5,20.6,17.6,5.6,3.3,5.3,3.3,3.3,7.9,13.0,3.0,3.0,3.8,9.5,1.7,10.8,4.1,2.2,4.6,3.1,47.7,44.6,13.2,8.7,17.2,14.0,28.1,28.2,3.1,3.1,16.4,15.4,2.2,11.2,2.2,3.6,3.6,4.9,8.7,2.1,2.1,8.4,5.9,12.1,3.9,6.2,10.4,9.9,107.0,133.6,91.8,40.7,75.7,29.8,16.3,6.5,6.3,6.6,15.2,68.4,195.9,45.2,3.2,10.3,13.1,9.6,16.5,12.8,1.2,1.0,4.1,4.2,1.4,1.8,8.5,5.0,3.8,2.5,2.4,1.4,1.8,3.1,3.1,7.9,3.8,4.3,3.9,2.2,2.8,2.2,2.4,2.8,43.9,1.8,3.3,11.8,13.2,12.2,11.3,3.6,3.0,11.4,0.9,6.2,0.7,5.5,12.7,2.6,1.1,12.6,1.2,1.1,9.9,6.0,0.8,45.9,4.0,2.5,36.6,2.9,2.6,2.3,6.4,1.4,0.6,5.9,0.8,1.3,3.7,2.3,2.6,1.9,2.1,4.0,0.9,0.9,2.4,1.9,1.9,44.6,43.6,2.5,3.7,5.1,9.7,11.8,2.3,3.1,16.3,3.1,5.2,6.1,10.3,10.5,1.5,1.8,5.4,5.4,39.2,6.4,2.7,18.5,2.5,2.1,6.7,3.5,3.4,5.5,4.1,12.7,3.0,3.5,5.9,1.9,3.3,1.3,10.3,11.1,1.4,5.1,9.0,13.3,2.5,3.3,2.9,8.5,6.7,3.1,5.5,5.5,2.9,2.9,5.1,5.3,3.3,3.0,6.6,1.8,3.0,2.9,3.4,4.1,3.8,6.6,4.0,7.0,6.9,3.4,3.4,2.0,2.0,5.1,8.8,5.6,18.9,15.6,15.6,3.0,3.1,3.0,4.8,2.1,3.1,4.4,4.7,3.0,3.0,4.2,4.1,3.4,3.3,3.0,3.1,10.6,4.8,5.3,4.9,10.2,9.2,7.7,5.9,0.7,1.3,2.5,5.3,5.4,10.2,7.2,2.2,11.0,12.0,3.3,19.4,1.7,5.7,1.8,1.4,10.3,11.5,4.9,3.5,16.2,2.0,2.1,2.1,7.2,12.0,103.0,32.3,5.3,11.6,23.2,3.2,12.3,14.0,2.1,2.1,3.0,6.2,9.6,1.3,7.1,6.3,10.7,5.3,1.6,3.6,1.7,2.9,0.6,0.6,2.3,2.3,3.2,6.2,7.7,3.8,7.9,4.9,5.0,0.6,3.1,7.9,5.5,10.3,10.4,2.0,8.5,4.4,3.8,5.1,3.8,11.6,11.9,1.4,1.1,4.1,6.1,1.3,3.0,4.1,7.2,6.4,12.9,2.8,2.9,4.6,4.6,0.8,0.7,3.9,16.2,6.4,48.2],\"xaxis\":\"x2\",\"yaxis\":\"y2\"}],                        {\"barmode\":\"relative\",\"legend\":{\"tracegroupgap\":0},\"margin\":{\"t\":60},\"template\":{\"data\":{\"bar\":[{\"error_x\":{\"color\":\"#2a3f5f\"},\"error_y\":{\"color\":\"#2a3f5f\"},\"marker\":{\"line\":{\"color\":\"#E5ECF6\",\"width\":0.5},\"pattern\":{\"fillmode\":\"overlay\",\"size\":10,\"solidity\":0.2}},\"type\":\"bar\"}],\"barpolar\":[{\"marker\":{\"line\":{\"color\":\"#E5ECF6\",\"width\":0.5},\"pattern\":{\"fillmode\":\"overlay\",\"size\":10,\"solidity\":0.2}},\"type\":\"barpolar\"}],\"carpet\":[{\"aaxis\":{\"endlinecolor\":\"#2a3f5f\",\"gridcolor\":\"white\",\"linecolor\":\"white\",\"minorgridcolor\":\"white\",\"startlinecolor\":\"#2a3f5f\"},\"baxis\":{\"endlinecolor\":\"#2a3f5f\",\"gridcolor\":\"white\",\"linecolor\":\"white\",\"minorgridcolor\":\"white\",\"startlinecolor\":\"#2a3f5f\"},\"type\":\"carpet\"}],\"choropleth\":[{\"colorbar\":{\"outlinewidth\":0,\"ticks\":\"\"},\"type\":\"choropleth\"}],\"contour\":[{\"colorbar\":{\"outlinewidth\":0,\"ticks\":\"\"},\"colorscale\":[[0.0,\"#0d0887\"],[0.1111111111111111,\"#46039f\"],[0.2222222222222222,\"#7201a8\"],[0.3333333333333333,\"#9c179e\"],[0.4444444444444444,\"#bd3786\"],[0.5555555555555556,\"#d8576b\"],[0.6666666666666666,\"#ed7953\"],[0.7777777777777778,\"#fb9f3a\"],[0.8888888888888888,\"#fdca26\"],[1.0,\"#f0f921\"]],\"type\":\"contour\"}],\"contourcarpet\":[{\"colorbar\":{\"outlinewidth\":0,\"ticks\":\"\"},\"type\":\"contourcarpet\"}],\"heatmap\":[{\"colorbar\":{\"outlinewidth\":0,\"ticks\":\"\"},\"colorscale\":[[0.0,\"#0d0887\"],[0.1111111111111111,\"#46039f\"],[0.2222222222222222,\"#7201a8\"],[0.3333333333333333,\"#9c179e\"],[0.4444444444444444,\"#bd3786\"],[0.5555555555555556,\"#d8576b\"],[0.6666666666666666,\"#ed7953\"],[0.7777777777777778,\"#fb9f3a\"],[0.8888888888888888,\"#fdca26\"],[1.0,\"#f0f921\"]],\"type\":\"heatmap\"}],\"heatmapgl\":[{\"colorbar\":{\"outlinewidth\":0,\"ticks\":\"\"},\"colorscale\":[[0.0,\"#0d0887\"],[0.1111111111111111,\"#46039f\"],[0.2222222222222222,\"#7201a8\"],[0.3333333333333333,\"#9c179e\"],[0.4444444444444444,\"#bd3786\"],[0.5555555555555556,\"#d8576b\"],[0.6666666666666666,\"#ed7953\"],[0.7777777777777778,\"#fb9f3a\"],[0.8888888888888888,\"#fdca26\"],[1.0,\"#f0f921\"]],\"type\":\"heatmapgl\"}],\"histogram\":[{\"marker\":{\"pattern\":{\"fillmode\":\"overlay\",\"size\":10,\"solidity\":0.2}},\"type\":\"histogram\"}],\"histogram2d\":[{\"colorbar\":{\"outlinewidth\":0,\"ticks\":\"\"},\"colorscale\":[[0.0,\"#0d0887\"],[0.1111111111111111,\"#46039f\"],[0.2222222222222222,\"#7201a8\"],[0.3333333333333333,\"#9c179e\"],[0.4444444444444444,\"#bd3786\"],[0.5555555555555556,\"#d8576b\"],[0.6666666666666666,\"#ed7953\"],[0.7777777777777778,\"#fb9f3a\"],[0.8888888888888888,\"#fdca26\"],[1.0,\"#f0f921\"]],\"type\":\"histogram2d\"}],\"histogram2dcontour\":[{\"colorbar\":{\"outlinewidth\":0,\"ticks\":\"\"},\"colorscale\":[[0.0,\"#0d0887\"],[0.1111111111111111,\"#46039f\"],[0.2222222222222222,\"#7201a8\"],[0.3333333333333333,\"#9c179e\"],[0.4444444444444444,\"#bd3786\"],[0.5555555555555556,\"#d8576b\"],[0.6666666666666666,\"#ed7953\"],[0.7777777777777778,\"#fb9f3a\"],[0.8888888888888888,\"#fdca26\"],[1.0,\"#f0f921\"]],\"type\":\"histogram2dcontour\"}],\"mesh3d\":[{\"colorbar\":{\"outlinewidth\":0,\"ticks\":\"\"},\"type\":\"mesh3d\"}],\"parcoords\":[{\"line\":{\"colorbar\":{\"outlinewidth\":0,\"ticks\":\"\"}},\"type\":\"parcoords\"}],\"pie\":[{\"automargin\":true,\"type\":\"pie\"}],\"scatter\":[{\"marker\":{\"colorbar\":{\"outlinewidth\":0,\"ticks\":\"\"}},\"type\":\"scatter\"}],\"scatter3d\":[{\"line\":{\"colorbar\":{\"outlinewidth\":0,\"ticks\":\"\"}},\"marker\":{\"colorbar\":{\"outlinewidth\":0,\"ticks\":\"\"}},\"type\":\"scatter3d\"}],\"scattercarpet\":[{\"marker\":{\"colorbar\":{\"outlinewidth\":0,\"ticks\":\"\"}},\"type\":\"scattercarpet\"}],\"scattergeo\":[{\"marker\":{\"colorbar\":{\"outlinewidth\":0,\"ticks\":\"\"}},\"type\":\"scattergeo\"}],\"scattergl\":[{\"marker\":{\"colorbar\":{\"outlinewidth\":0,\"ticks\":\"\"}},\"type\":\"scattergl\"}],\"scattermapbox\":[{\"marker\":{\"colorbar\":{\"outlinewidth\":0,\"ticks\":\"\"}},\"type\":\"scattermapbox\"}],\"scatterpolar\":[{\"marker\":{\"colorbar\":{\"outlinewidth\":0,\"ticks\":\"\"}},\"type\":\"scatterpolar\"}],\"scatterpolargl\":[{\"marker\":{\"colorbar\":{\"outlinewidth\":0,\"ticks\":\"\"}},\"type\":\"scatterpolargl\"}],\"scatterternary\":[{\"marker\":{\"colorbar\":{\"outlinewidth\":0,\"ticks\":\"\"}},\"type\":\"scatterternary\"}],\"surface\":[{\"colorbar\":{\"outlinewidth\":0,\"ticks\":\"\"},\"colorscale\":[[0.0,\"#0d0887\"],[0.1111111111111111,\"#46039f\"],[0.2222222222222222,\"#7201a8\"],[0.3333333333333333,\"#9c179e\"],[0.4444444444444444,\"#bd3786\"],[0.5555555555555556,\"#d8576b\"],[0.6666666666666666,\"#ed7953\"],[0.7777777777777778,\"#fb9f3a\"],[0.8888888888888888,\"#fdca26\"],[1.0,\"#f0f921\"]],\"type\":\"surface\"}],\"table\":[{\"cells\":{\"fill\":{\"color\":\"#EBF0F8\"},\"line\":{\"color\":\"white\"}},\"header\":{\"fill\":{\"color\":\"#C8D4E3\"},\"line\":{\"color\":\"white\"}},\"type\":\"table\"}]},\"layout\":{\"annotationdefaults\":{\"arrowcolor\":\"#2a3f5f\",\"arrowhead\":0,\"arrowwidth\":1},\"autotypenumbers\":\"strict\",\"coloraxis\":{\"colorbar\":{\"outlinewidth\":0,\"ticks\":\"\"}},\"colorscale\":{\"diverging\":[[0,\"#8e0152\"],[0.1,\"#c51b7d\"],[0.2,\"#de77ae\"],[0.3,\"#f1b6da\"],[0.4,\"#fde0ef\"],[0.5,\"#f7f7f7\"],[0.6,\"#e6f5d0\"],[0.7,\"#b8e186\"],[0.8,\"#7fbc41\"],[0.9,\"#4d9221\"],[1,\"#276419\"]],\"sequential\":[[0.0,\"#0d0887\"],[0.1111111111111111,\"#46039f\"],[0.2222222222222222,\"#7201a8\"],[0.3333333333333333,\"#9c179e\"],[0.4444444444444444,\"#bd3786\"],[0.5555555555555556,\"#d8576b\"],[0.6666666666666666,\"#ed7953\"],[0.7777777777777778,\"#fb9f3a\"],[0.8888888888888888,\"#fdca26\"],[1.0,\"#f0f921\"]],\"sequentialminus\":[[0.0,\"#0d0887\"],[0.1111111111111111,\"#46039f\"],[0.2222222222222222,\"#7201a8\"],[0.3333333333333333,\"#9c179e\"],[0.4444444444444444,\"#bd3786\"],[0.5555555555555556,\"#d8576b\"],[0.6666666666666666,\"#ed7953\"],[0.7777777777777778,\"#fb9f3a\"],[0.8888888888888888,\"#fdca26\"],[1.0,\"#f0f921\"]]},\"colorway\":[\"#636efa\",\"#EF553B\",\"#00cc96\",\"#ab63fa\",\"#FFA15A\",\"#19d3f3\",\"#FF6692\",\"#B6E880\",\"#FF97FF\",\"#FECB52\"],\"font\":{\"color\":\"#2a3f5f\"},\"geo\":{\"bgcolor\":\"white\",\"lakecolor\":\"white\",\"landcolor\":\"#E5ECF6\",\"showlakes\":true,\"showland\":true,\"subunitcolor\":\"white\"},\"hoverlabel\":{\"align\":\"left\"},\"hovermode\":\"closest\",\"mapbox\":{\"style\":\"light\"},\"paper_bgcolor\":\"white\",\"plot_bgcolor\":\"#E5ECF6\",\"polar\":{\"angularaxis\":{\"gridcolor\":\"white\",\"linecolor\":\"white\",\"ticks\":\"\"},\"bgcolor\":\"#E5ECF6\",\"radialaxis\":{\"gridcolor\":\"white\",\"linecolor\":\"white\",\"ticks\":\"\"}},\"scene\":{\"xaxis\":{\"backgroundcolor\":\"#E5ECF6\",\"gridcolor\":\"white\",\"gridwidth\":2,\"linecolor\":\"white\",\"showbackground\":true,\"ticks\":\"\",\"zerolinecolor\":\"white\"},\"yaxis\":{\"backgroundcolor\":\"#E5ECF6\",\"gridcolor\":\"white\",\"gridwidth\":2,\"linecolor\":\"white\",\"showbackground\":true,\"ticks\":\"\",\"zerolinecolor\":\"white\"},\"zaxis\":{\"backgroundcolor\":\"#E5ECF6\",\"gridcolor\":\"white\",\"gridwidth\":2,\"linecolor\":\"white\",\"showbackground\":true,\"ticks\":\"\",\"zerolinecolor\":\"white\"}},\"shapedefaults\":{\"line\":{\"color\":\"#2a3f5f\"}},\"ternary\":{\"aaxis\":{\"gridcolor\":\"white\",\"linecolor\":\"white\",\"ticks\":\"\"},\"baxis\":{\"gridcolor\":\"white\",\"linecolor\":\"white\",\"ticks\":\"\"},\"bgcolor\":\"#E5ECF6\",\"caxis\":{\"gridcolor\":\"white\",\"linecolor\":\"white\",\"ticks\":\"\"}},\"title\":{\"x\":0.05},\"xaxis\":{\"automargin\":true,\"gridcolor\":\"white\",\"linecolor\":\"white\",\"ticks\":\"\",\"title\":{\"standoff\":15},\"zerolinecolor\":\"white\",\"zerolinewidth\":2},\"yaxis\":{\"automargin\":true,\"gridcolor\":\"white\",\"linecolor\":\"white\",\"ticks\":\"\",\"title\":{\"standoff\":15},\"zerolinecolor\":\"white\",\"zerolinewidth\":2}}},\"xaxis\":{\"anchor\":\"y\",\"domain\":[0.0,1.0],\"title\":{\"text\":\"MILES*\"}},\"xaxis2\":{\"anchor\":\"y2\",\"domain\":[0.0,1.0],\"matches\":\"x\",\"showgrid\":true,\"showticklabels\":false},\"yaxis\":{\"anchor\":\"x\",\"domain\":[0.0,0.8316],\"title\":{\"text\":\"count\"}},\"yaxis2\":{\"anchor\":\"x2\",\"domain\":[0.8416,1.0],\"matches\":\"y2\",\"showgrid\":false,\"showline\":false,\"showticklabels\":false,\"ticks\":\"\"}},                        {\"responsive\": true}                    ).then(function(){\n",
       "                            \n",
       "var gd = document.getElementById('b8fcbc3e-ca8e-422e-86b7-1dc4c9f0f011');\n",
       "var x = new MutationObserver(function (mutations, observer) {{\n",
       "        var display = window.getComputedStyle(gd).display;\n",
       "        if (!display || display === 'none') {{\n",
       "            console.log([gd, 'removed!']);\n",
       "            Plotly.purge(gd);\n",
       "            observer.disconnect();\n",
       "        }}\n",
       "}});\n",
       "\n",
       "// Listen for the removal of the full notebook cells\n",
       "var notebookContainer = gd.closest('#notebook-container');\n",
       "if (notebookContainer) {{\n",
       "    x.observe(notebookContainer, {childList: true});\n",
       "}}\n",
       "\n",
       "// Listen for the clearing of the current output cell\n",
       "var outputEl = gd.closest('.output');\n",
       "if (outputEl) {{\n",
       "    x.observe(outputEl, {childList: true});\n",
       "}}\n",
       "\n",
       "                        })                };                });            </script>        </div>"
      ]
     },
     "metadata": {},
     "output_type": "display_data"
    }
   ],
   "source": [
    "fig = px.histogram(df, x='MILES*', marginal=\"rug\",hover_data=df.columns)\n",
    "fig.show()"
   ]
  },
  {
   "cell_type": "code",
   "execution_count": 35,
   "id": "b5e87d9b",
   "metadata": {
    "execution": {
     "iopub.execute_input": "2021-12-03T15:18:49.582878Z",
     "iopub.status.busy": "2021-12-03T15:18:49.581837Z",
     "iopub.status.idle": "2021-12-03T15:18:49.966950Z",
     "shell.execute_reply": "2021-12-03T15:18:49.966262Z",
     "shell.execute_reply.started": "2021-12-03T15:16:39.760907Z"
    },
    "papermill": {
     "duration": 0.457436,
     "end_time": "2021-12-03T15:18:49.967092",
     "exception": false,
     "start_time": "2021-12-03T15:18:49.509656",
     "status": "completed"
    },
    "tags": []
   },
   "outputs": [
    {
     "data": {
      "image/png": "[encoded data removed]",
      "text/plain": [
       "<Figure size 720x360 with 1 Axes>"
      ]
     },
     "metadata": {
      "needs_background": "light"
     },
     "output_type": "display_data"
    }
   ],
   "source": [
    "df.DAY.value_counts().plot(kind='bar', color= mck_color12,figsize=(10,5));"
   ]
  },
  {
   "cell_type": "markdown",
   "id": "1eb29511",
   "metadata": {
    "papermill": {
     "duration": 0.060307,
     "end_time": "2021-12-03T15:18:50.087618",
     "exception": false,
     "start_time": "2021-12-03T15:18:50.027311",
     "status": "completed"
    },
    "tags": []
   },
   "source": [
    "## Q. Average number of rides per week or per month?"
   ]
  },
  {
   "cell_type": "code",
   "execution_count": 36,
   "id": "a3a28ff4",
   "metadata": {
    "execution": {
     "iopub.execute_input": "2021-12-03T15:18:50.230776Z",
     "iopub.status.busy": "2021-12-03T15:18:50.229726Z",
     "iopub.status.idle": "2021-12-03T15:18:50.233512Z",
     "shell.execute_reply": "2021-12-03T15:18:50.233991Z",
     "shell.execute_reply.started": "2021-12-03T15:16:40.124941Z"
    },
    "papermill": {
     "duration": 0.086981,
     "end_time": "2021-12-03T15:18:50.234177",
     "exception": false,
     "start_time": "2021-12-03T15:18:50.147196",
     "status": "completed"
    },
    "tags": []
   },
   "outputs": [
    {
     "data": {
      "text/html": [
       "<div>\n",
       "<style scoped>\n",
       "    .dataframe tbody tr th:only-of-type {\n",
       "        vertical-align: middle;\n",
       "    }\n",
       "\n",
       "    .dataframe tbody tr th {\n",
       "        vertical-align: top;\n",
       "    }\n",
       "\n",
       "    .dataframe thead th {\n",
       "        text-align: right;\n",
       "    }\n",
       "</style>\n",
       "<table border=\"1\" class=\"dataframe\">\n",
       "  <thead>\n",
       "    <tr style=\"text-align: right;\">\n",
       "      <th></th>\n",
       "      <th>START_DATE*</th>\n",
       "      <th>END_DATE*</th>\n",
       "      <th>CATEGORY*</th>\n",
       "      <th>START*</th>\n",
       "      <th>STOP*</th>\n",
       "      <th>MILES*</th>\n",
       "      <th>PURPOSE*</th>\n",
       "      <th>HOUR</th>\n",
       "      <th>DAY</th>\n",
       "      <th>DAY_OF_WEEK</th>\n",
       "      <th>MONTH</th>\n",
       "      <th>WEEKDAY</th>\n",
       "    </tr>\n",
       "  </thead>\n",
       "  <tbody>\n",
       "    <tr>\n",
       "      <th>0</th>\n",
       "      <td>2016-01-01 21:11:00</td>\n",
       "      <td>2016-01-01 21:17:00</td>\n",
       "      <td>Business</td>\n",
       "      <td>Fort Pierce</td>\n",
       "      <td>Fort Pierce</td>\n",
       "      <td>5.1</td>\n",
       "      <td>Meal/Entertain</td>\n",
       "      <td>21</td>\n",
       "      <td>1</td>\n",
       "      <td>4</td>\n",
       "      <td>1</td>\n",
       "      <td>Friday</td>\n",
       "    </tr>\n",
       "    <tr>\n",
       "      <th>1</th>\n",
       "      <td>2016-01-02 01:25:00</td>\n",
       "      <td>2016-01-02 01:37:00</td>\n",
       "      <td>Business</td>\n",
       "      <td>Fort Pierce</td>\n",
       "      <td>Fort Pierce</td>\n",
       "      <td>5.0</td>\n",
       "      <td>NaN</td>\n",
       "      <td>1</td>\n",
       "      <td>2</td>\n",
       "      <td>5</td>\n",
       "      <td>1</td>\n",
       "      <td>Saturday</td>\n",
       "    </tr>\n",
       "    <tr>\n",
       "      <th>2</th>\n",
       "      <td>2016-01-02 20:25:00</td>\n",
       "      <td>2016-01-02 20:38:00</td>\n",
       "      <td>Business</td>\n",
       "      <td>Fort Pierce</td>\n",
       "      <td>Fort Pierce</td>\n",
       "      <td>4.8</td>\n",
       "      <td>Errand/Supplies</td>\n",
       "      <td>20</td>\n",
       "      <td>2</td>\n",
       "      <td>5</td>\n",
       "      <td>1</td>\n",
       "      <td>Saturday</td>\n",
       "    </tr>\n",
       "    <tr>\n",
       "      <th>3</th>\n",
       "      <td>2016-01-05 17:31:00</td>\n",
       "      <td>2016-01-05 17:45:00</td>\n",
       "      <td>Business</td>\n",
       "      <td>Fort Pierce</td>\n",
       "      <td>Fort Pierce</td>\n",
       "      <td>4.7</td>\n",
       "      <td>Meeting</td>\n",
       "      <td>17</td>\n",
       "      <td>5</td>\n",
       "      <td>1</td>\n",
       "      <td>1</td>\n",
       "      <td>Tuesday</td>\n",
       "    </tr>\n",
       "    <tr>\n",
       "      <th>4</th>\n",
       "      <td>2016-01-06 14:42:00</td>\n",
       "      <td>2016-01-06 15:49:00</td>\n",
       "      <td>Business</td>\n",
       "      <td>Fort Pierce</td>\n",
       "      <td>West Palm Beach</td>\n",
       "      <td>63.7</td>\n",
       "      <td>Customer Visit</td>\n",
       "      <td>14</td>\n",
       "      <td>6</td>\n",
       "      <td>2</td>\n",
       "      <td>1</td>\n",
       "      <td>Wednesday</td>\n",
       "    </tr>\n",
       "    <tr>\n",
       "      <th>...</th>\n",
       "      <td>...</td>\n",
       "      <td>...</td>\n",
       "      <td>...</td>\n",
       "      <td>...</td>\n",
       "      <td>...</td>\n",
       "      <td>...</td>\n",
       "      <td>...</td>\n",
       "      <td>...</td>\n",
       "      <td>...</td>\n",
       "      <td>...</td>\n",
       "      <td>...</td>\n",
       "      <td>...</td>\n",
       "    </tr>\n",
       "    <tr>\n",
       "      <th>1150</th>\n",
       "      <td>2016-12-31 01:07:00</td>\n",
       "      <td>2016-12-31 01:14:00</td>\n",
       "      <td>Business</td>\n",
       "      <td>Kar?chi</td>\n",
       "      <td>Kar?chi</td>\n",
       "      <td>0.7</td>\n",
       "      <td>Meeting</td>\n",
       "      <td>1</td>\n",
       "      <td>31</td>\n",
       "      <td>5</td>\n",
       "      <td>12</td>\n",
       "      <td>Saturday</td>\n",
       "    </tr>\n",
       "    <tr>\n",
       "      <th>1151</th>\n",
       "      <td>2016-12-31 13:24:00</td>\n",
       "      <td>2016-12-31 13:42:00</td>\n",
       "      <td>Business</td>\n",
       "      <td>Kar?chi</td>\n",
       "      <td>Unknown Location</td>\n",
       "      <td>3.9</td>\n",
       "      <td>Temporary Site</td>\n",
       "      <td>13</td>\n",
       "      <td>31</td>\n",
       "      <td>5</td>\n",
       "      <td>12</td>\n",
       "      <td>Saturday</td>\n",
       "    </tr>\n",
       "    <tr>\n",
       "      <th>1152</th>\n",
       "      <td>2016-12-31 15:03:00</td>\n",
       "      <td>2016-12-31 15:38:00</td>\n",
       "      <td>Business</td>\n",
       "      <td>Unknown Location</td>\n",
       "      <td>Unknown Location</td>\n",
       "      <td>16.2</td>\n",
       "      <td>Meeting</td>\n",
       "      <td>15</td>\n",
       "      <td>31</td>\n",
       "      <td>5</td>\n",
       "      <td>12</td>\n",
       "      <td>Saturday</td>\n",
       "    </tr>\n",
       "    <tr>\n",
       "      <th>1153</th>\n",
       "      <td>2016-12-31 21:32:00</td>\n",
       "      <td>2016-12-31 21:50:00</td>\n",
       "      <td>Business</td>\n",
       "      <td>Katunayake</td>\n",
       "      <td>Gampaha</td>\n",
       "      <td>6.4</td>\n",
       "      <td>Temporary Site</td>\n",
       "      <td>21</td>\n",
       "      <td>31</td>\n",
       "      <td>5</td>\n",
       "      <td>12</td>\n",
       "      <td>Saturday</td>\n",
       "    </tr>\n",
       "    <tr>\n",
       "      <th>1154</th>\n",
       "      <td>2016-12-31 22:08:00</td>\n",
       "      <td>2016-12-31 23:51:00</td>\n",
       "      <td>Business</td>\n",
       "      <td>Gampaha</td>\n",
       "      <td>Ilukwatta</td>\n",
       "      <td>48.2</td>\n",
       "      <td>Temporary Site</td>\n",
       "      <td>22</td>\n",
       "      <td>31</td>\n",
       "      <td>5</td>\n",
       "      <td>12</td>\n",
       "      <td>Saturday</td>\n",
       "    </tr>\n",
       "  </tbody>\n",
       "</table>\n",
       "<p>1155 rows × 12 columns</p>\n",
       "</div>"
      ],
      "text/plain": [
       "             START_DATE*           END_DATE* CATEGORY*            START*  \\\n",
       "0    2016-01-01 21:11:00 2016-01-01 21:17:00  Business       Fort Pierce   \n",
       "1    2016-01-02 01:25:00 2016-01-02 01:37:00  Business       Fort Pierce   \n",
       "2    2016-01-02 20:25:00 2016-01-02 20:38:00  Business       Fort Pierce   \n",
       "3    2016-01-05 17:31:00 2016-01-05 17:45:00  Business       Fort Pierce   \n",
       "4    2016-01-06 14:42:00 2016-01-06 15:49:00  Business       Fort Pierce   \n",
       "...                  ...                 ...       ...               ...   \n",
       "1150 2016-12-31 01:07:00 2016-12-31 01:14:00  Business           Kar?chi   \n",
       "1151 2016-12-31 13:24:00 2016-12-31 13:42:00  Business           Kar?chi   \n",
       "1152 2016-12-31 15:03:00 2016-12-31 15:38:00  Business  Unknown Location   \n",
       "1153 2016-12-31 21:32:00 2016-12-31 21:50:00  Business        Katunayake   \n",
       "1154 2016-12-31 22:08:00 2016-12-31 23:51:00  Business           Gampaha   \n",
       "\n",
       "                 STOP*  MILES*         PURPOSE*  HOUR  DAY  DAY_OF_WEEK  \\\n",
       "0          Fort Pierce     5.1   Meal/Entertain    21    1            4   \n",
       "1          Fort Pierce     5.0              NaN     1    2            5   \n",
       "2          Fort Pierce     4.8  Errand/Supplies    20    2            5   \n",
       "3          Fort Pierce     4.7          Meeting    17    5            1   \n",
       "4      West Palm Beach    63.7   Customer Visit    14    6            2   \n",
       "...                ...     ...              ...   ...  ...          ...   \n",
       "1150           Kar?chi     0.7          Meeting     1   31            5   \n",
       "1151  Unknown Location     3.9   Temporary Site    13   31            5   \n",
       "1152  Unknown Location    16.2          Meeting    15   31            5   \n",
       "1153           Gampaha     6.4   Temporary Site    21   31            5   \n",
       "1154         Ilukwatta    48.2   Temporary Site    22   31            5   \n",
       "\n",
       "      MONTH    WEEKDAY  \n",
       "0         1     Friday  \n",
       "1         1   Saturday  \n",
       "2         1   Saturday  \n",
       "3         1    Tuesday  \n",
       "4         1  Wednesday  \n",
       "...     ...        ...  \n",
       "1150     12   Saturday  \n",
       "1151     12   Saturday  \n",
       "1152     12   Saturday  \n",
       "1153     12   Saturday  \n",
       "1154     12   Saturday  \n",
       "\n",
       "[1155 rows x 12 columns]"
      ]
     },
     "execution_count": 36,
     "metadata": {},
     "output_type": "execute_result"
    }
   ],
   "source": [
    "df"
   ]
  },
  {
   "cell_type": "markdown",
   "id": "128f210c",
   "metadata": {
    "papermill": {
     "duration": 0.059811,
     "end_time": "2021-12-03T15:18:50.354527",
     "exception": false,
     "start_time": "2021-12-03T15:18:50.294716",
     "status": "completed"
    },
    "tags": []
   },
   "source": [
    "A Brief recap to group by\n",
    "* groupby: An aggregated function **returns a single aggregated value for each group**. Once the group by object is created, several aggregation operations can be performed on the grouped data. \n"
   ]
  },
  {
   "cell_type": "code",
   "execution_count": 37,
   "id": "ae775539",
   "metadata": {
    "execution": {
     "iopub.execute_input": "2021-12-03T15:18:50.480839Z",
     "iopub.status.busy": "2021-12-03T15:18:50.479853Z",
     "iopub.status.idle": "2021-12-03T15:18:50.483456Z",
     "shell.execute_reply": "2021-12-03T15:18:50.484006Z",
     "shell.execute_reply.started": "2021-12-03T15:16:40.147322Z"
    },
    "papermill": {
     "duration": 0.069443,
     "end_time": "2021-12-03T15:18:50.484175",
     "exception": false,
     "start_time": "2021-12-03T15:18:50.414732",
     "status": "completed"
    },
    "tags": []
   },
   "outputs": [
    {
     "data": {
      "text/plain": [
       "<pandas.core.groupby.generic.DataFrameGroupBy object at 0x7f5dae2de850>"
      ]
     },
     "execution_count": 37,
     "metadata": {},
     "output_type": "execute_result"
    }
   ],
   "source": [
    "df.groupby('MONTH')"
   ]
  },
  {
   "cell_type": "code",
   "execution_count": 38,
   "id": "1a8d75f7",
   "metadata": {
    "execution": {
     "iopub.execute_input": "2021-12-03T15:18:50.614412Z",
     "iopub.status.busy": "2021-12-03T15:18:50.611519Z",
     "iopub.status.idle": "2021-12-03T15:18:50.641275Z",
     "shell.execute_reply": "2021-12-03T15:18:50.641817Z",
     "shell.execute_reply.started": "2021-12-03T15:16:40.155342Z"
    },
    "papermill": {
     "duration": 0.097085,
     "end_time": "2021-12-03T15:18:50.641995",
     "exception": false,
     "start_time": "2021-12-03T15:18:50.544910",
     "status": "completed"
    },
    "tags": []
   },
   "outputs": [
    {
     "name": "stdout",
     "output_type": "stream",
     "text": [
      "len will return size of group i.e no of group  12 \n",
      "\n",
      "size() will return size of group i.e no of elements in each group  MONTH\n",
      "12    146\n",
      "8     133\n",
      "11    122\n",
      "2     115\n",
      "3     113\n",
      "7     112\n",
      "6     108\n",
      "10    106\n",
      "1      61\n",
      "4      54\n",
      "5      49\n",
      "9      36\n",
      "dtype: int64\n"
     ]
    },
    {
     "data": {
      "text/html": [
       "<div>\n",
       "<style scoped>\n",
       "    .dataframe tbody tr th:only-of-type {\n",
       "        vertical-align: middle;\n",
       "    }\n",
       "\n",
       "    .dataframe tbody tr th {\n",
       "        vertical-align: top;\n",
       "    }\n",
       "\n",
       "    .dataframe thead th {\n",
       "        text-align: right;\n",
       "    }\n",
       "</style>\n",
       "<table border=\"1\" class=\"dataframe\">\n",
       "  <thead>\n",
       "    <tr style=\"text-align: right;\">\n",
       "      <th></th>\n",
       "      <th>START_DATE*</th>\n",
       "      <th>END_DATE*</th>\n",
       "      <th>CATEGORY*</th>\n",
       "      <th>START*</th>\n",
       "      <th>STOP*</th>\n",
       "      <th>MILES*</th>\n",
       "      <th>PURPOSE*</th>\n",
       "      <th>HOUR</th>\n",
       "      <th>DAY</th>\n",
       "      <th>DAY_OF_WEEK</th>\n",
       "      <th>WEEKDAY</th>\n",
       "    </tr>\n",
       "    <tr>\n",
       "      <th>MONTH</th>\n",
       "      <th></th>\n",
       "      <th></th>\n",
       "      <th></th>\n",
       "      <th></th>\n",
       "      <th></th>\n",
       "      <th></th>\n",
       "      <th></th>\n",
       "      <th></th>\n",
       "      <th></th>\n",
       "      <th></th>\n",
       "      <th></th>\n",
       "    </tr>\n",
       "  </thead>\n",
       "  <tbody>\n",
       "    <tr>\n",
       "      <th>1</th>\n",
       "      <td>2016-01-30 18:09:00</td>\n",
       "      <td>2016-01-30 18:24:00</td>\n",
       "      <td>Business</td>\n",
       "      <td>Apex</td>\n",
       "      <td>Cary</td>\n",
       "      <td>5.7</td>\n",
       "      <td>Customer Visit</td>\n",
       "      <td>18</td>\n",
       "      <td>30</td>\n",
       "      <td>5</td>\n",
       "      <td>Saturday</td>\n",
       "    </tr>\n",
       "    <tr>\n",
       "      <th>2</th>\n",
       "      <td>2016-02-29 16:40:00</td>\n",
       "      <td>2016-02-29 17:00:00</td>\n",
       "      <td>Business</td>\n",
       "      <td>Hazelwood</td>\n",
       "      <td>Whitebridge</td>\n",
       "      <td>6.6</td>\n",
       "      <td>Customer Visit</td>\n",
       "      <td>16</td>\n",
       "      <td>29</td>\n",
       "      <td>0</td>\n",
       "      <td>Monday</td>\n",
       "    </tr>\n",
       "    <tr>\n",
       "      <th>3</th>\n",
       "      <td>2016-03-31 14:37:00</td>\n",
       "      <td>2016-03-31 15:09:00</td>\n",
       "      <td>Business</td>\n",
       "      <td>Orlando</td>\n",
       "      <td>Kissimmee</td>\n",
       "      <td>16.4</td>\n",
       "      <td>Meal/Entertain</td>\n",
       "      <td>14</td>\n",
       "      <td>31</td>\n",
       "      <td>3</td>\n",
       "      <td>Thursday</td>\n",
       "    </tr>\n",
       "    <tr>\n",
       "      <th>4</th>\n",
       "      <td>2016-04-30 22:16:00</td>\n",
       "      <td>2016-04-30 22:34:00</td>\n",
       "      <td>Business</td>\n",
       "      <td>Waverly Place</td>\n",
       "      <td>Whitebridge</td>\n",
       "      <td>6.8</td>\n",
       "      <td>Meal/Entertain</td>\n",
       "      <td>22</td>\n",
       "      <td>30</td>\n",
       "      <td>5</td>\n",
       "      <td>Saturday</td>\n",
       "    </tr>\n",
       "    <tr>\n",
       "      <th>5</th>\n",
       "      <td>2016-05-31 17:50:00</td>\n",
       "      <td>2016-05-31 17:59:00</td>\n",
       "      <td>Business</td>\n",
       "      <td>Westpark Place</td>\n",
       "      <td>Whitebridge</td>\n",
       "      <td>1.8</td>\n",
       "      <td>Meeting</td>\n",
       "      <td>17</td>\n",
       "      <td>31</td>\n",
       "      <td>1</td>\n",
       "      <td>Tuesday</td>\n",
       "    </tr>\n",
       "    <tr>\n",
       "      <th>6</th>\n",
       "      <td>2016-06-30 20:09:00</td>\n",
       "      <td>2016-06-30 20:26:00</td>\n",
       "      <td>Business</td>\n",
       "      <td>Cary</td>\n",
       "      <td>Durham</td>\n",
       "      <td>9.9</td>\n",
       "      <td>Meeting</td>\n",
       "      <td>20</td>\n",
       "      <td>30</td>\n",
       "      <td>3</td>\n",
       "      <td>Thursday</td>\n",
       "    </tr>\n",
       "    <tr>\n",
       "      <th>7</th>\n",
       "      <td>2016-07-31 17:30:00</td>\n",
       "      <td>2016-07-31 17:37:00</td>\n",
       "      <td>Business</td>\n",
       "      <td>Westpark Place</td>\n",
       "      <td>Whitebridge</td>\n",
       "      <td>1.8</td>\n",
       "      <td>Meal/Entertain</td>\n",
       "      <td>17</td>\n",
       "      <td>31</td>\n",
       "      <td>6</td>\n",
       "      <td>Sunday</td>\n",
       "    </tr>\n",
       "    <tr>\n",
       "      <th>8</th>\n",
       "      <td>2016-08-30 17:27:00</td>\n",
       "      <td>2016-08-30 18:09:00</td>\n",
       "      <td>Business</td>\n",
       "      <td>Unknown Location</td>\n",
       "      <td>Unknown Location</td>\n",
       "      <td>13.0</td>\n",
       "      <td>Temporary Site</td>\n",
       "      <td>17</td>\n",
       "      <td>30</td>\n",
       "      <td>1</td>\n",
       "      <td>Tuesday</td>\n",
       "    </tr>\n",
       "    <tr>\n",
       "      <th>9</th>\n",
       "      <td>2016-09-30 20:59:00</td>\n",
       "      <td>2016-09-30 22:34:00</td>\n",
       "      <td>Business</td>\n",
       "      <td>Islamabad</td>\n",
       "      <td>Unknown Location</td>\n",
       "      <td>16.7</td>\n",
       "      <td>None</td>\n",
       "      <td>20</td>\n",
       "      <td>30</td>\n",
       "      <td>4</td>\n",
       "      <td>Friday</td>\n",
       "    </tr>\n",
       "    <tr>\n",
       "      <th>10</th>\n",
       "      <td>2016-10-31 21:45:00</td>\n",
       "      <td>2016-10-31 22:10:00</td>\n",
       "      <td>Business</td>\n",
       "      <td>Savon Height</td>\n",
       "      <td>Whitebridge</td>\n",
       "      <td>9.6</td>\n",
       "      <td>Errand/Supplies</td>\n",
       "      <td>21</td>\n",
       "      <td>31</td>\n",
       "      <td>0</td>\n",
       "      <td>Monday</td>\n",
       "    </tr>\n",
       "    <tr>\n",
       "      <th>11</th>\n",
       "      <td>2016-11-30 12:43:00</td>\n",
       "      <td>2016-11-30 12:53:00</td>\n",
       "      <td>Business</td>\n",
       "      <td>Morrisville</td>\n",
       "      <td>Cary</td>\n",
       "      <td>3.1</td>\n",
       "      <td>Temporary Site</td>\n",
       "      <td>12</td>\n",
       "      <td>30</td>\n",
       "      <td>2</td>\n",
       "      <td>Wednesday</td>\n",
       "    </tr>\n",
       "    <tr>\n",
       "      <th>12</th>\n",
       "      <td>2016-12-31 22:08:00</td>\n",
       "      <td>2016-12-31 23:51:00</td>\n",
       "      <td>Business</td>\n",
       "      <td>Gampaha</td>\n",
       "      <td>Ilukwatta</td>\n",
       "      <td>48.2</td>\n",
       "      <td>Temporary Site</td>\n",
       "      <td>22</td>\n",
       "      <td>31</td>\n",
       "      <td>5</td>\n",
       "      <td>Saturday</td>\n",
       "    </tr>\n",
       "  </tbody>\n",
       "</table>\n",
       "</div>"
      ],
      "text/plain": [
       "              START_DATE*           END_DATE* CATEGORY*            START*  \\\n",
       "MONTH                                                                       \n",
       "1     2016-01-30 18:09:00 2016-01-30 18:24:00  Business              Apex   \n",
       "2     2016-02-29 16:40:00 2016-02-29 17:00:00  Business         Hazelwood   \n",
       "3     2016-03-31 14:37:00 2016-03-31 15:09:00  Business           Orlando   \n",
       "4     2016-04-30 22:16:00 2016-04-30 22:34:00  Business     Waverly Place   \n",
       "5     2016-05-31 17:50:00 2016-05-31 17:59:00  Business    Westpark Place   \n",
       "6     2016-06-30 20:09:00 2016-06-30 20:26:00  Business              Cary   \n",
       "7     2016-07-31 17:30:00 2016-07-31 17:37:00  Business    Westpark Place   \n",
       "8     2016-08-30 17:27:00 2016-08-30 18:09:00  Business  Unknown Location   \n",
       "9     2016-09-30 20:59:00 2016-09-30 22:34:00  Business         Islamabad   \n",
       "10    2016-10-31 21:45:00 2016-10-31 22:10:00  Business      Savon Height   \n",
       "11    2016-11-30 12:43:00 2016-11-30 12:53:00  Business       Morrisville   \n",
       "12    2016-12-31 22:08:00 2016-12-31 23:51:00  Business           Gampaha   \n",
       "\n",
       "                  STOP*  MILES*         PURPOSE*  HOUR  DAY  DAY_OF_WEEK  \\\n",
       "MONTH                                                                      \n",
       "1                  Cary     5.7   Customer Visit    18   30            5   \n",
       "2           Whitebridge     6.6   Customer Visit    16   29            0   \n",
       "3             Kissimmee    16.4   Meal/Entertain    14   31            3   \n",
       "4           Whitebridge     6.8   Meal/Entertain    22   30            5   \n",
       "5           Whitebridge     1.8          Meeting    17   31            1   \n",
       "6                Durham     9.9          Meeting    20   30            3   \n",
       "7           Whitebridge     1.8   Meal/Entertain    17   31            6   \n",
       "8      Unknown Location    13.0   Temporary Site    17   30            1   \n",
       "9      Unknown Location    16.7             None    20   30            4   \n",
       "10          Whitebridge     9.6  Errand/Supplies    21   31            0   \n",
       "11                 Cary     3.1   Temporary Site    12   30            2   \n",
       "12            Ilukwatta    48.2   Temporary Site    22   31            5   \n",
       "\n",
       "         WEEKDAY  \n",
       "MONTH             \n",
       "1       Saturday  \n",
       "2         Monday  \n",
       "3       Thursday  \n",
       "4       Saturday  \n",
       "5        Tuesday  \n",
       "6       Thursday  \n",
       "7         Sunday  \n",
       "8        Tuesday  \n",
       "9         Friday  \n",
       "10        Monday  \n",
       "11     Wednesday  \n",
       "12      Saturday  "
      ]
     },
     "execution_count": 38,
     "metadata": {},
     "output_type": "execute_result"
    }
   ],
   "source": [
    "x= df.groupby('MONTH')\n",
    "print('len will return size of group i.e no of group ',len(x),'\\n')\n",
    "print('size() will return size of group i.e no of elements in each group ',x.size().sort_values(ascending=False))\n",
    "x.first()\n",
    "x.last()"
   ]
  },
  {
   "cell_type": "code",
   "execution_count": 39,
   "id": "76af9a7e",
   "metadata": {
    "execution": {
     "iopub.execute_input": "2021-12-03T15:18:50.788106Z",
     "iopub.status.busy": "2021-12-03T15:18:50.787416Z",
     "iopub.status.idle": "2021-12-03T15:18:50.811308Z",
     "shell.execute_reply": "2021-12-03T15:18:50.811901Z",
     "shell.execute_reply.started": "2021-12-03T15:16:40.189873Z"
    },
    "papermill": {
     "duration": 0.105146,
     "end_time": "2021-12-03T15:18:50.812090",
     "exception": false,
     "start_time": "2021-12-03T15:18:50.706944",
     "status": "completed"
    },
    "tags": []
   },
   "outputs": [
    {
     "data": {
      "text/html": [
       "<div>\n",
       "<style scoped>\n",
       "    .dataframe tbody tr th:only-of-type {\n",
       "        vertical-align: middle;\n",
       "    }\n",
       "\n",
       "    .dataframe tbody tr th {\n",
       "        vertical-align: top;\n",
       "    }\n",
       "\n",
       "    .dataframe thead th {\n",
       "        text-align: right;\n",
       "    }\n",
       "</style>\n",
       "<table border=\"1\" class=\"dataframe\">\n",
       "  <thead>\n",
       "    <tr style=\"text-align: right;\">\n",
       "      <th></th>\n",
       "      <th>START_DATE*</th>\n",
       "      <th>END_DATE*</th>\n",
       "      <th>CATEGORY*</th>\n",
       "      <th>START*</th>\n",
       "      <th>STOP*</th>\n",
       "      <th>MILES*</th>\n",
       "      <th>PURPOSE*</th>\n",
       "      <th>HOUR</th>\n",
       "      <th>DAY</th>\n",
       "      <th>DAY_OF_WEEK</th>\n",
       "      <th>MONTH</th>\n",
       "      <th>WEEKDAY</th>\n",
       "    </tr>\n",
       "  </thead>\n",
       "  <tbody>\n",
       "    <tr>\n",
       "      <th>0</th>\n",
       "      <td>2016-01-01 21:11:00</td>\n",
       "      <td>2016-01-01 21:17:00</td>\n",
       "      <td>Business</td>\n",
       "      <td>Fort Pierce</td>\n",
       "      <td>Fort Pierce</td>\n",
       "      <td>5.1</td>\n",
       "      <td>Meal/Entertain</td>\n",
       "      <td>21</td>\n",
       "      <td>1</td>\n",
       "      <td>4</td>\n",
       "      <td>1</td>\n",
       "      <td>Friday</td>\n",
       "    </tr>\n",
       "    <tr>\n",
       "      <th>1</th>\n",
       "      <td>2016-01-02 01:25:00</td>\n",
       "      <td>2016-01-02 01:37:00</td>\n",
       "      <td>Business</td>\n",
       "      <td>Fort Pierce</td>\n",
       "      <td>Fort Pierce</td>\n",
       "      <td>5.0</td>\n",
       "      <td>NaN</td>\n",
       "      <td>1</td>\n",
       "      <td>2</td>\n",
       "      <td>5</td>\n",
       "      <td>1</td>\n",
       "      <td>Saturday</td>\n",
       "    </tr>\n",
       "    <tr>\n",
       "      <th>2</th>\n",
       "      <td>2016-01-02 20:25:00</td>\n",
       "      <td>2016-01-02 20:38:00</td>\n",
       "      <td>Business</td>\n",
       "      <td>Fort Pierce</td>\n",
       "      <td>Fort Pierce</td>\n",
       "      <td>4.8</td>\n",
       "      <td>Errand/Supplies</td>\n",
       "      <td>20</td>\n",
       "      <td>2</td>\n",
       "      <td>5</td>\n",
       "      <td>1</td>\n",
       "      <td>Saturday</td>\n",
       "    </tr>\n",
       "    <tr>\n",
       "      <th>3</th>\n",
       "      <td>2016-01-05 17:31:00</td>\n",
       "      <td>2016-01-05 17:45:00</td>\n",
       "      <td>Business</td>\n",
       "      <td>Fort Pierce</td>\n",
       "      <td>Fort Pierce</td>\n",
       "      <td>4.7</td>\n",
       "      <td>Meeting</td>\n",
       "      <td>17</td>\n",
       "      <td>5</td>\n",
       "      <td>1</td>\n",
       "      <td>1</td>\n",
       "      <td>Tuesday</td>\n",
       "    </tr>\n",
       "    <tr>\n",
       "      <th>4</th>\n",
       "      <td>2016-01-06 14:42:00</td>\n",
       "      <td>2016-01-06 15:49:00</td>\n",
       "      <td>Business</td>\n",
       "      <td>Fort Pierce</td>\n",
       "      <td>West Palm Beach</td>\n",
       "      <td>63.7</td>\n",
       "      <td>Customer Visit</td>\n",
       "      <td>14</td>\n",
       "      <td>6</td>\n",
       "      <td>2</td>\n",
       "      <td>1</td>\n",
       "      <td>Wednesday</td>\n",
       "    </tr>\n",
       "    <tr>\n",
       "      <th>...</th>\n",
       "      <td>...</td>\n",
       "      <td>...</td>\n",
       "      <td>...</td>\n",
       "      <td>...</td>\n",
       "      <td>...</td>\n",
       "      <td>...</td>\n",
       "      <td>...</td>\n",
       "      <td>...</td>\n",
       "      <td>...</td>\n",
       "      <td>...</td>\n",
       "      <td>...</td>\n",
       "      <td>...</td>\n",
       "    </tr>\n",
       "    <tr>\n",
       "      <th>56</th>\n",
       "      <td>2016-01-29 13:24:00</td>\n",
       "      <td>2016-01-29 13:47:00</td>\n",
       "      <td>Business</td>\n",
       "      <td>Durham</td>\n",
       "      <td>Cary</td>\n",
       "      <td>10.1</td>\n",
       "      <td>Meeting</td>\n",
       "      <td>13</td>\n",
       "      <td>29</td>\n",
       "      <td>4</td>\n",
       "      <td>1</td>\n",
       "      <td>Friday</td>\n",
       "    </tr>\n",
       "    <tr>\n",
       "      <th>57</th>\n",
       "      <td>2016-01-29 18:31:00</td>\n",
       "      <td>2016-01-29 18:52:00</td>\n",
       "      <td>Business</td>\n",
       "      <td>Cary</td>\n",
       "      <td>Apex</td>\n",
       "      <td>5.8</td>\n",
       "      <td>Errand/Supplies</td>\n",
       "      <td>18</td>\n",
       "      <td>29</td>\n",
       "      <td>4</td>\n",
       "      <td>1</td>\n",
       "      <td>Friday</td>\n",
       "    </tr>\n",
       "    <tr>\n",
       "      <th>58</th>\n",
       "      <td>2016-01-29 21:21:00</td>\n",
       "      <td>2016-01-29 21:40:00</td>\n",
       "      <td>Business</td>\n",
       "      <td>Apex</td>\n",
       "      <td>Cary</td>\n",
       "      <td>5.5</td>\n",
       "      <td>Meal/Entertain</td>\n",
       "      <td>21</td>\n",
       "      <td>29</td>\n",
       "      <td>4</td>\n",
       "      <td>1</td>\n",
       "      <td>Friday</td>\n",
       "    </tr>\n",
       "    <tr>\n",
       "      <th>59</th>\n",
       "      <td>2016-01-30 16:21:00</td>\n",
       "      <td>2016-01-30 16:33:00</td>\n",
       "      <td>Business</td>\n",
       "      <td>Cary</td>\n",
       "      <td>Apex</td>\n",
       "      <td>5.7</td>\n",
       "      <td>Errand/Supplies</td>\n",
       "      <td>16</td>\n",
       "      <td>30</td>\n",
       "      <td>5</td>\n",
       "      <td>1</td>\n",
       "      <td>Saturday</td>\n",
       "    </tr>\n",
       "    <tr>\n",
       "      <th>60</th>\n",
       "      <td>2016-01-30 18:09:00</td>\n",
       "      <td>2016-01-30 18:24:00</td>\n",
       "      <td>Business</td>\n",
       "      <td>Apex</td>\n",
       "      <td>Cary</td>\n",
       "      <td>5.7</td>\n",
       "      <td>Customer Visit</td>\n",
       "      <td>18</td>\n",
       "      <td>30</td>\n",
       "      <td>5</td>\n",
       "      <td>1</td>\n",
       "      <td>Saturday</td>\n",
       "    </tr>\n",
       "  </tbody>\n",
       "</table>\n",
       "<p>61 rows × 12 columns</p>\n",
       "</div>"
      ],
      "text/plain": [
       "           START_DATE*           END_DATE* CATEGORY*       START*  \\\n",
       "0  2016-01-01 21:11:00 2016-01-01 21:17:00  Business  Fort Pierce   \n",
       "1  2016-01-02 01:25:00 2016-01-02 01:37:00  Business  Fort Pierce   \n",
       "2  2016-01-02 20:25:00 2016-01-02 20:38:00  Business  Fort Pierce   \n",
       "3  2016-01-05 17:31:00 2016-01-05 17:45:00  Business  Fort Pierce   \n",
       "4  2016-01-06 14:42:00 2016-01-06 15:49:00  Business  Fort Pierce   \n",
       "..                 ...                 ...       ...          ...   \n",
       "56 2016-01-29 13:24:00 2016-01-29 13:47:00  Business       Durham   \n",
       "57 2016-01-29 18:31:00 2016-01-29 18:52:00  Business         Cary   \n",
       "58 2016-01-29 21:21:00 2016-01-29 21:40:00  Business         Apex   \n",
       "59 2016-01-30 16:21:00 2016-01-30 16:33:00  Business         Cary   \n",
       "60 2016-01-30 18:09:00 2016-01-30 18:24:00  Business         Apex   \n",
       "\n",
       "              STOP*  MILES*         PURPOSE*  HOUR  DAY  DAY_OF_WEEK  MONTH  \\\n",
       "0       Fort Pierce     5.1   Meal/Entertain    21    1            4      1   \n",
       "1       Fort Pierce     5.0              NaN     1    2            5      1   \n",
       "2       Fort Pierce     4.8  Errand/Supplies    20    2            5      1   \n",
       "3       Fort Pierce     4.7          Meeting    17    5            1      1   \n",
       "4   West Palm Beach    63.7   Customer Visit    14    6            2      1   \n",
       "..              ...     ...              ...   ...  ...          ...    ...   \n",
       "56             Cary    10.1          Meeting    13   29            4      1   \n",
       "57             Apex     5.8  Errand/Supplies    18   29            4      1   \n",
       "58             Cary     5.5   Meal/Entertain    21   29            4      1   \n",
       "59             Apex     5.7  Errand/Supplies    16   30            5      1   \n",
       "60             Cary     5.7   Customer Visit    18   30            5      1   \n",
       "\n",
       "      WEEKDAY  \n",
       "0      Friday  \n",
       "1    Saturday  \n",
       "2    Saturday  \n",
       "3     Tuesday  \n",
       "4   Wednesday  \n",
       "..        ...  \n",
       "56     Friday  \n",
       "57     Friday  \n",
       "58     Friday  \n",
       "59   Saturday  \n",
       "60   Saturday  \n",
       "\n",
       "[61 rows x 12 columns]"
      ]
     },
     "execution_count": 39,
     "metadata": {},
     "output_type": "execute_result"
    }
   ],
   "source": [
    "x.get_group(1)"
   ]
  },
  {
   "cell_type": "code",
   "execution_count": 40,
   "id": "c2dc8feb",
   "metadata": {
    "execution": {
     "iopub.execute_input": "2021-12-03T15:18:50.948934Z",
     "iopub.status.busy": "2021-12-03T15:18:50.948187Z",
     "iopub.status.idle": "2021-12-03T15:18:50.961358Z",
     "shell.execute_reply": "2021-12-03T15:18:50.960824Z",
     "shell.execute_reply.started": "2021-12-03T15:16:40.212242Z"
    },
    "papermill": {
     "duration": 0.07937,
     "end_time": "2021-12-03T15:18:50.961507",
     "exception": false,
     "start_time": "2021-12-03T15:18:50.882137",
     "status": "completed"
    },
    "tags": []
   },
   "outputs": [
    {
     "data": {
      "text/html": [
       "<div>\n",
       "<style scoped>\n",
       "    .dataframe tbody tr th:only-of-type {\n",
       "        vertical-align: middle;\n",
       "    }\n",
       "\n",
       "    .dataframe tbody tr th {\n",
       "        vertical-align: top;\n",
       "    }\n",
       "\n",
       "    .dataframe thead th {\n",
       "        text-align: right;\n",
       "    }\n",
       "</style>\n",
       "<table border=\"1\" class=\"dataframe\">\n",
       "  <thead>\n",
       "    <tr style=\"text-align: right;\">\n",
       "      <th></th>\n",
       "      <th>MILES*</th>\n",
       "      <th>HOUR</th>\n",
       "      <th>DAY</th>\n",
       "      <th>DAY_OF_WEEK</th>\n",
       "    </tr>\n",
       "    <tr>\n",
       "      <th>MONTH</th>\n",
       "      <th></th>\n",
       "      <th></th>\n",
       "      <th></th>\n",
       "      <th></th>\n",
       "    </tr>\n",
       "  </thead>\n",
       "  <tbody>\n",
       "    <tr>\n",
       "      <th>1</th>\n",
       "      <td>512.9</td>\n",
       "      <td>828</td>\n",
       "      <td>1080</td>\n",
       "      <td>157</td>\n",
       "    </tr>\n",
       "    <tr>\n",
       "      <th>2</th>\n",
       "      <td>908.2</td>\n",
       "      <td>1588</td>\n",
       "      <td>1811</td>\n",
       "      <td>387</td>\n",
       "    </tr>\n",
       "    <tr>\n",
       "      <th>3</th>\n",
       "      <td>1693.9</td>\n",
       "      <td>1654</td>\n",
       "      <td>1753</td>\n",
       "      <td>374</td>\n",
       "    </tr>\n",
       "    <tr>\n",
       "      <th>4</th>\n",
       "      <td>1113.0</td>\n",
       "      <td>767</td>\n",
       "      <td>807</td>\n",
       "      <td>199</td>\n",
       "    </tr>\n",
       "    <tr>\n",
       "      <th>5</th>\n",
       "      <td>363.8</td>\n",
       "      <td>777</td>\n",
       "      <td>661</td>\n",
       "      <td>136</td>\n",
       "    </tr>\n",
       "    <tr>\n",
       "      <th>6</th>\n",
       "      <td>842.8</td>\n",
       "      <td>1638</td>\n",
       "      <td>1764</td>\n",
       "      <td>304</td>\n",
       "    </tr>\n",
       "    <tr>\n",
       "      <th>7</th>\n",
       "      <td>1224.6</td>\n",
       "      <td>1611</td>\n",
       "      <td>1708</td>\n",
       "      <td>329</td>\n",
       "    </tr>\n",
       "    <tr>\n",
       "      <th>8</th>\n",
       "      <td>1335.5</td>\n",
       "      <td>1936</td>\n",
       "      <td>2309</td>\n",
       "      <td>300</td>\n",
       "    </tr>\n",
       "    <tr>\n",
       "      <th>9</th>\n",
       "      <td>601.8</td>\n",
       "      <td>527</td>\n",
       "      <td>593</td>\n",
       "      <td>84</td>\n",
       "    </tr>\n",
       "    <tr>\n",
       "      <th>10</th>\n",
       "      <td>1810.0</td>\n",
       "      <td>1585</td>\n",
       "      <td>1975</td>\n",
       "      <td>320</td>\n",
       "    </tr>\n",
       "    <tr>\n",
       "      <th>11</th>\n",
       "      <td>816.9</td>\n",
       "      <td>1860</td>\n",
       "      <td>1594</td>\n",
       "      <td>397</td>\n",
       "    </tr>\n",
       "    <tr>\n",
       "      <th>12</th>\n",
       "      <td>981.3</td>\n",
       "      <td>2203</td>\n",
       "      <td>2782</td>\n",
       "      <td>407</td>\n",
       "    </tr>\n",
       "  </tbody>\n",
       "</table>\n",
       "</div>"
      ],
      "text/plain": [
       "       MILES*  HOUR   DAY  DAY_OF_WEEK\n",
       "MONTH                                 \n",
       "1       512.9   828  1080          157\n",
       "2       908.2  1588  1811          387\n",
       "3      1693.9  1654  1753          374\n",
       "4      1113.0   767   807          199\n",
       "5       363.8   777   661          136\n",
       "6       842.8  1638  1764          304\n",
       "7      1224.6  1611  1708          329\n",
       "8      1335.5  1936  2309          300\n",
       "9       601.8   527   593           84\n",
       "10     1810.0  1585  1975          320\n",
       "11      816.9  1860  1594          397\n",
       "12      981.3  2203  2782          407"
      ]
     },
     "execution_count": 40,
     "metadata": {},
     "output_type": "execute_result"
    }
   ],
   "source": [
    "x.sum()"
   ]
  },
  {
   "cell_type": "markdown",
   "id": "1c2af2ae",
   "metadata": {
    "papermill": {
     "duration": 0.063284,
     "end_time": "2021-12-03T15:18:51.088968",
     "exception": false,
     "start_time": "2021-12-03T15:18:51.025684",
     "status": "completed"
    },
    "tags": []
   },
   "source": [
    "# Conclusion"
   ]
  }
 ],
 "metadata": {
  "kernelspec": {
   "display_name": "Python 3",
   "language": "python",
   "name": "python3"
  },
  "language_info": {
   "codemirror_mode": {
    "name": "ipython",
    "version": 3
   },
   "file_extension": ".py",
   "mimetype": "text/x-python",
   "name": "python",
   "nbconvert_exporter": "python",
   "pygments_lexer": "ipython3",
   "version": "3.7.10"
  },
  "papermill": {
   "default_parameters": {},
   "duration": 22.58816,
   "end_time": "2021-12-03T15:18:51.961102",
   "environment_variables": {},
   "exception": null,
   "input_path": "__notebook__.ipynb",
   "output_path": "__notebook__.ipynb",
   "parameters": {},
   "start_time": "2021-12-03T15:18:29.372942",
   "version": "2.3.3"
  }
 },
 "nbformat": 4,
 "nbformat_minor": 5
}
