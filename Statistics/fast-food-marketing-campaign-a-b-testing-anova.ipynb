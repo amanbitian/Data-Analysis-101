{
 "cells": [
  {
   "cell_type": "markdown",
   "id": "6fdf3853",
   "metadata": {
    "papermill": {
     "duration": 0.03254,
     "end_time": "2021-09-27T22:08:09.417812",
     "exception": false,
     "start_time": "2021-09-27T22:08:09.385272",
     "status": "completed"
    },
    "tags": []
   },
   "source": [
    "# A/B TESTING(ANOVA) FOR FAST FOOD MARKETING CAMPAIGN"
   ]
  },
  {
   "cell_type": "markdown",
   "id": "54e99474",
   "metadata": {
    "papermill": {
     "duration": 0.028527,
     "end_time": "2021-09-27T22:08:09.478988",
     "exception": false,
     "start_time": "2021-09-27T22:08:09.450461",
     "status": "completed"
    },
    "tags": []
   },
   "source": [
    "We will try to analyze the data to see the story of the dataset and understand whether there is a need to preprocess for our data or not.\n",
    "\n",
    "After that we will apply A/B Testing to check that our new product is profitable or not."
   ]
  },
  {
   "cell_type": "markdown",
   "id": "e242ce7d",
   "metadata": {
    "papermill": {
     "duration": 0.02772,
     "end_time": "2021-09-27T22:08:09.535706",
     "exception": false,
     "start_time": "2021-09-27T22:08:09.507986",
     "status": "completed"
    },
    "tags": []
   },
   "source": [
    "# Libraries"
   ]
  },
  {
   "cell_type": "code",
   "execution_count": 1,
   "id": "38b95c23",
   "metadata": {
    "_cell_guid": "b1076dfc-b9ad-4769-8c92-a6c4dae69d19",
    "_uuid": "8f2839f25d086af736a60e9eeb907d3b93b6e0e5",
    "execution": {
     "iopub.execute_input": "2021-09-27T22:08:09.608164Z",
     "iopub.status.busy": "2021-09-27T22:08:09.606465Z",
     "iopub.status.idle": "2021-09-27T22:08:11.231599Z",
     "shell.execute_reply": "2021-09-27T22:08:11.232349Z",
     "shell.execute_reply.started": "2021-09-27T21:38:05.074216Z"
    },
    "papermill": {
     "duration": 1.664432,
     "end_time": "2021-09-27T22:08:11.232899",
     "exception": false,
     "start_time": "2021-09-27T22:08:09.568467",
     "status": "completed"
    },
    "tags": []
   },
   "outputs": [],
   "source": [
    "import pandas as pd\n",
    "import numpy as np\n",
    "import statsmodels.stats.api as sms\n",
    "from scipy.stats import ttest_1samp, shapiro, levene, f_oneway, kruskal\n",
    "\n",
    "pd.set_option('display.max_columns', None)\n",
    "pd.set_option('display.max_rows', 500)\n",
    "pd.set_option('display.float_format', lambda x: '%.2f' % x)"
   ]
  },
  {
   "cell_type": "markdown",
   "id": "271978f7",
   "metadata": {
    "papermill": {
     "duration": 0.025201,
     "end_time": "2021-09-27T22:08:11.284431",
     "exception": false,
     "start_time": "2021-09-27T22:08:11.259230",
     "status": "completed"
    },
    "tags": []
   },
   "source": [
    "# Getting Data"
   ]
  },
  {
   "cell_type": "code",
   "execution_count": 2,
   "id": "01b8d2cb",
   "metadata": {
    "execution": {
     "iopub.execute_input": "2021-09-27T22:08:11.344884Z",
     "iopub.status.busy": "2021-09-27T22:08:11.343957Z",
     "iopub.status.idle": "2021-09-27T22:08:11.367760Z",
     "shell.execute_reply": "2021-09-27T22:08:11.368543Z",
     "shell.execute_reply.started": "2021-09-27T21:07:55.717072Z"
    },
    "papermill": {
     "duration": 0.058607,
     "end_time": "2021-09-27T22:08:11.368851",
     "exception": false,
     "start_time": "2021-09-27T22:08:11.310244",
     "status": "completed"
    },
    "tags": []
   },
   "outputs": [],
   "source": [
    "data = pd.read_csv(\"../input/fast-food-marketing-campaign-ab-test/WA_Marketing-Campaign.csv\")\n",
    "df = data.copy()"
   ]
  },
  {
   "cell_type": "markdown",
   "id": "63f22a19",
   "metadata": {
    "papermill": {
     "duration": 0.025601,
     "end_time": "2021-09-27T22:08:11.422319",
     "exception": false,
     "start_time": "2021-09-27T22:08:11.396718",
     "status": "completed"
    },
    "tags": []
   },
   "source": [
    "# Analyzing the Data"
   ]
  },
  {
   "cell_type": "code",
   "execution_count": 3,
   "id": "f428fb3c",
   "metadata": {
    "execution": {
     "iopub.execute_input": "2021-09-27T22:08:11.483256Z",
     "iopub.status.busy": "2021-09-27T22:08:11.482424Z",
     "iopub.status.idle": "2021-09-27T22:08:11.571817Z",
     "shell.execute_reply": "2021-09-27T22:08:11.570580Z",
     "shell.execute_reply.started": "2021-09-27T21:08:29.933725Z"
    },
    "papermill": {
     "duration": 0.121808,
     "end_time": "2021-09-27T22:08:11.572145",
     "exception": false,
     "start_time": "2021-09-27T22:08:11.450337",
     "status": "completed"
    },
    "tags": []
   },
   "outputs": [
    {
     "name": "stdout",
     "output_type": "stream",
     "text": [
      "############### OBSERVATIONS-COLUMNS COUNTS ###############\n",
      "\n",
      "\n",
      "(548, 7)\n",
      "############### INDEX ###############\n",
      "\n",
      "\n",
      "RangeIndex(start=0, stop=548, step=1)\n",
      "############### COLUMNS ###############\n",
      "\n",
      "\n",
      "Index(['MarketID', 'MarketSize', 'LocationID', 'AgeOfStore', 'Promotion',\n",
      "       'week', 'SalesInThousands'],\n",
      "      dtype='object')\n",
      "############### DATAFRAME INFORMATIONS ###############\n",
      "\n",
      "\n",
      "<class 'pandas.core.frame.DataFrame'>\n",
      "RangeIndex: 548 entries, 0 to 547\n",
      "Data columns (total 7 columns):\n",
      " #   Column            Non-Null Count  Dtype  \n",
      "---  ------            --------------  -----  \n",
      " 0   MarketID          548 non-null    int64  \n",
      " 1   MarketSize        548 non-null    object \n",
      " 2   LocationID        548 non-null    int64  \n",
      " 3   AgeOfStore        548 non-null    int64  \n",
      " 4   Promotion         548 non-null    int64  \n",
      " 5   week              548 non-null    int64  \n",
      " 6   SalesInThousands  548 non-null    float64\n",
      "dtypes: float64(1), int64(5), object(1)\n",
      "memory usage: 30.1+ KB\n",
      "None\n",
      "############### DATAFRAME INFORMATIONS ###############\n",
      "\n",
      "\n",
      "                  count   mean    std   min    25%    50%    75%    max\n",
      "MarketID         548.00   5.72   2.88  1.00   3.00   6.00   8.00  10.00\n",
      "LocationID       548.00 479.66 287.97  1.00 216.00 504.00 708.00 920.00\n",
      "AgeOfStore       548.00   8.50   6.64  1.00   4.00   7.00  12.00  28.00\n",
      "Promotion        548.00   2.03   0.81  1.00   1.00   2.00   3.00   3.00\n",
      "week             548.00   2.50   1.12  1.00   1.75   2.50   3.25   4.00\n",
      "SalesInThousands 548.00  53.47  16.76 17.34  42.55  50.20  60.48  99.65\n",
      "\n",
      "\n",
      "   MarketID MarketSize  LocationID  AgeOfStore  Promotion  week  \\\n",
      "0         1     Medium           1           4          3     1   \n",
      "1         1     Medium           1           4          3     2   \n",
      "2         1     Medium           1           4          3     3   \n",
      "3         1     Medium           1           4          3     4   \n",
      "4         1     Medium           2           5          2     1   \n",
      "\n",
      "   SalesInThousands  \n",
      "0             33.73  \n",
      "1             35.67  \n",
      "2             29.03  \n",
      "3             39.25  \n",
      "4             27.81  \n"
     ]
    }
   ],
   "source": [
    "def df_summary(df):\n",
    "    print(\"############### OBSERVATIONS-COLUMNS COUNTS ###############\")\n",
    "    print(\"\\n\")\n",
    "    print(df.shape)\n",
    "    print(\"############### INDEX ###############\")\n",
    "    print(\"\\n\")\n",
    "    print(df.index)\n",
    "    print(\"############### COLUMNS ###############\")\n",
    "    print(\"\\n\")\n",
    "    print(df.columns)\n",
    "    print(\"############### DATAFRAME INFORMATIONS ###############\")\n",
    "    print(\"\\n\")\n",
    "    print(df.info())\n",
    "    print(\"############### DATAFRAME INFORMATIONS ###############\")\n",
    "    print(\"\\n\")\n",
    "    print(df.describe().T)\n",
    "    print(\"\\n\")\n",
    "    print(df.head())\n",
    "    \n",
    "df_summary(df)"
   ]
  },
  {
   "cell_type": "code",
   "execution_count": 4,
   "id": "13c59d44",
   "metadata": {
    "execution": {
     "iopub.execute_input": "2021-09-27T22:08:11.641285Z",
     "iopub.status.busy": "2021-09-27T22:08:11.640063Z",
     "iopub.status.idle": "2021-09-27T22:08:11.645802Z",
     "shell.execute_reply": "2021-09-27T22:08:11.644890Z",
     "shell.execute_reply.started": "2021-09-27T21:09:26.408840Z"
    },
    "papermill": {
     "duration": 0.043371,
     "end_time": "2021-09-27T22:08:11.646118",
     "exception": false,
     "start_time": "2021-09-27T22:08:11.602747",
     "status": "completed"
    },
    "tags": []
   },
   "outputs": [
    {
     "name": "stdout",
     "output_type": "stream",
     "text": [
      "Is there any missing value on the dataset?\n",
      "False\n"
     ]
    }
   ],
   "source": [
    "def missing_value_analysis(df):\n",
    "    print(\"Is there any missing value on the dataset?\")\n",
    "    print(df.isnull().values.any())\n",
    "    missing = df.isnull().values.any()\n",
    "\n",
    "    if (missing == True):\n",
    "        print(\"############### MISSING VALUE COUNTS BY VARIABLES ###############\")\n",
    "        print(df.isnull().sum())\n",
    "        print(\"############### TOTAL MISSING VALUE COUNTS ###############\")\n",
    "        print(df.isnull().sum().sum())\n",
    "    else:\n",
    "        pass\n",
    "\n",
    "missing_value_analysis(df)"
   ]
  },
  {
   "cell_type": "code",
   "execution_count": 5,
   "id": "dcead220",
   "metadata": {
    "execution": {
     "iopub.execute_input": "2021-09-27T22:08:11.716705Z",
     "iopub.status.busy": "2021-09-27T22:08:11.715438Z",
     "iopub.status.idle": "2021-09-27T22:08:11.725850Z",
     "shell.execute_reply": "2021-09-27T22:08:11.724914Z",
     "shell.execute_reply.started": "2021-09-27T21:30:07.473398Z"
    },
    "papermill": {
     "duration": 0.050775,
     "end_time": "2021-09-27T22:08:11.726135",
     "exception": false,
     "start_time": "2021-09-27T22:08:11.675360",
     "status": "completed"
    },
    "tags": []
   },
   "outputs": [
    {
     "name": "stdout",
     "output_type": "stream",
     "text": [
      "####### UNIQUE VALUE COUNTS BY VARIABLES ####### \n",
      "\n",
      "MarketID = 10\n",
      "MarketSize = 3\n",
      "LocationID = 137\n",
      "AgeOfStore = 25\n",
      "Promotion = 3\n",
      "week = 4\n"
     ]
    }
   ],
   "source": [
    "def unique_counts(df, var):\n",
    "    return df[var].nunique()\n",
    "    \n",
    "print(\"####### UNIQUE VALUE COUNTS BY VARIABLES #######\", \"\\n\")\n",
    "for i in df.columns:\n",
    "    if (i == \"SalesInThousands\"):\n",
    "        continue\n",
    "    else:\n",
    "        print( i  + \" = \" + str(unique_counts(df, i)))"
   ]
  },
  {
   "cell_type": "code",
   "execution_count": 6,
   "id": "28ccf2d9",
   "metadata": {
    "execution": {
     "iopub.execute_input": "2021-09-27T22:08:11.793696Z",
     "iopub.status.busy": "2021-09-27T22:08:11.792750Z",
     "iopub.status.idle": "2021-09-27T22:08:12.119800Z",
     "shell.execute_reply": "2021-09-27T22:08:12.119041Z",
     "shell.execute_reply.started": "2021-09-27T21:11:19.083632Z"
    },
    "papermill": {
     "duration": 0.366636,
     "end_time": "2021-09-27T22:08:12.120051",
     "exception": false,
     "start_time": "2021-09-27T22:08:11.753415",
     "status": "completed"
    },
    "tags": []
   },
   "outputs": [
    {
     "data": {
      "image/png": "[encoded data removed]",
      "text/plain": [
       "<Figure size 432x288 with 1 Axes>"
      ]
     },
     "metadata": {
      "needs_background": "light"
     },
     "output_type": "display_data"
    }
   ],
   "source": [
    "df[\"MarketSize\"].value_counts().plot(kind = \"bar\");"
   ]
  },
  {
   "cell_type": "code",
   "execution_count": 7,
   "id": "e3241710",
   "metadata": {
    "execution": {
     "iopub.execute_input": "2021-09-27T22:08:12.201759Z",
     "iopub.status.busy": "2021-09-27T22:08:12.191760Z",
     "iopub.status.idle": "2021-09-27T22:08:12.224923Z",
     "shell.execute_reply": "2021-09-27T22:08:12.223926Z",
     "shell.execute_reply.started": "2021-09-27T21:14:09.974772Z"
    },
    "papermill": {
     "duration": 0.075145,
     "end_time": "2021-09-27T22:08:12.225197",
     "exception": false,
     "start_time": "2021-09-27T22:08:12.150052",
     "status": "completed"
    },
    "tags": []
   },
   "outputs": [
    {
     "data": {
      "text/html": [
       "<div>\n",
       "<style scoped>\n",
       "    .dataframe tbody tr th:only-of-type {\n",
       "        vertical-align: middle;\n",
       "    }\n",
       "\n",
       "    .dataframe tbody tr th {\n",
       "        vertical-align: top;\n",
       "    }\n",
       "\n",
       "    .dataframe thead tr th {\n",
       "        text-align: left;\n",
       "    }\n",
       "\n",
       "    .dataframe thead tr:last-of-type th {\n",
       "        text-align: right;\n",
       "    }\n",
       "</style>\n",
       "<table border=\"1\" class=\"dataframe\">\n",
       "  <thead>\n",
       "    <tr>\n",
       "      <th></th>\n",
       "      <th colspan=\"3\" halign=\"left\">SalesInThousands</th>\n",
       "    </tr>\n",
       "    <tr>\n",
       "      <th></th>\n",
       "      <th>count</th>\n",
       "      <th>mean</th>\n",
       "      <th>sum</th>\n",
       "    </tr>\n",
       "    <tr>\n",
       "      <th>MarketSize</th>\n",
       "      <th></th>\n",
       "      <th></th>\n",
       "      <th></th>\n",
       "    </tr>\n",
       "  </thead>\n",
       "  <tbody>\n",
       "    <tr>\n",
       "      <th>Large</th>\n",
       "      <td>168</td>\n",
       "      <td>70.12</td>\n",
       "      <td>11779.61</td>\n",
       "    </tr>\n",
       "    <tr>\n",
       "      <th>Medium</th>\n",
       "      <td>320</td>\n",
       "      <td>43.99</td>\n",
       "      <td>14075.31</td>\n",
       "    </tr>\n",
       "    <tr>\n",
       "      <th>Small</th>\n",
       "      <td>60</td>\n",
       "      <td>57.41</td>\n",
       "      <td>3444.56</td>\n",
       "    </tr>\n",
       "  </tbody>\n",
       "</table>\n",
       "</div>"
      ],
      "text/plain": [
       "           SalesInThousands               \n",
       "                      count  mean      sum\n",
       "MarketSize                                \n",
       "Large                   168 70.12 11779.61\n",
       "Medium                  320 43.99 14075.31\n",
       "Small                    60 57.41  3444.56"
      ]
     },
     "execution_count": 7,
     "metadata": {},
     "output_type": "execute_result"
    }
   ],
   "source": [
    "df.groupby(\"MarketSize\").agg({\"SalesInThousands\": [\"count\", \"mean\", \"sum\"]})"
   ]
  },
  {
   "cell_type": "code",
   "execution_count": 8,
   "id": "f19b62f9",
   "metadata": {
    "execution": {
     "iopub.execute_input": "2021-09-27T22:08:12.319578Z",
     "iopub.status.busy": "2021-09-27T22:08:12.300382Z",
     "iopub.status.idle": "2021-09-27T22:08:12.326819Z",
     "shell.execute_reply": "2021-09-27T22:08:12.325706Z",
     "shell.execute_reply.started": "2021-09-27T21:31:26.808369Z"
    },
    "papermill": {
     "duration": 0.069096,
     "end_time": "2021-09-27T22:08:12.327113",
     "exception": false,
     "start_time": "2021-09-27T22:08:12.258017",
     "status": "completed"
    },
    "tags": []
   },
   "outputs": [
    {
     "data": {
      "text/html": [
       "<div>\n",
       "<style scoped>\n",
       "    .dataframe tbody tr th:only-of-type {\n",
       "        vertical-align: middle;\n",
       "    }\n",
       "\n",
       "    .dataframe tbody tr th {\n",
       "        vertical-align: top;\n",
       "    }\n",
       "\n",
       "    .dataframe thead tr th {\n",
       "        text-align: left;\n",
       "    }\n",
       "\n",
       "    .dataframe thead tr:last-of-type th {\n",
       "        text-align: right;\n",
       "    }\n",
       "</style>\n",
       "<table border=\"1\" class=\"dataframe\">\n",
       "  <thead>\n",
       "    <tr>\n",
       "      <th></th>\n",
       "      <th></th>\n",
       "      <th colspan=\"3\" halign=\"left\">SalesInThousands</th>\n",
       "    </tr>\n",
       "    <tr>\n",
       "      <th></th>\n",
       "      <th></th>\n",
       "      <th>count</th>\n",
       "      <th>mean</th>\n",
       "      <th>sum</th>\n",
       "    </tr>\n",
       "    <tr>\n",
       "      <th>MarketSize</th>\n",
       "      <th>week</th>\n",
       "      <th></th>\n",
       "      <th></th>\n",
       "      <th></th>\n",
       "    </tr>\n",
       "  </thead>\n",
       "  <tbody>\n",
       "    <tr>\n",
       "      <th rowspan=\"4\" valign=\"top\">Large</th>\n",
       "      <th>1</th>\n",
       "      <td>42</td>\n",
       "      <td>70.79</td>\n",
       "      <td>2973.32</td>\n",
       "    </tr>\n",
       "    <tr>\n",
       "      <th>2</th>\n",
       "      <td>42</td>\n",
       "      <td>68.66</td>\n",
       "      <td>2883.58</td>\n",
       "    </tr>\n",
       "    <tr>\n",
       "      <th>3</th>\n",
       "      <td>42</td>\n",
       "      <td>70.65</td>\n",
       "      <td>2967.19</td>\n",
       "    </tr>\n",
       "    <tr>\n",
       "      <th>4</th>\n",
       "      <td>42</td>\n",
       "      <td>70.37</td>\n",
       "      <td>2955.52</td>\n",
       "    </tr>\n",
       "    <tr>\n",
       "      <th rowspan=\"4\" valign=\"top\">Medium</th>\n",
       "      <th>1</th>\n",
       "      <td>80</td>\n",
       "      <td>44.40</td>\n",
       "      <td>3552.31</td>\n",
       "    </tr>\n",
       "    <tr>\n",
       "      <th>2</th>\n",
       "      <td>80</td>\n",
       "      <td>44.38</td>\n",
       "      <td>3550.25</td>\n",
       "    </tr>\n",
       "    <tr>\n",
       "      <th>3</th>\n",
       "      <td>80</td>\n",
       "      <td>44.11</td>\n",
       "      <td>3528.60</td>\n",
       "    </tr>\n",
       "    <tr>\n",
       "      <th>4</th>\n",
       "      <td>80</td>\n",
       "      <td>43.05</td>\n",
       "      <td>3444.15</td>\n",
       "    </tr>\n",
       "    <tr>\n",
       "      <th rowspan=\"4\" valign=\"top\">Small</th>\n",
       "      <th>1</th>\n",
       "      <td>15</td>\n",
       "      <td>56.25</td>\n",
       "      <td>843.68</td>\n",
       "    </tr>\n",
       "    <tr>\n",
       "      <th>2</th>\n",
       "      <td>15</td>\n",
       "      <td>58.68</td>\n",
       "      <td>880.13</td>\n",
       "    </tr>\n",
       "    <tr>\n",
       "      <th>3</th>\n",
       "      <td>15</td>\n",
       "      <td>55.35</td>\n",
       "      <td>830.23</td>\n",
       "    </tr>\n",
       "    <tr>\n",
       "      <th>4</th>\n",
       "      <td>15</td>\n",
       "      <td>59.37</td>\n",
       "      <td>890.52</td>\n",
       "    </tr>\n",
       "  </tbody>\n",
       "</table>\n",
       "</div>"
      ],
      "text/plain": [
       "                SalesInThousands              \n",
       "                           count  mean     sum\n",
       "MarketSize week                               \n",
       "Large      1                  42 70.79 2973.32\n",
       "           2                  42 68.66 2883.58\n",
       "           3                  42 70.65 2967.19\n",
       "           4                  42 70.37 2955.52\n",
       "Medium     1                  80 44.40 3552.31\n",
       "           2                  80 44.38 3550.25\n",
       "           3                  80 44.11 3528.60\n",
       "           4                  80 43.05 3444.15\n",
       "Small      1                  15 56.25  843.68\n",
       "           2                  15 58.68  880.13\n",
       "           3                  15 55.35  830.23\n",
       "           4                  15 59.37  890.52"
      ]
     },
     "execution_count": 8,
     "metadata": {},
     "output_type": "execute_result"
    }
   ],
   "source": [
    "df.groupby([\"MarketSize\", \"week\"]).agg({\"SalesInThousands\": [\"count\", \"mean\", \"sum\"]})"
   ]
  },
  {
   "cell_type": "markdown",
   "id": "4d8ac635",
   "metadata": {
    "papermill": {
     "duration": 0.034195,
     "end_time": "2021-09-27T22:08:12.393678",
     "exception": false,
     "start_time": "2021-09-27T22:08:12.359483",
     "status": "completed"
    },
    "tags": []
   },
   "source": [
    "# Applying A/B Testing"
   ]
  },
  {
   "cell_type": "markdown",
   "id": "0e28d4db",
   "metadata": {
    "papermill": {
     "duration": 0.03145,
     "end_time": "2021-09-27T22:08:12.457553",
     "exception": false,
     "start_time": "2021-09-27T22:08:12.426103",
     "status": "completed"
    },
    "tags": []
   },
   "source": [
    "#### -----------------------------------------------------------"
   ]
  },
  {
   "cell_type": "markdown",
   "id": "c574b047",
   "metadata": {
    "papermill": {
     "duration": 0.030882,
     "end_time": "2021-09-27T22:08:12.520160",
     "exception": false,
     "start_time": "2021-09-27T22:08:12.489278",
     "status": "completed"
    },
    "tags": []
   },
   "source": [
    "## 1 - A/B Testing (just for \"SalesInThousands\")"
   ]
  },
  {
   "cell_type": "markdown",
   "id": "35d681da",
   "metadata": {
    "papermill": {
     "duration": 0.029721,
     "end_time": "2021-09-27T22:08:12.581286",
     "exception": false,
     "start_time": "2021-09-27T22:08:12.551565",
     "status": "completed"
    },
    "tags": []
   },
   "source": [
    "In this section, we will apply a/b testing just for \"SalesInThousands\" variable according to the weeks"
   ]
  },
  {
   "cell_type": "markdown",
   "id": "69661cf9",
   "metadata": {
    "papermill": {
     "duration": 0.034036,
     "end_time": "2021-09-27T22:08:12.647937",
     "exception": false,
     "start_time": "2021-09-27T22:08:12.613901",
     "status": "completed"
    },
    "tags": []
   },
   "source": [
    "### Normality Assumption"
   ]
  },
  {
   "cell_type": "markdown",
   "id": "ef1b315f",
   "metadata": {
    "papermill": {
     "duration": 0.029789,
     "end_time": "2021-09-27T22:08:12.710579",
     "exception": false,
     "start_time": "2021-09-27T22:08:12.680790",
     "status": "completed"
    },
    "tags": []
   },
   "source": [
    "##### H0: Normally Distributed\n",
    "##### H1: Not Normally Distributed"
   ]
  },
  {
   "cell_type": "code",
   "execution_count": 9,
   "id": "59db6bf4",
   "metadata": {
    "execution": {
     "iopub.execute_input": "2021-09-27T22:08:12.786132Z",
     "iopub.status.busy": "2021-09-27T22:08:12.785012Z",
     "iopub.status.idle": "2021-09-27T22:08:12.792571Z",
     "shell.execute_reply": "2021-09-27T22:08:12.791912Z",
     "shell.execute_reply.started": "2021-09-27T21:36:24.154617Z"
    },
    "papermill": {
     "duration": 0.052467,
     "end_time": "2021-09-27T22:08:12.792813",
     "exception": false,
     "start_time": "2021-09-27T22:08:12.740346",
     "status": "completed"
    },
    "tags": []
   },
   "outputs": [
    {
     "name": "stdout",
     "output_type": "stream",
     "text": [
      "Test Stat = 0.8891, p-value = 0.0000\n",
      "Test Stat = 0.9485, p-value = 0.0001\n",
      "Test Stat = 0.9335, p-value = 0.0000\n",
      "Test Stat = 0.9477, p-value = 0.0000\n"
     ]
    }
   ],
   "source": [
    "test_stat, pvalue = shapiro(df.loc[df[\"week\"] == 1, \"SalesInThousands\"])\n",
    "print('Test Stat = %.4f, p-value = %.4f' % (test_stat, pvalue))\n",
    "\n",
    "test_stat, pvalue = shapiro(df.loc[df[\"week\"] == 2, \"SalesInThousands\"])\n",
    "print('Test Stat = %.4f, p-value = %.4f' % (test_stat, pvalue))\n",
    "\n",
    "test_stat, pvalue = shapiro(df.loc[df[\"week\"] == 3, \"SalesInThousands\"])\n",
    "print('Test Stat = %.4f, p-value = %.4f' % (test_stat, pvalue))\n",
    "\n",
    "test_stat, pvalue = shapiro(df.loc[df[\"week\"] == 4, \"SalesInThousands\"])\n",
    "print('Test Stat = %.4f, p-value = %.4f' % (test_stat, pvalue))"
   ]
  },
  {
   "cell_type": "markdown",
   "id": "2c07eba9",
   "metadata": {
    "papermill": {
     "duration": 0.029315,
     "end_time": "2021-09-27T22:08:12.853570",
     "exception": false,
     "start_time": "2021-09-27T22:08:12.824255",
     "status": "completed"
    },
    "tags": []
   },
   "source": [
    "##### We reject H0 \n",
    "##### There is no normal distribution"
   ]
  },
  {
   "cell_type": "markdown",
   "id": "5f348497",
   "metadata": {
    "papermill": {
     "duration": 0.029316,
     "end_time": "2021-09-27T22:08:12.912990",
     "exception": false,
     "start_time": "2021-09-27T22:08:12.883674",
     "status": "completed"
    },
    "tags": []
   },
   "source": [
    "### ANOVA Testing"
   ]
  },
  {
   "cell_type": "markdown",
   "id": "2697bc83",
   "metadata": {
    "papermill": {
     "duration": 0.029419,
     "end_time": "2021-09-27T22:08:12.973384",
     "exception": false,
     "start_time": "2021-09-27T22:08:12.943965",
     "status": "completed"
    },
    "tags": []
   },
   "source": [
    "##### H0: M1 = M2 = M3 = M4\n",
    "##### H1: At least one group's mean are different"
   ]
  },
  {
   "cell_type": "code",
   "execution_count": 10,
   "id": "974bd766",
   "metadata": {
    "execution": {
     "iopub.execute_input": "2021-09-27T22:08:13.046152Z",
     "iopub.status.busy": "2021-09-27T22:08:13.039862Z",
     "iopub.status.idle": "2021-09-27T22:08:13.057899Z",
     "shell.execute_reply": "2021-09-27T22:08:13.057061Z",
     "shell.execute_reply.started": "2021-09-27T21:38:10.856862Z"
    },
    "papermill": {
     "duration": 0.055277,
     "end_time": "2021-09-27T22:08:13.058166",
     "exception": false,
     "start_time": "2021-09-27T22:08:13.002889",
     "status": "completed"
    },
    "tags": []
   },
   "outputs": [
    {
     "name": "stdout",
     "output_type": "stream",
     "text": [
      "Test Stat = 0.0710, p-value = 0.9951\n"
     ]
    }
   ],
   "source": [
    "test_stat, pvalue = kruskal(df.loc[df[\"week\"] == 1, \"SalesInThousands\"],\n",
    "                                 df.loc[df[\"week\"] == 2, \"SalesInThousands\"],\n",
    "                                df.loc[df[\"week\"] == 3, \"SalesInThousands\"],\n",
    "                                df.loc[df[\"week\"] == 4, \"SalesInThousands\"])\n",
    "\n",
    "print('Test Stat = %.4f, p-value = %.4f' % (test_stat, pvalue))"
   ]
  },
  {
   "cell_type": "code",
   "execution_count": 11,
   "id": "6b37ba9f",
   "metadata": {
    "execution": {
     "iopub.execute_input": "2021-09-27T22:08:13.127258Z",
     "iopub.status.busy": "2021-09-27T22:08:13.126390Z",
     "iopub.status.idle": "2021-09-27T22:08:13.395365Z",
     "shell.execute_reply": "2021-09-27T22:08:13.396199Z",
     "shell.execute_reply.started": "2021-09-27T21:59:11.995955Z"
    },
    "papermill": {
     "duration": 0.307143,
     "end_time": "2021-09-27T22:08:13.396521",
     "exception": false,
     "start_time": "2021-09-27T22:08:13.089378",
     "status": "completed"
    },
    "tags": []
   },
   "outputs": [
    {
     "data": {
      "image/png": "[encoded data removed]",
      "text/plain": [
       "<Figure size 432x288 with 1 Axes>"
      ]
     },
     "metadata": {
      "needs_background": "light"
     },
     "output_type": "display_data"
    }
   ],
   "source": [
    "df.groupby([\"week\"]).agg({\"SalesInThousands\": \"mean\"}).plot(kind = \"bar\", rot = 45);"
   ]
  },
  {
   "cell_type": "markdown",
   "id": "1c4d72c2",
   "metadata": {
    "papermill": {
     "duration": 0.030069,
     "end_time": "2021-09-27T22:08:13.458173",
     "exception": false,
     "start_time": "2021-09-27T22:08:13.428104",
     "status": "completed"
    },
    "tags": []
   },
   "source": [
    "## 2 - A/B Testing (for \"SalesInThousands\", \"Promotion\" and \"AgeOfStore\")"
   ]
  },
  {
   "cell_type": "markdown",
   "id": "4f7e3cd8",
   "metadata": {
    "papermill": {
     "duration": 0.029998,
     "end_time": "2021-09-27T22:08:13.518981",
     "exception": false,
     "start_time": "2021-09-27T22:08:13.488983",
     "status": "completed"
    },
    "tags": []
   },
   "source": [
    "In this section, I will create new variable which is called as \"Score\".It includes multiplication of these three variables.I want to consider impacts of these variables and compare with A/B Testing"
   ]
  },
  {
   "cell_type": "code",
   "execution_count": 12,
   "id": "14207911",
   "metadata": {
    "execution": {
     "iopub.execute_input": "2021-09-27T22:08:13.596590Z",
     "iopub.status.busy": "2021-09-27T22:08:13.595615Z",
     "iopub.status.idle": "2021-09-27T22:08:13.597848Z",
     "shell.execute_reply": "2021-09-27T22:08:13.598406Z",
     "shell.execute_reply.started": "2021-09-27T21:51:22.734718Z"
    },
    "papermill": {
     "duration": 0.048474,
     "end_time": "2021-09-27T22:08:13.598755",
     "exception": false,
     "start_time": "2021-09-27T22:08:13.550281",
     "status": "completed"
    },
    "tags": []
   },
   "outputs": [],
   "source": [
    "df[\"Score\"] = df[\"SalesInThousands\"] * df[\"AgeOfStore\"] * df[\"Promotion\"]"
   ]
  },
  {
   "cell_type": "markdown",
   "id": "8f58683e",
   "metadata": {
    "papermill": {
     "duration": 0.030314,
     "end_time": "2021-09-27T22:08:13.660293",
     "exception": false,
     "start_time": "2021-09-27T22:08:13.629979",
     "status": "completed"
    },
    "tags": []
   },
   "source": [
    "### Normality Assumption"
   ]
  },
  {
   "cell_type": "markdown",
   "id": "6283d825",
   "metadata": {
    "papermill": {
     "duration": 0.029905,
     "end_time": "2021-09-27T22:08:13.722489",
     "exception": false,
     "start_time": "2021-09-27T22:08:13.692584",
     "status": "completed"
    },
    "tags": []
   },
   "source": [
    "##### H0: Normally Distributed\n",
    "##### H1: Not Normally Distributed"
   ]
  },
  {
   "cell_type": "code",
   "execution_count": 13,
   "id": "91767653",
   "metadata": {
    "execution": {
     "iopub.execute_input": "2021-09-27T22:08:13.791279Z",
     "iopub.status.busy": "2021-09-27T22:08:13.790335Z",
     "iopub.status.idle": "2021-09-27T22:08:13.808488Z",
     "shell.execute_reply": "2021-09-27T22:08:13.809272Z",
     "shell.execute_reply.started": "2021-09-27T21:52:11.604295Z"
    },
    "papermill": {
     "duration": 0.056818,
     "end_time": "2021-09-27T22:08:13.809669",
     "exception": false,
     "start_time": "2021-09-27T22:08:13.752851",
     "status": "completed"
    },
    "tags": []
   },
   "outputs": [
    {
     "name": "stdout",
     "output_type": "stream",
     "text": [
      "Test Stat = 0.7759, p-value = 0.0000\n",
      "Test Stat = 0.7797, p-value = 0.0000\n",
      "Test Stat = 0.7768, p-value = 0.0000\n",
      "Test Stat = 0.7720, p-value = 0.0000\n"
     ]
    }
   ],
   "source": [
    "test_stat, pvalue = shapiro(df.loc[df[\"week\"] == 1, \"Score\"])\n",
    "print('Test Stat = %.4f, p-value = %.4f' % (test_stat, pvalue))\n",
    "\n",
    "test_stat, pvalue = shapiro(df.loc[df[\"week\"] == 2, \"Score\"])\n",
    "print('Test Stat = %.4f, p-value = %.4f' % (test_stat, pvalue))\n",
    "\n",
    "test_stat, pvalue = shapiro(df.loc[df[\"week\"] == 3, \"Score\"])\n",
    "print('Test Stat = %.4f, p-value = %.4f' % (test_stat, pvalue))\n",
    "\n",
    "test_stat, pvalue = shapiro(df.loc[df[\"week\"] == 4, \"Score\"])\n",
    "print('Test Stat = %.4f, p-value = %.4f' % (test_stat, pvalue))"
   ]
  },
  {
   "cell_type": "markdown",
   "id": "3405c51b",
   "metadata": {
    "papermill": {
     "duration": 0.03032,
     "end_time": "2021-09-27T22:08:13.871304",
     "exception": false,
     "start_time": "2021-09-27T22:08:13.840984",
     "status": "completed"
    },
    "tags": []
   },
   "source": [
    "##### We reject H0 \n",
    "##### There is no normal distribution"
   ]
  },
  {
   "cell_type": "markdown",
   "id": "170b3087",
   "metadata": {
    "papermill": {
     "duration": 0.029799,
     "end_time": "2021-09-27T22:08:13.931709",
     "exception": false,
     "start_time": "2021-09-27T22:08:13.901910",
     "status": "completed"
    },
    "tags": []
   },
   "source": [
    "### ANOVA Testing"
   ]
  },
  {
   "cell_type": "markdown",
   "id": "d92192f2",
   "metadata": {
    "papermill": {
     "duration": 0.031497,
     "end_time": "2021-09-27T22:08:13.994052",
     "exception": false,
     "start_time": "2021-09-27T22:08:13.962555",
     "status": "completed"
    },
    "tags": []
   },
   "source": [
    "##### H0: M1 = M2 = M3 = M4\n",
    "##### H1: At least one group's mean are different"
   ]
  },
  {
   "cell_type": "code",
   "execution_count": 14,
   "id": "8ba9d73f",
   "metadata": {
    "execution": {
     "iopub.execute_input": "2021-09-27T22:08:14.072735Z",
     "iopub.status.busy": "2021-09-27T22:08:14.063655Z",
     "iopub.status.idle": "2021-09-27T22:08:14.081526Z",
     "shell.execute_reply": "2021-09-27T22:08:14.082367Z",
     "shell.execute_reply.started": "2021-09-27T21:52:46.605733Z"
    },
    "papermill": {
     "duration": 0.057337,
     "end_time": "2021-09-27T22:08:14.082777",
     "exception": false,
     "start_time": "2021-09-27T22:08:14.025440",
     "status": "completed"
    },
    "tags": []
   },
   "outputs": [
    {
     "name": "stdout",
     "output_type": "stream",
     "text": [
      "Test Stat = 0.0176, p-value = 0.9994\n"
     ]
    }
   ],
   "source": [
    "test_stat, pvalue = kruskal(df.loc[df[\"week\"] == 1, \"Score\"],\n",
    "                                 df.loc[df[\"week\"] == 2, \"Score\"],\n",
    "                                df.loc[df[\"week\"] == 3, \"Score\"],\n",
    "                                df.loc[df[\"week\"] == 4, \"Score\"])\n",
    "\n",
    "print('Test Stat = %.4f, p-value = %.4f' % (test_stat, pvalue))"
   ]
  },
  {
   "cell_type": "code",
   "execution_count": 15,
   "id": "21059373",
   "metadata": {
    "execution": {
     "iopub.execute_input": "2021-09-27T22:08:14.161606Z",
     "iopub.status.busy": "2021-09-27T22:08:14.160344Z",
     "iopub.status.idle": "2021-09-27T22:08:14.452129Z",
     "shell.execute_reply": "2021-09-27T22:08:14.450186Z",
     "shell.execute_reply.started": "2021-09-27T21:59:22.638372Z"
    },
    "papermill": {
     "duration": 0.331548,
     "end_time": "2021-09-27T22:08:14.452625",
     "exception": false,
     "start_time": "2021-09-27T22:08:14.121077",
     "status": "completed"
    },
    "tags": []
   },
   "outputs": [
    {
     "data": {
      "image/png": "[encoded data removed]",
      "text/plain": [
       "<Figure size 432x288 with 1 Axes>"
      ]
     },
     "metadata": {
      "needs_background": "light"
     },
     "output_type": "display_data"
    }
   ],
   "source": [
    "df.groupby([\"week\"]).agg({\"Score\": \"mean\"}).plot(kind = \"bar\", rot = 45);"
   ]
  },
  {
   "cell_type": "markdown",
   "id": "98907105",
   "metadata": {
    "papermill": {
     "duration": 0.03645,
     "end_time": "2021-09-27T22:08:14.527671",
     "exception": false,
     "start_time": "2021-09-27T22:08:14.491221",
     "status": "completed"
    },
    "tags": []
   },
   "source": [
    "# Final Note"
   ]
  },
  {
   "cell_type": "markdown",
   "id": "72309524",
   "metadata": {
    "papermill": {
     "duration": 0.037481,
     "end_time": "2021-09-27T22:08:14.601748",
     "exception": false,
     "start_time": "2021-09-27T22:08:14.564267",
     "status": "completed"
    },
    "tags": []
   },
   "source": [
    "#### As a result, there is no significant difference among weeks.So we can say that our new item is not more profitable than the other products.If we put the new product to our menu, there might not be big difference.We can try to develop different product."
   ]
  },
  {
   "cell_type": "code",
   "execution_count": null,
   "id": "1acf143f",
   "metadata": {
    "papermill": {
     "duration": 0.04297,
     "end_time": "2021-09-27T22:08:14.691799",
     "exception": false,
     "start_time": "2021-09-27T22:08:14.648829",
     "status": "completed"
    },
    "tags": []
   },
   "outputs": [],
   "source": []
  }
 ],
 "metadata": {
  "kernelspec": {
   "display_name": "Python 3",
   "language": "python",
   "name": "python3"
  },
  "language_info": {
   "codemirror_mode": {
    "name": "ipython",
    "version": 3
   },
   "file_extension": ".py",
   "mimetype": "text/x-python",
   "name": "python",
   "nbconvert_exporter": "python",
   "pygments_lexer": "ipython3",
   "version": "3.7.10"
  },
  "papermill": {
   "default_parameters": {},
   "duration": 20.401701,
   "end_time": "2021-09-27T22:08:17.102974",
   "environment_variables": {},
   "exception": null,
   "input_path": "__notebook__.ipynb",
   "output_path": "__notebook__.ipynb",
   "parameters": {},
   "start_time": "2021-09-27T22:07:56.701273",
   "version": "2.3.3"
  }
 },
 "nbformat": 4,
 "nbformat_minor": 5
}
